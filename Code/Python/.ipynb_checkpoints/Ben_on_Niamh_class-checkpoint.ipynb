{
 "cells": [
  {
   "cell_type": "markdown",
   "id": "83a47462",
   "metadata": {},
   "source": [
    "# Setup: import packages"
   ]
  },
  {
   "cell_type": "code",
   "execution_count": null,
   "id": "96c96558",
   "metadata": {},
   "outputs": [],
   "source": [
    "#install packages if required\n",
    "#%pip install networkx"
   ]
  },
  {
   "cell_type": "code",
   "execution_count": 1,
   "id": "5a481df0",
   "metadata": {},
   "outputs": [],
   "source": [
    "#import packages \n",
    "import os\n",
    "import pandas as pd\n",
    "import networkx as nx\n",
    "import matplotlib.pyplot as plt\n",
    "import graphviz\n",
    "import scipy.integrate as integrate \n",
    "from scipy.optimize import minimize_scalar\n",
    "from scipy.misc import derivative\n",
    "import os\n",
    "from random import *"
   ]
  },
  {
   "cell_type": "code",
   "execution_count": 2,
   "id": "e8255940",
   "metadata": {},
   "outputs": [],
   "source": [
    "network_analysis_path_ben = '/Users/benseimon/Documents/Barca GSE/Studies/Term 2/Networks/Term Paper/Networks_Term_Paper/pytrans_UrbanNetworkAnalysis/pytrans/UrbanNetworkAnalysis/Editing Classes'\n",
    "#network_analysis_path_niamh = r'C:\\Users\\35387\\OneDrive\\Documents\\Networks\\New folder\\Networks_Term_Paper\\pytrans_UrbanNetworkAnalysis\\pytrans\\UrbanNetworkAnalysis\\original_edited'\n",
    "os.chdir(network_analysis_path_ben)\n",
    "import Frank_Wolfe\n",
    "#import TransportationNetworks as tn\n",
    "#import visualize_graph"
   ]
  },
  {
   "cell_type": "markdown",
   "id": "b18680b9",
   "metadata": {},
   "source": [
    "# Read in data"
   ]
  },
  {
   "cell_type": "code",
   "execution_count": 4,
   "id": "5235acb9",
   "metadata": {},
   "outputs": [],
   "source": [
    "data_path = '/Users/benseimon/Documents/Barca GSE/Studies/Term 2/Networks/Term Paper/Networks_Term_Paper/Data/'\n",
    "city = 'Birmingham'\n",
    "data_path = data_path + city + '/'\n",
    "os.chdir(data_path)\n",
    "link_file_path = data_path + city + '_net.tntp'\n",
    "node_file_path = data_path + city +'_nodes.tntp'\n",
    "trip_file_path = data_path+ city + '_trips.tntp'"
   ]
  },
  {
   "cell_type": "markdown",
   "id": "44ddbaf6",
   "metadata": {},
   "source": [
    "# Load Data"
   ]
  },
  {
   "cell_type": "code",
   "execution_count": 5,
   "id": "64ed0df1",
   "metadata": {},
   "outputs": [],
   "source": [
    "data_path = '/Users/benseimon/Documents/Barca GSE/Studies/Term 2/Networks/Term Paper/Networks_Term_Paper/Data/'\n",
    "cities = ['SiouxFalls']\n",
    "data_path = data_path \n",
    "os.chdir(data_path)"
   ]
  },
  {
   "cell_type": "code",
   "execution_count": 6,
   "id": "051937ef",
   "metadata": {},
   "outputs": [],
   "source": [
    "#create dictionary with cities and three files: links, nodes and trips\n",
    "#i apologise, the paths are horrible, you might need to fix but it's worth it in the long u\n",
    "def make_dict(cities):\n",
    "    cities_dict = {}\n",
    "    for city in cities:\n",
    "        link_file_path = data_path + city + '/' + city + '_net.tntp'\n",
    "        node_file_path = data_path + city + '/' + city +'_nodes.tntp'\n",
    "        trip_file_path = data_path + city + '/' + city + '_trips.tntp'\n",
    "        cities_dict[city] = {}\n",
    "        to_add = {'link_file_path': link_file_path, 'node_file_path': node_file_path, 'trip_file_path': trip_file_path}\n",
    "        cities_dict[city]['file_paths'] = to_add \n",
    "    return cities_dict"
   ]
  },
  {
   "cell_type": "code",
   "execution_count": 7,
   "id": "cbc1a167",
   "metadata": {},
   "outputs": [],
   "source": [
    "cities_dict = make_dict(cities)"
   ]
  },
  {
   "cell_type": "code",
   "execution_count": 8,
   "id": "7b941cfc",
   "metadata": {},
   "outputs": [],
   "source": [
    "\n",
    "        \n",
    "        #load node file\n",
    "        \n",
    "        \n",
    "        #load trips file \n",
    "    \n",
    "        "
   ]
  },
  {
   "cell_type": "code",
   "execution_count": 9,
   "id": "2b44de20",
   "metadata": {},
   "outputs": [
    {
     "ename": "NameError",
     "evalue": "name 'create_csvs' is not defined",
     "output_type": "error",
     "traceback": [
      "\u001b[0;31m---------------------------------------------------------------------------\u001b[0m",
      "\u001b[0;31mNameError\u001b[0m                                 Traceback (most recent call last)",
      "\u001b[0;32m/var/folders/2g/qx04w6j525l446ptr2wd9w8w0000gn/T/ipykernel_50013/2462071928.py\u001b[0m in \u001b[0;36m<module>\u001b[0;34m\u001b[0m\n\u001b[0;32m----> 1\u001b[0;31m \u001b[0mcreate_csvs\u001b[0m\u001b[0;34m(\u001b[0m\u001b[0mcities_dict\u001b[0m\u001b[0;34m)\u001b[0m\u001b[0;34m\u001b[0m\u001b[0;34m\u001b[0m\u001b[0m\n\u001b[0m",
      "\u001b[0;31mNameError\u001b[0m: name 'create_csvs' is not defined"
     ]
    }
   ],
   "source": [
    "create_csvs(cities_dict)"
   ]
  },
  {
   "cell_type": "code",
   "execution_count": 12,
   "id": "cd96a34e",
   "metadata": {},
   "outputs": [
    {
     "ename": "KeyError",
     "evalue": "'csv'",
     "output_type": "error",
     "traceback": [
      "\u001b[0;31m---------------------------------------------------------------------------\u001b[0m",
      "\u001b[0;31mKeyError\u001b[0m                                  Traceback (most recent call last)",
      "\u001b[0;32m/var/folders/2g/qx04w6j525l446ptr2wd9w8w0000gn/T/ipykernel_50013/387689023.py\u001b[0m in \u001b[0;36m<module>\u001b[0;34m\u001b[0m\n\u001b[1;32m      1\u001b[0m \u001b[0;31m#take a look at a sample\u001b[0m\u001b[0;34m\u001b[0m\u001b[0;34m\u001b[0m\u001b[0;34m\u001b[0m\u001b[0m\n\u001b[0;32m----> 2\u001b[0;31m \u001b[0mcities_dict\u001b[0m\u001b[0;34m[\u001b[0m\u001b[0;34m'SiouxFalls'\u001b[0m\u001b[0;34m]\u001b[0m\u001b[0;34m[\u001b[0m\u001b[0;34m'csv'\u001b[0m\u001b[0;34m]\u001b[0m\u001b[0;34m\u001b[0m\u001b[0;34m\u001b[0m\u001b[0m\n\u001b[0m",
      "\u001b[0;31mKeyError\u001b[0m: 'csv'"
     ]
    }
   ],
   "source": [
    "#take a look at a sample\n",
    "cities_dict['SiouxFalls']['csv']"
   ]
  },
  {
   "cell_type": "code",
   "execution_count": null,
   "id": "57773320",
   "metadata": {},
   "outputs": [],
   "source": [
    "#Nodes and edges for each city\n",
    "for city in cities_dict.keys():\n",
    "    print('Total number of nodes in', city+':', len(cities_dict[city]['csv']['init_node'].unique()))\n",
    "    print('Total number of edges in', city+':', cities_dict[city]['csv'].shape[0])"
   ]
  },
  {
   "cell_type": "markdown",
   "id": "43849984",
   "metadata": {},
   "source": [
    "To note:\n",
    "\n",
    "- No idea what b is \n",
    "- Below is a couple of definitions from the GitHub page which might come in handy\n",
    "\n",
    "Link travel time = free flow time * ( 1 + B * (flow/capacity)^Power ).\n",
    "Link generalized cost = Link travel time + toll_factor * toll + distance_factor * distance"
   ]
  },
  {
   "cell_type": "markdown",
   "id": "2dd5628a",
   "metadata": {},
   "source": [
    "#load node file\n",
    "        brum_nodes = pd.read_csv(node_file_path, sep = ' ')\n",
    "for_drop = []\n",
    "for i in list(range(1,14)):\n",
    "    name = 'Unnamed: ' + str(i)\n",
    "    for_drop.append(name)\n",
    "for_drop.remove('Unnamed: 7')\n",
    "brum_nodes = brum_nodes.drop(for_drop, axis = 1)\n",
    "\n",
    "#load trips file\n",
    "#load node file - note this is a bit fiddly, could be a better way to import but chose something quick and dirty\n",
    "brum_nodes = pd.read_csv(node_file_path, sep = ' ')\n",
    "for_drop = []\n",
    "for i in list(range(1,14)):\n",
    "    name = 'Unnamed: ' + str(i)\n",
    "    for_drop.append(name)\n",
    "for_drop.remove('Unnamed: 7')\n",
    "brum_nodes = brum_nodes.drop(for_drop, axis = 1)"
   ]
  },
  {
   "cell_type": "markdown",
   "id": "3b640195",
   "metadata": {},
   "source": [
    "# Take subset of networks"
   ]
  },
  {
   "cell_type": "markdown",
   "id": "8febd533",
   "metadata": {},
   "source": [
    "seed = 5\n",
    "random = Random(seed)\n",
    "for city in cities_dict.keys():\n",
    "    #get random subset of 100 nodes§\n",
    "    nodes_subset = Random.choices(list(cities_dict[city]['csv']['init_node'].unique()), k = 100)\n",
    "    \n",
    "    \n",
    "    \n",
    "    subset = "
   ]
  },
  {
   "cell_type": "markdown",
   "id": "a313e0cd",
   "metadata": {},
   "source": [
    "# Plot graph"
   ]
  },
  {
   "cell_type": "code",
   "execution_count": null,
   "id": "d022b442",
   "metadata": {},
   "outputs": [],
   "source": [
    "#set city for investigation - note this will be used as the exemplar for all following code\n",
    "city = 'SiouxFalls'"
   ]
  },
  {
   "cell_type": "code",
   "execution_count": null,
   "id": "a029acdf",
   "metadata": {},
   "outputs": [],
   "source": [
    "#select csv\n"
   ]
  },
  {
   "cell_type": "code",
   "execution_count": null,
   "id": "855461cf",
   "metadata": {},
   "outputs": [],
   "source": [
    "plot(city)"
   ]
  },
  {
   "cell_type": "markdown",
   "id": "afadb511",
   "metadata": {},
   "source": [
    "# Observe example network data"
   ]
  },
  {
   "cell_type": "code",
   "execution_count": 10,
   "id": "c3a04825",
   "metadata": {},
   "outputs": [],
   "source": [
    "def network(cities_dict, city):\n",
    "    #instatiate class using required files \n",
    "    link_file = cities_dict[city]['file_paths']['link_file_path']\n",
    "    trip_file = cities_dict[city]['file_paths']['trip_file_path']\n",
    "    node_file = cities_dict[city]['file_paths']['node_file_path']\n",
    "    Network = tn.Network(link_file, trip_file, node_file)\n",
    "    ##Network has three attributes\n",
    "    #1) graph object\n",
    "    graph = Network.graph\n",
    "    #2) origin nodes\n",
    "    origin_nodes = Network.origins\n",
    "    #3)dict: keys= origin_node, destination_node, value = traffic flow\n",
    "    flows = Network.od_vols\n",
    "    print(Network)\n",
    "    print(city, 'graph is:', graph)\n",
    "    print(city, 'origin nodes are:', origin_nodes)\n",
    "    print(city, 'flows are:', flows)\n",
    "        "
   ]
  },
  {
   "cell_type": "code",
   "execution_count": 11,
   "id": "e99ee18b",
   "metadata": {
    "scrolled": true
   },
   "outputs": [
    {
     "ename": "KeyError",
     "evalue": "'Birmingham'",
     "output_type": "error",
     "traceback": [
      "\u001b[0;31m---------------------------------------------------------------------------\u001b[0m",
      "\u001b[0;31mKeyError\u001b[0m                                  Traceback (most recent call last)",
      "\u001b[0;32m/var/folders/2g/qx04w6j525l446ptr2wd9w8w0000gn/T/ipykernel_50013/1857515521.py\u001b[0m in \u001b[0;36m<module>\u001b[0;34m\u001b[0m\n\u001b[0;32m----> 1\u001b[0;31m \u001b[0mnetwork\u001b[0m\u001b[0;34m(\u001b[0m\u001b[0mcities_dict\u001b[0m\u001b[0;34m,\u001b[0m \u001b[0mcity\u001b[0m\u001b[0;34m)\u001b[0m\u001b[0;34m\u001b[0m\u001b[0;34m\u001b[0m\u001b[0m\n\u001b[0m",
      "\u001b[0;32m/var/folders/2g/qx04w6j525l446ptr2wd9w8w0000gn/T/ipykernel_50013/4151963464.py\u001b[0m in \u001b[0;36mnetwork\u001b[0;34m(cities_dict, city)\u001b[0m\n\u001b[1;32m      1\u001b[0m \u001b[0;32mdef\u001b[0m \u001b[0mnetwork\u001b[0m\u001b[0;34m(\u001b[0m\u001b[0mcities_dict\u001b[0m\u001b[0;34m,\u001b[0m \u001b[0mcity\u001b[0m\u001b[0;34m)\u001b[0m\u001b[0;34m:\u001b[0m\u001b[0;34m\u001b[0m\u001b[0;34m\u001b[0m\u001b[0m\n\u001b[1;32m      2\u001b[0m     \u001b[0;31m#instatiate class using required files\u001b[0m\u001b[0;34m\u001b[0m\u001b[0;34m\u001b[0m\u001b[0;34m\u001b[0m\u001b[0m\n\u001b[0;32m----> 3\u001b[0;31m     \u001b[0mlink_file\u001b[0m \u001b[0;34m=\u001b[0m \u001b[0mcities_dict\u001b[0m\u001b[0;34m[\u001b[0m\u001b[0mcity\u001b[0m\u001b[0;34m]\u001b[0m\u001b[0;34m[\u001b[0m\u001b[0;34m'file_paths'\u001b[0m\u001b[0;34m]\u001b[0m\u001b[0;34m[\u001b[0m\u001b[0;34m'link_file_path'\u001b[0m\u001b[0;34m]\u001b[0m\u001b[0;34m\u001b[0m\u001b[0;34m\u001b[0m\u001b[0m\n\u001b[0m\u001b[1;32m      4\u001b[0m     \u001b[0mtrip_file\u001b[0m \u001b[0;34m=\u001b[0m \u001b[0mcities_dict\u001b[0m\u001b[0;34m[\u001b[0m\u001b[0mcity\u001b[0m\u001b[0;34m]\u001b[0m\u001b[0;34m[\u001b[0m\u001b[0;34m'file_paths'\u001b[0m\u001b[0;34m]\u001b[0m\u001b[0;34m[\u001b[0m\u001b[0;34m'trip_file_path'\u001b[0m\u001b[0;34m]\u001b[0m\u001b[0;34m\u001b[0m\u001b[0;34m\u001b[0m\u001b[0m\n\u001b[1;32m      5\u001b[0m     \u001b[0mnode_file\u001b[0m \u001b[0;34m=\u001b[0m \u001b[0mcities_dict\u001b[0m\u001b[0;34m[\u001b[0m\u001b[0mcity\u001b[0m\u001b[0;34m]\u001b[0m\u001b[0;34m[\u001b[0m\u001b[0;34m'file_paths'\u001b[0m\u001b[0;34m]\u001b[0m\u001b[0;34m[\u001b[0m\u001b[0;34m'node_file_path'\u001b[0m\u001b[0;34m]\u001b[0m\u001b[0;34m\u001b[0m\u001b[0;34m\u001b[0m\u001b[0m\n",
      "\u001b[0;31mKeyError\u001b[0m: 'Birmingham'"
     ]
    }
   ],
   "source": [
    "network(cities_dict, city)"
   ]
  },
  {
   "cell_type": "markdown",
   "id": "d726132b",
   "metadata": {},
   "source": [
    "# Compute equilibrium flow using Frank-Wolfe algorithm"
   ]
  },
  {
   "cell_type": "code",
   "execution_count": null,
   "id": "6685a76d",
   "metadata": {},
   "outputs": [],
   "source": [
    "#define a function for finding the equilibrim flow using the Frank-Wolfe algorithm from PyTrans\n",
    "def compute_all_link_flow(cities_dict, city):\n",
    "    link_file = cities_dict[city]['file_paths']['link_file_path']\n",
    "    trip_file = cities_dict[city]['file_paths']['trip_file_path']\n",
    "    node_file = cities_dict[city]['file_paths']['node_file_path']    \n",
    "    SO = False\n",
    "    fw = Frank_Wolfe.Run(link_file, trip_file, node_file, SO)\n",
    "    return fw"
   ]
  },
  {
   "cell_type": "code",
   "execution_count": null,
   "id": "9b5c467a",
   "metadata": {},
   "outputs": [],
   "source": [
    "#save file\n",
    "def save_all_links_run(cities_dict, city, fw):\n",
    "    cities_dict[city]['all_links'] = {'all_links': fw}"
   ]
  },
  {
   "cell_type": "code",
   "execution_count": null,
   "id": "e0c0143c",
   "metadata": {
    "scrolled": true
   },
   "outputs": [],
   "source": [
    "#run Frank_Wolfe\n",
    "fw = Frank_Wolfe_algorithm(cities_dict, city)\n",
    "fw.showODFlow()\n",
    "fw.showODFlowMap()"
   ]
  },
  {
   "cell_type": "markdown",
   "id": "af7b2eed",
   "metadata": {},
   "source": [
    "# Systematically close each link and compute equilibrium flow"
   ]
  },
  {
   "cell_type": "code",
   "execution_count": null,
   "id": "08f52919",
   "metadata": {},
   "outputs": [],
   "source": [
    "class fw_custom_algorithm():\n",
    "    \n",
    "    def __init__(self, cities_dict):\n",
    "        self.cities_dict = cities_dict\n",
    "        \n",
    "#create a csv for each city and corresponding file for investigation\n",
    "    def create_csvs(self):\n",
    "        for city in self.cities_dict.keys():\n",
    "            path_list = list(self.cities_dict[city]['file_paths'].keys())\n",
    "            for paths in path_list:\n",
    "                #load network file\n",
    "                link_file = path_list[0]\n",
    "                csv = pd.read_csv(self.cities_dict[city]['file_paths'][link_file], skiprows=8, sep='\\t') #gets link file path\n",
    "                trimmed= [s.strip().lower() for s in csv.columns]\n",
    "                csv.columns = trimmed\n",
    "                # And drop the silly first andlast columns\n",
    "                csv.drop(['~', ';'], axis=1, inplace=True)\n",
    "                self.cities_dict[city]['csv'] = csv\n",
    "        self.cities_dict = cities_dict\n",
    "        return cities_dict\n",
    "    \n",
    "    def plot(cities_dict, city):\n",
    "        csv = cities_dict[city]['csv']\n",
    "        network = nx.from_pandas_edgelist(csv, source = 'init_node',target='term_node', edge_attr = True)\n",
    "        graph = nx.complete_graph(network)\n",
    "        nx.draw(graph)"
   ]
  },
  {
   "cell_type": "code",
   "execution_count": null,
   "id": "228be6ed",
   "metadata": {},
   "outputs": [],
   "source": [
    "def close_link(cities_dict, city):\n",
    "    link_file = dict_of_cities[city]['file_paths']['link_file_path']\n",
    "    f = open(link_file)"
   ]
  },
  {
   "cell_type": "code",
   "execution_count": null,
   "id": "1ba24c91",
   "metadata": {},
   "outputs": [],
   "source": [
    "def compute_missing_link_flow(cities_dict, city)    \n",
    "    for \n",
    "    fw = Frank_Wolfe_algorithm(cities_dict, city)"
   ]
  },
  {
   "cell_type": "code",
   "execution_count": null,
   "id": "f3dc9efc",
   "metadata": {},
   "outputs": [],
   "source": []
  },
  {
   "cell_type": "code",
   "execution_count": null,
   "id": "05905904",
   "metadata": {},
   "outputs": [],
   "source": [
    "save_fw_run(cities_dict, city, fw)"
   ]
  }
 ],
 "metadata": {
  "kernelspec": {
   "display_name": "Python 3 (ipykernel)",
   "language": "python",
   "name": "python3"
  },
  "language_info": {
   "codemirror_mode": {
    "name": "ipython",
    "version": 3
   },
   "file_extension": ".py",
   "mimetype": "text/x-python",
   "name": "python",
   "nbconvert_exporter": "python",
   "pygments_lexer": "ipython3",
   "version": "3.9.5"
  }
 },
 "nbformat": 4,
 "nbformat_minor": 5
}
