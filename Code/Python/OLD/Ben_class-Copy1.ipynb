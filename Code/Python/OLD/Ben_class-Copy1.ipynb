{
 "cells": [
  {
   "cell_type": "markdown",
   "id": "43849984",
   "metadata": {},
   "source": [
    "To note:\n",
    "\n",
    "- No idea what b is \n",
    "- Below is a couple of definitions from the GitHub page which might come in handy\n",
    "\n",
    "Link travel time = free flow time * ( 1 + B * (flow/capacity)^Power ).\n",
    "Link generalized cost = Link travel time + toll_factor * toll + distance_factor * distance"
   ]
  },
  {
   "cell_type": "markdown",
   "id": "83a47462",
   "metadata": {},
   "source": [
    "# Setup: import packages"
   ]
  },
  {
   "cell_type": "code",
   "execution_count": 131,
   "id": "96c96558",
   "metadata": {},
   "outputs": [],
   "source": [
    "#install packages if required\n",
    "#%pip install networkx"
   ]
  },
  {
   "cell_type": "code",
   "execution_count": 2,
   "id": "5a481df0",
   "metadata": {},
   "outputs": [],
   "source": [
    "#import packages \n",
    "import os\n",
    "import pandas as pd\n",
    "import networkx as nx\n",
    "import matplotlib.pyplot as plt\n",
    "import graphviz\n",
    "import scipy.integrate as integrate \n",
    "from scipy.optimize import minimize_scalar\n",
    "from scipy.misc import derivative\n",
    "from random import *"
   ]
  },
  {
   "cell_type": "code",
   "execution_count": 3,
   "id": "e8255940",
   "metadata": {},
   "outputs": [],
   "source": [
    "network_analysis_path_ben = '/Users/benseimon/Documents/Barca GSE/Studies/Term 2/Networks/Term Paper/Networks_Term_Paper/pytrans_UrbanNetworkAnalysis/pytrans/UrbanNetworkAnalysis/Editing Classes'\n",
    "#network_analysis_path_niamh = r'C:\\Users\\35387\\OneDrive\\Documents\\Networks\\New folder\\Networks_Term_Paper\\pytrans_UrbanNetworkAnalysis\\pytrans\\UrbanNetworkAnalysis\\original_edited'\n",
    "os.chdir(network_analysis_path_ben)\n",
    "import Frank_Wolfe\n",
    "import TransportationNetworks as tn\n",
    "import visualize_graph"
   ]
  },
  {
   "cell_type": "markdown",
   "id": "b18680b9",
   "metadata": {},
   "source": [
    "# Read in data"
   ]
  },
  {
   "cell_type": "markdown",
   "id": "54ccf6dd",
   "metadata": {},
   "source": [
    "data_path = '/Users/benseimon/Documents/Barca GSE/Studies/Term 2/Networks/Term Paper/Networks_Term_Paper/Data/'\n",
    "city = 'Birmingham'\n",
    "data_path = data_path + city + '/'\n",
    "os.chdir(data_path)\n",
    "link_file_path = data_path + city + '_net.tntp'\n",
    "node_file_path = data_path + city +'_nodes.tntp'\n",
    "trip_file_path = data_path+ city + '_trips.tntp'"
   ]
  },
  {
   "cell_type": "markdown",
   "id": "44ddbaf6",
   "metadata": {},
   "source": [
    "# Load Data"
   ]
  },
  {
   "cell_type": "code",
   "execution_count": 4,
   "id": "64ed0df1",
   "metadata": {},
   "outputs": [],
   "source": [
    "data_path = '/Users/benseimon/Documents/Barca GSE/Studies/Term 2/Networks/Term Paper/Networks_Term_Paper/Data/'\n",
    "cities = ['SiouxFalls']\n",
    "data_path = data_path \n",
    "os.chdir(data_path)"
   ]
  },
  {
   "cell_type": "code",
   "execution_count": 5,
   "id": "051937ef",
   "metadata": {},
   "outputs": [],
   "source": [
    "#create dictionary with cities and three files: links, nodes and trips\n",
    "#i apologise, the paths are horrible, you might need to fix but it's worth it in the long u\n",
    "def make_dict(cities):\n",
    "    cities_dict = {}\n",
    "    for city in cities:\n",
    "        link_file_path = data_path + city + '/' + city + '_net.tntp'\n",
    "        node_file_path = data_path + city + '/' + city +'_nodes.tntp'\n",
    "        trip_file_path = data_path + city + '/' + city + '_trips.tntp'\n",
    "        cities_dict[city] = {}\n",
    "        to_add = {'link_file_path': link_file_path, 'node_file_path': node_file_path, 'trip_file_path': trip_file_path}\n",
    "        cities_dict[city]['file_paths'] = to_add \n",
    "    return cities_dict"
   ]
  },
  {
   "cell_type": "code",
   "execution_count": 6,
   "id": "cbc1a167",
   "metadata": {},
   "outputs": [
    {
     "data": {
      "text/plain": [
       "{'SiouxFalls': {'file_paths': {'link_file_path': '/Users/benseimon/Documents/Barca GSE/Studies/Term 2/Networks/Term Paper/Networks_Term_Paper/Data/SiouxFalls/SiouxFalls_net.tntp',\n",
       "   'node_file_path': '/Users/benseimon/Documents/Barca GSE/Studies/Term 2/Networks/Term Paper/Networks_Term_Paper/Data/SiouxFalls/SiouxFalls_nodes.tntp',\n",
       "   'trip_file_path': '/Users/benseimon/Documents/Barca GSE/Studies/Term 2/Networks/Term Paper/Networks_Term_Paper/Data/SiouxFalls/SiouxFalls_trips.tntp'}}}"
      ]
     },
     "execution_count": 6,
     "metadata": {},
     "output_type": "execute_result"
    }
   ],
   "source": [
    "cities_dict = make_dict(cities)\n",
    "cities_dict"
   ]
  },
  {
   "cell_type": "code",
   "execution_count": 7,
   "id": "9e043679",
   "metadata": {},
   "outputs": [],
   "source": [
    "class fw_custom_algorithm():\n",
    "    \n",
    "    def __init__(self, cities_dict):\n",
    "        self.cities_dict = cities_dict\n",
    "        self.link_fields = {\"from\": 1, \"to\": 2, \"capacity\": 3, \"length\": 4, \"t0\": 5, \"B\": 6, \"beta\": 7, \"V\": 8}\n",
    "    #create a csv for each city and corresponding file for investigation\n",
    "    def create_csvs(self):\n",
    "        for city in self.cities_dict.keys():\n",
    "            path_list = list(self.cities_dict[city]['file_paths'].keys())\n",
    "            for paths in path_list:\n",
    "                #load network file\n",
    "                link_file = path_list[0]\n",
    "                csv = pd.read_csv(self.cities_dict[city]['file_paths'][link_file], skiprows=8, sep='\\t') #gets link file path\n",
    "                trimmed= [s.strip().lower() for s in csv.columns]\n",
    "                csv.columns = trimmed\n",
    "                # And drop the silly first andlast columns\n",
    "                csv.drop(['~', ';'], axis=1, inplace=True)\n",
    "                cities_dict[city]['csv'] = csv\n",
    "        self.cities_dict = cities_dict\n",
    "    \n",
    "    def plot(self, city):\n",
    "        csv = self.cities_dict[city]['csv']\n",
    "        network = nx.from_pandas_edgelist(csv, source = 'init_node',target='term_node', edge_attr = True)\n",
    "        graph = nx.complete_graph(network)\n",
    "        nx.draw(graph)\n",
    "        \n",
    "    def summary_stats_all(self):\n",
    "        for city in self.cities_dict.keys():\n",
    "            print('Total number of nodes in', city+':', len(self.cities_dict[city]['csv']['init_node'].unique()))\n",
    "            print('Total number of edges in', city+':', self.cities_dict[city]['csv'].shape[0])\n",
    "            \n",
    "    def network(self, city):\n",
    "        #instatiate class using required files \n",
    "        link_file = self.cities_dict[city]['file_paths']['link_file_path']\n",
    "        trip_file = self.cities_dict[city]['file_paths']['trip_file_path']\n",
    "        node_file = self.cities_dict[city]['file_paths']['node_file_path']\n",
    "        Network = tn.Network(link_file, trip_file, node_file)\n",
    "        ##Network has three attributes\n",
    "        #1) graph object\n",
    "        graph = Network.graph\n",
    "        #2) origin nodes\n",
    "        origin_nodes = Network.origins\n",
    "        #3)dict: keys= origin_node, destination_node, value = traffic flow\n",
    "        flows = Network.od_vols\n",
    "        print(Network)\n",
    "        print(city, 'graph is:', graph)\n",
    "        print(city, 'origin nodes are:', origin_nodes)\n",
    "        print(city, 'flows are:', flows)\n",
    "        \n",
    "    #define a function for finding the equilibrim flow using the Frank-Wolfe algorithm from PyTrans\n",
    "    def compute_all_link_flow(self, city):\n",
    "        link_file = self.cities_dict[city]['file_paths']['link_file_path']\n",
    "        trip_file = self.cities_dict[city]['file_paths']['trip_file_path']\n",
    "        node_file = self.cities_dict[city]['file_paths']['node_file_path']    \n",
    "        SO = False\n",
    "        fw = Frank_Wolfe.Run(link_file, trip_file, node_file, SO)\n",
    "        #saves file to dict\n",
    "        self.cities_dict[city]['all_links'] = {'all_links': fw}\n",
    "    \n",
    "    def compute_missing_link_flow(self, city):   \n",
    "        link_file = self.cities_dict[city]['file_paths']['link_file_path']\n",
    "        trip_file = self.cities_dict[city]['file_paths']['trip_file_path']\n",
    "        node_file = self.cities_dict[city]['file_paths']['node_file_path'] \n",
    "        link = 0\n",
    "        total_links = cities_dict[city]['csv'].shape[0]\n",
    "        for link in list(range(0, total_links+1)):\n",
    "            link_file_missing_link = self.remove_link(city, link_file, link)\n",
    "            while link <= total_links:\n",
    "                SO = False\n",
    "                fw = Frank_Wolfe.Run(link_file_missing_link, trip_file, node_file, SO)\n",
    "                self.cities_dict[city]['closed_links'] = {str(link) : fw}\n",
    "                link += 1\n",
    "    \n",
    "    def remove_link(self, city, link_file, link):\n",
    "        f = open(link_file)\n",
    "        lines = f.readlines()\n",
    "        f.close()\n",
    "        \n",
    "        \n",
    "    \n",
    "    "
   ]
  },
  {
   "cell_type": "code",
   "execution_count": 8,
   "id": "4a65387f",
   "metadata": {},
   "outputs": [],
   "source": [
    "link_file = cities_dict['SiouxFalls']['file_paths']['link_file_path']"
   ]
  },
  {
   "cell_type": "code",
   "execution_count": 9,
   "id": "d036a2c2",
   "metadata": {},
   "outputs": [],
   "source": [
    "f = open(link_file)\n",
    "lines = f.readlines()\n",
    "f.close()"
   ]
  },
  {
   "cell_type": "code",
   "execution_count": 10,
   "id": "f465234e",
   "metadata": {},
   "outputs": [
    {
     "ename": "NameError",
     "evalue": "name 'my_list' is not defined",
     "output_type": "error",
     "traceback": [
      "\u001b[0;31m---------------------------------------------------------------------------\u001b[0m",
      "\u001b[0;31mNameError\u001b[0m                                 Traceback (most recent call last)",
      "\u001b[0;32m/var/folders/2g/qx04w6j525l446ptr2wd9w8w0000gn/T/ipykernel_50068/461280427.py\u001b[0m in \u001b[0;36m<module>\u001b[0;34m\u001b[0m\n\u001b[1;32m      1\u001b[0m \u001b[0;32mwith\u001b[0m \u001b[0mopen\u001b[0m\u001b[0;34m(\u001b[0m\u001b[0;34m'your_file.txt'\u001b[0m\u001b[0;34m,\u001b[0m \u001b[0;34m'w'\u001b[0m\u001b[0;34m)\u001b[0m \u001b[0;32mas\u001b[0m \u001b[0mf\u001b[0m\u001b[0;34m:\u001b[0m\u001b[0;34m\u001b[0m\u001b[0;34m\u001b[0m\u001b[0m\n\u001b[0;32m----> 2\u001b[0;31m     \u001b[0;32mfor\u001b[0m \u001b[0mitem\u001b[0m \u001b[0;32min\u001b[0m \u001b[0mmy_list\u001b[0m\u001b[0;34m:\u001b[0m\u001b[0;34m\u001b[0m\u001b[0;34m\u001b[0m\u001b[0m\n\u001b[0m\u001b[1;32m      3\u001b[0m         \u001b[0mf\u001b[0m\u001b[0;34m.\u001b[0m\u001b[0mwrite\u001b[0m\u001b[0;34m(\u001b[0m\u001b[0;34m\"%s\\n\"\u001b[0m \u001b[0;34m%\u001b[0m \u001b[0mitem\u001b[0m\u001b[0;34m)\u001b[0m\u001b[0;34m\u001b[0m\u001b[0;34m\u001b[0m\u001b[0m\n",
      "\u001b[0;31mNameError\u001b[0m: name 'my_list' is not defined"
     ]
    }
   ],
   "source": [
    "with open('your_file.txt', 'w') as f:\n",
    "    for item in my_list:\n",
    "        f.write(\"%s\\n\" % item)"
   ]
  },
  {
   "cell_type": "code",
   "execution_count": 11,
   "id": "1124fa29",
   "metadata": {},
   "outputs": [
    {
     "name": "stdout",
     "output_type": "stream",
     "text": [
      "['<NUMBER OF ZONES> 24\\t\\t\\t\\t\\t\\t\\t\\t\\t\\t\\t\\n', '<NUMBER OF NODES> 24\\t\\t\\t\\t\\t\\t\\t\\t\\t\\t\\t\\n', '<FIRST THRU NODE> 1\\t\\t\\t\\t\\t\\t\\t\\t\\t\\t\\t\\n', '<NUMBER OF LINKS> 76\\t\\n', '<ORIGINAL HEADER>~ \\tInit node \\tTerm node \\tCapacity \\tLength \\tFree Flow Time \\tB\\tPower\\tSpeed limit \\tToll \\tType\\t;\\n', '<END OF METADATA>\\t\\t\\t\\t\\t\\t\\t\\t\\t\\t\\t\\n', '\\n', '\\n', '~\\tinit_node\\tterm_node\\tcapacity\\tlength\\tfree_flow_time\\tb\\tpower\\tspeed\\ttoll\\tlink_type\\t;\\n', '\\t1\\t2\\t25900.20064\\t6\\t6\\t0.15\\t4\\t0\\t0\\t1\\t;\\n', '\\t1\\t3\\t23403.47319\\t4\\t4\\t0.15\\t4\\t0\\t0\\t1\\t;\\n', '\\t2\\t1\\t25900.20064\\t6\\t6\\t0.15\\t4\\t0\\t0\\t1\\t;\\n', '\\t2\\t6\\t4958.180928\\t5\\t5\\t0.15\\t4\\t0\\t0\\t1\\t;\\n', '\\t3\\t1\\t23403.47319\\t4\\t4\\t0.15\\t4\\t0\\t0\\t1\\t;\\n', '\\t3\\t4\\t17110.52372\\t4\\t4\\t0.15\\t4\\t0\\t0\\t1\\t;\\n', '\\t3\\t12\\t23403.47319\\t4\\t4\\t0.15\\t4\\t0\\t0\\t1\\t;\\n', '\\t4\\t3\\t17110.52372\\t4\\t4\\t0.15\\t4\\t0\\t0\\t1\\t;\\n', '\\t4\\t5\\t17782.7941\\t2\\t2\\t0.15\\t4\\t0\\t0\\t1\\t;\\n', '\\t4\\t11\\t4908.82673\\t6\\t6\\t0.15\\t4\\t0\\t0\\t1\\t;\\n', '\\t5\\t4\\t17782.7941\\t2\\t2\\t0.15\\t4\\t0\\t0\\t1\\t;\\n', '\\t5\\t6\\t4947.995469\\t4\\t4\\t0.15\\t4\\t0\\t0\\t1\\t;\\n', '\\t5\\t9\\t10000\\t5\\t5\\t0.15\\t4\\t0\\t0\\t1\\t;\\n', '\\t6\\t2\\t4958.180928\\t5\\t5\\t0.15\\t4\\t0\\t0\\t1\\t;\\n', '\\t6\\t5\\t4947.995469\\t4\\t4\\t0.15\\t4\\t0\\t0\\t1\\t;\\n', '\\t6\\t8\\t4898.587646\\t2\\t2\\t0.15\\t4\\t0\\t0\\t1\\t;\\n', '\\t7\\t8\\t7841.81131\\t3\\t3\\t0.15\\t4\\t0\\t0\\t1\\t;\\n', '\\t7\\t18\\t23403.47319\\t2\\t2\\t0.15\\t4\\t0\\t0\\t1\\t;\\n', '\\t8\\t6\\t4898.587646\\t2\\t2\\t0.15\\t4\\t0\\t0\\t1\\t;\\n', '\\t8\\t7\\t7841.81131\\t3\\t3\\t0.15\\t4\\t0\\t0\\t1\\t;\\n', '\\t8\\t9\\t5050.193156\\t10\\t10\\t0.15\\t4\\t0\\t0\\t1\\t;\\n', '\\t8\\t16\\t5045.822583\\t5\\t5\\t0.15\\t4\\t0\\t0\\t1\\t;\\n', '\\t9\\t5\\t10000\\t5\\t5\\t0.15\\t4\\t0\\t0\\t1\\t;\\n', '\\t9\\t8\\t5050.193156\\t10\\t10\\t0.15\\t4\\t0\\t0\\t1\\t;\\n', '\\t9\\t10\\t13915.78842\\t3\\t3\\t0.15\\t4\\t0\\t0\\t1\\t;\\n', '\\t10\\t9\\t13915.78842\\t3\\t3\\t0.15\\t4\\t0\\t0\\t1\\t;\\n', '\\t10\\t11\\t10000\\t5\\t5\\t0.15\\t4\\t0\\t0\\t1\\t;\\n', '\\t10\\t15\\t13512.00155\\t6\\t6\\t0.15\\t4\\t0\\t0\\t1\\t;\\n', '\\t10\\t16\\t4854.917717\\t4\\t4\\t0.15\\t4\\t0\\t0\\t1\\t;\\n', '\\t10\\t17\\t4993.510694\\t8\\t8\\t0.15\\t4\\t0\\t0\\t1\\t;\\n', '\\t11\\t4\\t4908.82673\\t6\\t6\\t0.15\\t4\\t0\\t0\\t1\\t;\\n', '\\t11\\t10\\t10000\\t5\\t5\\t0.15\\t4\\t0\\t0\\t1\\t;\\n', '\\t11\\t12\\t4908.82673\\t6\\t6\\t0.15\\t4\\t0\\t0\\t1\\t;\\n', '\\t11\\t14\\t4876.508287\\t4\\t4\\t0.15\\t4\\t0\\t0\\t1\\t;\\n', '\\t12\\t3\\t23403.47319\\t4\\t4\\t0.15\\t4\\t0\\t0\\t1\\t;\\n', '\\t12\\t11\\t4908.82673\\t6\\t6\\t0.15\\t4\\t0\\t0\\t1\\t;\\n', '\\t12\\t13\\t25900.20064\\t3\\t3\\t0.15\\t4\\t0\\t0\\t1\\t;\\n', '\\t13\\t12\\t25900.20064\\t3\\t3\\t0.15\\t4\\t0\\t0\\t1\\t;\\n', '\\t13\\t24\\t5091.256152\\t4\\t4\\t0.15\\t4\\t0\\t0\\t1\\t;\\n', '\\t14\\t11\\t4876.508287\\t4\\t4\\t0.15\\t4\\t0\\t0\\t1\\t;\\n', '\\t14\\t15\\t5127.526119\\t5\\t5\\t0.15\\t4\\t0\\t0\\t1\\t;\\n', '\\t14\\t23\\t4924.790605\\t4\\t4\\t0.15\\t4\\t0\\t0\\t1\\t;\\n', '\\t15\\t10\\t13512.00155\\t6\\t6\\t0.15\\t4\\t0\\t0\\t1\\t;\\n', '\\t15\\t14\\t5127.526119\\t5\\t5\\t0.15\\t4\\t0\\t0\\t1\\t;\\n', '\\t15\\t19\\t14564.75315\\t3\\t3\\t0.15\\t4\\t0\\t0\\t1\\t;\\n', '\\t15\\t22\\t9599.180565\\t3\\t3\\t0.15\\t4\\t0\\t0\\t1\\t;\\n', '\\t16\\t8\\t5045.822583\\t5\\t5\\t0.15\\t4\\t0\\t0\\t1\\t;\\n', '\\t16\\t10\\t4854.917717\\t4\\t4\\t0.15\\t4\\t0\\t0\\t1\\t;\\n', '\\t16\\t17\\t5229.910063\\t2\\t2\\t0.15\\t4\\t0\\t0\\t1\\t;\\n', '\\t16\\t18\\t19679.89671\\t3\\t3\\t0.15\\t4\\t0\\t0\\t1\\t;\\n', '\\t17\\t10\\t4993.510694\\t8\\t8\\t0.15\\t4\\t0\\t0\\t1\\t;\\n', '\\t17\\t16\\t5229.910063\\t2\\t2\\t0.15\\t4\\t0\\t0\\t1\\t;\\n', '\\t17\\t19\\t4823.950831\\t2\\t2\\t0.15\\t4\\t0\\t0\\t1\\t;\\n', '\\t18\\t7\\t23403.47319\\t2\\t2\\t0.15\\t4\\t0\\t0\\t1\\t;\\n', '\\t18\\t16\\t19679.89671\\t3\\t3\\t0.15\\t4\\t0\\t0\\t1\\t;\\n', '\\t18\\t20\\t23403.47319\\t4\\t4\\t0.15\\t4\\t0\\t0\\t1\\t;\\n', '\\t19\\t15\\t14564.75315\\t3\\t3\\t0.15\\t4\\t0\\t0\\t1\\t;\\n', '\\t19\\t17\\t4823.950831\\t2\\t2\\t0.15\\t4\\t0\\t0\\t1\\t;\\n', '\\t19\\t20\\t5002.607563\\t4\\t4\\t0.15\\t4\\t0\\t0\\t1\\t;\\n', '\\t20\\t18\\t23403.47319\\t4\\t4\\t0.15\\t4\\t0\\t0\\t1\\t;\\n', '\\t20\\t19\\t5002.607563\\t4\\t4\\t0.15\\t4\\t0\\t0\\t1\\t;\\n', '\\t20\\t21\\t5059.91234\\t6\\t6\\t0.15\\t4\\t0\\t0\\t1\\t;\\n', '\\t20\\t22\\t5075.697193\\t5\\t5\\t0.15\\t4\\t0\\t0\\t1\\t;\\n', '\\t21\\t20\\t5059.91234\\t6\\t6\\t0.15\\t4\\t0\\t0\\t1\\t;\\n', '\\t21\\t22\\t5229.910063\\t2\\t2\\t0.15\\t4\\t0\\t0\\t1\\t;\\n', '\\t21\\t24\\t4885.357564\\t3\\t3\\t0.15\\t4\\t0\\t0\\t1\\t;\\n', '\\t22\\t15\\t9599.180565\\t3\\t3\\t0.15\\t4\\t0\\t0\\t1\\t;\\n', '\\t22\\t20\\t5075.697193\\t5\\t5\\t0.15\\t4\\t0\\t0\\t1\\t;\\n', '\\t22\\t21\\t5229.910063\\t2\\t2\\t0.15\\t4\\t0\\t0\\t1\\t;\\n', '\\t22\\t23\\t5000\\t4\\t4\\t0.15\\t4\\t0\\t0\\t1\\t;\\n', '\\t23\\t14\\t4924.790605\\t4\\t4\\t0.15\\t4\\t0\\t0\\t1\\t;\\n', '\\t23\\t22\\t5000\\t4\\t4\\t0.15\\t4\\t0\\t0\\t1\\t;\\n', '\\t23\\t24\\t5078.508436\\t2\\t2\\t0.15\\t4\\t0\\t0\\t1\\t;\\n', '\\t24\\t13\\t5091.256152\\t4\\t4\\t0.15\\t4\\t0\\t0\\t1\\t;\\n', '\\t24\\t21\\t4885.357564\\t3\\t3\\t0.15\\t4\\t0\\t0\\t1\\t;\\n', '\\t24\\t23\\t5078.508436\\t2\\t2\\t0.15\\t4\\t0\\t0\\t1\\t;\\n']\n"
     ]
    },
    {
     "ename": "NameError",
     "evalue": "name 'thefile' is not defined",
     "output_type": "error",
     "traceback": [
      "\u001b[0;31m---------------------------------------------------------------------------\u001b[0m",
      "\u001b[0;31mNameError\u001b[0m                                 Traceback (most recent call last)",
      "\u001b[0;32m/var/folders/2g/qx04w6j525l446ptr2wd9w8w0000gn/T/ipykernel_50068/1250942228.py\u001b[0m in \u001b[0;36m<module>\u001b[0;34m\u001b[0m\n\u001b[1;32m     11\u001b[0m             \u001b[0;32mpass\u001b[0m\u001b[0;34m\u001b[0m\u001b[0;34m\u001b[0m\u001b[0m\n\u001b[1;32m     12\u001b[0m \u001b[0;34m\u001b[0m\u001b[0m\n\u001b[0;32m---> 13\u001b[0;31m \u001b[0mthefile\u001b[0m\u001b[0;34m.\u001b[0m\u001b[0mwrite\u001b[0m\u001b[0;34m(\u001b[0m\u001b[0;34m'\\n'\u001b[0m\u001b[0;34m.\u001b[0m\u001b[0mjoin\u001b[0m\u001b[0;34m(\u001b[0m\u001b[0mthelist\u001b[0m\u001b[0;34m)\u001b[0m\u001b[0;34m)\u001b[0m\u001b[0;34m\u001b[0m\u001b[0;34m\u001b[0m\u001b[0m\n\u001b[0m\u001b[1;32m     14\u001b[0m \u001b[0mf\u001b[0m \u001b[0;34m=\u001b[0m \u001b[0mopen\u001b[0m\u001b[0;34m(\u001b[0m\u001b[0mlink_file\u001b[0m\u001b[0;34m)\u001b[0m\u001b[0;34m\u001b[0m\u001b[0;34m\u001b[0m\u001b[0m\n\u001b[1;32m     15\u001b[0m \u001b[0mlines\u001b[0m \u001b[0;34m=\u001b[0m \u001b[0mf\u001b[0m\u001b[0;34m.\u001b[0m\u001b[0mreadlines\u001b[0m\u001b[0;34m(\u001b[0m\u001b[0;34m)\u001b[0m\u001b[0;34m\u001b[0m\u001b[0;34m\u001b[0m\u001b[0m\n",
      "\u001b[0;31mNameError\u001b[0m: name 'thefile' is not defined"
     ]
    }
   ],
   "source": [
    "link = 0\n",
    "with open(link_file, \"r\") as f:\n",
    "    lines = f.readlines()\n",
    "    print(lines)\n",
    "del lines[0]\n",
    "with open(link_file, \"w\") as f:\n",
    "    for line in lines:\n",
    "        if line != link:\n",
    "            f.write(line)\n",
    "        else:\n",
    "            pass\n",
    "\n",
    "thefile.write('\\n'.join(thelist))\n",
    "f = open(link_file)\n",
    "lines = f.readlines()\n",
    "f.close()\n",
    "print(lines)"
   ]
  },
  {
   "cell_type": "code",
   "execution_count": 12,
   "id": "abc891a1",
   "metadata": {},
   "outputs": [
    {
     "data": {
      "text/plain": [
       "<_io.TextIOWrapper name='/Users/benseimon/Documents/Barca GSE/Studies/Term 2/Networks/Term Paper/Networks_Term_Paper/Data/SiouxFalls/SiouxFalls_net.tntp' mode='r' encoding='UTF-8'>"
      ]
     },
     "execution_count": 12,
     "metadata": {},
     "output_type": "execute_result"
    }
   ],
   "source": [
    "open(link_file, \"r\")"
   ]
  },
  {
   "cell_type": "code",
   "execution_count": 13,
   "id": "2b44de20",
   "metadata": {},
   "outputs": [],
   "source": [
    "#instantiate class \n",
    "trial_run = fw_custom_algorithm(cities_dict)"
   ]
  },
  {
   "cell_type": "code",
   "execution_count": 14,
   "id": "1695ef69",
   "metadata": {},
   "outputs": [
    {
     "ename": "KeyError",
     "evalue": "'csv'",
     "output_type": "error",
     "traceback": [
      "\u001b[0;31m---------------------------------------------------------------------------\u001b[0m",
      "\u001b[0;31mKeyError\u001b[0m                                  Traceback (most recent call last)",
      "\u001b[0;32m/var/folders/2g/qx04w6j525l446ptr2wd9w8w0000gn/T/ipykernel_50068/34052678.py\u001b[0m in \u001b[0;36m<module>\u001b[0;34m\u001b[0m\n\u001b[0;32m----> 1\u001b[0;31m \u001b[0mtrial_run\u001b[0m\u001b[0;34m.\u001b[0m\u001b[0msummary_stats_all\u001b[0m\u001b[0;34m(\u001b[0m\u001b[0;34m)\u001b[0m\u001b[0;34m\u001b[0m\u001b[0;34m\u001b[0m\u001b[0m\n\u001b[0m",
      "\u001b[0;32m/var/folders/2g/qx04w6j525l446ptr2wd9w8w0000gn/T/ipykernel_50068/3698265814.py\u001b[0m in \u001b[0;36msummary_stats_all\u001b[0;34m(self)\u001b[0m\n\u001b[1;32m     27\u001b[0m     \u001b[0;32mdef\u001b[0m \u001b[0msummary_stats_all\u001b[0m\u001b[0;34m(\u001b[0m\u001b[0mself\u001b[0m\u001b[0;34m)\u001b[0m\u001b[0;34m:\u001b[0m\u001b[0;34m\u001b[0m\u001b[0;34m\u001b[0m\u001b[0m\n\u001b[1;32m     28\u001b[0m         \u001b[0;32mfor\u001b[0m \u001b[0mcity\u001b[0m \u001b[0;32min\u001b[0m \u001b[0mself\u001b[0m\u001b[0;34m.\u001b[0m\u001b[0mcities_dict\u001b[0m\u001b[0;34m.\u001b[0m\u001b[0mkeys\u001b[0m\u001b[0;34m(\u001b[0m\u001b[0;34m)\u001b[0m\u001b[0;34m:\u001b[0m\u001b[0;34m\u001b[0m\u001b[0;34m\u001b[0m\u001b[0m\n\u001b[0;32m---> 29\u001b[0;31m             \u001b[0mprint\u001b[0m\u001b[0;34m(\u001b[0m\u001b[0;34m'Total number of nodes in'\u001b[0m\u001b[0;34m,\u001b[0m \u001b[0mcity\u001b[0m\u001b[0;34m+\u001b[0m\u001b[0;34m':'\u001b[0m\u001b[0;34m,\u001b[0m \u001b[0mlen\u001b[0m\u001b[0;34m(\u001b[0m\u001b[0mself\u001b[0m\u001b[0;34m.\u001b[0m\u001b[0mcities_dict\u001b[0m\u001b[0;34m[\u001b[0m\u001b[0mcity\u001b[0m\u001b[0;34m]\u001b[0m\u001b[0;34m[\u001b[0m\u001b[0;34m'csv'\u001b[0m\u001b[0;34m]\u001b[0m\u001b[0;34m[\u001b[0m\u001b[0;34m'init_node'\u001b[0m\u001b[0;34m]\u001b[0m\u001b[0;34m.\u001b[0m\u001b[0munique\u001b[0m\u001b[0;34m(\u001b[0m\u001b[0;34m)\u001b[0m\u001b[0;34m)\u001b[0m\u001b[0;34m)\u001b[0m\u001b[0;34m\u001b[0m\u001b[0;34m\u001b[0m\u001b[0m\n\u001b[0m\u001b[1;32m     30\u001b[0m             \u001b[0mprint\u001b[0m\u001b[0;34m(\u001b[0m\u001b[0;34m'Total number of edges in'\u001b[0m\u001b[0;34m,\u001b[0m \u001b[0mcity\u001b[0m\u001b[0;34m+\u001b[0m\u001b[0;34m':'\u001b[0m\u001b[0;34m,\u001b[0m \u001b[0mself\u001b[0m\u001b[0;34m.\u001b[0m\u001b[0mcities_dict\u001b[0m\u001b[0;34m[\u001b[0m\u001b[0mcity\u001b[0m\u001b[0;34m]\u001b[0m\u001b[0;34m[\u001b[0m\u001b[0;34m'csv'\u001b[0m\u001b[0;34m]\u001b[0m\u001b[0;34m.\u001b[0m\u001b[0mshape\u001b[0m\u001b[0;34m[\u001b[0m\u001b[0;36m0\u001b[0m\u001b[0;34m]\u001b[0m\u001b[0;34m)\u001b[0m\u001b[0;34m\u001b[0m\u001b[0;34m\u001b[0m\u001b[0m\n\u001b[1;32m     31\u001b[0m \u001b[0;34m\u001b[0m\u001b[0m\n",
      "\u001b[0;31mKeyError\u001b[0m: 'csv'"
     ]
    }
   ],
   "source": [
    "trial_run.summary_stats_all()"
   ]
  },
  {
   "cell_type": "markdown",
   "id": "2dd5628a",
   "metadata": {},
   "source": [
    "#load node file\n",
    "        brum_nodes = pd.read_csv(node_file_path, sep = ' ')\n",
    "for_drop = []\n",
    "for i in list(range(1,14)):\n",
    "    name = 'Unnamed: ' + str(i)\n",
    "    for_drop.append(name)\n",
    "for_drop.remove('Unnamed: 7')\n",
    "brum_nodes = brum_nodes.drop(for_drop, axis = 1)\n",
    "\n",
    "#load trips file\n",
    "#load node file - note this is a bit fiddly, could be a better way to import but chose something quick and dirty\n",
    "brum_nodes = pd.read_csv(node_file_path, sep = ' ')\n",
    "for_drop = []\n",
    "for i in list(range(1,14)):\n",
    "    name = 'Unnamed: ' + str(i)\n",
    "    for_drop.append(name)\n",
    "for_drop.remove('Unnamed: 7')\n",
    "brum_nodes = brum_nodes.drop(for_drop, axis = 1)"
   ]
  },
  {
   "cell_type": "markdown",
   "id": "a313e0cd",
   "metadata": {},
   "source": [
    "# Plot graph"
   ]
  },
  {
   "cell_type": "code",
   "execution_count": 15,
   "id": "a029acdf",
   "metadata": {},
   "outputs": [
    {
     "ename": "KeyError",
     "evalue": "\"['~'] not found in axis\"",
     "output_type": "error",
     "traceback": [
      "\u001b[0;31m---------------------------------------------------------------------------\u001b[0m",
      "\u001b[0;31mKeyError\u001b[0m                                  Traceback (most recent call last)",
      "\u001b[0;32m/var/folders/2g/qx04w6j525l446ptr2wd9w8w0000gn/T/ipykernel_50068/2128821364.py\u001b[0m in \u001b[0;36m<module>\u001b[0;34m\u001b[0m\n\u001b[0;32m----> 1\u001b[0;31m \u001b[0mtrial_run\u001b[0m\u001b[0;34m.\u001b[0m\u001b[0mcreate_csvs\u001b[0m\u001b[0;34m(\u001b[0m\u001b[0;34m)\u001b[0m\u001b[0;34m\u001b[0m\u001b[0;34m\u001b[0m\u001b[0m\n\u001b[0m\u001b[1;32m      2\u001b[0m \u001b[0mtrial_run\u001b[0m\u001b[0;34m.\u001b[0m\u001b[0mplot\u001b[0m\u001b[0;34m(\u001b[0m\u001b[0;34m'SiouxFalls'\u001b[0m\u001b[0;34m)\u001b[0m\u001b[0;34m\u001b[0m\u001b[0;34m\u001b[0m\u001b[0m\n",
      "\u001b[0;32m/var/folders/2g/qx04w6j525l446ptr2wd9w8w0000gn/T/ipykernel_50068/3698265814.py\u001b[0m in \u001b[0;36mcreate_csvs\u001b[0;34m(self)\u001b[0m\n\u001b[1;32m     15\u001b[0m                 \u001b[0mcsv\u001b[0m\u001b[0;34m.\u001b[0m\u001b[0mcolumns\u001b[0m \u001b[0;34m=\u001b[0m \u001b[0mtrimmed\u001b[0m\u001b[0;34m\u001b[0m\u001b[0;34m\u001b[0m\u001b[0m\n\u001b[1;32m     16\u001b[0m                 \u001b[0;31m# And drop the silly first andlast columns\u001b[0m\u001b[0;34m\u001b[0m\u001b[0;34m\u001b[0m\u001b[0;34m\u001b[0m\u001b[0m\n\u001b[0;32m---> 17\u001b[0;31m                 \u001b[0mcsv\u001b[0m\u001b[0;34m.\u001b[0m\u001b[0mdrop\u001b[0m\u001b[0;34m(\u001b[0m\u001b[0;34m[\u001b[0m\u001b[0;34m'~'\u001b[0m\u001b[0;34m,\u001b[0m \u001b[0;34m';'\u001b[0m\u001b[0;34m]\u001b[0m\u001b[0;34m,\u001b[0m \u001b[0maxis\u001b[0m\u001b[0;34m=\u001b[0m\u001b[0;36m1\u001b[0m\u001b[0;34m,\u001b[0m \u001b[0minplace\u001b[0m\u001b[0;34m=\u001b[0m\u001b[0;32mTrue\u001b[0m\u001b[0;34m)\u001b[0m\u001b[0;34m\u001b[0m\u001b[0;34m\u001b[0m\u001b[0m\n\u001b[0m\u001b[1;32m     18\u001b[0m                 \u001b[0mcities_dict\u001b[0m\u001b[0;34m[\u001b[0m\u001b[0mcity\u001b[0m\u001b[0;34m]\u001b[0m\u001b[0;34m[\u001b[0m\u001b[0;34m'csv'\u001b[0m\u001b[0;34m]\u001b[0m \u001b[0;34m=\u001b[0m \u001b[0mcsv\u001b[0m\u001b[0;34m\u001b[0m\u001b[0;34m\u001b[0m\u001b[0m\n\u001b[1;32m     19\u001b[0m         \u001b[0mself\u001b[0m\u001b[0;34m.\u001b[0m\u001b[0mcities_dict\u001b[0m \u001b[0;34m=\u001b[0m \u001b[0mcities_dict\u001b[0m\u001b[0;34m\u001b[0m\u001b[0;34m\u001b[0m\u001b[0m\n",
      "\u001b[0;32m~/opt/miniconda3/lib/python3.9/site-packages/pandas/util/_decorators.py\u001b[0m in \u001b[0;36mwrapper\u001b[0;34m(*args, **kwargs)\u001b[0m\n\u001b[1;32m    309\u001b[0m                     \u001b[0mstacklevel\u001b[0m\u001b[0;34m=\u001b[0m\u001b[0mstacklevel\u001b[0m\u001b[0;34m,\u001b[0m\u001b[0;34m\u001b[0m\u001b[0;34m\u001b[0m\u001b[0m\n\u001b[1;32m    310\u001b[0m                 )\n\u001b[0;32m--> 311\u001b[0;31m             \u001b[0;32mreturn\u001b[0m \u001b[0mfunc\u001b[0m\u001b[0;34m(\u001b[0m\u001b[0;34m*\u001b[0m\u001b[0margs\u001b[0m\u001b[0;34m,\u001b[0m \u001b[0;34m**\u001b[0m\u001b[0mkwargs\u001b[0m\u001b[0;34m)\u001b[0m\u001b[0;34m\u001b[0m\u001b[0;34m\u001b[0m\u001b[0m\n\u001b[0m\u001b[1;32m    312\u001b[0m \u001b[0;34m\u001b[0m\u001b[0m\n\u001b[1;32m    313\u001b[0m         \u001b[0;32mreturn\u001b[0m \u001b[0mwrapper\u001b[0m\u001b[0;34m\u001b[0m\u001b[0;34m\u001b[0m\u001b[0m\n",
      "\u001b[0;32m~/opt/miniconda3/lib/python3.9/site-packages/pandas/core/frame.py\u001b[0m in \u001b[0;36mdrop\u001b[0;34m(self, labels, axis, index, columns, level, inplace, errors)\u001b[0m\n\u001b[1;32m   4904\u001b[0m                 \u001b[0mweight\u001b[0m  \u001b[0;36m1.0\u001b[0m     \u001b[0;36m0.8\u001b[0m\u001b[0;34m\u001b[0m\u001b[0;34m\u001b[0m\u001b[0m\n\u001b[1;32m   4905\u001b[0m         \"\"\"\n\u001b[0;32m-> 4906\u001b[0;31m         return super().drop(\n\u001b[0m\u001b[1;32m   4907\u001b[0m             \u001b[0mlabels\u001b[0m\u001b[0;34m=\u001b[0m\u001b[0mlabels\u001b[0m\u001b[0;34m,\u001b[0m\u001b[0;34m\u001b[0m\u001b[0;34m\u001b[0m\u001b[0m\n\u001b[1;32m   4908\u001b[0m             \u001b[0maxis\u001b[0m\u001b[0;34m=\u001b[0m\u001b[0maxis\u001b[0m\u001b[0;34m,\u001b[0m\u001b[0;34m\u001b[0m\u001b[0;34m\u001b[0m\u001b[0m\n",
      "\u001b[0;32m~/opt/miniconda3/lib/python3.9/site-packages/pandas/core/generic.py\u001b[0m in \u001b[0;36mdrop\u001b[0;34m(self, labels, axis, index, columns, level, inplace, errors)\u001b[0m\n\u001b[1;32m   4148\u001b[0m         \u001b[0;32mfor\u001b[0m \u001b[0maxis\u001b[0m\u001b[0;34m,\u001b[0m \u001b[0mlabels\u001b[0m \u001b[0;32min\u001b[0m \u001b[0maxes\u001b[0m\u001b[0;34m.\u001b[0m\u001b[0mitems\u001b[0m\u001b[0;34m(\u001b[0m\u001b[0;34m)\u001b[0m\u001b[0;34m:\u001b[0m\u001b[0;34m\u001b[0m\u001b[0;34m\u001b[0m\u001b[0m\n\u001b[1;32m   4149\u001b[0m             \u001b[0;32mif\u001b[0m \u001b[0mlabels\u001b[0m \u001b[0;32mis\u001b[0m \u001b[0;32mnot\u001b[0m \u001b[0;32mNone\u001b[0m\u001b[0;34m:\u001b[0m\u001b[0;34m\u001b[0m\u001b[0;34m\u001b[0m\u001b[0m\n\u001b[0;32m-> 4150\u001b[0;31m                 \u001b[0mobj\u001b[0m \u001b[0;34m=\u001b[0m \u001b[0mobj\u001b[0m\u001b[0;34m.\u001b[0m\u001b[0m_drop_axis\u001b[0m\u001b[0;34m(\u001b[0m\u001b[0mlabels\u001b[0m\u001b[0;34m,\u001b[0m \u001b[0maxis\u001b[0m\u001b[0;34m,\u001b[0m \u001b[0mlevel\u001b[0m\u001b[0;34m=\u001b[0m\u001b[0mlevel\u001b[0m\u001b[0;34m,\u001b[0m \u001b[0merrors\u001b[0m\u001b[0;34m=\u001b[0m\u001b[0merrors\u001b[0m\u001b[0;34m)\u001b[0m\u001b[0;34m\u001b[0m\u001b[0;34m\u001b[0m\u001b[0m\n\u001b[0m\u001b[1;32m   4151\u001b[0m \u001b[0;34m\u001b[0m\u001b[0m\n\u001b[1;32m   4152\u001b[0m         \u001b[0;32mif\u001b[0m \u001b[0minplace\u001b[0m\u001b[0;34m:\u001b[0m\u001b[0;34m\u001b[0m\u001b[0;34m\u001b[0m\u001b[0m\n",
      "\u001b[0;32m~/opt/miniconda3/lib/python3.9/site-packages/pandas/core/generic.py\u001b[0m in \u001b[0;36m_drop_axis\u001b[0;34m(self, labels, axis, level, errors)\u001b[0m\n\u001b[1;32m   4183\u001b[0m                 \u001b[0mnew_axis\u001b[0m \u001b[0;34m=\u001b[0m \u001b[0maxis\u001b[0m\u001b[0;34m.\u001b[0m\u001b[0mdrop\u001b[0m\u001b[0;34m(\u001b[0m\u001b[0mlabels\u001b[0m\u001b[0;34m,\u001b[0m \u001b[0mlevel\u001b[0m\u001b[0;34m=\u001b[0m\u001b[0mlevel\u001b[0m\u001b[0;34m,\u001b[0m \u001b[0merrors\u001b[0m\u001b[0;34m=\u001b[0m\u001b[0merrors\u001b[0m\u001b[0;34m)\u001b[0m\u001b[0;34m\u001b[0m\u001b[0;34m\u001b[0m\u001b[0m\n\u001b[1;32m   4184\u001b[0m             \u001b[0;32melse\u001b[0m\u001b[0;34m:\u001b[0m\u001b[0;34m\u001b[0m\u001b[0;34m\u001b[0m\u001b[0m\n\u001b[0;32m-> 4185\u001b[0;31m                 \u001b[0mnew_axis\u001b[0m \u001b[0;34m=\u001b[0m \u001b[0maxis\u001b[0m\u001b[0;34m.\u001b[0m\u001b[0mdrop\u001b[0m\u001b[0;34m(\u001b[0m\u001b[0mlabels\u001b[0m\u001b[0;34m,\u001b[0m \u001b[0merrors\u001b[0m\u001b[0;34m=\u001b[0m\u001b[0merrors\u001b[0m\u001b[0;34m)\u001b[0m\u001b[0;34m\u001b[0m\u001b[0;34m\u001b[0m\u001b[0m\n\u001b[0m\u001b[1;32m   4186\u001b[0m             \u001b[0mresult\u001b[0m \u001b[0;34m=\u001b[0m \u001b[0mself\u001b[0m\u001b[0;34m.\u001b[0m\u001b[0mreindex\u001b[0m\u001b[0;34m(\u001b[0m\u001b[0;34m**\u001b[0m\u001b[0;34m{\u001b[0m\u001b[0maxis_name\u001b[0m\u001b[0;34m:\u001b[0m \u001b[0mnew_axis\u001b[0m\u001b[0;34m}\u001b[0m\u001b[0;34m)\u001b[0m\u001b[0;34m\u001b[0m\u001b[0;34m\u001b[0m\u001b[0m\n\u001b[1;32m   4187\u001b[0m \u001b[0;34m\u001b[0m\u001b[0m\n",
      "\u001b[0;32m~/opt/miniconda3/lib/python3.9/site-packages/pandas/core/indexes/base.py\u001b[0m in \u001b[0;36mdrop\u001b[0;34m(self, labels, errors)\u001b[0m\n\u001b[1;32m   6015\u001b[0m         \u001b[0;32mif\u001b[0m \u001b[0mmask\u001b[0m\u001b[0;34m.\u001b[0m\u001b[0many\u001b[0m\u001b[0;34m(\u001b[0m\u001b[0;34m)\u001b[0m\u001b[0;34m:\u001b[0m\u001b[0;34m\u001b[0m\u001b[0;34m\u001b[0m\u001b[0m\n\u001b[1;32m   6016\u001b[0m             \u001b[0;32mif\u001b[0m \u001b[0merrors\u001b[0m \u001b[0;34m!=\u001b[0m \u001b[0;34m\"ignore\"\u001b[0m\u001b[0;34m:\u001b[0m\u001b[0;34m\u001b[0m\u001b[0;34m\u001b[0m\u001b[0m\n\u001b[0;32m-> 6017\u001b[0;31m                 \u001b[0;32mraise\u001b[0m \u001b[0mKeyError\u001b[0m\u001b[0;34m(\u001b[0m\u001b[0;34mf\"{labels[mask]} not found in axis\"\u001b[0m\u001b[0;34m)\u001b[0m\u001b[0;34m\u001b[0m\u001b[0;34m\u001b[0m\u001b[0m\n\u001b[0m\u001b[1;32m   6018\u001b[0m             \u001b[0mindexer\u001b[0m \u001b[0;34m=\u001b[0m \u001b[0mindexer\u001b[0m\u001b[0;34m[\u001b[0m\u001b[0;34m~\u001b[0m\u001b[0mmask\u001b[0m\u001b[0;34m]\u001b[0m\u001b[0;34m\u001b[0m\u001b[0;34m\u001b[0m\u001b[0m\n\u001b[1;32m   6019\u001b[0m         \u001b[0;32mreturn\u001b[0m \u001b[0mself\u001b[0m\u001b[0;34m.\u001b[0m\u001b[0mdelete\u001b[0m\u001b[0;34m(\u001b[0m\u001b[0mindexer\u001b[0m\u001b[0;34m)\u001b[0m\u001b[0;34m\u001b[0m\u001b[0;34m\u001b[0m\u001b[0m\n",
      "\u001b[0;31mKeyError\u001b[0m: \"['~'] not found in axis\""
     ]
    }
   ],
   "source": [
    "trial_run.create_csvs()\n",
    "trial_run.plot('SiouxFalls')"
   ]
  },
  {
   "cell_type": "markdown",
   "id": "afadb511",
   "metadata": {},
   "source": [
    "# Observe example network data"
   ]
  },
  {
   "cell_type": "code",
   "execution_count": 16,
   "id": "e99ee18b",
   "metadata": {
    "scrolled": true
   },
   "outputs": [
    {
     "ename": "NameError",
     "evalue": "name 'network' is not defined",
     "output_type": "error",
     "traceback": [
      "\u001b[0;31m---------------------------------------------------------------------------\u001b[0m",
      "\u001b[0;31mNameError\u001b[0m                                 Traceback (most recent call last)",
      "\u001b[0;32m/var/folders/2g/qx04w6j525l446ptr2wd9w8w0000gn/T/ipykernel_50068/1857515521.py\u001b[0m in \u001b[0;36m<module>\u001b[0;34m\u001b[0m\n\u001b[0;32m----> 1\u001b[0;31m \u001b[0mnetwork\u001b[0m\u001b[0;34m(\u001b[0m\u001b[0mcities_dict\u001b[0m\u001b[0;34m,\u001b[0m \u001b[0mcity\u001b[0m\u001b[0;34m)\u001b[0m\u001b[0;34m\u001b[0m\u001b[0;34m\u001b[0m\u001b[0m\n\u001b[0m",
      "\u001b[0;31mNameError\u001b[0m: name 'network' is not defined"
     ]
    }
   ],
   "source": [
    "network(cities_dict, city)"
   ]
  },
  {
   "cell_type": "markdown",
   "id": "d726132b",
   "metadata": {},
   "source": [
    "# Compute equilibrium flow using Frank-Wolfe algorithm"
   ]
  },
  {
   "cell_type": "code",
   "execution_count": 17,
   "id": "c3a04825",
   "metadata": {},
   "outputs": [
    {
     "ename": "TypeError",
     "evalue": "__init__() missing 3 required positional arguments: 'Node', 'Link', and 'Network'",
     "output_type": "error",
     "traceback": [
      "\u001b[0;31m---------------------------------------------------------------------------\u001b[0m",
      "\u001b[0;31mTypeError\u001b[0m                                 Traceback (most recent call last)",
      "\u001b[0;32m/var/folders/2g/qx04w6j525l446ptr2wd9w8w0000gn/T/ipykernel_50068/233567291.py\u001b[0m in \u001b[0;36m<module>\u001b[0;34m\u001b[0m\n\u001b[1;32m      1\u001b[0m \u001b[0;32mfor\u001b[0m \u001b[0mcity\u001b[0m \u001b[0;32min\u001b[0m \u001b[0mcities_dict\u001b[0m\u001b[0;34m.\u001b[0m\u001b[0mkeys\u001b[0m\u001b[0;34m(\u001b[0m\u001b[0;34m)\u001b[0m\u001b[0;34m:\u001b[0m\u001b[0;34m\u001b[0m\u001b[0;34m\u001b[0m\u001b[0m\n\u001b[0;32m----> 2\u001b[0;31m     \u001b[0mtrial_run\u001b[0m\u001b[0;34m.\u001b[0m\u001b[0mcompute_all_link_flow\u001b[0m\u001b[0;34m(\u001b[0m\u001b[0mcity\u001b[0m\u001b[0;34m)\u001b[0m\u001b[0;34m\u001b[0m\u001b[0;34m\u001b[0m\u001b[0m\n\u001b[0m",
      "\u001b[0;32m/var/folders/2g/qx04w6j525l446ptr2wd9w8w0000gn/T/ipykernel_50068/3698265814.py\u001b[0m in \u001b[0;36mcompute_all_link_flow\u001b[0;34m(self, city)\u001b[0m\n\u001b[1;32m     54\u001b[0m         \u001b[0mnode_file\u001b[0m \u001b[0;34m=\u001b[0m \u001b[0mself\u001b[0m\u001b[0;34m.\u001b[0m\u001b[0mcities_dict\u001b[0m\u001b[0;34m[\u001b[0m\u001b[0mcity\u001b[0m\u001b[0;34m]\u001b[0m\u001b[0;34m[\u001b[0m\u001b[0;34m'file_paths'\u001b[0m\u001b[0;34m]\u001b[0m\u001b[0;34m[\u001b[0m\u001b[0;34m'node_file_path'\u001b[0m\u001b[0;34m]\u001b[0m\u001b[0;34m\u001b[0m\u001b[0;34m\u001b[0m\u001b[0m\n\u001b[1;32m     55\u001b[0m         \u001b[0mSO\u001b[0m \u001b[0;34m=\u001b[0m \u001b[0;32mFalse\u001b[0m\u001b[0;34m\u001b[0m\u001b[0;34m\u001b[0m\u001b[0m\n\u001b[0;32m---> 56\u001b[0;31m         \u001b[0mfw\u001b[0m \u001b[0;34m=\u001b[0m \u001b[0mFrank_Wolfe\u001b[0m\u001b[0;34m.\u001b[0m\u001b[0mRun\u001b[0m\u001b[0;34m(\u001b[0m\u001b[0mlink_file\u001b[0m\u001b[0;34m,\u001b[0m \u001b[0mtrip_file\u001b[0m\u001b[0;34m,\u001b[0m \u001b[0mnode_file\u001b[0m\u001b[0;34m,\u001b[0m \u001b[0mSO\u001b[0m\u001b[0;34m)\u001b[0m\u001b[0;34m\u001b[0m\u001b[0;34m\u001b[0m\u001b[0m\n\u001b[0m\u001b[1;32m     57\u001b[0m         \u001b[0;31m#saves file to dict\u001b[0m\u001b[0;34m\u001b[0m\u001b[0;34m\u001b[0m\u001b[0;34m\u001b[0m\u001b[0m\n\u001b[1;32m     58\u001b[0m         \u001b[0mself\u001b[0m\u001b[0;34m.\u001b[0m\u001b[0mcities_dict\u001b[0m\u001b[0;34m[\u001b[0m\u001b[0mcity\u001b[0m\u001b[0;34m]\u001b[0m\u001b[0;34m[\u001b[0m\u001b[0;34m'all_links'\u001b[0m\u001b[0;34m]\u001b[0m \u001b[0;34m=\u001b[0m \u001b[0;34m{\u001b[0m\u001b[0;34m'all_links'\u001b[0m\u001b[0;34m:\u001b[0m \u001b[0mfw\u001b[0m\u001b[0;34m}\u001b[0m\u001b[0;34m\u001b[0m\u001b[0;34m\u001b[0m\u001b[0m\n",
      "\u001b[0;31mTypeError\u001b[0m: __init__() missing 3 required positional arguments: 'Node', 'Link', and 'Network'"
     ]
    }
   ],
   "source": [
    "for city in cities_dict.keys():\n",
    "    trial_run.compute_all_link_flow(city)"
   ]
  },
  {
   "cell_type": "code",
   "execution_count": 18,
   "id": "6685a76d",
   "metadata": {},
   "outputs": [
    {
     "ename": "KeyError",
     "evalue": "'all_links'",
     "output_type": "error",
     "traceback": [
      "\u001b[0;31m---------------------------------------------------------------------------\u001b[0m",
      "\u001b[0;31mKeyError\u001b[0m                                  Traceback (most recent call last)",
      "\u001b[0;32m/var/folders/2g/qx04w6j525l446ptr2wd9w8w0000gn/T/ipykernel_50068/2521061880.py\u001b[0m in \u001b[0;36m<module>\u001b[0;34m\u001b[0m\n\u001b[0;32m----> 1\u001b[0;31m \u001b[0mtrial_run\u001b[0m\u001b[0;34m.\u001b[0m\u001b[0mcities_dict\u001b[0m\u001b[0;34m[\u001b[0m\u001b[0;34m'SiouxFalls'\u001b[0m\u001b[0;34m]\u001b[0m\u001b[0;34m[\u001b[0m\u001b[0;34m'all_links'\u001b[0m\u001b[0;34m]\u001b[0m\u001b[0;34m[\u001b[0m\u001b[0;34m'all_links'\u001b[0m\u001b[0;34m]\u001b[0m\u001b[0;34m.\u001b[0m\u001b[0mshowODFlow\u001b[0m\u001b[0;34m(\u001b[0m\u001b[0;34m)\u001b[0m\u001b[0;34m\u001b[0m\u001b[0;34m\u001b[0m\u001b[0m\n\u001b[0m\u001b[1;32m      2\u001b[0m \u001b[0mtrial_run\u001b[0m\u001b[0;34m.\u001b[0m\u001b[0mcities_dict\u001b[0m\u001b[0;34m[\u001b[0m\u001b[0;34m'SiouxFalls'\u001b[0m\u001b[0;34m]\u001b[0m\u001b[0;34m[\u001b[0m\u001b[0;34m'all_links'\u001b[0m\u001b[0;34m]\u001b[0m\u001b[0;34m[\u001b[0m\u001b[0;34m'all_links'\u001b[0m\u001b[0;34m]\u001b[0m\u001b[0;34m.\u001b[0m\u001b[0mshowODFlowMap\u001b[0m\u001b[0;34m(\u001b[0m\u001b[0;34m)\u001b[0m\u001b[0;34m\u001b[0m\u001b[0;34m\u001b[0m\u001b[0m\n",
      "\u001b[0;31mKeyError\u001b[0m: 'all_links'"
     ]
    }
   ],
   "source": [
    "trial_run.cities_dict['SiouxFalls']['all_links']['all_links'].showODFlow()\n",
    "trial_run.cities_dict['SiouxFalls']['all_links']['all_links'].showODFlowMap()"
   ]
  },
  {
   "cell_type": "code",
   "execution_count": 19,
   "id": "6fa8f69c",
   "metadata": {},
   "outputs": [
    {
     "ename": "KeyError",
     "evalue": "'csv'",
     "output_type": "error",
     "traceback": [
      "\u001b[0;31m---------------------------------------------------------------------------\u001b[0m",
      "\u001b[0;31mKeyError\u001b[0m                                  Traceback (most recent call last)",
      "\u001b[0;32m/var/folders/2g/qx04w6j525l446ptr2wd9w8w0000gn/T/ipykernel_50068/3873970229.py\u001b[0m in \u001b[0;36m<module>\u001b[0;34m\u001b[0m\n\u001b[0;32m----> 1\u001b[0;31m \u001b[0mtrial_run\u001b[0m\u001b[0;34m.\u001b[0m\u001b[0mcities_dict\u001b[0m\u001b[0;34m[\u001b[0m\u001b[0;34m'SiouxFalls'\u001b[0m\u001b[0;34m]\u001b[0m\u001b[0;34m[\u001b[0m\u001b[0;34m'csv'\u001b[0m\u001b[0;34m]\u001b[0m\u001b[0;34m\u001b[0m\u001b[0;34m\u001b[0m\u001b[0m\n\u001b[0m",
      "\u001b[0;31mKeyError\u001b[0m: 'csv'"
     ]
    }
   ],
   "source": [
    "trial_run.cities_dict['SiouxFalls']['csv']"
   ]
  },
  {
   "cell_type": "code",
   "execution_count": 20,
   "id": "4c97a6c7",
   "metadata": {},
   "outputs": [
    {
     "ename": "KeyError",
     "evalue": "'all_links'",
     "output_type": "error",
     "traceback": [
      "\u001b[0;31m---------------------------------------------------------------------------\u001b[0m",
      "\u001b[0;31mKeyError\u001b[0m                                  Traceback (most recent call last)",
      "\u001b[0;32m/var/folders/2g/qx04w6j525l446ptr2wd9w8w0000gn/T/ipykernel_50068/1649984419.py\u001b[0m in \u001b[0;36m<module>\u001b[0;34m\u001b[0m\n\u001b[0;32m----> 1\u001b[0;31m \u001b[0mtrial_run\u001b[0m\u001b[0;34m.\u001b[0m\u001b[0mcities_dict\u001b[0m\u001b[0;34m[\u001b[0m\u001b[0;34m'SiouxFalls'\u001b[0m\u001b[0;34m]\u001b[0m\u001b[0;34m[\u001b[0m\u001b[0;34m'all_links'\u001b[0m\u001b[0;34m]\u001b[0m\u001b[0;34m[\u001b[0m\u001b[0;34m'all_links'\u001b[0m\u001b[0;34m]\u001b[0m\u001b[0;34m.\u001b[0m\u001b[0mgraph\u001b[0m\u001b[0;34m.\u001b[0m\u001b[0medges\u001b[0m\u001b[0;34m\u001b[0m\u001b[0;34m\u001b[0m\u001b[0m\n\u001b[0m",
      "\u001b[0;31mKeyError\u001b[0m: 'all_links'"
     ]
    }
   ],
   "source": [
    "trial_run.cities_dict['SiouxFalls']['all_links']['all_links'].graph.edges"
   ]
  },
  {
   "cell_type": "markdown",
   "id": "af7b2eed",
   "metadata": {},
   "source": [
    "# Systematically close each link and compute equilibrium flow"
   ]
  },
  {
   "cell_type": "code",
   "execution_count": 21,
   "id": "08f52919",
   "metadata": {},
   "outputs": [
    {
     "ename": "NameError",
     "evalue": "name 'train_run' is not defined",
     "output_type": "error",
     "traceback": [
      "\u001b[0;31m---------------------------------------------------------------------------\u001b[0m",
      "\u001b[0;31mNameError\u001b[0m                                 Traceback (most recent call last)",
      "\u001b[0;32m/var/folders/2g/qx04w6j525l446ptr2wd9w8w0000gn/T/ipykernel_50068/4125083588.py\u001b[0m in \u001b[0;36m<module>\u001b[0;34m\u001b[0m\n\u001b[1;32m      1\u001b[0m \u001b[0;32mfor\u001b[0m \u001b[0mcity\u001b[0m \u001b[0;32min\u001b[0m \u001b[0mcities_dict\u001b[0m\u001b[0;34m.\u001b[0m\u001b[0mkeys\u001b[0m\u001b[0;34m(\u001b[0m\u001b[0;34m)\u001b[0m\u001b[0;34m:\u001b[0m\u001b[0;34m\u001b[0m\u001b[0;34m\u001b[0m\u001b[0m\n\u001b[0;32m----> 2\u001b[0;31m     \u001b[0mtrain_run\u001b[0m\u001b[0;34m.\u001b[0m\u001b[0mcompute_missing_link_flow\u001b[0m\u001b[0;34m(\u001b[0m\u001b[0mcity\u001b[0m\u001b[0;34m)\u001b[0m\u001b[0;34m\u001b[0m\u001b[0;34m\u001b[0m\u001b[0m\n\u001b[0m",
      "\u001b[0;31mNameError\u001b[0m: name 'train_run' is not defined"
     ]
    }
   ],
   "source": [
    "for city in cities_dict.keys():\n",
    "    train_run.compute_missing_link_flow(city)"
   ]
  },
  {
   "cell_type": "code",
   "execution_count": 22,
   "id": "1ba24c91",
   "metadata": {},
   "outputs": [
    {
     "ename": "KeyError",
     "evalue": "'csv'",
     "output_type": "error",
     "traceback": [
      "\u001b[0;31m---------------------------------------------------------------------------\u001b[0m",
      "\u001b[0;31mKeyError\u001b[0m                                  Traceback (most recent call last)",
      "\u001b[0;32m/var/folders/2g/qx04w6j525l446ptr2wd9w8w0000gn/T/ipykernel_50068/3873970229.py\u001b[0m in \u001b[0;36m<module>\u001b[0;34m\u001b[0m\n\u001b[0;32m----> 1\u001b[0;31m \u001b[0mtrial_run\u001b[0m\u001b[0;34m.\u001b[0m\u001b[0mcities_dict\u001b[0m\u001b[0;34m[\u001b[0m\u001b[0;34m'SiouxFalls'\u001b[0m\u001b[0;34m]\u001b[0m\u001b[0;34m[\u001b[0m\u001b[0;34m'csv'\u001b[0m\u001b[0;34m]\u001b[0m\u001b[0;34m\u001b[0m\u001b[0;34m\u001b[0m\u001b[0m\n\u001b[0m",
      "\u001b[0;31mKeyError\u001b[0m: 'csv'"
     ]
    }
   ],
   "source": [
    "trial_run.cities_dict['SiouxFalls']['csv']"
   ]
  },
  {
   "cell_type": "code",
   "execution_count": null,
   "id": "f3dc9efc",
   "metadata": {},
   "outputs": [],
   "source": []
  },
  {
   "cell_type": "code",
   "execution_count": null,
   "id": "eaea65db",
   "metadata": {},
   "outputs": [],
   "source": []
  }
 ],
 "metadata": {
  "kernelspec": {
   "display_name": "Python 3 (ipykernel)",
   "language": "python",
   "name": "python3"
  },
  "language_info": {
   "codemirror_mode": {
    "name": "ipython",
    "version": 3
   },
   "file_extension": ".py",
   "mimetype": "text/x-python",
   "name": "python",
   "nbconvert_exporter": "python",
   "pygments_lexer": "ipython3",
   "version": "3.9.5"
  }
 },
 "nbformat": 4,
 "nbformat_minor": 5
}
