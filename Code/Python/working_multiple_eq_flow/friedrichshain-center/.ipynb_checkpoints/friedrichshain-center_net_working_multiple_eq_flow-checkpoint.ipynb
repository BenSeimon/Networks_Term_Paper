{
 "cells": [
  {
   "cell_type": "markdown",
   "id": "43849984",
   "metadata": {},
   "source": [
    "To note:\n",
    "\n",
    "- No idea what b is \n",
    "- Below is a couple of definitions from the GitHub page which might come in handy\n",
    "\n",
    "Link travel time = free flow time * ( 1 + B * (flow/capacity)^Power ).\n",
    "Link generalized cost = Link travel time + toll_factor * toll + distance_factor * distance"
   ]
  },
  {
   "cell_type": "markdown",
   "id": "83a47462",
   "metadata": {},
   "source": [
    "# Setup: import packages"
   ]
  },
  {
   "cell_type": "code",
   "execution_count": 14,
   "id": "96c96558",
   "metadata": {},
   "outputs": [],
   "source": [
    "#install packages if required\n",
    "#%pip install networkx"
   ]
  },
  {
   "cell_type": "code",
   "execution_count": 15,
   "id": "5a481df0",
   "metadata": {},
   "outputs": [],
   "source": [
    "#import packages \n",
    "import os\n",
    "import pandas as pd\n",
    "import networkx as nx\n",
    "import matplotlib.pyplot as plt\n",
    "import graphviz\n",
    "import scipy.integrate as integrate \n",
    "from scipy.optimize import minimize_scalar\n",
    "from scipy.misc import derivative\n",
    "import numpy as np\n",
    "import os\n",
    "from random import *"
   ]
  },
  {
   "cell_type": "code",
   "execution_count": 16,
   "id": "e8255940",
   "metadata": {},
   "outputs": [],
   "source": [
    "network_analysis_path_ben = '/Users/benseimon/Documents/Barca GSE/Studies/Term 2/Networks/Term Paper/Networks_Term_Paper/Code/Python/working_multiple_eq_flow/pytrans_working_multiple_eq_flow'\n",
    "#network_analysis_path_niamh = r'C:\\Users\\35387\\OneDrive\\Documents\\Networks\\New folder\\Networks_Term_Paper\\pytrans_UrbanNetworkAnalysis\\pytrans\\UrbanNetworkAnalysis\\original_edited'\n",
    "os.chdir(network_analysis_path_ben)\n",
    "import Frank_Wolfe\n",
    "import TransportationNetworks as tn\n",
    "import visualize_graph"
   ]
  },
  {
   "cell_type": "code",
   "execution_count": 17,
   "id": "bdd4d771",
   "metadata": {},
   "outputs": [],
   "source": [
    "#create cities dictionary\n",
    "def make_dict(cities):\n",
    "    cities_dict = {}\n",
    "    for city in cities:\n",
    "        link_file_path = data_path + city + '/' + city + '_net.tntp.txt'\n",
    "        node_file_path = data_path + city + '/' + city +'_nodes.tntp.txt'\n",
    "        trip_file_path = data_path + city + '/' + city + '_trips.tntp.txt'\n",
    "        cities_dict[city] = {}\n",
    "        to_add = {'link_file_path': link_file_path, 'node_file_path': node_file_path, 'trip_file_path': trip_file_path}\n",
    "        cities_dict[city]['file_paths'] = to_add \n",
    "    return cities_dict"
   ]
  },
  {
   "cell_type": "code",
   "execution_count": 18,
   "id": "5dcd16dc",
   "metadata": {},
   "outputs": [],
   "source": [
    "#create class\n",
    "#for future iterations - redesign so it takes a city as the class\n",
    "class fw_custom_algorithm():\n",
    "    \n",
    "    def __init__(self, cities_dict):\n",
    "        self.cities_dict = cities_dict\n",
    "        self.link_fields = {\"from\": 1, \"to\": 2, \"capacity\": 3, \"length\": 4, \"t0\": 5, \"B\": 6, \"beta\": 7, \"V\": 8}\n",
    "    #create a csv for each city and corresponding file for investigation\n",
    " \n",
    "    #need to fix this to make \n",
    "    def create_links_csv(self):\n",
    "        for city in self.cities_dict.keys():\n",
    "            path_list = list(self.cities_dict[city]['file_paths'])\n",
    "            link_file = path_list[0]\n",
    "            csv = pd.read_csv(self.cities_dict[city]['file_paths'][link_file], skiprows=7, sep='\\t') #gets link file path\n",
    "            trimmed= [s.strip().lower() for s in csv.columns]\n",
    "            csv.columns = trimmed\n",
    "            # And drop the silly first andlast columns\n",
    "            csv.drop(['~', ';'], axis=1, inplace=True)\n",
    "            cities_dict[city]['csv'] = csv\n",
    "        self.cities_dict = cities_dict\n",
    "        \n",
    "    \n",
    "    def plot(self, city):\n",
    "        csv = self.cities_dict[city]['csv']\n",
    "        try:\n",
    "            network = nx.from_pandas_edgelist(csv, source = 'init node',target='term node', edge_attr = True)\n",
    "            graph = nx.complete_graph(network)\n",
    "            print('Graph for:', city)\n",
    "            nx.draw(graph)\n",
    "        except KeyError:\n",
    "            network = nx.from_pandas_edgelist(csv, source = 'init_node',target='term_node', edge_attr = True)\n",
    "            graph = nx.complete_graph(network)\n",
    "            print('Graph for:', city)\n",
    "            nx.draw(graph)\n",
    "        \n",
    "    def summary_stats_all(self):\n",
    "        for city in self.cities_dict.keys():\n",
    "            try:\n",
    "                print('Total number of nodes in', city+':', len(self.cities_dict[city]['csv']['init node'].unique()))\n",
    "                print('Total number of edges in', city+':', self.cities_dict[city]['csv'].shape[0])\n",
    "            except KeyError:\n",
    "                print('Total number of nodes in', city+':', len(self.cities_dict[city]['csv']['init_node'].unique()))\n",
    "                print('Total number of edges in', city+':', self.cities_dict[city]['csv'].shape[0])\n",
    "            \n",
    "    def make_network(self, citu, remove_link_number): #remove_link_number can be None or int\n",
    "        #instatiate class using required files \n",
    "        link_file = self.cities_dict[city]['file_paths']['link_file_path']\n",
    "        trip_file = self.cities_dict[city]['file_paths']['trip_file_path']\n",
    "        node_file = self.cities_dict[city]['file_paths']['node_file_path']\n",
    "        Network = tn.Network(remove_link_number, link_file, trip_file, node_file) \n",
    "        self.cities_dict[city][str(remove_link_number)] = {'network': Network}\n",
    "    \n",
    "    def make_network_shut_each_link(self, city): \n",
    "        #max_edges =  len(self.cities_dict[city]['csv'].shape[0].unique() #get max edges in network for a city\n",
    "        max_edges = 10 #for a trial \n",
    "        #iterate over edges\n",
    "        for edge in range(0, max_edges+1):\n",
    "            #instatiate class for network with one file removed using required files \n",
    "            link_file = self.cities_dict[city]['file_paths']['link_file_path']\n",
    "            trip_file = self.cities_dict[city]['file_paths']['trip_file_path']\n",
    "            node_file = self.cities_dict[city]['file_paths']['node_file_path']\n",
    "            Network = tn.Network(edge, link_file, trip_file, node_file) \n",
    "            self.cities_dict[city][str(edge)] = {'network': Network}\n",
    "            \n",
    "    def network_attributes(self, city, remove_link_number):\n",
    "        network = self.cities_dict[city][str(remove_link_number)]['network']\n",
    "        ##Network has three attributes\n",
    "        #1) graph object\n",
    "        graph = network.graph\n",
    "        #2) origin nodes\n",
    "        origin_nodes = network.origins\n",
    "        #3)dict: keys= origin_node, destination_node, value = traffic flow\n",
    "        flows = network.od_vols\n",
    "        print(network)\n",
    "        print(city, 'graph is:', graph)\n",
    "        print(city, 'origin nodes are:', origin_nodes)\n",
    "        print(city, 'flows are:', flows)\n",
    "    \n",
    "    def compute_link_flow(self, city, remove_link_number):\n",
    "        network = self.cities_dict[city][str(remove_link_number)]['network']\n",
    "        SO = False\n",
    "        fw = Frank_Wolfe.Run(network, SO)\n",
    "        #saves file to dict\n",
    "        self.cities_dict[city][str(remove_link_number)]['fw_run'] = fw\n",
    "        \n",
    "    def eq_flow_shut_each_link(self, city):\n",
    "        #max_edges = len(cities_dict[city]['0']['network'].graph.edges)#get max edges in network for a city\n",
    "        max_edges = 10 #for a trial \n",
    "        #iterate over edges\n",
    "        for edge in range(0, max_edges+1):\n",
    "            self.compute_link_flow(city, edge)\n",
    "    \n",
    "            \n",
    "\n",
    "            \n",
    "        \n",
    "\n"
   ]
  },
  {
   "cell_type": "markdown",
   "id": "b18680b9",
   "metadata": {},
   "source": [
    "# Set file paths"
   ]
  },
  {
   "cell_type": "code",
   "execution_count": 19,
   "id": "64ed0df1",
   "metadata": {},
   "outputs": [],
   "source": [
    "data_path = '/Users/benseimon/Documents/Barca GSE/Studies/Term 2/Networks/Term Paper/Networks_Term_Paper/Data/'\n",
    "cities = ['friedrichshain-center']\n",
    "data_path = data_path \n",
    "os.chdir(data_path)"
   ]
  },
  {
   "cell_type": "markdown",
   "id": "d97dede8",
   "metadata": {},
   "source": [
    "# Make dict"
   ]
  },
  {
   "cell_type": "code",
   "execution_count": 20,
   "id": "cbc1a167",
   "metadata": {},
   "outputs": [
    {
     "data": {
      "text/plain": [
       "{'friedrichshain-center': {'file_paths': {'link_file_path': '/Users/benseimon/Documents/Barca GSE/Studies/Term 2/Networks/Term Paper/Networks_Term_Paper/Data/friedrichshain-center/friedrichshain-center_net.tntp.txt',\n",
       "   'node_file_path': '/Users/benseimon/Documents/Barca GSE/Studies/Term 2/Networks/Term Paper/Networks_Term_Paper/Data/friedrichshain-center/friedrichshain-center_nodes.tntp.txt',\n",
       "   'trip_file_path': '/Users/benseimon/Documents/Barca GSE/Studies/Term 2/Networks/Term Paper/Networks_Term_Paper/Data/friedrichshain-center/friedrichshain-center_trips.tntp.txt'}}}"
      ]
     },
     "execution_count": 20,
     "metadata": {},
     "output_type": "execute_result"
    }
   ],
   "source": [
    "cities_dict = make_dict(cities)\n",
    "cities_dict"
   ]
  },
  {
   "cell_type": "markdown",
   "id": "3ba84367",
   "metadata": {},
   "source": [
    "# instantiate class"
   ]
  },
  {
   "cell_type": "code",
   "execution_count": 21,
   "id": "2b44de20",
   "metadata": {},
   "outputs": [],
   "source": [
    "#instantiate class \n",
    "trial_run = fw_custom_algorithm(cities_dict)"
   ]
  },
  {
   "cell_type": "markdown",
   "id": "e924e3d2",
   "metadata": {},
   "source": [
    "# Observe one city"
   ]
  },
  {
   "cell_type": "code",
   "execution_count": 22,
   "id": "c369bee4",
   "metadata": {},
   "outputs": [],
   "source": [
    "#set city for investigation\n",
    "city = cities[0]"
   ]
  },
  {
   "cell_type": "code",
   "execution_count": 23,
   "id": "f689fbe9",
   "metadata": {},
   "outputs": [
    {
     "data": {
      "text/html": [
       "<div>\n",
       "<style scoped>\n",
       "    .dataframe tbody tr th:only-of-type {\n",
       "        vertical-align: middle;\n",
       "    }\n",
       "\n",
       "    .dataframe tbody tr th {\n",
       "        vertical-align: top;\n",
       "    }\n",
       "\n",
       "    .dataframe thead th {\n",
       "        text-align: right;\n",
       "    }\n",
       "</style>\n",
       "<table border=\"1\" class=\"dataframe\">\n",
       "  <thead>\n",
       "    <tr style=\"text-align: right;\">\n",
       "      <th></th>\n",
       "      <th>init_node</th>\n",
       "      <th>term_node</th>\n",
       "      <th>capacity</th>\n",
       "      <th>length</th>\n",
       "      <th>free_flow_time</th>\n",
       "      <th>b</th>\n",
       "      <th>power</th>\n",
       "      <th>speed</th>\n",
       "      <th>toll</th>\n",
       "      <th>link_type</th>\n",
       "    </tr>\n",
       "  </thead>\n",
       "  <tbody>\n",
       "    <tr>\n",
       "      <th>0</th>\n",
       "      <td>1</td>\n",
       "      <td>31</td>\n",
       "      <td>999999.0</td>\n",
       "      <td>0.0</td>\n",
       "      <td>0.000000</td>\n",
       "      <td>0.0</td>\n",
       "      <td>4.0</td>\n",
       "      <td>0.0</td>\n",
       "      <td>0.0</td>\n",
       "      <td>0</td>\n",
       "    </tr>\n",
       "    <tr>\n",
       "      <th>1</th>\n",
       "      <td>1</td>\n",
       "      <td>32</td>\n",
       "      <td>999999.0</td>\n",
       "      <td>0.0</td>\n",
       "      <td>0.000000</td>\n",
       "      <td>0.0</td>\n",
       "      <td>4.0</td>\n",
       "      <td>0.0</td>\n",
       "      <td>0.0</td>\n",
       "      <td>0</td>\n",
       "    </tr>\n",
       "    <tr>\n",
       "      <th>2</th>\n",
       "      <td>1</td>\n",
       "      <td>159</td>\n",
       "      <td>999999.0</td>\n",
       "      <td>0.0</td>\n",
       "      <td>0.000000</td>\n",
       "      <td>0.0</td>\n",
       "      <td>4.0</td>\n",
       "      <td>0.0</td>\n",
       "      <td>0.0</td>\n",
       "      <td>0</td>\n",
       "    </tr>\n",
       "    <tr>\n",
       "      <th>3</th>\n",
       "      <td>1</td>\n",
       "      <td>161</td>\n",
       "      <td>999999.0</td>\n",
       "      <td>0.0</td>\n",
       "      <td>0.000000</td>\n",
       "      <td>0.0</td>\n",
       "      <td>4.0</td>\n",
       "      <td>0.0</td>\n",
       "      <td>0.0</td>\n",
       "      <td>0</td>\n",
       "    </tr>\n",
       "    <tr>\n",
       "      <th>4</th>\n",
       "      <td>2</td>\n",
       "      <td>31</td>\n",
       "      <td>999999.0</td>\n",
       "      <td>0.0</td>\n",
       "      <td>0.000000</td>\n",
       "      <td>0.0</td>\n",
       "      <td>4.0</td>\n",
       "      <td>0.0</td>\n",
       "      <td>0.0</td>\n",
       "      <td>0</td>\n",
       "    </tr>\n",
       "    <tr>\n",
       "      <th>...</th>\n",
       "      <td>...</td>\n",
       "      <td>...</td>\n",
       "      <td>...</td>\n",
       "      <td>...</td>\n",
       "      <td>...</td>\n",
       "      <td>...</td>\n",
       "      <td>...</td>\n",
       "      <td>...</td>\n",
       "      <td>...</td>\n",
       "      <td>...</td>\n",
       "    </tr>\n",
       "    <tr>\n",
       "      <th>518</th>\n",
       "      <td>220</td>\n",
       "      <td>13</td>\n",
       "      <td>999999.0</td>\n",
       "      <td>0.0</td>\n",
       "      <td>0.000000</td>\n",
       "      <td>0.0</td>\n",
       "      <td>4.0</td>\n",
       "      <td>0.0</td>\n",
       "      <td>0.0</td>\n",
       "      <td>0</td>\n",
       "    </tr>\n",
       "    <tr>\n",
       "      <th>519</th>\n",
       "      <td>220</td>\n",
       "      <td>68</td>\n",
       "      <td>900.0</td>\n",
       "      <td>112.0</td>\n",
       "      <td>2.666667</td>\n",
       "      <td>1.0</td>\n",
       "      <td>4.0</td>\n",
       "      <td>0.0</td>\n",
       "      <td>0.0</td>\n",
       "      <td>1</td>\n",
       "    </tr>\n",
       "    <tr>\n",
       "      <th>520</th>\n",
       "      <td>220</td>\n",
       "      <td>128</td>\n",
       "      <td>900.0</td>\n",
       "      <td>291.0</td>\n",
       "      <td>7.333333</td>\n",
       "      <td>1.0</td>\n",
       "      <td>4.0</td>\n",
       "      <td>0.0</td>\n",
       "      <td>0.0</td>\n",
       "      <td>1</td>\n",
       "    </tr>\n",
       "    <tr>\n",
       "      <th>521</th>\n",
       "      <td>221</td>\n",
       "      <td>121</td>\n",
       "      <td>600.0</td>\n",
       "      <td>241.0</td>\n",
       "      <td>6.000000</td>\n",
       "      <td>1.0</td>\n",
       "      <td>4.0</td>\n",
       "      <td>0.0</td>\n",
       "      <td>0.0</td>\n",
       "      <td>1</td>\n",
       "    </tr>\n",
       "    <tr>\n",
       "      <th>522</th>\n",
       "      <td>223</td>\n",
       "      <td>23</td>\n",
       "      <td>999999.0</td>\n",
       "      <td>0.0</td>\n",
       "      <td>0.000000</td>\n",
       "      <td>0.0</td>\n",
       "      <td>4.0</td>\n",
       "      <td>0.0</td>\n",
       "      <td>0.0</td>\n",
       "      <td>0</td>\n",
       "    </tr>\n",
       "  </tbody>\n",
       "</table>\n",
       "<p>523 rows × 10 columns</p>\n",
       "</div>"
      ],
      "text/plain": [
       "     init_node  term_node  capacity  length  free_flow_time    b  power  \\\n",
       "0            1         31  999999.0     0.0        0.000000  0.0    4.0   \n",
       "1            1         32  999999.0     0.0        0.000000  0.0    4.0   \n",
       "2            1        159  999999.0     0.0        0.000000  0.0    4.0   \n",
       "3            1        161  999999.0     0.0        0.000000  0.0    4.0   \n",
       "4            2         31  999999.0     0.0        0.000000  0.0    4.0   \n",
       "..         ...        ...       ...     ...             ...  ...    ...   \n",
       "518        220         13  999999.0     0.0        0.000000  0.0    4.0   \n",
       "519        220         68     900.0   112.0        2.666667  1.0    4.0   \n",
       "520        220        128     900.0   291.0        7.333333  1.0    4.0   \n",
       "521        221        121     600.0   241.0        6.000000  1.0    4.0   \n",
       "522        223         23  999999.0     0.0        0.000000  0.0    4.0   \n",
       "\n",
       "     speed  toll  link_type  \n",
       "0      0.0   0.0          0  \n",
       "1      0.0   0.0          0  \n",
       "2      0.0   0.0          0  \n",
       "3      0.0   0.0          0  \n",
       "4      0.0   0.0          0  \n",
       "..     ...   ...        ...  \n",
       "518    0.0   0.0          0  \n",
       "519    0.0   0.0          1  \n",
       "520    0.0   0.0          1  \n",
       "521    0.0   0.0          1  \n",
       "522    0.0   0.0          0  \n",
       "\n",
       "[523 rows x 10 columns]"
      ]
     },
     "execution_count": 23,
     "metadata": {},
     "output_type": "execute_result"
    }
   ],
   "source": [
    "trial_run.create_links_csv()\n",
    "cities_dict[city]['csv']"
   ]
  },
  {
   "cell_type": "markdown",
   "id": "a313e0cd",
   "metadata": {},
   "source": [
    "# Plot graph"
   ]
  },
  {
   "cell_type": "code",
   "execution_count": 24,
   "id": "1695ef69",
   "metadata": {},
   "outputs": [
    {
     "name": "stdout",
     "output_type": "stream",
     "text": [
      "Total number of nodes in friedrichshain-center: 218\n",
      "Total number of edges in friedrichshain-center: 523\n",
      "Graph for: friedrichshain-center\n"
     ]
    },
    {
     "data": {
      "image/png": "[encoded data removed]",
      "text/plain": [
       "<Figure size 432x288 with 1 Axes>"
      ]
     },
     "metadata": {},
     "output_type": "display_data"
    }
   ],
   "source": [
    "#Create csvs, plot graph and show summary stats\n",
    "trial_run.summary_stats_all()\n",
    "trial_run.plot(city)"
   ]
  },
  {
   "cell_type": "markdown",
   "id": "afadb511",
   "metadata": {},
   "source": [
    "# Observe example network data"
   ]
  },
  {
   "cell_type": "code",
   "execution_count": 25,
   "id": "e99ee18b",
   "metadata": {
    "scrolled": true
   },
   "outputs": [
    {
     "ename": "ValueError",
     "evalue": "could not convert string to float: ''",
     "output_type": "error",
     "traceback": [
      "\u001b[0;31m---------------------------------------------------------------------------\u001b[0m",
      "\u001b[0;31mValueError\u001b[0m                                Traceback (most recent call last)",
      "\u001b[0;32m/var/folders/2g/qx04w6j525l446ptr2wd9w8w0000gn/T/ipykernel_99112/765836466.py\u001b[0m in \u001b[0;36m<module>\u001b[0;34m\u001b[0m\n\u001b[1;32m      1\u001b[0m \u001b[0;31m#observe network with all links\u001b[0m\u001b[0;34m\u001b[0m\u001b[0;34m\u001b[0m\u001b[0;34m\u001b[0m\u001b[0m\n\u001b[1;32m      2\u001b[0m \u001b[0mremove_link\u001b[0m \u001b[0;34m=\u001b[0m \u001b[0;36m0\u001b[0m \u001b[0;31m#0 is equivalent to no links closed\u001b[0m\u001b[0;34m\u001b[0m\u001b[0;34m\u001b[0m\u001b[0m\n\u001b[0;32m----> 3\u001b[0;31m \u001b[0mtrial_run\u001b[0m\u001b[0;34m.\u001b[0m\u001b[0mmake_network\u001b[0m\u001b[0;34m(\u001b[0m\u001b[0mcity\u001b[0m\u001b[0;34m,\u001b[0m \u001b[0mremove_link\u001b[0m\u001b[0;34m)\u001b[0m\u001b[0;34m\u001b[0m\u001b[0;34m\u001b[0m\u001b[0m\n\u001b[0m\u001b[1;32m      4\u001b[0m \u001b[0mtrial_run\u001b[0m\u001b[0;34m.\u001b[0m\u001b[0mnetwork_attributes\u001b[0m\u001b[0;34m(\u001b[0m\u001b[0mcity\u001b[0m\u001b[0;34m,\u001b[0m \u001b[0mremove_link\u001b[0m\u001b[0;34m)\u001b[0m\u001b[0;34m\u001b[0m\u001b[0;34m\u001b[0m\u001b[0m\n",
      "\u001b[0;32m/var/folders/2g/qx04w6j525l446ptr2wd9w8w0000gn/T/ipykernel_99112/1548670714.py\u001b[0m in \u001b[0;36mmake_network\u001b[0;34m(self, citu, remove_link_number)\u001b[0m\n\u001b[1;32m     49\u001b[0m         \u001b[0mtrip_file\u001b[0m \u001b[0;34m=\u001b[0m \u001b[0mself\u001b[0m\u001b[0;34m.\u001b[0m\u001b[0mcities_dict\u001b[0m\u001b[0;34m[\u001b[0m\u001b[0mcity\u001b[0m\u001b[0;34m]\u001b[0m\u001b[0;34m[\u001b[0m\u001b[0;34m'file_paths'\u001b[0m\u001b[0;34m]\u001b[0m\u001b[0;34m[\u001b[0m\u001b[0;34m'trip_file_path'\u001b[0m\u001b[0;34m]\u001b[0m\u001b[0;34m\u001b[0m\u001b[0;34m\u001b[0m\u001b[0m\n\u001b[1;32m     50\u001b[0m         \u001b[0mnode_file\u001b[0m \u001b[0;34m=\u001b[0m \u001b[0mself\u001b[0m\u001b[0;34m.\u001b[0m\u001b[0mcities_dict\u001b[0m\u001b[0;34m[\u001b[0m\u001b[0mcity\u001b[0m\u001b[0;34m]\u001b[0m\u001b[0;34m[\u001b[0m\u001b[0;34m'file_paths'\u001b[0m\u001b[0;34m]\u001b[0m\u001b[0;34m[\u001b[0m\u001b[0;34m'node_file_path'\u001b[0m\u001b[0;34m]\u001b[0m\u001b[0;34m\u001b[0m\u001b[0;34m\u001b[0m\u001b[0m\n\u001b[0;32m---> 51\u001b[0;31m         \u001b[0mNetwork\u001b[0m \u001b[0;34m=\u001b[0m \u001b[0mtn\u001b[0m\u001b[0;34m.\u001b[0m\u001b[0mNetwork\u001b[0m\u001b[0;34m(\u001b[0m\u001b[0mremove_link_number\u001b[0m\u001b[0;34m,\u001b[0m \u001b[0mlink_file\u001b[0m\u001b[0;34m,\u001b[0m \u001b[0mtrip_file\u001b[0m\u001b[0;34m,\u001b[0m \u001b[0mnode_file\u001b[0m\u001b[0;34m)\u001b[0m\u001b[0;34m\u001b[0m\u001b[0;34m\u001b[0m\u001b[0m\n\u001b[0m\u001b[1;32m     52\u001b[0m         \u001b[0mself\u001b[0m\u001b[0;34m.\u001b[0m\u001b[0mcities_dict\u001b[0m\u001b[0;34m[\u001b[0m\u001b[0mcity\u001b[0m\u001b[0;34m]\u001b[0m\u001b[0;34m[\u001b[0m\u001b[0mstr\u001b[0m\u001b[0;34m(\u001b[0m\u001b[0mremove_link_number\u001b[0m\u001b[0;34m)\u001b[0m\u001b[0;34m]\u001b[0m \u001b[0;34m=\u001b[0m \u001b[0;34m{\u001b[0m\u001b[0;34m'network'\u001b[0m\u001b[0;34m:\u001b[0m \u001b[0mNetwork\u001b[0m\u001b[0;34m}\u001b[0m\u001b[0;34m\u001b[0m\u001b[0;34m\u001b[0m\u001b[0m\n\u001b[1;32m     53\u001b[0m \u001b[0;34m\u001b[0m\u001b[0m\n",
      "\u001b[0;32m~/Documents/Barca GSE/Studies/Term 2/Networks/Term Paper/Networks_Term_Paper/Code/Python/working_multiple_eq_flow/pytrans_working_multiple_eq_flow/TransportationNetworks.py\u001b[0m in \u001b[0;36m__init__\u001b[0;34m(self, remove_link, link_file, trip_file, node_file, SO)\u001b[0m\n\u001b[1;32m    217\u001b[0m         \u001b[0mself\u001b[0m\u001b[0;34m.\u001b[0m\u001b[0mremove_link\u001b[0m \u001b[0;34m=\u001b[0m \u001b[0mremove_link\u001b[0m\u001b[0;34m\u001b[0m\u001b[0;34m\u001b[0m\u001b[0m\n\u001b[1;32m    218\u001b[0m \u001b[0;34m\u001b[0m\u001b[0m\n\u001b[0;32m--> 219\u001b[0;31m         \u001b[0mself\u001b[0m\u001b[0;34m.\u001b[0m\u001b[0mbuild_datastructure\u001b[0m\u001b[0;34m(\u001b[0m\u001b[0;34m)\u001b[0m\u001b[0;34m\u001b[0m\u001b[0;34m\u001b[0m\u001b[0m\n\u001b[0m\u001b[1;32m    220\u001b[0m \u001b[0;34m\u001b[0m\u001b[0m\n\u001b[1;32m    221\u001b[0m     \u001b[0;32mdef\u001b[0m \u001b[0mbuild_datastructure\u001b[0m\u001b[0;34m(\u001b[0m\u001b[0mself\u001b[0m\u001b[0;34m)\u001b[0m\u001b[0;34m:\u001b[0m\u001b[0;34m\u001b[0m\u001b[0;34m\u001b[0m\u001b[0m\n",
      "\u001b[0;32m~/Documents/Barca GSE/Studies/Term 2/Networks/Term Paper/Networks_Term_Paper/Code/Python/working_multiple_eq_flow/pytrans_working_multiple_eq_flow/TransportationNetworks.py\u001b[0m in \u001b[0;36mbuild_datastructure\u001b[0;34m(self)\u001b[0m\n\u001b[1;32m    232\u001b[0m \u001b[0;34m\u001b[0m\u001b[0m\n\u001b[1;32m    233\u001b[0m         \u001b[0;32mif\u001b[0m \u001b[0mself\u001b[0m\u001b[0;34m.\u001b[0m\u001b[0mnode_file\u001b[0m \u001b[0;34m!=\u001b[0m \u001b[0;32mNone\u001b[0m\u001b[0;34m:\u001b[0m\u001b[0;34m\u001b[0m\u001b[0;34m\u001b[0m\u001b[0m\n\u001b[0;32m--> 234\u001b[0;31m             \u001b[0mself\u001b[0m\u001b[0;34m.\u001b[0m\u001b[0mopen_node_file\u001b[0m\u001b[0;34m(\u001b[0m\u001b[0mgraph\u001b[0m\u001b[0;34m)\u001b[0m\u001b[0;34m\u001b[0m\u001b[0;34m\u001b[0m\u001b[0m\n\u001b[0m\u001b[1;32m    235\u001b[0m             \u001b[0mself\u001b[0m\u001b[0;34m.\u001b[0m\u001b[0mVisualization\u001b[0m\u001b[0;34m.\u001b[0m\u001b[0mreLocateLinks\u001b[0m\u001b[0;34m(\u001b[0m\u001b[0mgraph\u001b[0m\u001b[0;34m)\u001b[0m\u001b[0;34m\u001b[0m\u001b[0;34m\u001b[0m\u001b[0m\n\u001b[1;32m    236\u001b[0m         \u001b[0mself\u001b[0m\u001b[0;34m.\u001b[0m\u001b[0mgraph\u001b[0m \u001b[0;34m=\u001b[0m \u001b[0mgraph\u001b[0m\u001b[0;34m\u001b[0m\u001b[0;34m\u001b[0m\u001b[0m\n",
      "\u001b[0;32m~/Documents/Barca GSE/Studies/Term 2/Networks/Term Paper/Networks_Term_Paper/Code/Python/working_multiple_eq_flow/pytrans_working_multiple_eq_flow/TransportationNetworks.py\u001b[0m in \u001b[0;36mopen_node_file\u001b[0;34m(self, graph)\u001b[0m\n\u001b[1;32m    307\u001b[0m                 \u001b[0mn\u001b[0m \u001b[0;34m+=\u001b[0m \u001b[0;36m1\u001b[0m\u001b[0;34m\u001b[0m\u001b[0;34m\u001b[0m\u001b[0m\n\u001b[1;32m    308\u001b[0m             \u001b[0;32melse\u001b[0m\u001b[0;34m:\u001b[0m\u001b[0;34m\u001b[0m\u001b[0;34m\u001b[0m\u001b[0m\n\u001b[0;32m--> 309\u001b[0;31m                 \u001b[0mind\u001b[0m\u001b[0;34m,\u001b[0m \u001b[0mx\u001b[0m\u001b[0;34m,\u001b[0m \u001b[0my\u001b[0m \u001b[0;34m=\u001b[0m \u001b[0mrow\u001b[0m\u001b[0;34m[\u001b[0m\u001b[0;36m0\u001b[0m\u001b[0;34m]\u001b[0m\u001b[0;34m,\u001b[0m \u001b[0mfloat\u001b[0m\u001b[0;34m(\u001b[0m\u001b[0mrow\u001b[0m\u001b[0;34m[\u001b[0m\u001b[0;36m1\u001b[0m\u001b[0;34m]\u001b[0m\u001b[0;34m)\u001b[0m\u001b[0;34m,\u001b[0m \u001b[0mfloat\u001b[0m\u001b[0;34m(\u001b[0m\u001b[0mrow\u001b[0m\u001b[0;34m[\u001b[0m\u001b[0;36m2\u001b[0m\u001b[0;34m]\u001b[0m\u001b[0;34m)\u001b[0m\u001b[0;34m\u001b[0m\u001b[0;34m\u001b[0m\u001b[0m\n\u001b[0m\u001b[1;32m    310\u001b[0m                 \u001b[0mgraph\u001b[0m\u001b[0;34m.\u001b[0m\u001b[0mnodes\u001b[0m\u001b[0;34m[\u001b[0m\u001b[0mind\u001b[0m\u001b[0;34m]\u001b[0m\u001b[0;34m[\u001b[0m\u001b[0;34m\"pos\"\u001b[0m\u001b[0;34m]\u001b[0m \u001b[0;34m=\u001b[0m \u001b[0;34m(\u001b[0m\u001b[0mx\u001b[0m\u001b[0;34m,\u001b[0m \u001b[0my\u001b[0m\u001b[0;34m)\u001b[0m\u001b[0;34m\u001b[0m\u001b[0;34m\u001b[0m\u001b[0m\n\u001b[1;32m    311\u001b[0m         \u001b[0mf\u001b[0m\u001b[0;34m.\u001b[0m\u001b[0mclose\u001b[0m\u001b[0;34m(\u001b[0m\u001b[0;34m)\u001b[0m\u001b[0;34m\u001b[0m\u001b[0;34m\u001b[0m\u001b[0m\n",
      "\u001b[0;31mValueError\u001b[0m: could not convert string to float: ''"
     ]
    }
   ],
   "source": [
    "#observe network with all links\n",
    "remove_link = 0 #0 is equivalent to no links closed\n",
    "trial_run.make_network(city, remove_link)\n",
    "trial_run.network_attributes(city, remove_link)\n",
    "\n",
    "#error here ie because of the open_node_file\n",
    "#can be fixed but need to mess around with the class"
   ]
  },
  {
   "cell_type": "code",
   "execution_count": null,
   "id": "80ee4ad7",
   "metadata": {},
   "outputs": [],
   "source": [
    "#observe network after removing one link\n",
    "remove_link = 1\n",
    "trial_run.make_network(city, remove_link)\n",
    "trial_run.network_attributes(city, remove_link)"
   ]
  },
  {
   "cell_type": "markdown",
   "id": "d726132b",
   "metadata": {},
   "source": [
    "# Compute equilibrium flow for example city using Frank-Wolfe algorithm"
   ]
  },
  {
   "cell_type": "code",
   "execution_count": null,
   "id": "c3a04825",
   "metadata": {},
   "outputs": [],
   "source": [
    "#compute the eq flow for one example city and no closed links\n",
    "remove_link = 0\n",
    "trial_run.compute_link_flow(city, remove_link)"
   ]
  },
  {
   "cell_type": "code",
   "execution_count": null,
   "id": "6685a76d",
   "metadata": {},
   "outputs": [],
   "source": [
    "#report eq flow for one example city and no closed links\n",
    "print('Results for:', city)\n",
    "trial_run.cities_dict[city][str(remove_link)]['fw_run'].showODFlow() #equilibrium flows\n",
    "trial_run.cities_dict[city][str(remove_link)]['fw_run'].showODFlowMap() #flow map"
   ]
  },
  {
   "cell_type": "markdown",
   "id": "6885c6a8",
   "metadata": {},
   "source": [
    "# Compute equilibrium flow for one closed link in example city using Frank-Wolfe algorithm"
   ]
  },
  {
   "cell_type": "code",
   "execution_count": null,
   "id": "fcdbd8b7",
   "metadata": {},
   "outputs": [],
   "source": [
    "#compute the eq flow for one example city and one closed link\n",
    "remove_link = 1\n",
    "trial_run.compute_link_flow(city, remove_link)"
   ]
  },
  {
   "cell_type": "code",
   "execution_count": null,
   "id": "e8e836d7",
   "metadata": {},
   "outputs": [],
   "source": [
    "#report eq flow for one example city and one closed links\n",
    "print('Results for:', city)\n",
    "trial_run.cities_dict[city][str(remove_link)]['fw_run'].showODFlow() #equilibrium flows\n",
    "trial_run.cities_dict[city][str(remove_link)]['fw_run'].showODFlowMap() #flow map"
   ]
  },
  {
   "cell_type": "markdown",
   "id": "af7b2eed",
   "metadata": {},
   "source": [
    "# Systematically close each link and compute equilibrium flow for example city"
   ]
  },
  {
   "cell_type": "code",
   "execution_count": null,
   "id": "968d389e",
   "metadata": {},
   "outputs": [],
   "source": [
    "#need to make the network where each link is shut first\n",
    "trial_run.make_network_shut_each_link(city)"
   ]
  },
  {
   "cell_type": "code",
   "execution_count": null,
   "id": "6f21d19a",
   "metadata": {},
   "outputs": [],
   "source": [
    "#view a network with edge removed\n",
    "removed_link = 8\n",
    "trial_run.make_network(city, removed_link)\n",
    "trial_run.network_attributes(city, removed_link)"
   ]
  },
  {
   "cell_type": "code",
   "execution_count": null,
   "id": "d23b86fb",
   "metadata": {},
   "outputs": [],
   "source": [
    "trial_run.eq_flow_shut_each_link(city)"
   ]
  },
  {
   "cell_type": "code",
   "execution_count": 27,
   "id": "a48f3eae",
   "metadata": {},
   "outputs": [
    {
     "ename": "KeyError",
     "evalue": "'1'",
     "output_type": "error",
     "traceback": [
      "\u001b[0;31m---------------------------------------------------------------------------\u001b[0m",
      "\u001b[0;31mKeyError\u001b[0m                                  Traceback (most recent call last)",
      "\u001b[0;32m/var/folders/2g/qx04w6j525l446ptr2wd9w8w0000gn/T/ipykernel_99112/2431084304.py\u001b[0m in \u001b[0;36m<module>\u001b[0;34m\u001b[0m\n\u001b[1;32m      1\u001b[0m \u001b[0;31m#report eq flow for one example city and one randomly closed link (flex removed_link, but can't choose more than max edges)\u001b[0m\u001b[0;34m\u001b[0m\u001b[0;34m\u001b[0m\u001b[0;34m\u001b[0m\u001b[0m\n\u001b[0;32m----> 2\u001b[0;31m \u001b[0mmax_edges\u001b[0m \u001b[0;34m=\u001b[0m \u001b[0mlen\u001b[0m\u001b[0;34m(\u001b[0m\u001b[0mcities_dict\u001b[0m\u001b[0;34m[\u001b[0m\u001b[0mcity\u001b[0m\u001b[0;34m]\u001b[0m\u001b[0;34m[\u001b[0m\u001b[0;34m'1'\u001b[0m\u001b[0;34m]\u001b[0m\u001b[0;34m[\u001b[0m\u001b[0;34m'network'\u001b[0m\u001b[0;34m]\u001b[0m\u001b[0;34m.\u001b[0m\u001b[0mgraph\u001b[0m\u001b[0;34m.\u001b[0m\u001b[0medges\u001b[0m\u001b[0;34m)\u001b[0m\u001b[0;34m\u001b[0m\u001b[0;34m\u001b[0m\u001b[0m\n\u001b[0m\u001b[1;32m      3\u001b[0m \u001b[0mprint\u001b[0m\u001b[0;34m(\u001b[0m\u001b[0mmax_edges\u001b[0m\u001b[0;34m)\u001b[0m\u001b[0;34m\u001b[0m\u001b[0;34m\u001b[0m\u001b[0m\n\u001b[1;32m      4\u001b[0m \u001b[0mremoved_link\u001b[0m \u001b[0;34m=\u001b[0m \u001b[0;36m1\u001b[0m\u001b[0;34m\u001b[0m\u001b[0;34m\u001b[0m\u001b[0m\n\u001b[1;32m      5\u001b[0m \u001b[0mprint\u001b[0m\u001b[0;34m(\u001b[0m\u001b[0;34m'Equilibrium flow for removed link number'\u001b[0m\u001b[0;34m,\u001b[0m\u001b[0mremoved_link\u001b[0m\u001b[0;34m,\u001b[0m \u001b[0;34m'in'\u001b[0m\u001b[0;34m,\u001b[0m \u001b[0mcity\u001b[0m\u001b[0;34m)\u001b[0m\u001b[0;34m\u001b[0m\u001b[0;34m\u001b[0m\u001b[0m\n",
      "\u001b[0;31mKeyError\u001b[0m: '1'"
     ]
    }
   ],
   "source": [
    "#report eq flow for one example city and one randomly closed link (flex removed_link, but can't choose more than max edges)\n",
    "max_edges = len(cities_dict[city]['1']['network'].graph.edges)\n",
    "print(max_edges)\n",
    "removed_link = 1\n",
    "print('Equilibrium flow for removed link number',removed_link, 'in', city)\n",
    "print('Results for:', city)\n",
    "trial_run.cities_dict[city][str(removed_link)]['fw_run'].showODFlow() #equilibrium flows\n",
    "trial_run.cities_dict[city][str(removed_link)]['fw_run'].showODFlowMap() #flow map"
   ]
  }
 ],
 "metadata": {
  "kernelspec": {
   "display_name": "Python 3 (ipykernel)",
   "language": "python",
   "name": "python3"
  },
  "language_info": {
   "codemirror_mode": {
    "name": "ipython",
    "version": 3
   },
   "file_extension": ".py",
   "mimetype": "text/x-python",
   "name": "python",
   "nbconvert_exporter": "python",
   "pygments_lexer": "ipython3",
   "version": "3.9.5"
  }
 },
 "nbformat": 4,
 "nbformat_minor": 5
}
