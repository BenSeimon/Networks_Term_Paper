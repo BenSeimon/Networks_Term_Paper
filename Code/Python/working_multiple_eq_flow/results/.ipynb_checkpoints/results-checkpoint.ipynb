{
 "cells": [
  {
   "cell_type": "code",
   "execution_count": 5,
   "id": "7185e40f",
   "metadata": {},
   "outputs": [],
   "source": [
    "import pickle\n",
    "import os"
   ]
  },
  {
   "cell_type": "code",
   "execution_count": 9,
   "id": "475b6c97",
   "metadata": {},
   "outputs": [],
   "source": [
    "classes_path = '/Users/benseimon/Documents/Barca GSE/Studies/Term 2/Networks/Term Paper/Networks_Term_Paper/Code/Python/working_multiple_eq_flow/SiouxFalls/pytrans_working_multiple_eq_flow'\n",
    "#network_analysis_path_niamh = r'C:\\Users\\35387\\OneDrive\\Documents\\Networks\\New folder\\Networks_Term_Paper\\pytrans_UrbanNetworkAnalysis\\pytrans\\UrbanNetworkAnalysis\\original_edited'\n",
    "os.chdir(classes_path)\n",
    "import Frank_Wolfe\n",
    "import TransportationNetworks as tn\n",
    "import visualize_graph\n",
    "import custom_class"
   ]
  },
  {
   "cell_type": "code",
   "execution_count": 12,
   "id": "4c7dcc51",
   "metadata": {},
   "outputs": [],
   "source": [
    "path = '/Users/benseimon/Documents/Barca GSE/Studies/Term 2/Networks/Term Paper/Networks_Term_Paper/Code/Python/working_multiple_eq_flow/results'\n",
    "os.chdir(path)"
   ]
  },
  {
   "cell_type": "code",
   "execution_count": 13,
   "id": "c213db11",
   "metadata": {},
   "outputs": [],
   "source": [
    "with open('SiouxFalls_dict.pickle', 'rb') as handle:\n",
    "    SiouxFalls_dict = pickle.load(handle)"
   ]
  },
  {
   "cell_type": "code",
   "execution_count": 19,
   "id": "c7c98d55",
   "metadata": {},
   "outputs": [
    {
     "name": "stdout",
     "output_type": "stream",
     "text": [
      "1  ->  2 :  4494.541769891608\n",
      "1  ->  3 :  8118.778958018833\n",
      "2  ->  1 :  4519.221797661597\n",
      "2  ->  6 :  5967.415424264172\n",
      "3  ->  1 :  8094.098930248844\n",
      "3  ->  4 :  14011.734532365375\n",
      "3  ->  12 :  10027.635980625804\n",
      "6  ->  2 :  5992.095452034151\n",
      "6  ->  5 :  8806.410890570694\n",
      "6  ->  8 :  12492.075338963252\n",
      "4  ->  3 :  14035.300255284554\n",
      "4  ->  5 :  18010.561177668467\n",
      "4  ->  11 :  5203.13865525387\n",
      "12  ->  3 :  9979.390229936655\n",
      "12  ->  11 :  8404.306735865635\n",
      "12  ->  13 :  12293.499582309718\n",
      "5  ->  4 :  18034.525518068713\n",
      "5  ->  6 :  8797.1895868881\n",
      "5  ->  9 :  15783.996289327333\n",
      "11  ->  4 :  5302.740037772761\n",
      "11  ->  10 :  17603.652145860353\n",
      "11  ->  12 :  8365.259304287434\n",
      "11  ->  14 :  9776.846543284393\n",
      "9  ->  5 :  15798.73932604504\n",
      "9  ->  8 :  6837.003588255241\n",
      "9  ->  10 :  21745.98823492458\n",
      "8  ->  6 :  12525.976670415792\n",
      "8  ->  7 :  12041.696631484156\n",
      "8  ->  9 :  6881.813917130209\n",
      "8  ->  16 :  8387.782258682433\n",
      "7  ->  8 :  12102.268632570476\n",
      "7  ->  18 :  15797.411851030634\n",
      "18  ->  7 :  15857.98385211697\n",
      "18  ->  16 :  15338.763385954406\n",
      "18  ->  20 :  18981.85790207594\n",
      "16  ->  8 :  8405.921917923628\n",
      "16  ->  10 :  11073.09910606305\n",
      "16  ->  17 :  11692.431092586427\n",
      "16  ->  18 :  15282.953024363494\n",
      "10  ->  9 :  21815.92094276737\n",
      "10  ->  11 :  17726.175580628205\n",
      "10  ->  15 :  23127.114768810752\n",
      "10  ->  16 :  11046.400103742519\n",
      "10  ->  17 :  8100.259980005657\n",
      "15  ->  10 :  23193.033134005193\n",
      "15  ->  14 :  9081.050165155453\n",
      "15  ->  19 :  19083.48231051273\n",
      "15  ->  22 :  18407.035577891682\n",
      "17  ->  10 :  8100.098755101294\n",
      "17  ->  16 :  11681.459392557328\n",
      "17  ->  19 :  9952.4570048326\n",
      "14  ->  11 :  9814.877059457245\n",
      "14  ->  15 :  9038.201593043448\n",
      "14  ->  23 :  8399.68716034066\n",
      "13  ->  12 :  12384.301263198748\n",
      "13  ->  24 :  11121.192719084645\n",
      "24  ->  13 :  11111.994399973699\n",
      "24  ->  21 :  10257.083853664044\n",
      "24  ->  23 :  7862.518017713638\n",
      "23  ->  14 :  8394.869104401481\n",
      "23  ->  22 :  9625.288009803588\n",
      "23  ->  24 :  7902.576837001228\n",
      "19  ->  15 :  19115.979008985603\n",
      "19  ->  17 :  9941.324079899152\n",
      "19  ->  20 :  8687.309218859025\n",
      "22  ->  15 :  18383.305816725122\n",
      "22  ->  20 :  7000.937506414858\n",
      "22  ->  21 :  8606.710833612316\n",
      "22  ->  23 :  9660.52877315203\n",
      "20  ->  18 :  18998.240264753113\n",
      "20  ->  19 :  8708.672992398446\n",
      "20  ->  21 :  6303.270721346807\n",
      "20  ->  22 :  7000.651706104189\n",
      "21  ->  20 :  6240.731057252743\n",
      "21  ->  22 :  8618.50763610502\n",
      "21  ->  24 :  10307.826715265484\n"
     ]
    }
   ],
   "source": [
    "SiouxFalls_dict['SiouxFalls']['0']['fw_run'].showODFlow()"
   ]
  },
  {
   "cell_type": "code",
   "execution_count": null,
   "id": "9648c6ca",
   "metadata": {},
   "outputs": [],
   "source": [
    "## for below analysis, remember that the removed_link = 1 means the last row in the trip file is removed. \n",
    "# Removed_link = 2 means the second last row is removed, and so on.\n",
    "# You can use this for the mapping from fw eq flow results to the csv/dataframe.\n",
    "\n",
    "#density\n",
    "#nx.density(cities_dict[city][str(remove_link)]['network'].graph)\n",
    "\n",
    "#diameter\n",
    "\n",
    "#nx.diameter(cities_dict[city][str(remove_link)]['network'].graph)\n",
    "\n",
    "#check this out for centrality https://networkx.org/documentation/stable/reference/algorithms/centrality.html\n",
    "\n",
    "#betweeness origin\n",
    "\n",
    "#eigenvector origin\n",
    "\n",
    "#betweeness destination\n",
    "\n",
    "#eigenvector destination\n",
    "\n",
    "#flow - from initial trips file i think \n",
    "\n",
    "#cost - will need to compute"
   ]
  }
 ],
 "metadata": {
  "kernelspec": {
   "display_name": "Python 3 (ipykernel)",
   "language": "python",
   "name": "python3"
  },
  "language_info": {
   "codemirror_mode": {
    "name": "ipython",
    "version": 3
   },
   "file_extension": ".py",
   "mimetype": "text/x-python",
   "name": "python",
   "nbconvert_exporter": "python",
   "pygments_lexer": "ipython3",
   "version": "3.9.5"
  }
 },
 "nbformat": 4,
 "nbformat_minor": 5
}
