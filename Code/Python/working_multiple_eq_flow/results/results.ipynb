{
 "cells": [
  {
   "cell_type": "code",
   "execution_count": 5,
   "id": "cc7300b4",
   "metadata": {},
   "outputs": [],
   "source": [
    "import pickle\n",
    "import os"
   ]
  },
  {
   "cell_type": "code",
   "execution_count": 9,
   "id": "4ddec50a",
   "metadata": {},
   "outputs": [],
   "source": [
    "classes_path = '/Users/benseimon/Documents/Barca GSE/Studies/Term 2/Networks/Term Paper/Networks_Term_Paper/Code/Python/working_multiple_eq_flow/SiouxFalls/pytrans_working_multiple_eq_flow'\n",
    "#network_analysis_path_niamh = r'C:\\Users\\35387\\OneDrive\\Documents\\Networks\\New folder\\Networks_Term_Paper\\pytrans_UrbanNetworkAnalysis\\pytrans\\UrbanNetworkAnalysis\\original_edited'\n",
    "os.chdir(classes_path)\n",
    "import Frank_Wolfe\n",
    "import TransportationNetworks as tn\n",
    "import visualize_graph\n",
    "import custom_class"
   ]
  },
  {
   "cell_type": "code",
   "execution_count": 12,
   "id": "5c3100bd",
   "metadata": {},
   "outputs": [],
   "source": [
    "#i would suggest downloading the pickle locally and accessing that way\n",
    "\n",
    "path = \n",
    "os.chdir(path)"
   ]
  },
  {
   "cell_type": "code",
   "execution_count": 13,
   "id": "151269a5",
   "metadata": {},
   "outputs": [],
   "source": [
    "with open('SiouxFalls_dict.pickle', 'rb') as handle:\n",
    "    SiouxFalls_dict = pickle.load(handle)"
   ]
  },
  {
   "cell_type": "code",
   "execution_count": null,
   "id": "7bce604f",
   "metadata": {},
   "outputs": [],
   "source": [
    "## for below analysis, remember that the removed_link = 1 means the last row in the trip file is removed. \n",
    "# Removed_link = 2 means the second last row is removed, and so on.\n",
    "# You can use this for the mapping from fw eq flow results to the csv/dataframe.\n",
    "\n",
    "#density\n",
    "#nx.density(cities_dict[city][str(remove_link)]['network'].graph)\n",
    "\n",
    "#diameter\n",
    "\n",
    "#nx.diameter(cities_dict[city][str(remove_link)]['network'].graph)\n",
    "\n",
    "#check this out for centrality https://networkx.org/documentation/stable/reference/algorithms/centrality.html\n",
    "\n",
    "#betweeness origin\n",
    "\n",
    "#eigenvector origin\n",
    "\n",
    "#betweeness destination\n",
    "\n",
    "#eigenvector destination\n",
    "\n",
    "#flow - from initial trips file i think \n",
    "\n",
    "#cost - will need to compute"
   ]
  }
 ],
 "metadata": {
  "kernelspec": {
   "display_name": "Python 3 (ipykernel)",
   "language": "python",
   "name": "python3"
  },
  "language_info": {
   "codemirror_mode": {
    "name": "ipython",
    "version": 3
   },
   "file_extension": ".py",
   "mimetype": "text/x-python",
   "name": "python",
   "nbconvert_exporter": "python",
   "pygments_lexer": "ipython3",
   "version": "3.9.5"
  }
 },
 "nbformat": 4,
 "nbformat_minor": 5
}
