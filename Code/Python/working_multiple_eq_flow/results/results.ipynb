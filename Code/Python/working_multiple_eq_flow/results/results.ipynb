{
 "cells": [
  {
   "cell_type": "code",
   "execution_count": 38,
   "id": "438dda3c",
   "metadata": {},
   "outputs": [],
   "source": [
    "import pickle\n",
    "import os\n",
    "import numpy as np\n",
    "import pandas as pd"
   ]
  },
  {
   "cell_type": "code",
   "execution_count": 9,
   "id": "8db4b035",
   "metadata": {},
   "outputs": [],
   "source": [
    "classes_path = '/Users/benseimon/Documents/Barca GSE/Studies/Term 2/Networks/Term Paper/Networks_Term_Paper/Code/Python/working_multiple_eq_flow/SiouxFalls/pytrans_working_multiple_eq_flow'\n",
    "#network_analysis_path_niamh = r'C:\\Users\\35387\\OneDrive\\Documents\\Networks\\New folder\\Networks_Term_Paper\\pytrans_UrbanNetworkAnalysis\\pytrans\\UrbanNetworkAnalysis\\original_edited'\n",
    "os.chdir(classes_path)\n",
    "import Frank_Wolfe\n",
    "import TransportationNetworks as tn\n",
    "import visualize_graph\n",
    "import custom_class"
   ]
  },
  {
   "cell_type": "code",
   "execution_count": 12,
   "id": "c0f5603e",
   "metadata": {},
   "outputs": [],
   "source": [
    "#i would suggest downloading the pickle locally and accessing that way\n",
    "\n",
    "path = \n",
    "os.chdir(path)"
   ]
  },
  {
   "cell_type": "code",
   "execution_count": 13,
   "id": "ea305d56",
   "metadata": {},
   "outputs": [],
   "source": [
    "with open('SiouxFalls_dict.pickle', 'rb') as handle:\n",
    "    SiouxFalls_dict = pickle.load(handle)"
   ]
  },
  {
   "cell_type": "code",
   "execution_count": 65,
   "id": "1823b65e",
   "metadata": {},
   "outputs": [
    {
     "name": "stdout",
     "output_type": "stream",
     "text": [
      "True\n"
     ]
    }
   ],
   "source": [
    "check = list(SiouxFalls_dict['SiouxFalls'].keys())\n",
    "check.remove('file_paths')\n",
    "check.remove('csv')\n",
    "print(check) #check to see if there's one None\n",
    "for i in check:\n",
    "    if SiouxFalls_dict['SiouxFalls']['csv'].shape[0] <= len(SiouxFalls_dict['SiouxFalls'][i]['network'].graph.edges):\n",
    "        print(True)\n",
    "#should only print one True i.e. only one full network - 'None'"
   ]
  },
  {
   "cell_type": "code",
   "execution_count": 94,
   "id": "29150c0b",
   "metadata": {},
   "outputs": [
    {
     "data": {
      "text/plain": [
       "[set(),\n",
       " {('24', '23')},\n",
       " {('24', '21')},\n",
       " {('24', '13')},\n",
       " {('23', '24')},\n",
       " {('23', '22')},\n",
       " {('23', '14')},\n",
       " {('22', '23')},\n",
       " {('22', '21')},\n",
       " {('22', '20')},\n",
       " {('22', '15')},\n",
       " {('21', '24')},\n",
       " {('21', '22')},\n",
       " {('21', '20')},\n",
       " {('20', '22')},\n",
       " {('20', '21')},\n",
       " {('20', '19')},\n",
       " {('20', '18')},\n",
       " {('19', '20')},\n",
       " {('19', '17')},\n",
       " {('19', '15')},\n",
       " {('18', '20')},\n",
       " {('18', '16')},\n",
       " {('18', '7')},\n",
       " {('17', '19')},\n",
       " {('17', '16')},\n",
       " {('17', '10')},\n",
       " {('16', '18')},\n",
       " {('16', '17')},\n",
       " {('16', '10')},\n",
       " {('16', '8')},\n",
       " {('15', '22')},\n",
       " {('15', '19')},\n",
       " {('15', '14')},\n",
       " {('15', '10')},\n",
       " {('14', '23')},\n",
       " {('14', '15')},\n",
       " {('14', '11')},\n",
       " {('13', '24')},\n",
       " {('13', '12')},\n",
       " {('12', '13')},\n",
       " {('12', '11')},\n",
       " {('12', '3')},\n",
       " {('11', '14')},\n",
       " {('11', '12')},\n",
       " {('11', '10')},\n",
       " {('11', '4')},\n",
       " {('10', '17')},\n",
       " {('10', '16')},\n",
       " {('10', '15')},\n",
       " {('10', '11')},\n",
       " {('10', '9')},\n",
       " {('9', '10')},\n",
       " {('9', '8')},\n",
       " {('9', '5')},\n",
       " {('8', '16')},\n",
       " {('8', '9')},\n",
       " {('8', '7')},\n",
       " {('8', '6')},\n",
       " {('7', '18')},\n",
       " {('7', '8')},\n",
       " {('6', '8')},\n",
       " {('6', '5')},\n",
       " {('6', '2')},\n",
       " {('5', '9')},\n",
       " {('5', '6')},\n",
       " {('5', '4')},\n",
       " {('4', '11')},\n",
       " {('4', '5')},\n",
       " {('4', '3')},\n",
       " {('3', '12')},\n",
       " {('3', '4')},\n",
       " {('3', '1')},\n",
       " {('2', '6')},\n",
       " {('2', '1')},\n",
       " {('1', '3')},\n",
       " {('1', '2')}]"
      ]
     },
     "execution_count": 94,
     "metadata": {},
     "output_type": "execute_result"
    }
   ],
   "source": [
    "#checking that every edge has been removed once\n",
    "pd.DataFrame(columns = ['init_node', 'term_node'])\n",
    "full_edge_list = list(SiouxFalls_dict['SiouxFalls']\n",
    "                               ['0']['fw_run'].graph.edges) #you will need to change '0' to None for the actual check\n",
    "full_edge_list = set(full_edge_list) #get a set of all edges\n",
    "removed_edges = [] #create empty list\n",
    "for run in check: #check for each run...\n",
    "    edge_list = list((SiouxFalls_dict['SiouxFalls'][run]['fw_run'].graph.edges)) #get the edge list for a run\n",
    "    edge_list = set(edge_list) #make it a set\n",
    "    removed_edges.append(full_edge_list.difference(edge_list)) #append the missing edge to the list\n",
    "removed_edges #print the list\n",
    "#removed_edges.difference(full_edge_list) #compare the two lists - should be no difference\n",
    "\n",
    "\n",
    "\n",
    "###something weird is happening here but it's more or less there. If you could sort out that would be great,\n",
    "#because ive been fiddling around with the code it would good to know it's doing what it should"
   ]
  },
  {
   "cell_type": "markdown",
   "id": "24bf3ba3",
   "metadata": {},
   "source": [
    "I think the best thing to do is write a function for each of the below. This will make it much easier to compute results for all the networks. Any questions let me know. Getting the values for each graph won't be too hard, the difficult thing will be to append it to a dataframe (have to be certain about which link we've removed - the above code could help for this). "
   ]
  },
  {
   "cell_type": "code",
   "execution_count": null,
   "id": "66110981",
   "metadata": {},
   "outputs": [],
   "source": [
    "## for below analysis, remember that the removed_link = 1 means the last row in the trip file is removed. \n",
    "# Removed_link = 2 means the second last row is removed, and so on.\n",
    "# You can use this for the mapping from fw eq flow results to the csv/dataframe.\n",
    "\n",
    "#density\n",
    "#nx.density(cities_dict[city][str(remove_link)]['network'].graph)\n",
    "\n",
    "#diameter\n",
    "\n",
    "#nx.diameter(cities_dict[city][str(remove_link)]['network'].graph)\n",
    "\n",
    "#check this out for centrality https://networkx.org/documentation/stable/reference/algorithms/centrality.html\n",
    "\n",
    "#betweeness origin\n",
    "\n",
    "#eigenvector origin\n",
    "\n",
    "#betweeness destination\n",
    "\n",
    "#eigenvector destination\n",
    "\n",
    "#flow - from initial trips file i think \n",
    "\n",
    "#cost - will need to compute"
   ]
  }
 ],
 "metadata": {
  "kernelspec": {
   "display_name": "Python 3 (ipykernel)",
   "language": "python",
   "name": "python3"
  },
  "language_info": {
   "codemirror_mode": {
    "name": "ipython",
    "version": 3
   },
   "file_extension": ".py",
   "mimetype": "text/x-python",
   "name": "python",
   "nbconvert_exporter": "python",
   "pygments_lexer": "ipython3",
   "version": "3.9.5"
  }
 },
 "nbformat": 4,
 "nbformat_minor": 5
}
