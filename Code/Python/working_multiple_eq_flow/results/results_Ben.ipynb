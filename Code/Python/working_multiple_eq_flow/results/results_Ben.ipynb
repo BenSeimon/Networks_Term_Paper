{
 "cells": [
  {
   "cell_type": "markdown",
   "id": "3f25c770",
   "metadata": {},
   "source": [
    "# Import packages"
   ]
  },
  {
   "cell_type": "code",
   "execution_count": 2,
   "id": "a76b6ec6",
   "metadata": {},
   "outputs": [
    {
     "name": "stdout",
     "output_type": "stream",
     "text": [
      "Collecting package metadata (current_repodata.json): done\n",
      "Solving environment: done\n",
      "\n",
      "# All requested packages already installed.\n",
      "\n",
      "\n",
      "Note: you may need to restart the kernel to use updated packages.\n"
     ]
    }
   ],
   "source": [
    "conda install -c anaconda graphviz"
   ]
  },
  {
   "cell_type": "code",
   "execution_count": 45,
   "id": "438dda3c",
   "metadata": {},
   "outputs": [],
   "source": [
    "#import packages\n",
    "import pickle\n",
    "import os\n",
    "import numpy as np\n",
    "import pandas as pd\n",
    "import networkx as nx\n",
    "import matplotlib.pyplot as plt\n",
    "#import graphviz this didn't work I took it out for now\n",
    "import scipy.integrate as integrate \n",
    "from scipy.optimize import minimize_scalar\n",
    "from scipy.misc import derivative\n",
    "from random import *\n",
    "import math"
   ]
  },
  {
   "cell_type": "code",
   "execution_count": 5,
   "id": "d01fffd8",
   "metadata": {},
   "outputs": [],
   "source": [
    "#create cities dictionary\n",
    "def make_dict(cities):\n",
    "    cities_dict = {}\n",
    "    for city in cities:\n",
    "        link_file_path = data_path + city + sep + city + '_net.tntp.txt'\n",
    "        node_file_path = data_path + city + sep + city +'_nodes.tntp.txt'\n",
    "        trip_file_path = data_path + city + sep + city + '_trips.tntp.txt'\n",
    "        cities_dict[city] = {}\n",
    "        to_add = {'link_file_path': link_file_path, 'node_file_path': node_file_path, 'trip_file_path': trip_file_path}\n",
    "        cities_dict[city]['file_paths'] = to_add \n",
    "    return cities_dict"
   ]
  },
  {
   "cell_type": "markdown",
   "id": "fd2b9c56",
   "metadata": {},
   "source": [
    "# Path setting"
   ]
  },
  {
   "cell_type": "code",
   "execution_count": 7,
   "id": "8db4b035",
   "metadata": {},
   "outputs": [],
   "source": [
    "classes_path = '/Users/joulevoelz/Documents/BSE/Networks/term_paper/Networks_Term_Paper/Code/Python/working_multiple_eq_flow/SiouxFalls/pytrans_working_multiple_eq_flow'\n",
    "os.chdir(classes_path)\n",
    "import Frank_Wolfe\n",
    "import TransportationNetworks as tn\n",
    "#import visualize_graph #not working for niamh\n",
    "import custom_class"
   ]
  },
  {
   "cell_type": "code",
   "execution_count": 8,
   "id": "c0f5603e",
   "metadata": {},
   "outputs": [],
   "source": [
    "#pickle path (best if local) download the dict from google drive\n",
    "path = '/Users/joulevoelz/Documents/BSE/Networks/pickle_files'\n",
    "#path = r\"C:\\Users\\35387\\OneDrive\\Documents\\Networks\" #path to that file on your machine\n",
    "os.chdir(path)"
   ]
  },
  {
   "cell_type": "markdown",
   "id": "1ae1392a",
   "metadata": {},
   "source": [
    "# Open pickle and run checks on the dict"
   ]
  },
  {
   "cell_type": "code",
   "execution_count": 9,
   "id": "ea305d56",
   "metadata": {},
   "outputs": [],
   "source": [
    "with open('SiouxFalls_dict.pickle', 'rb') as handle:\n",
    "    SiouxFalls_dict = pickle.load(handle)"
   ]
  },
  {
   "cell_type": "code",
   "execution_count": 10,
   "id": "1823b65e",
   "metadata": {},
   "outputs": [
    {
     "name": "stdout",
     "output_type": "stream",
     "text": [
      "['None', '0', '1', '2', '3', '4', '5', '6', '7', '8', '9', '10', '11', '12', '13', '14', '15', '16', '17', '18', '19', '20', '21', '22', '23', '24', '25', '26', '27', '28', '29', '30', '31', '32', '33', '34', '35', '36', '37', '38', '39', '40', '41', '42', '43', '44', '45', '46', '47', '48', '49', '50', '51', '52', '53', '54', '55', '56', '57', '58', '59', '60', '61', '62', '63', '64', '65', '66', '67', '68', '69', '70', '71', '72', '73', '74', '75']\n",
      "True\n"
     ]
    }
   ],
   "source": [
    "#quick check\n",
    "check = list(SiouxFalls_dict['SiouxFalls'].keys())\n",
    "check.remove('file_paths')\n",
    "check.remove('csv')\n",
    "print(check) #check to see if there's one None\n",
    "for i in check:\n",
    "    if SiouxFalls_dict['SiouxFalls']['csv'].shape[0] <= len(SiouxFalls_dict['SiouxFalls'][i]['network'].graph.edges):\n",
    "        print(True)\n",
    "#should only print one True i.e. only one full network - 'None'"
   ]
  },
  {
   "cell_type": "markdown",
   "id": "2c2a9fc3",
   "metadata": {},
   "source": [
    "# Create csv with equilibrium flows"
   ]
  },
  {
   "cell_type": "markdown",
   "id": "d7cff95f",
   "metadata": {},
   "source": [
    "## Original flows"
   ]
  },
  {
   "cell_type": "code",
   "execution_count": 11,
   "id": "03ab879a",
   "metadata": {},
   "outputs": [],
   "source": [
    "#below code appends the original flows\n",
    "##first you need to set the path to navigate to the trips file\n",
    "data_path = '/Users/joulevoelz/Documents/BSE/Networks/term_paper/Networks_Term_Paper/Data'\n",
    "cities = ['SiouxFalls']\n",
    "data_path = data_path \n",
    "os.chdir(data_path)"
   ]
  },
  {
   "cell_type": "markdown",
   "id": "856f7a2b",
   "metadata": {},
   "source": [
    "## Equilibrium flows"
   ]
  },
  {
   "cell_type": "code",
   "execution_count": 12,
   "id": "e63b5ed4",
   "metadata": {},
   "outputs": [],
   "source": [
    "#below code appends the equilibrium flows for each of the runs\n",
    "results_csv = SiouxFalls_dict['SiouxFalls']['csv']\n",
    "SiouxFalls_dict['SiouxFalls']['csv']['init node'] = SiouxFalls_dict['SiouxFalls']['csv']['init node'].astype(str)\n",
    "SiouxFalls_dict['SiouxFalls']['csv']['term node'] = SiouxFalls_dict['SiouxFalls']['csv']['term node'].astype(str)\n",
    "links = list(SiouxFalls_dict['SiouxFalls'].keys())\n",
    "links.remove('file_paths')\n",
    "links.remove('csv')\n",
    "for link in links: #links should be max for whole dataframe\n",
    "    init_nodes = []\n",
    "    term_nodes = []\n",
    "    eq_flow_list = []\n",
    "    results_dict = {}\n",
    "    for (init_node, term_node, eq_flow) in SiouxFalls_dict['SiouxFalls'][link]['fw_run'].graph.edges(data=True):\n",
    "        eq_flow = eq_flow['object'].vol\n",
    "        init_nodes.append(init_node)\n",
    "        term_nodes.append(term_node)\n",
    "        eq_flow_list.append(eq_flow)\n",
    "        results_dict = {'init node': init_nodes, 'term node': term_nodes, link + '_removed': eq_flow_list}\n",
    "        results_df = pd.DataFrame(data=results_dict)\n",
    "    results_csv = results_csv.merge(results_df, how ='left', on = ['init node', 'term node'], suffixes = (None, None)) \n"
   ]
  },
  {
   "cell_type": "code",
   "execution_count": 17,
   "id": "c1faac6a",
   "metadata": {},
   "outputs": [
    {
     "data": {
      "text/plain": [
       "76"
      ]
     },
     "execution_count": 17,
     "metadata": {},
     "output_type": "execute_result"
    }
   ],
   "source": [
    "# Please run a check to see if each edge has been removed once. Can do this visually from the nas if you like\n",
    "results_csv.isnull().sum().sum()"
   ]
  },
  {
   "cell_type": "markdown",
   "id": "498bd60f",
   "metadata": {},
   "source": [
    "# Compute metrics"
   ]
  },
  {
   "cell_type": "markdown",
   "id": "d82b817f",
   "metadata": {},
   "source": [
    "Note that the csv is called results_csv if you need it"
   ]
  },
  {
   "cell_type": "code",
   "execution_count": 39,
   "id": "f7d574b9",
   "metadata": {},
   "outputs": [
    {
     "data": {
      "text/plain": [
       "76"
      ]
     },
     "execution_count": 39,
     "metadata": {},
     "output_type": "execute_result"
    }
   ],
   "source": [
    "results_csv"
   ]
  },
  {
   "cell_type": "markdown",
   "id": "46905029",
   "metadata": {},
   "source": [
    "## Dictionary access tips"
   ]
  },
  {
   "cell_type": "code",
   "execution_count": null,
   "id": "1e7733fc",
   "metadata": {},
   "outputs": [],
   "source": [
    "#to get the graph on which the Frank Wolfe was computed\n",
    "chosen_link = '1'\n",
    "SiouxFalls_dict['SiouxFalls'][chosen_link]['fw_run'].graph #this is now like any digraph object that you can compute metrics on \n",
    "#e.g. nodes\n",
    "SiouxFalls_dict['SiouxFalls'][chosen_link]['fw_run'].graph.nodes\n",
    "#e.g. edges\n",
    "SiouxFalls_dict['SiouxFalls'][chosen_link]['fw_run'].graph.edges\n"
   ]
  },
  {
   "cell_type": "markdown",
   "id": "775a4069",
   "metadata": {},
   "source": [
    "## Total cost "
   ]
  },
  {
   "cell_type": "code",
   "execution_count": 62,
   "id": "bc9679e6",
   "metadata": {},
   "outputs": [],
   "source": [
    "#define a cost calculating function that returns the latency of an edge\n",
    "#based on Youn et al\n",
    "#t(x)=t0[1+α(x/c)^β]\n",
    "def latency(r_csv, edge, edge_removed):\n",
    "    \n",
    "    edge_removed_string = str(edge_removed) + \"_removed\"\n",
    "    \n",
    "    #If the flow is NAN (the edge was removed), return 0\n",
    "    flow = r_csv.at[edge,edge_removed_string]\n",
    "    if math.isnan(flow) == True:\n",
    "        return 0\n",
    "    \n",
    "    alpha = 0.2\n",
    "    beta = 4\n",
    "    t0 = r_csv.at[edge,\"free flow time\"]\n",
    "    capacity = r_csv.at[edge,\"capacity\"]\n",
    "    \n",
    "    return t0*(1 + alpha*(flow/capacity)**beta)\n",
    "\n",
    "# returns the total cost for equilibrium with a certain edge removed\n",
    "def total_cost(r_csv, edge_removed):\n",
    "    \n",
    "    ttl_cost = 0\n",
    "    for i in range(results_csv.shape[0]):\n",
    "        ttl_cost = ttl_cost + latency(r_csv,i,edge_removed)\n",
    "    \n",
    "    return ttl_cost\n",
    "\n",
    "#returns dataframe with total cost of flow for each link removed\n",
    "def total_cost_all(r_csv):\n",
    "    temp_df = pd.DataFrame(index = results_csv.index, columns = [\"ttl_cost_when_removed\"]) \n",
    "    for i in range(results_csv.shape[0]):\n",
    "        temp_df.at[i,\"ttl_cost_when_removed\"] = total_cost(r_csv,i)\n",
    "    \n",
    "    return temp_df\n",
    "    \n"
   ]
  },
  {
   "cell_type": "code",
   "execution_count": 103,
   "id": "1db1959e",
   "metadata": {},
   "outputs": [
    {
     "ename": "TypeError",
     "evalue": "'Run' object is not subscriptable",
     "output_type": "error",
     "traceback": [
      "\u001b[0;31m---------------------------------------------------------------------------\u001b[0m",
      "\u001b[0;31mTypeError\u001b[0m                                 Traceback (most recent call last)",
      "\u001b[0;32m/var/folders/gd/539s1yw17y3_4zs1h2td3r_40000gn/T/ipykernel_50104/2630244043.py\u001b[0m in \u001b[0;36m<module>\u001b[0;34m\u001b[0m\n\u001b[1;32m      1\u001b[0m \u001b[0;31m#calculate equilibrium cost for Sioux Falls\u001b[0m\u001b[0;34m\u001b[0m\u001b[0;34m\u001b[0m\u001b[0m\n\u001b[0;32m----> 2\u001b[0;31m \u001b[0mSiouxFalls_dict\u001b[0m\u001b[0;34m[\u001b[0m\u001b[0;34m'SiouxFalls'\u001b[0m\u001b[0;34m]\u001b[0m\u001b[0;34m[\u001b[0m\u001b[0;34m'None'\u001b[0m\u001b[0;34m]\u001b[0m\u001b[0;34m[\u001b[0m\u001b[0;34m'fw_run'\u001b[0m\u001b[0;34m]\u001b[0m\u001b[0;34m[\u001b[0m\u001b[0;34m'network'\u001b[0m\u001b[0;34m]\u001b[0m\u001b[0;34m[\u001b[0m\u001b[0;34m'flow'\u001b[0m\u001b[0;34m]\u001b[0m\u001b[0;34m\u001b[0m\u001b[0;34m\u001b[0m\u001b[0m\n\u001b[0m\u001b[1;32m      3\u001b[0m \u001b[0;34m\u001b[0m\u001b[0m\n",
      "\u001b[0;31mTypeError\u001b[0m: 'Run' object is not subscriptable"
     ]
    }
   ],
   "source": []
  },
  {
   "cell_type": "code",
   "execution_count": 85,
   "id": "8d64f2bc",
   "metadata": {},
   "outputs": [
    {
     "data": {
      "text/html": [
       "<div>\n",
       "<style scoped>\n",
       "    .dataframe tbody tr th:only-of-type {\n",
       "        vertical-align: middle;\n",
       "    }\n",
       "\n",
       "    .dataframe tbody tr th {\n",
       "        vertical-align: top;\n",
       "    }\n",
       "\n",
       "    .dataframe thead th {\n",
       "        text-align: right;\n",
       "    }\n",
       "</style>\n",
       "<table border=\"1\" class=\"dataframe\">\n",
       "  <thead>\n",
       "    <tr style=\"text-align: right;\">\n",
       "      <th></th>\n",
       "      <th>ttl_cost_when_removed</th>\n",
       "    </tr>\n",
       "  </thead>\n",
       "  <tbody>\n",
       "    <tr>\n",
       "      <th>0</th>\n",
       "      <td>806.676941</td>\n",
       "    </tr>\n",
       "    <tr>\n",
       "      <th>1</th>\n",
       "      <td>862.270576</td>\n",
       "    </tr>\n",
       "    <tr>\n",
       "      <th>2</th>\n",
       "      <td>806.944658</td>\n",
       "    </tr>\n",
       "    <tr>\n",
       "      <th>3</th>\n",
       "      <td>801.621081</td>\n",
       "    </tr>\n",
       "    <tr>\n",
       "      <th>4</th>\n",
       "      <td>862.087744</td>\n",
       "    </tr>\n",
       "    <tr>\n",
       "      <th>...</th>\n",
       "      <td>...</td>\n",
       "    </tr>\n",
       "    <tr>\n",
       "      <th>71</th>\n",
       "      <td>819.136714</td>\n",
       "    </tr>\n",
       "    <tr>\n",
       "      <th>72</th>\n",
       "      <td>811.322452</td>\n",
       "    </tr>\n",
       "    <tr>\n",
       "      <th>73</th>\n",
       "      <td>863.471087</td>\n",
       "    </tr>\n",
       "    <tr>\n",
       "      <th>74</th>\n",
       "      <td>827.583559</td>\n",
       "    </tr>\n",
       "    <tr>\n",
       "      <th>75</th>\n",
       "      <td>810.903195</td>\n",
       "    </tr>\n",
       "  </tbody>\n",
       "</table>\n",
       "<p>76 rows × 1 columns</p>\n",
       "</div>"
      ],
      "text/plain": [
       "   ttl_cost_when_removed\n",
       "0             806.676941\n",
       "1             862.270576\n",
       "2             806.944658\n",
       "3             801.621081\n",
       "4             862.087744\n",
       "..                   ...\n",
       "71            819.136714\n",
       "72            811.322452\n",
       "73            863.471087\n",
       "74            827.583559\n",
       "75            810.903195\n",
       "\n",
       "[76 rows x 1 columns]"
      ]
     },
     "execution_count": 85,
     "metadata": {},
     "output_type": "execute_result"
    }
   ],
   "source": [
    "#test functions\n",
    "latency(results_csv,3,0)\n",
    "total_cost(results_csv,5)\n",
    "total_cost_all(results_csv)"
   ]
  },
  {
   "cell_type": "code",
   "execution_count": 105,
   "id": "49124ee1",
   "metadata": {},
   "outputs": [
    {
     "name": "stdout",
     "output_type": "stream",
     "text": [
      "1  ->  2 :  4494.541769891608\n",
      "1  ->  3 :  8118.778958018833\n",
      "2  ->  1 :  4519.221797661597\n",
      "2  ->  6 :  5967.415424264172\n",
      "3  ->  1 :  8094.098930248844\n",
      "3  ->  4 :  14011.734532365375\n",
      "3  ->  12 :  10027.635980625804\n",
      "6  ->  2 :  5992.095452034151\n",
      "6  ->  5 :  8806.410890570694\n",
      "6  ->  8 :  12492.075338963252\n",
      "4  ->  3 :  14035.300255284554\n",
      "4  ->  5 :  18010.561177668467\n",
      "4  ->  11 :  5203.13865525387\n",
      "12  ->  3 :  9979.390229936655\n",
      "12  ->  11 :  8404.306735865635\n",
      "12  ->  13 :  12293.499582309718\n",
      "5  ->  4 :  18034.525518068713\n",
      "5  ->  6 :  8797.1895868881\n",
      "5  ->  9 :  15783.996289327333\n",
      "11  ->  4 :  5302.740037772761\n",
      "11  ->  10 :  17603.652145860353\n",
      "11  ->  12 :  8365.259304287434\n",
      "11  ->  14 :  9776.846543284393\n",
      "9  ->  5 :  15798.73932604504\n",
      "9  ->  8 :  6837.003588255241\n",
      "9  ->  10 :  21745.98823492458\n",
      "8  ->  6 :  12525.976670415792\n",
      "8  ->  7 :  12041.696631484156\n",
      "8  ->  9 :  6881.813917130209\n",
      "8  ->  16 :  8387.782258682433\n",
      "7  ->  8 :  12102.268632570476\n",
      "7  ->  18 :  15797.411851030634\n",
      "18  ->  7 :  15857.98385211697\n",
      "18  ->  16 :  15338.763385954406\n",
      "18  ->  20 :  18981.85790207594\n",
      "16  ->  8 :  8405.921917923628\n",
      "16  ->  10 :  11073.09910606305\n",
      "16  ->  17 :  11692.431092586427\n",
      "16  ->  18 :  15282.953024363494\n",
      "10  ->  9 :  21815.92094276737\n",
      "10  ->  11 :  17726.175580628205\n",
      "10  ->  15 :  23127.114768810752\n",
      "10  ->  16 :  11046.400103742519\n",
      "10  ->  17 :  8100.259980005657\n",
      "15  ->  10 :  23193.033134005193\n",
      "15  ->  14 :  9081.050165155453\n",
      "15  ->  19 :  19083.48231051273\n",
      "15  ->  22 :  18407.035577891682\n",
      "17  ->  10 :  8100.098755101294\n",
      "17  ->  16 :  11681.459392557328\n",
      "17  ->  19 :  9952.4570048326\n",
      "14  ->  11 :  9814.877059457245\n",
      "14  ->  15 :  9038.201593043448\n",
      "14  ->  23 :  8399.68716034066\n",
      "13  ->  12 :  12384.301263198748\n",
      "13  ->  24 :  11121.192719084645\n",
      "24  ->  13 :  11111.994399973699\n",
      "24  ->  21 :  10257.083853664044\n",
      "24  ->  23 :  7862.518017713638\n",
      "23  ->  14 :  8394.869104401481\n",
      "23  ->  22 :  9625.288009803588\n",
      "23  ->  24 :  7902.576837001228\n",
      "19  ->  15 :  19115.979008985603\n",
      "19  ->  17 :  9941.324079899152\n",
      "19  ->  20 :  8687.309218859025\n",
      "22  ->  15 :  18383.305816725122\n",
      "22  ->  20 :  7000.937506414858\n",
      "22  ->  21 :  8606.710833612316\n",
      "22  ->  23 :  9660.52877315203\n",
      "20  ->  18 :  18998.240264753113\n",
      "20  ->  19 :  8708.672992398446\n",
      "20  ->  21 :  6303.270721346807\n",
      "20  ->  22 :  7000.651706104189\n",
      "21  ->  20 :  6240.731057252743\n",
      "21  ->  22 :  8618.50763610502\n",
      "21  ->  24 :  10307.826715265484\n"
     ]
    }
   ],
   "source": [
    "#Get equilibrium flow for None\n",
    "none_df = None\n",
    "eq_flow = None\n",
    "for (init_node, term_node, eq_flow) in SiouxFalls_dict['SiouxFalls']['None']['fw_run'].graph.edges(data=True):\n",
    "    eq_flow = eq_flow['object'].vol\n",
    "    eq_flow\n",
    "    #none_df = pd.DataFrame(data=eq_flow,index = results_csv.index, columns = [\"eq_flow\"])\n",
    "    \n",
    "eq_flow   \n",
    "SiouxFalls_dict['SiouxFalls']['None']['fw_run'].showODFlow()\n",
    "\n",
    "#how to do this ???"
   ]
  },
  {
   "cell_type": "markdown",
   "id": "74bd9b66",
   "metadata": {},
   "source": [
    "## Network related"
   ]
  },
  {
   "cell_type": "code",
   "execution_count": null,
   "id": "8175754c",
   "metadata": {},
   "outputs": [],
   "source": []
  },
  {
   "cell_type": "code",
   "execution_count": null,
   "id": "de0096d4",
   "metadata": {},
   "outputs": [],
   "source": [
    "#since we are only looking at the original network, compute density and diameter for original network"
   ]
  },
  {
   "cell_type": "code",
   "execution_count": null,
   "id": "20a2d400",
   "metadata": {},
   "outputs": [],
   "source": [
    "nx.density(SiouxFalls_dict['SiouxFalls']['None']['fw_run'].graph)\n",
    "nx.diameter(SiouxFalls_dict['SiouxFalls']['None']['fw_rum'].graph)"
   ]
  },
  {
   "cell_type": "markdown",
   "id": "1744fc65",
   "metadata": {},
   "source": [
    "## Node related"
   ]
  },
  {
   "cell_type": "markdown",
   "id": "f068ecca",
   "metadata": {},
   "source": [
    "Centrality measures to compute are available here https://networkx.org/documentation/stable/reference/algorithms/centrality.html\n",
    "\n",
    "Below is Niamh's first pass. This might be easier now that we have the csv but not sure"
   ]
  },
  {
   "cell_type": "code",
   "execution_count": null,
   "id": "568247f6",
   "metadata": {},
   "outputs": [],
   "source": [
    "#Node Based measures\n",
    "\n",
    "#origin nodes\n",
    "    for node in origin_nodes:\n",
    "        \n",
    "        #betweeness origin\n",
    "        betweeness_origin = []\n",
    "        #betweenness_centrality(G, nodes)\n",
    "            #need to specify nodes in here\n",
    "        betweeness_origin_i = nx.betweenness_centrality(SiouxFalls_dict['SiouxFalls'][link_to_removed]['network'].graph, NODES)\n",
    "        betweeness_origin.append(betweeness_origin_i)\n",
    "\n",
    "#how to specify nodes here?\n",
    "        #eigenvector origin\n",
    "        eigen_origin = []\n",
    "        eigen_origin_i = eigenvector_centrality(G, max_iter=100, tol=1e-06, nstart=None, weight=None)\n",
    "        eigen_origin.append(eigen_origin_i)\n",
    "        \n",
    "\n",
    "#destination nodes\n",
    "    for node in destination_nodes:\n",
    "        \n",
    "        #betweeness destination\n",
    "        betweeness_destination = []\n",
    "        #betweenness_centrality(G, nodes)\n",
    "            #need to specify nodes in here\n",
    "        betweeness_origin_i = nx.betweenness_centrality(SiouxFalls_dict['SiouxFalls'][link_to_removed]['network'].graph, NODES)\n",
    "        betweeness_origin.append(betweeness_origin_i)\n",
    "\n",
    "#how to specify nodes here?\n",
    "        #eigenvector destination\n",
    "        eigen_dest = []\n",
    "        eigen_dest_i = eigenvector_centrality(SiouxFalls_dict['SiouxFalls'][link_to_removed]['network'].graph)\n",
    "        eigen_dest.append(eigen_dest_i)"
   ]
  },
  {
   "cell_type": "markdown",
   "id": "484f0a31",
   "metadata": {},
   "source": [
    "## Edge related"
   ]
  },
  {
   "cell_type": "code",
   "execution_count": null,
   "id": "7388ed86",
   "metadata": {},
   "outputs": [],
   "source": [
    "SiouxFalls_dict['SiouxFalls']['csv']['init node'] = SiouxFalls_dict['SiouxFalls']['csv']['init node'].astype(str)\n",
    "SiouxFalls_dict['SiouxFalls']['csv']['term node'] = SiouxFalls_dict['SiouxFalls']['csv']['term node'].astype(str)"
   ]
  },
  {
   "cell_type": "code",
   "execution_count": null,
   "id": "b41384e6",
   "metadata": {},
   "outputs": [],
   "source": [
    "test = SiouxFalls_dict['SiouxFalls']['csv']\n",
    "test.merge(results_df, how = 'left', on = ['init node', 'term node'])['eq flow']"
   ]
  }
 ],
 "metadata": {
  "kernelspec": {
   "display_name": "Python 3 (ipykernel)",
   "language": "python",
   "name": "python3"
  },
  "language_info": {
   "codemirror_mode": {
    "name": "ipython",
    "version": 3
   },
   "file_extension": ".py",
   "mimetype": "text/x-python",
   "name": "python",
   "nbconvert_exporter": "python",
   "pygments_lexer": "ipython3",
   "version": "3.9.7"
  }
 },
 "nbformat": 4,
 "nbformat_minor": 5
}
