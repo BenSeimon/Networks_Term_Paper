{
 "cells": [
  {
   "cell_type": "markdown",
   "id": "43849984",
   "metadata": {},
   "source": [
    "To note:\n",
    "\n",
    "- No idea what b is \n",
    "- Below is a couple of definitions from the GitHub page which might come in handy\n",
    "\n",
    "Link travel time = free flow time * ( 1 + B * (flow/capacity)^Power ).\n",
    "Link generalized cost = Link travel time + toll_factor * toll + distance_factor * distance"
   ]
  },
  {
   "cell_type": "markdown",
   "id": "83a47462",
   "metadata": {},
   "source": [
    "# Setup: import packages"
   ]
  },
  {
   "cell_type": "code",
   "execution_count": 1,
   "id": "96c96558",
   "metadata": {},
   "outputs": [],
   "source": [
    "#install packages if required\n",
    "#%pip install networkx"
   ]
  },
  {
   "cell_type": "code",
   "execution_count": 2,
   "id": "5a481df0",
   "metadata": {},
   "outputs": [],
   "source": [
    "#import packages \n",
    "import os\n",
    "import pandas as pd\n",
    "import networkx as nx\n",
    "import matplotlib.pyplot as plt\n",
    "import graphviz\n",
    "import scipy.integrate as integrate \n",
    "from scipy.optimize import minimize_scalar\n",
    "from scipy.misc import derivative\n",
    "import numpy as np\n",
    "import os\n",
    "from random import *"
   ]
  },
  {
   "cell_type": "code",
   "execution_count": 3,
   "id": "bdd4d771",
   "metadata": {},
   "outputs": [],
   "source": [
    "#create cities dictionary\n",
    "def make_dict(cities):\n",
    "    cities_dict = {}\n",
    "    for city in cities:\n",
    "        link_file_path = data_path + city + '/' + city + '_net.tntp.txt'\n",
    "        node_file_path = data_path + city + '/' + city +'_nodes.tntp.txt'\n",
    "        trip_file_path = data_path + city + '/' + city + '_trips.tntp.txt'\n",
    "        cities_dict[city] = {}\n",
    "        to_add = {'link_file_path': link_file_path, 'node_file_path': node_file_path, 'trip_file_path': trip_file_path}\n",
    "        cities_dict[city]['file_paths'] = to_add \n",
    "    return cities_dict"
   ]
  },
  {
   "cell_type": "markdown",
   "id": "b18680b9",
   "metadata": {},
   "source": [
    "# Set file paths and city"
   ]
  },
  {
   "cell_type": "code",
   "execution_count": 4,
   "id": "64ed0df1",
   "metadata": {},
   "outputs": [],
   "source": [
    "data_path = '/Users/benseimon/Documents/Barca GSE/Studies/Term 2/Networks/Term Paper/Networks_Term_Paper/Data/'\n",
    "cities = ['Berlin-Tiergarten']\n",
    "data_path = data_path \n",
    "os.chdir(data_path)"
   ]
  },
  {
   "cell_type": "markdown",
   "id": "0adb39be",
   "metadata": {},
   "source": [
    "# Import required classes"
   ]
  },
  {
   "cell_type": "code",
   "execution_count": 5,
   "id": "e8255940",
   "metadata": {},
   "outputs": [],
   "source": [
    "classes_path = '/Users/benseimon/Documents/Barca GSE/Studies/Term 2/Networks/Term Paper/Networks_Term_Paper/Code/Python/working_multiple_eq_flow/Berlin/pytrans_working_multiple_eq_flow'\n",
    "#network_analysis_path_niamh = r'C:\\Users\\35387\\OneDrive\\Documents\\Networks\\New folder\\Networks_Term_Paper\\pytrans_UrbanNetworkAnalysis\\pytrans\\UrbanNetworkAnalysis\\original_edited'\n",
    "os.chdir(classes_path)\n",
    "import Frank_Wolfe\n",
    "import TransportationNetworks as tn\n",
    "import visualize_graph\n",
    "import custom_class"
   ]
  },
  {
   "cell_type": "markdown",
   "id": "d97dede8",
   "metadata": {},
   "source": [
    "# Make dict"
   ]
  },
  {
   "cell_type": "code",
   "execution_count": 6,
   "id": "cbc1a167",
   "metadata": {},
   "outputs": [
    {
     "data": {
      "text/plain": [
       "{'Berlin-Tiergarten': {'file_paths': {'link_file_path': '/Users/benseimon/Documents/Barca GSE/Studies/Term 2/Networks/Term Paper/Networks_Term_Paper/Data/Berlin-Tiergarten/Berlin-Tiergarten_net.tntp.txt',\n",
       "   'node_file_path': '/Users/benseimon/Documents/Barca GSE/Studies/Term 2/Networks/Term Paper/Networks_Term_Paper/Data/Berlin-Tiergarten/Berlin-Tiergarten_nodes.tntp.txt',\n",
       "   'trip_file_path': '/Users/benseimon/Documents/Barca GSE/Studies/Term 2/Networks/Term Paper/Networks_Term_Paper/Data/Berlin-Tiergarten/Berlin-Tiergarten_trips.tntp.txt'}}}"
      ]
     },
     "execution_count": 6,
     "metadata": {},
     "output_type": "execute_result"
    }
   ],
   "source": [
    "cities_dict = make_dict(cities)\n",
    "cities_dict"
   ]
  },
  {
   "cell_type": "markdown",
   "id": "3ba84367",
   "metadata": {},
   "source": [
    "# instantiate class"
   ]
  },
  {
   "cell_type": "code",
   "execution_count": 7,
   "id": "2b44de20",
   "metadata": {},
   "outputs": [],
   "source": [
    "#instantiate class \n",
    "trial_run = custom_class.fw_custom_algorithm(cities_dict)"
   ]
  },
  {
   "cell_type": "markdown",
   "id": "e924e3d2",
   "metadata": {},
   "source": [
    "# Observe one city"
   ]
  },
  {
   "cell_type": "code",
   "execution_count": 8,
   "id": "c369bee4",
   "metadata": {},
   "outputs": [],
   "source": [
    "#set city for investigation\n",
    "city = cities[0]"
   ]
  },
  {
   "cell_type": "code",
   "execution_count": 9,
   "id": "f689fbe9",
   "metadata": {},
   "outputs": [
    {
     "data": {
      "text/html": [
       "<div>\n",
       "<style scoped>\n",
       "    .dataframe tbody tr th:only-of-type {\n",
       "        vertical-align: middle;\n",
       "    }\n",
       "\n",
       "    .dataframe tbody tr th {\n",
       "        vertical-align: top;\n",
       "    }\n",
       "\n",
       "    .dataframe thead th {\n",
       "        text-align: right;\n",
       "    }\n",
       "</style>\n",
       "<table border=\"1\" class=\"dataframe\">\n",
       "  <thead>\n",
       "    <tr style=\"text-align: right;\">\n",
       "      <th></th>\n",
       "      <th>init_node</th>\n",
       "      <th>term_node</th>\n",
       "      <th>capacity</th>\n",
       "      <th>length</th>\n",
       "      <th>free_flow_time</th>\n",
       "      <th>b</th>\n",
       "      <th>power</th>\n",
       "      <th>speed</th>\n",
       "      <th>toll</th>\n",
       "      <th>link_type</th>\n",
       "    </tr>\n",
       "  </thead>\n",
       "  <tbody>\n",
       "    <tr>\n",
       "      <th>104</th>\n",
       "      <td>27</td>\n",
       "      <td>28</td>\n",
       "      <td>2800.0</td>\n",
       "      <td>25.0</td>\n",
       "      <td>3.666667</td>\n",
       "      <td>1.0</td>\n",
       "      <td>4.0</td>\n",
       "      <td>0.0</td>\n",
       "      <td>0.0</td>\n",
       "      <td>1</td>\n",
       "    </tr>\n",
       "    <tr>\n",
       "      <th>105</th>\n",
       "      <td>27</td>\n",
       "      <td>188</td>\n",
       "      <td>2800.0</td>\n",
       "      <td>24.0</td>\n",
       "      <td>1.000000</td>\n",
       "      <td>1.0</td>\n",
       "      <td>4.0</td>\n",
       "      <td>0.0</td>\n",
       "      <td>0.0</td>\n",
       "      <td>1</td>\n",
       "    </tr>\n",
       "    <tr>\n",
       "      <th>106</th>\n",
       "      <td>28</td>\n",
       "      <td>32</td>\n",
       "      <td>2800.0</td>\n",
       "      <td>54.0</td>\n",
       "      <td>3.666667</td>\n",
       "      <td>1.0</td>\n",
       "      <td>4.0</td>\n",
       "      <td>0.0</td>\n",
       "      <td>0.0</td>\n",
       "      <td>1</td>\n",
       "    </tr>\n",
       "    <tr>\n",
       "      <th>107</th>\n",
       "      <td>28</td>\n",
       "      <td>109</td>\n",
       "      <td>2400.0</td>\n",
       "      <td>394.0</td>\n",
       "      <td>10.000000</td>\n",
       "      <td>1.0</td>\n",
       "      <td>4.0</td>\n",
       "      <td>0.0</td>\n",
       "      <td>0.0</td>\n",
       "      <td>1</td>\n",
       "    </tr>\n",
       "    <tr>\n",
       "      <th>108</th>\n",
       "      <td>29</td>\n",
       "      <td>30</td>\n",
       "      <td>2800.0</td>\n",
       "      <td>33.0</td>\n",
       "      <td>3.000000</td>\n",
       "      <td>1.0</td>\n",
       "      <td>4.0</td>\n",
       "      <td>0.0</td>\n",
       "      <td>0.0</td>\n",
       "      <td>1</td>\n",
       "    </tr>\n",
       "    <tr>\n",
       "      <th>...</th>\n",
       "      <td>...</td>\n",
       "      <td>...</td>\n",
       "      <td>...</td>\n",
       "      <td>...</td>\n",
       "      <td>...</td>\n",
       "      <td>...</td>\n",
       "      <td>...</td>\n",
       "      <td>...</td>\n",
       "      <td>...</td>\n",
       "      <td>...</td>\n",
       "    </tr>\n",
       "    <tr>\n",
       "      <th>761</th>\n",
       "      <td>360</td>\n",
       "      <td>119</td>\n",
       "      <td>2800.0</td>\n",
       "      <td>41.0</td>\n",
       "      <td>5.333333</td>\n",
       "      <td>1.0</td>\n",
       "      <td>4.0</td>\n",
       "      <td>0.0</td>\n",
       "      <td>0.0</td>\n",
       "      <td>1</td>\n",
       "    </tr>\n",
       "    <tr>\n",
       "      <th>762</th>\n",
       "      <td>360</td>\n",
       "      <td>132</td>\n",
       "      <td>2800.0</td>\n",
       "      <td>27.0</td>\n",
       "      <td>2.000000</td>\n",
       "      <td>1.0</td>\n",
       "      <td>4.0</td>\n",
       "      <td>0.0</td>\n",
       "      <td>0.0</td>\n",
       "      <td>1</td>\n",
       "    </tr>\n",
       "    <tr>\n",
       "      <th>763</th>\n",
       "      <td>361</td>\n",
       "      <td>34</td>\n",
       "      <td>600.0</td>\n",
       "      <td>327.0</td>\n",
       "      <td>12.333333</td>\n",
       "      <td>1.0</td>\n",
       "      <td>4.0</td>\n",
       "      <td>0.0</td>\n",
       "      <td>0.0</td>\n",
       "      <td>1</td>\n",
       "    </tr>\n",
       "    <tr>\n",
       "      <th>764</th>\n",
       "      <td>361</td>\n",
       "      <td>43</td>\n",
       "      <td>2800.0</td>\n",
       "      <td>363.0</td>\n",
       "      <td>14.000000</td>\n",
       "      <td>1.0</td>\n",
       "      <td>4.0</td>\n",
       "      <td>0.0</td>\n",
       "      <td>0.0</td>\n",
       "      <td>1</td>\n",
       "    </tr>\n",
       "    <tr>\n",
       "      <th>765</th>\n",
       "      <td>361</td>\n",
       "      <td>167</td>\n",
       "      <td>900.0</td>\n",
       "      <td>70.0</td>\n",
       "      <td>3.333333</td>\n",
       "      <td>1.0</td>\n",
       "      <td>4.0</td>\n",
       "      <td>0.0</td>\n",
       "      <td>0.0</td>\n",
       "      <td>1</td>\n",
       "    </tr>\n",
       "  </tbody>\n",
       "</table>\n",
       "<p>560 rows × 10 columns</p>\n",
       "</div>"
      ],
      "text/plain": [
       "     init_node  term_node  capacity  length  free_flow_time    b  power  \\\n",
       "104         27         28    2800.0    25.0        3.666667  1.0    4.0   \n",
       "105         27        188    2800.0    24.0        1.000000  1.0    4.0   \n",
       "106         28         32    2800.0    54.0        3.666667  1.0    4.0   \n",
       "107         28        109    2400.0   394.0       10.000000  1.0    4.0   \n",
       "108         29         30    2800.0    33.0        3.000000  1.0    4.0   \n",
       "..         ...        ...       ...     ...             ...  ...    ...   \n",
       "761        360        119    2800.0    41.0        5.333333  1.0    4.0   \n",
       "762        360        132    2800.0    27.0        2.000000  1.0    4.0   \n",
       "763        361         34     600.0   327.0       12.333333  1.0    4.0   \n",
       "764        361         43    2800.0   363.0       14.000000  1.0    4.0   \n",
       "765        361        167     900.0    70.0        3.333333  1.0    4.0   \n",
       "\n",
       "     speed  toll  link_type  \n",
       "104    0.0   0.0          1  \n",
       "105    0.0   0.0          1  \n",
       "106    0.0   0.0          1  \n",
       "107    0.0   0.0          1  \n",
       "108    0.0   0.0          1  \n",
       "..     ...   ...        ...  \n",
       "761    0.0   0.0          1  \n",
       "762    0.0   0.0          1  \n",
       "763    0.0   0.0          1  \n",
       "764    0.0   0.0          1  \n",
       "765    0.0   0.0          1  \n",
       "\n",
       "[560 rows x 10 columns]"
      ]
     },
     "execution_count": 9,
     "metadata": {},
     "output_type": "execute_result"
    }
   ],
   "source": [
    "trial_run.create_links_csv()\n",
    "cities_dict[city]['csv']"
   ]
  },
  {
   "cell_type": "markdown",
   "id": "a313e0cd",
   "metadata": {},
   "source": [
    "# Plot graph"
   ]
  },
  {
   "cell_type": "code",
   "execution_count": 10,
   "id": "1695ef69",
   "metadata": {},
   "outputs": [
    {
     "name": "stdout",
     "output_type": "stream",
     "text": [
      "Total number of nodes in Berlin-Tiergarten: 333\n",
      "Total number of edges in Berlin-Tiergarten: 560\n",
      "Graph for: Berlin-Tiergarten\n"
     ]
    },
    {
     "data": {
      "image/png": "[encoded data removed]",
      "text/plain": [
       "<Figure size 432x288 with 1 Axes>"
      ]
     },
     "metadata": {},
     "output_type": "display_data"
    }
   ],
   "source": [
    "#Create csvs, plot graph and show summary stats\n",
    "trial_run.summary_stats_all()\n",
    "trial_run.plot(city)"
   ]
  },
  {
   "cell_type": "markdown",
   "id": "afadb511",
   "metadata": {},
   "source": [
    "# Observe example network data"
   ]
  },
  {
   "cell_type": "code",
   "execution_count": 11,
   "id": "e99ee18b",
   "metadata": {
    "scrolled": true
   },
   "outputs": [
    {
     "name": "stdout",
     "output_type": "stream",
     "text": [
      "No links removed\n",
      "<TransportationNetworks.Network object at 0x7fd6eac16f40>\n",
      "Berlin-Tiergarten graph is: DiGraph with 333 nodes and 560 edges\n",
      "Berlin-Tiergarten origin nodes are: ['1', '2', '3', '4', '5', '6', '7', '8', '9', '10', '11', '12', '13', '14', '15', '16', '17', '18', '19', '20', '21', '22', '23', '24', '25', '26']\n",
      "Berlin-Tiergarten flows are: {('1', '2'): 22.59, ('1', '3'): 18.32, ('1', '4'): 21.82, ('1', '5'): 15.22, ('1', '6'): 3.73, ('1', '7'): 0.1, ('1', '8'): 0.31, ('1', '9'): 1.22, ('1', '10'): 0.52, ('1', '11'): 0.21, ('1', '12'): 1.52, ('1', '13'): 11.19, ('1', '14'): 19.89, ('1', '15'): 19.45, ('1', '16'): 11.08, ('1', '17'): 19.53, ('1', '18'): 0.46, ('1', '19'): 0.13, ('1', '20'): 10.2, ('1', '21'): 12.93, ('1', '22'): 12.04, ('1', '23'): 10.91, ('1', '24'): 0.03, ('1', '25'): 0.49, ('1', '26'): 3.68, ('2', '1'): 22.5, ('2', '3'): 41.82, ('2', '4'): 86.27, ('2', '5'): 43.27, ('2', '6'): 38.19, ('2', '7'): 3.04, ('2', '8'): 2.14, ('2', '9'): 4.8, ('2', '10'): 4.47, ('2', '11'): 1.17, ('2', '12'): 9.07, ('2', '13'): 17.68, ('2', '14'): 47.42, ('2', '15'): 45.27, ('2', '16'): 32.58, ('2', '17'): 39.95, ('2', '18'): 13.96, ('2', '19'): 1.47, ('2', '20'): 65.25, ('2', '21'): 24.39, ('2', '22'): 46.36, ('2', '23'): 27.87, ('2', '24'): 0.23, ('2', '25'): 15.0, ('2', '26'): 10.55, ('3', '1'): 18.25, ('3', '2'): 42.0, ('3', '4'): 68.8, ('3', '5'): 41.65, ('3', '6'): 28.1, ('3', '7'): 2.71, ('3', '8'): 2.09, ('3', '9'): 5.25, ('3', '10'): 4.21, ('3', '11'): 1.31, ('3', '12'): 10.47, ('3', '13'): 21.0, ('3', '14'): 54.28, ('3', '15'): 40.59, ('3', '16'): 24.21, ('3', '17'): 46.22, ('3', '18'): 11.75, ('3', '19'): 1.29, ('3', '20'): 67.93, ('3', '21'): 23.91, ('3', '22'): 40.92, ('3', '23'): 29.82, ('3', '24'): 0.21, ('3', '25'): 12.71, ('3', '26'): 11.04, ('4', '1'): 21.73, ('4', '2'): 86.27, ('4', '3'): 68.57, ('4', '5'): 68.44, ('4', '6'): 41.0, ('4', '7'): 4.51, ('4', '8'): 3.05, ('4', '9'): 7.39, ('4', '10'): 5.71, ('4', '11'): 2.05, ('4', '12'): 15.09, ('4', '13'): 34.58, ('4', '14'): 67.27, ('4', '15'): 82.07, ('4', '16'): 45.05, ('4', '17'): 75.29, ('4', '18'): 19.36, ('4', '19'): 1.98, ('4', '20'): 122.38, ('4', '21'): 37.18, ('4', '22'): 47.54, ('4', '23'): 45.19, ('4', '24'): 0.28, ('4', '25'): 18.68, ('4', '26'): 19.59, ('5', '1'): 15.18, ('5', '2'): 43.69, ('5', '3'): 41.76, ('5', '4'): 68.93, ('5', '6'): 25.59, ('5', '7'): 3.21, ('5', '8'): 2.39, ('5', '9'): 5.23, ('5', '10'): 4.72, ('5', '11'): 1.58, ('5', '12'): 13.38, ('5', '13'): 16.79, ('5', '14'): 34.29, ('5', '15'): 29.73, ('5', '16'): 20.17, ('5', '17'): 28.49, ('5', '18'): 13.32, ('5', '19'): 1.17, ('5', '20'): 71.2, ('5', '21'): 22.82, ('5', '22'): 36.6, ('5', '23'): 23.42, ('5', '24'): 0.19, ('5', '25'): 10.41, ('5', '26'): 8.96, ('6', '1'): 3.74, ('6', '2'): 38.69, ('6', '3'): 28.41, ('6', '4'): 41.51, ('6', '5'): 25.87, ('6', '7'): 0.56, ('6', '8'): 0.98, ('6', '9'): 3.9, ('6', '10'): 1.76, ('6', '11'): 0.77, ('6', '12'): 6.58, ('6', '13'): 19.17, ('6', '14'): 36.77, ('6', '15'): 34.85, ('6', '16'): 14.94, ('6', '17'): 24.69, ('6', '18'): 1.77, ('6', '19'): 0.38, ('6', '20'): 22.21, ('6', '21'): 25.01, ('6', '22'): 16.08, ('6', '23'): 15.36, ('6', '24'): 0.09, ('6', '25'): 1.67, ('6', '26'): 6.77, ('7', '1'): 0.19, ('7', '2'): 5.29, ('7', '3'): 4.72, ('7', '4'): 7.82, ('7', '5'): 5.59, ('7', '6'): 0.98, ('7', '8'): 9.16, ('7', '9'): 53.9, ('7', '10'): 14.17, ('7', '11'): 10.4, ('7', '12'): 77.55, ('7', '13'): 2.2, ('7', '14'): 6.44, ('7', '15'): 5.87, ('7', '16'): 2.7, ('7', '17'): 4.91, ('7', '19'): 2.61, ('7', '20'): 1.4, ('7', '21'): 3.22, ('7', '22'): 3.29, ('7', '23'): 3.56, ('7', '24'): 0.72, ('7', '26'): 1.02, ('8', '1'): 0.2, ('8', '2'): 1.46, ('8', '3'): 1.4, ('8', '4'): 2.08, ('8', '5'): 1.61, ('8', '6'): 0.63, ('8', '7'): 12.42, ('8', '9'): 23.43, ('8', '10'): 11.69, ('8', '11'): 8.21, ('8', '12'): 44.02, ('8', '13'): 1.11, ('8', '14'): 2.69, ('8', '15'): 1.72, ('8', '16'): 1.66, ('8', '17'): 3.06, ('8', '18'): 0.25, ('8', '19'): 0.57, ('8', '20'): 1.52, ('8', '21'): 1.55, ('8', '22'): 1.8, ('8', '23'): 0.86, ('8', '24'): 1.5, ('8', '25'): 0.09, ('8', '26'): 0.45, ('9', '1'): 0.85, ('9', '2'): 5.02, ('9', '3'): 5.13, ('9', '4'): 7.08, ('9', '5'): 5.71, ('9', '6'): 2.9, ('9', '7'): 63.91, ('9', '8'): 20.27, ('9', '10'): 54.59, ('9', '11'): 40.76, ('9', '12'): 205.15, ('9', '13'): 2.58, ('9', '14'): 6.21, ('9', '15'): 6.06, ('9', '16'): 4.74, ('9', '17'): 7.62, ('9', '18'): 1.3, ('9', '19'): 2.55, ('9', '20'): 5.56, ('9', '21'): 3.79, ('9', '22'): 5.11, ('9', '23'): 2.86, ('9', '24'): 7.59, ('9', '25'): 0.43, ('9', '26'): 1.21, ('10', '1'): 0.36, ('10', '2'): 4.27, ('10', '3'): 3.84, ('10', '4'): 5.26, ('10', '5'): 4.48, ('10', '6'): 1.32, ('10', '7'): 19.22, ('10', '8'): 11.04, ('10', '9'): 53.64, ('10', '11'): 17.42, ('10', '12'): 117.92, ('10', '13'): 2.42, ('10', '14'): 5.0, ('10', '15'): 4.95, ('10', '16'): 3.46, ('10', '17'): 5.83, ('10', '18'): 0.41, ('10', '19'): 1.95, ('10', '20'): 3.4, ('10', '21'): 3.33, ('10', '22'): 3.4, ('10', '23'): 2.02, ('10', '24'): 2.03, ('10', '25'): 0.2, ('10', '26'): 0.77, ('11', '1'): 0.16, ('11', '2'): 1.42, ('11', '3'): 1.5, ('11', '4'): 2.32, ('11', '5'): 1.94, ('11', '6'): 0.65, ('11', '7'): 12.34, ('11', '8'): 6.59, ('11', '9'): 38.51, ('11', '10'): 15.81, ('11', '12'): 47.93, ('11', '13'): 0.86, ('11', '14'): 2.84, ('11', '15'): 1.92, ('11', '16'): 1.55, ('11', '17'): 3.37, ('11', '18'): 0.24, ('11', '19'): 1.15, ('11', '20'): 0.98, ('11', '21'): 1.33, ('11', '22'): 1.79, ('11', '23'): 1.14, ('11', '24'): 1.45, ('11', '25'): 0.05, ('11', '26'): 0.52, ('12', '1'): 1.03, ('12', '2'): 7.45, ('12', '3'): 8.24, ('12', '4'): 12.0, ('12', '5'): 10.84, ('12', '6'): 4.54, ('12', '7'): 105.2, ('12', '8'): 45.12, ('12', '9'): 217.46, ('12', '10'): 127.52, ('12', '11'): 57.05, ('12', '13'): 4.32, ('12', '14'): 13.7, ('12', '15'): 10.67, ('12', '16'): 9.17, ('12', '17'): 18.0, ('12', '18'): 2.04, ('12', '19'): 6.11, ('12', '20'): 6.56, ('12', '21'): 6.76, ('12', '22'): 10.07, ('12', '23'): 5.81, ('12', '24'): 12.57, ('12', '25'): 0.41, ('12', '26'): 2.61, ('13', '1'): 11.5, ('13', '2'): 20.79, ('13', '3'): 23.93, ('13', '4'): 39.21, ('13', '5'): 20.23, ('13', '6'): 20.32, ('13', '7'): 1.61, ('13', '8'): 0.99, ('13', '9'): 1.81, ('13', '10'): 2.05, ('13', '11'): 0.51, ('13', '12'): 3.83, ('13', '14'): 21.34, ('13', '15'): 25.96, ('13', '16'): 16.95, ('13', '17'): 16.93, ('13', '18'): 7.38, ('13', '19'): 0.73, ('13', '20'): 41.24, ('13', '21'): 9.21, ('13', '22'): 22.7, ('13', '23'): 14.43, ('13', '24'): 0.1, ('13', '25'): 7.26, ('13', '26'): 5.4, ('14', '1'): 20.39, ('14', '2'): 53.56, ('14', '3'): 59.98, ('14', '4'): 73.98, ('14', '5'): 39.57, ('14', '6'): 38.7, ('14', '7'): 4.69, ('14', '8'): 2.37, ('14', '9'): 4.48, ('14', '10'): 4.16, ('14', '11'): 1.71, ('14', '12'): 11.87, ('14', '13'): 21.33, ('14', '15'): 47.57, ('14', '16'): 35.46, ('14', '17'): 38.76, ('14', '18'): 20.0, ('14', '19'): 1.75, ('14', '20'): 91.03, ('14', '21'): 28.11, ('14', '22'): 33.49, ('14', '23'): 24.1, ('14', '24'): 0.21, ('14', '25'): 15.79, ('14', '26'): 11.14, ('15', '1'): 19.37, ('15', '2'): 45.39, ('15', '3'): 40.48, ('15', '4'): 82.21, ('15', '5'): 29.51, ('15', '6'): 34.42, ('15', '7'): 3.38, ('15', '8'): 2.5, ('15', '9'): 5.7, ('15', '10'): 5.15, ('15', '11'): 1.58, ('15', '12'): 12.94, ('15', '13'): 21.77, ('15', '14'): 41.67, ('15', '16'): 23.18, ('15', '17'): 38.87, ('15', '18'): 14.62, ('15', '19'): 1.63, ('15', '20'): 86.5, ('15', '21'): 26.85, ('15', '22'): 43.42, ('15', '23'): 26.54, ('15', '24'): 0.25, ('15', '25'): 14.57, ('15', '26'): 10.16, ('16', '1'): 11.39, ('16', '2'): 36.37, ('16', '3'): 26.67, ('16', '4'): 49.49, ('16', '5'): 22.8, ('16', '6'): 15.79, ('16', '7'): 1.97, ('16', '8'): 1.59, ('16', '9'): 3.99, ('16', '10'): 3.13, ('16', '11'): 1.04, ('16', '12'): 8.83, ('16', '13'): 16.87, ('16', '14'): 35.28, ('16', '15'): 26.04, ('16', '17'): 28.62, ('16', '18'): 8.43, ('16', '19'): 0.95, ('16', '20'): 54.74, ('16', '21'): 19.7, ('16', '22'): 25.45, ('16', '23'): 21.32, ('16', '24'): 0.14, ('16', '25'): 7.76, ('16', '26'): 7.49, ('17', '1'): 19.96, ('17', '2'): 43.24, ('17', '3'): 49.51, ('17', '4'): 80.31, ('17', '5'): 31.38, ('17', '6'): 25.81, ('17', '7'): 3.58, ('17', '8'): 2.73, ('17', '9'): 5.55, ('17', '10'): 4.9, ('17', '11'): 2.04, ('17', '12'): 15.84, ('17', '13'): 16.94, ('17', '14'): 38.77, ('17', '15'): 42.41, ('17', '16'): 28.76, ('17', '18'): 10.77, ('17', '19'): 1.41, ('17', '20'): 73.22, ('17', '21'): 23.52, ('17', '22'): 32.71, ('17', '23'): 21.44, ('17', '24'): 0.22, ('17', '25'): 11.36, ('17', '26'): 11.87, ('18', '1'): 0.46, ('18', '2'): 13.84, ('18', '3'): 11.66, ('18', '4'): 19.2, ('18', '5'): 13.22, ('18', '6'): 1.77, ('18', '8'): 0.37, ('18', '9'): 1.75, ('18', '10'): 0.59, ('18', '11'): 0.33, ('18', '12'): 2.98, ('18', '13'): 8.16, ('18', '14'): 22.11, ('18', '15'): 14.5, ('18', '16'): 9.32, ('18', '17'): 11.92, ('18', '19'): 0.08, ('18', '20'): 5.45, ('18', '21'): 11.49, ('18', '22'): 9.29, ('18', '23'): 6.37, ('18', '24'): 0.03, ('18', '26'): 2.76, ('19', '1'): 0.06, ('19', '2'): 0.13, ('19', '3'): 0.15, ('19', '4'): 0.22, ('19', '5'): 0.1, ('19', '6'): 0.12, ('19', '7'): 2.94, ('19', '8'): 1.8, ('19', '9'): 3.02, ('19', '10'): 4.85, ('19', '11'): 1.4, ('19', '12'): 20.25, ('19', '13'): 0.73, ('19', '14'): 1.76, ('19', '15'): 0.12, ('19', '16'): 0.94, ('19', '17'): 1.42, ('19', '18'): 0.06, ('19', '20'): 0.73, ('19', '21'): 1.01, ('19', '22'): 1.02, ('19', '23'): 0.08, ('19', '24'): 0.15, ('19', '25'): 0.03, ('19', '26'): 0.27, ('20', '1'): 10.38, ('20', '2'): 66.15, ('20', '3'): 69.0, ('20', '4'): 124.17, ('20', '5'): 72.35, ('20', '6'): 22.75, ('20', '7'): 1.01, ('20', '8'): 1.78, ('20', '9'): 6.87, ('20', '10'): 3.8, ('20', '11'): 0.95, ('20', '12'): 7.98, ('20', '13'): 41.01, ('20', '14'): 90.55, ('20', '15'): 87.75, ('20', '16'): 54.55, ('20', '17'): 72.83, ('20', '18'): 4.92, ('20', '19'): 0.83, ('20', '21'): 58.91, ('20', '22'): 54.58, ('20', '23'): 38.3, ('20', '24'): 0.21, ('20', '25'): 5.65, ('20', '26'): 11.89, ('21', '1'): 13.26, ('21', '2'): 27.94, ('21', '3'): 26.72, ('21', '4'): 41.35, ('21', '5'): 26.73, ('21', '6'): 26.4, ('21', '7'): 2.35, ('21', '8'): 1.38, ('21', '9'): 2.74, ('21', '10'): 2.77, ('21', '11'): 0.81, ('21', '12'): 5.9, ('21', '13'): 9.22, ('21', '14'): 28.14, ('21', '15'): 31.1, ('21', '16'): 19.81, ('21', '17'): 23.53, ('21', '18'): 10.39, ('21', '19'): 1.01, ('21', '20'): 59.23, ('21', '22'): 27.89, ('21', '23'): 19.83, ('21', '24'): 0.13, ('21', '25'): 10.96, ('21', '26'): 7.77, ('22', '1'): 12.39, ('22', '2'): 51.59, ('22', '3'): 45.06, ('22', '4'): 52.2, ('22', '5'): 41.17, ('22', '6'): 17.02, ('22', '7'): 2.4, ('22', '8'): 1.76, ('22', '9'): 4.61, ('22', '10'): 3.14, ('22', '11'): 1.27, ('22', '12'): 9.96, ('22', '13'): 22.57, ('22', '14'): 33.31, ('22', '15'): 48.57, ('22', '16'): 25.42, ('22', '17'): 32.54, ('22', '18'): 8.41, ('22', '19'): 1.05, ('22', '20'): 54.75, ('22', '21'): 27.72, ('22', '23'): 19.24, ('22', '24'): 0.15, ('22', '25'): 7.97, ('22', '26'): 9.83, ('23', '1'): 10.91, ('23', '2'): 29.21, ('23', '3'): 30.82, ('23', '4'): 46.89, ('23', '5'): 24.4, ('23', '6'): 15.32, ('23', '7'): 2.04, ('23', '8'): 1.31, ('23', '9'): 2.78, ('23', '10'): 2.22, ('23', '11'): 0.95, ('23', '12'): 7.54, ('23', '13'): 11.87, ('23', '14'): 20.52, ('23', '15'): 27.81, ('23', '16'): 18.59, ('23', '17'): 18.95, ('23', '18'): 6.43, ('23', '19'): 0.83, ('23', '20'): 37.35, ('23', '21'): 16.69, ('23', '22'): 16.88, ('23', '24'): 0.1, ('23', '25'): 5.8, ('23', '26'): 4.96, ('24', '1'): 0.03, ('24', '2'): 0.28, ('24', '3'): 0.24, ('24', '4'): 0.34, ('24', '5'): 0.23, ('24', '6'): 0.08, ('24', '7'): 0.94, ('24', '8'): 2.06, ('24', '9'): 3.51, ('24', '10'): 2.81, ('24', '11'): 0.83, ('24', '12'): 17.55, ('24', '13'): 0.78, ('24', '14'): 1.56, ('24', '15'): 0.31, ('24', '16'): 0.96, ('24', '17'): 1.72, ('24', '18'): 0.01, ('24', '19'): 0.48, ('24', '20'): 0.72, ('24', '21'): 1.06, ('24', '22'): 0.92, ('24', '23'): 0.12, ('24', '25'): 0.01, ('24', '26'): 0.21, ('25', '1'): 0.47, ('25', '2'): 14.14, ('25', '3'): 11.99, ('25', '4'): 17.61, ('25', '5'): 9.81, ('25', '6'): 1.58, ('25', '8'): 0.14, ('25', '9'): 0.65, ('25', '10'): 0.33, ('25', '11'): 0.08, ('25', '12'): 0.67, ('25', '13'): 7.57, ('25', '14'): 16.46, ('25', '15'): 13.75, ('25', '16'): 8.09, ('25', '17'): 11.83, ('25', '19'): 0.05, ('25', '20'): 5.89, ('25', '21'): 11.41, ('25', '22'): 8.31, ('25', '23'): 5.48, ('25', '24'): 0.02, ('25', '26'): 1.83, ('26', '1'): 3.77, ('26', '2'): 11.12, ('26', '3'): 11.63, ('26', '4'): 20.56, ('26', '5'): 9.53, ('26', '6'): 7.04, ('26', '7'): 0.74, ('26', '8'): 0.44, ('26', '9'): 1.11, ('26', '10'): 0.71, ('26', '11'): 0.37, ('26', '12'): 2.57, ('26', '13'): 5.36, ('26', '14'): 11.08, ('26', '15'): 10.75, ('26', '16'): 7.49, ('26', '17'): 11.8, ('26', '18'): 2.49, ('26', '19'): 0.28, ('26', '20'): 11.96, ('26', '21'): 7.74, ('26', '22'): 9.84, ('26', '23'): 5.38, ('26', '24'): 0.03, ('26', '25'): 1.75}\n"
     ]
    }
   ],
   "source": [
    "#observe network with all links\n",
    "remove_link = None #0 is equivalent to no links closed\n",
    "trial_run.make_network(city, remove_link)\n",
    "trial_run.network_attributes(city, remove_link)"
   ]
  },
  {
   "cell_type": "code",
   "execution_count": 12,
   "id": "80ee4ad7",
   "metadata": {},
   "outputs": [
    {
     "name": "stdout",
     "output_type": "stream",
     "text": [
      "<TransportationNetworks.Network object at 0x7fd708309880>\n",
      "Berlin-Tiergarten graph is: DiGraph with 333 nodes and 559 edges\n",
      "Berlin-Tiergarten origin nodes are: ['1', '2', '3', '4', '5', '6', '7', '8', '9', '10', '11', '12', '13', '14', '15', '16', '17', '18', '19', '20', '21', '22', '23', '24', '25', '26']\n",
      "Berlin-Tiergarten flows are: {('1', '2'): 22.59, ('1', '3'): 18.32, ('1', '4'): 21.82, ('1', '5'): 15.22, ('1', '6'): 3.73, ('1', '7'): 0.1, ('1', '8'): 0.31, ('1', '9'): 1.22, ('1', '10'): 0.52, ('1', '11'): 0.21, ('1', '12'): 1.52, ('1', '13'): 11.19, ('1', '14'): 19.89, ('1', '15'): 19.45, ('1', '16'): 11.08, ('1', '17'): 19.53, ('1', '18'): 0.46, ('1', '19'): 0.13, ('1', '20'): 10.2, ('1', '21'): 12.93, ('1', '22'): 12.04, ('1', '23'): 10.91, ('1', '24'): 0.03, ('1', '25'): 0.49, ('1', '26'): 3.68, ('2', '1'): 22.5, ('2', '3'): 41.82, ('2', '4'): 86.27, ('2', '5'): 43.27, ('2', '6'): 38.19, ('2', '7'): 3.04, ('2', '8'): 2.14, ('2', '9'): 4.8, ('2', '10'): 4.47, ('2', '11'): 1.17, ('2', '12'): 9.07, ('2', '13'): 17.68, ('2', '14'): 47.42, ('2', '15'): 45.27, ('2', '16'): 32.58, ('2', '17'): 39.95, ('2', '18'): 13.96, ('2', '19'): 1.47, ('2', '20'): 65.25, ('2', '21'): 24.39, ('2', '22'): 46.36, ('2', '23'): 27.87, ('2', '24'): 0.23, ('2', '25'): 15.0, ('2', '26'): 10.55, ('3', '1'): 18.25, ('3', '2'): 42.0, ('3', '4'): 68.8, ('3', '5'): 41.65, ('3', '6'): 28.1, ('3', '7'): 2.71, ('3', '8'): 2.09, ('3', '9'): 5.25, ('3', '10'): 4.21, ('3', '11'): 1.31, ('3', '12'): 10.47, ('3', '13'): 21.0, ('3', '14'): 54.28, ('3', '15'): 40.59, ('3', '16'): 24.21, ('3', '17'): 46.22, ('3', '18'): 11.75, ('3', '19'): 1.29, ('3', '20'): 67.93, ('3', '21'): 23.91, ('3', '22'): 40.92, ('3', '23'): 29.82, ('3', '24'): 0.21, ('3', '25'): 12.71, ('3', '26'): 11.04, ('4', '1'): 21.73, ('4', '2'): 86.27, ('4', '3'): 68.57, ('4', '5'): 68.44, ('4', '6'): 41.0, ('4', '7'): 4.51, ('4', '8'): 3.05, ('4', '9'): 7.39, ('4', '10'): 5.71, ('4', '11'): 2.05, ('4', '12'): 15.09, ('4', '13'): 34.58, ('4', '14'): 67.27, ('4', '15'): 82.07, ('4', '16'): 45.05, ('4', '17'): 75.29, ('4', '18'): 19.36, ('4', '19'): 1.98, ('4', '20'): 122.38, ('4', '21'): 37.18, ('4', '22'): 47.54, ('4', '23'): 45.19, ('4', '24'): 0.28, ('4', '25'): 18.68, ('4', '26'): 19.59, ('5', '1'): 15.18, ('5', '2'): 43.69, ('5', '3'): 41.76, ('5', '4'): 68.93, ('5', '6'): 25.59, ('5', '7'): 3.21, ('5', '8'): 2.39, ('5', '9'): 5.23, ('5', '10'): 4.72, ('5', '11'): 1.58, ('5', '12'): 13.38, ('5', '13'): 16.79, ('5', '14'): 34.29, ('5', '15'): 29.73, ('5', '16'): 20.17, ('5', '17'): 28.49, ('5', '18'): 13.32, ('5', '19'): 1.17, ('5', '20'): 71.2, ('5', '21'): 22.82, ('5', '22'): 36.6, ('5', '23'): 23.42, ('5', '24'): 0.19, ('5', '25'): 10.41, ('5', '26'): 8.96, ('6', '1'): 3.74, ('6', '2'): 38.69, ('6', '3'): 28.41, ('6', '4'): 41.51, ('6', '5'): 25.87, ('6', '7'): 0.56, ('6', '8'): 0.98, ('6', '9'): 3.9, ('6', '10'): 1.76, ('6', '11'): 0.77, ('6', '12'): 6.58, ('6', '13'): 19.17, ('6', '14'): 36.77, ('6', '15'): 34.85, ('6', '16'): 14.94, ('6', '17'): 24.69, ('6', '18'): 1.77, ('6', '19'): 0.38, ('6', '20'): 22.21, ('6', '21'): 25.01, ('6', '22'): 16.08, ('6', '23'): 15.36, ('6', '24'): 0.09, ('6', '25'): 1.67, ('6', '26'): 6.77, ('7', '1'): 0.19, ('7', '2'): 5.29, ('7', '3'): 4.72, ('7', '4'): 7.82, ('7', '5'): 5.59, ('7', '6'): 0.98, ('7', '8'): 9.16, ('7', '9'): 53.9, ('7', '10'): 14.17, ('7', '11'): 10.4, ('7', '12'): 77.55, ('7', '13'): 2.2, ('7', '14'): 6.44, ('7', '15'): 5.87, ('7', '16'): 2.7, ('7', '17'): 4.91, ('7', '19'): 2.61, ('7', '20'): 1.4, ('7', '21'): 3.22, ('7', '22'): 3.29, ('7', '23'): 3.56, ('7', '24'): 0.72, ('7', '26'): 1.02, ('8', '1'): 0.2, ('8', '2'): 1.46, ('8', '3'): 1.4, ('8', '4'): 2.08, ('8', '5'): 1.61, ('8', '6'): 0.63, ('8', '7'): 12.42, ('8', '9'): 23.43, ('8', '10'): 11.69, ('8', '11'): 8.21, ('8', '12'): 44.02, ('8', '13'): 1.11, ('8', '14'): 2.69, ('8', '15'): 1.72, ('8', '16'): 1.66, ('8', '17'): 3.06, ('8', '18'): 0.25, ('8', '19'): 0.57, ('8', '20'): 1.52, ('8', '21'): 1.55, ('8', '22'): 1.8, ('8', '23'): 0.86, ('8', '24'): 1.5, ('8', '25'): 0.09, ('8', '26'): 0.45, ('9', '1'): 0.85, ('9', '2'): 5.02, ('9', '3'): 5.13, ('9', '4'): 7.08, ('9', '5'): 5.71, ('9', '6'): 2.9, ('9', '7'): 63.91, ('9', '8'): 20.27, ('9', '10'): 54.59, ('9', '11'): 40.76, ('9', '12'): 205.15, ('9', '13'): 2.58, ('9', '14'): 6.21, ('9', '15'): 6.06, ('9', '16'): 4.74, ('9', '17'): 7.62, ('9', '18'): 1.3, ('9', '19'): 2.55, ('9', '20'): 5.56, ('9', '21'): 3.79, ('9', '22'): 5.11, ('9', '23'): 2.86, ('9', '24'): 7.59, ('9', '25'): 0.43, ('9', '26'): 1.21, ('10', '1'): 0.36, ('10', '2'): 4.27, ('10', '3'): 3.84, ('10', '4'): 5.26, ('10', '5'): 4.48, ('10', '6'): 1.32, ('10', '7'): 19.22, ('10', '8'): 11.04, ('10', '9'): 53.64, ('10', '11'): 17.42, ('10', '12'): 117.92, ('10', '13'): 2.42, ('10', '14'): 5.0, ('10', '15'): 4.95, ('10', '16'): 3.46, ('10', '17'): 5.83, ('10', '18'): 0.41, ('10', '19'): 1.95, ('10', '20'): 3.4, ('10', '21'): 3.33, ('10', '22'): 3.4, ('10', '23'): 2.02, ('10', '24'): 2.03, ('10', '25'): 0.2, ('10', '26'): 0.77, ('11', '1'): 0.16, ('11', '2'): 1.42, ('11', '3'): 1.5, ('11', '4'): 2.32, ('11', '5'): 1.94, ('11', '6'): 0.65, ('11', '7'): 12.34, ('11', '8'): 6.59, ('11', '9'): 38.51, ('11', '10'): 15.81, ('11', '12'): 47.93, ('11', '13'): 0.86, ('11', '14'): 2.84, ('11', '15'): 1.92, ('11', '16'): 1.55, ('11', '17'): 3.37, ('11', '18'): 0.24, ('11', '19'): 1.15, ('11', '20'): 0.98, ('11', '21'): 1.33, ('11', '22'): 1.79, ('11', '23'): 1.14, ('11', '24'): 1.45, ('11', '25'): 0.05, ('11', '26'): 0.52, ('12', '1'): 1.03, ('12', '2'): 7.45, ('12', '3'): 8.24, ('12', '4'): 12.0, ('12', '5'): 10.84, ('12', '6'): 4.54, ('12', '7'): 105.2, ('12', '8'): 45.12, ('12', '9'): 217.46, ('12', '10'): 127.52, ('12', '11'): 57.05, ('12', '13'): 4.32, ('12', '14'): 13.7, ('12', '15'): 10.67, ('12', '16'): 9.17, ('12', '17'): 18.0, ('12', '18'): 2.04, ('12', '19'): 6.11, ('12', '20'): 6.56, ('12', '21'): 6.76, ('12', '22'): 10.07, ('12', '23'): 5.81, ('12', '24'): 12.57, ('12', '25'): 0.41, ('12', '26'): 2.61, ('13', '1'): 11.5, ('13', '2'): 20.79, ('13', '3'): 23.93, ('13', '4'): 39.21, ('13', '5'): 20.23, ('13', '6'): 20.32, ('13', '7'): 1.61, ('13', '8'): 0.99, ('13', '9'): 1.81, ('13', '10'): 2.05, ('13', '11'): 0.51, ('13', '12'): 3.83, ('13', '14'): 21.34, ('13', '15'): 25.96, ('13', '16'): 16.95, ('13', '17'): 16.93, ('13', '18'): 7.38, ('13', '19'): 0.73, ('13', '20'): 41.24, ('13', '21'): 9.21, ('13', '22'): 22.7, ('13', '23'): 14.43, ('13', '24'): 0.1, ('13', '25'): 7.26, ('13', '26'): 5.4, ('14', '1'): 20.39, ('14', '2'): 53.56, ('14', '3'): 59.98, ('14', '4'): 73.98, ('14', '5'): 39.57, ('14', '6'): 38.7, ('14', '7'): 4.69, ('14', '8'): 2.37, ('14', '9'): 4.48, ('14', '10'): 4.16, ('14', '11'): 1.71, ('14', '12'): 11.87, ('14', '13'): 21.33, ('14', '15'): 47.57, ('14', '16'): 35.46, ('14', '17'): 38.76, ('14', '18'): 20.0, ('14', '19'): 1.75, ('14', '20'): 91.03, ('14', '21'): 28.11, ('14', '22'): 33.49, ('14', '23'): 24.1, ('14', '24'): 0.21, ('14', '25'): 15.79, ('14', '26'): 11.14, ('15', '1'): 19.37, ('15', '2'): 45.39, ('15', '3'): 40.48, ('15', '4'): 82.21, ('15', '5'): 29.51, ('15', '6'): 34.42, ('15', '7'): 3.38, ('15', '8'): 2.5, ('15', '9'): 5.7, ('15', '10'): 5.15, ('15', '11'): 1.58, ('15', '12'): 12.94, ('15', '13'): 21.77, ('15', '14'): 41.67, ('15', '16'): 23.18, ('15', '17'): 38.87, ('15', '18'): 14.62, ('15', '19'): 1.63, ('15', '20'): 86.5, ('15', '21'): 26.85, ('15', '22'): 43.42, ('15', '23'): 26.54, ('15', '24'): 0.25, ('15', '25'): 14.57, ('15', '26'): 10.16, ('16', '1'): 11.39, ('16', '2'): 36.37, ('16', '3'): 26.67, ('16', '4'): 49.49, ('16', '5'): 22.8, ('16', '6'): 15.79, ('16', '7'): 1.97, ('16', '8'): 1.59, ('16', '9'): 3.99, ('16', '10'): 3.13, ('16', '11'): 1.04, ('16', '12'): 8.83, ('16', '13'): 16.87, ('16', '14'): 35.28, ('16', '15'): 26.04, ('16', '17'): 28.62, ('16', '18'): 8.43, ('16', '19'): 0.95, ('16', '20'): 54.74, ('16', '21'): 19.7, ('16', '22'): 25.45, ('16', '23'): 21.32, ('16', '24'): 0.14, ('16', '25'): 7.76, ('16', '26'): 7.49, ('17', '1'): 19.96, ('17', '2'): 43.24, ('17', '3'): 49.51, ('17', '4'): 80.31, ('17', '5'): 31.38, ('17', '6'): 25.81, ('17', '7'): 3.58, ('17', '8'): 2.73, ('17', '9'): 5.55, ('17', '10'): 4.9, ('17', '11'): 2.04, ('17', '12'): 15.84, ('17', '13'): 16.94, ('17', '14'): 38.77, ('17', '15'): 42.41, ('17', '16'): 28.76, ('17', '18'): 10.77, ('17', '19'): 1.41, ('17', '20'): 73.22, ('17', '21'): 23.52, ('17', '22'): 32.71, ('17', '23'): 21.44, ('17', '24'): 0.22, ('17', '25'): 11.36, ('17', '26'): 11.87, ('18', '1'): 0.46, ('18', '2'): 13.84, ('18', '3'): 11.66, ('18', '4'): 19.2, ('18', '5'): 13.22, ('18', '6'): 1.77, ('18', '8'): 0.37, ('18', '9'): 1.75, ('18', '10'): 0.59, ('18', '11'): 0.33, ('18', '12'): 2.98, ('18', '13'): 8.16, ('18', '14'): 22.11, ('18', '15'): 14.5, ('18', '16'): 9.32, ('18', '17'): 11.92, ('18', '19'): 0.08, ('18', '20'): 5.45, ('18', '21'): 11.49, ('18', '22'): 9.29, ('18', '23'): 6.37, ('18', '24'): 0.03, ('18', '26'): 2.76, ('19', '1'): 0.06, ('19', '2'): 0.13, ('19', '3'): 0.15, ('19', '4'): 0.22, ('19', '5'): 0.1, ('19', '6'): 0.12, ('19', '7'): 2.94, ('19', '8'): 1.8, ('19', '9'): 3.02, ('19', '10'): 4.85, ('19', '11'): 1.4, ('19', '12'): 20.25, ('19', '13'): 0.73, ('19', '14'): 1.76, ('19', '15'): 0.12, ('19', '16'): 0.94, ('19', '17'): 1.42, ('19', '18'): 0.06, ('19', '20'): 0.73, ('19', '21'): 1.01, ('19', '22'): 1.02, ('19', '23'): 0.08, ('19', '24'): 0.15, ('19', '25'): 0.03, ('19', '26'): 0.27, ('20', '1'): 10.38, ('20', '2'): 66.15, ('20', '3'): 69.0, ('20', '4'): 124.17, ('20', '5'): 72.35, ('20', '6'): 22.75, ('20', '7'): 1.01, ('20', '8'): 1.78, ('20', '9'): 6.87, ('20', '10'): 3.8, ('20', '11'): 0.95, ('20', '12'): 7.98, ('20', '13'): 41.01, ('20', '14'): 90.55, ('20', '15'): 87.75, ('20', '16'): 54.55, ('20', '17'): 72.83, ('20', '18'): 4.92, ('20', '19'): 0.83, ('20', '21'): 58.91, ('20', '22'): 54.58, ('20', '23'): 38.3, ('20', '24'): 0.21, ('20', '25'): 5.65, ('20', '26'): 11.89, ('21', '1'): 13.26, ('21', '2'): 27.94, ('21', '3'): 26.72, ('21', '4'): 41.35, ('21', '5'): 26.73, ('21', '6'): 26.4, ('21', '7'): 2.35, ('21', '8'): 1.38, ('21', '9'): 2.74, ('21', '10'): 2.77, ('21', '11'): 0.81, ('21', '12'): 5.9, ('21', '13'): 9.22, ('21', '14'): 28.14, ('21', '15'): 31.1, ('21', '16'): 19.81, ('21', '17'): 23.53, ('21', '18'): 10.39, ('21', '19'): 1.01, ('21', '20'): 59.23, ('21', '22'): 27.89, ('21', '23'): 19.83, ('21', '24'): 0.13, ('21', '25'): 10.96, ('21', '26'): 7.77, ('22', '1'): 12.39, ('22', '2'): 51.59, ('22', '3'): 45.06, ('22', '4'): 52.2, ('22', '5'): 41.17, ('22', '6'): 17.02, ('22', '7'): 2.4, ('22', '8'): 1.76, ('22', '9'): 4.61, ('22', '10'): 3.14, ('22', '11'): 1.27, ('22', '12'): 9.96, ('22', '13'): 22.57, ('22', '14'): 33.31, ('22', '15'): 48.57, ('22', '16'): 25.42, ('22', '17'): 32.54, ('22', '18'): 8.41, ('22', '19'): 1.05, ('22', '20'): 54.75, ('22', '21'): 27.72, ('22', '23'): 19.24, ('22', '24'): 0.15, ('22', '25'): 7.97, ('22', '26'): 9.83, ('23', '1'): 10.91, ('23', '2'): 29.21, ('23', '3'): 30.82, ('23', '4'): 46.89, ('23', '5'): 24.4, ('23', '6'): 15.32, ('23', '7'): 2.04, ('23', '8'): 1.31, ('23', '9'): 2.78, ('23', '10'): 2.22, ('23', '11'): 0.95, ('23', '12'): 7.54, ('23', '13'): 11.87, ('23', '14'): 20.52, ('23', '15'): 27.81, ('23', '16'): 18.59, ('23', '17'): 18.95, ('23', '18'): 6.43, ('23', '19'): 0.83, ('23', '20'): 37.35, ('23', '21'): 16.69, ('23', '22'): 16.88, ('23', '24'): 0.1, ('23', '25'): 5.8, ('23', '26'): 4.96, ('24', '1'): 0.03, ('24', '2'): 0.28, ('24', '3'): 0.24, ('24', '4'): 0.34, ('24', '5'): 0.23, ('24', '6'): 0.08, ('24', '7'): 0.94, ('24', '8'): 2.06, ('24', '9'): 3.51, ('24', '10'): 2.81, ('24', '11'): 0.83, ('24', '12'): 17.55, ('24', '13'): 0.78, ('24', '14'): 1.56, ('24', '15'): 0.31, ('24', '16'): 0.96, ('24', '17'): 1.72, ('24', '18'): 0.01, ('24', '19'): 0.48, ('24', '20'): 0.72, ('24', '21'): 1.06, ('24', '22'): 0.92, ('24', '23'): 0.12, ('24', '25'): 0.01, ('24', '26'): 0.21, ('25', '1'): 0.47, ('25', '2'): 14.14, ('25', '3'): 11.99, ('25', '4'): 17.61, ('25', '5'): 9.81, ('25', '6'): 1.58, ('25', '8'): 0.14, ('25', '9'): 0.65, ('25', '10'): 0.33, ('25', '11'): 0.08, ('25', '12'): 0.67, ('25', '13'): 7.57, ('25', '14'): 16.46, ('25', '15'): 13.75, ('25', '16'): 8.09, ('25', '17'): 11.83, ('25', '19'): 0.05, ('25', '20'): 5.89, ('25', '21'): 11.41, ('25', '22'): 8.31, ('25', '23'): 5.48, ('25', '24'): 0.02, ('25', '26'): 1.83, ('26', '1'): 3.77, ('26', '2'): 11.12, ('26', '3'): 11.63, ('26', '4'): 20.56, ('26', '5'): 9.53, ('26', '6'): 7.04, ('26', '7'): 0.74, ('26', '8'): 0.44, ('26', '9'): 1.11, ('26', '10'): 0.71, ('26', '11'): 0.37, ('26', '12'): 2.57, ('26', '13'): 5.36, ('26', '14'): 11.08, ('26', '15'): 10.75, ('26', '16'): 7.49, ('26', '17'): 11.8, ('26', '18'): 2.49, ('26', '19'): 0.28, ('26', '20'): 11.96, ('26', '21'): 7.74, ('26', '22'): 9.84, ('26', '23'): 5.38, ('26', '24'): 0.03, ('26', '25'): 1.75}\n"
     ]
    }
   ],
   "source": [
    "#observe network after removing one link\n",
    "remove_link = 1\n",
    "trial_run.make_network(city, remove_link)\n",
    "trial_run.network_attributes(city, remove_link)"
   ]
  },
  {
   "cell_type": "markdown",
   "id": "d726132b",
   "metadata": {},
   "source": [
    "# Compute equilibrium flow for complete graph using Frank-Wolfe algorithm"
   ]
  },
  {
   "cell_type": "code",
   "execution_count": 16,
   "id": "c3a04825",
   "metadata": {},
   "outputs": [
    {
     "ename": "NodeNotFound",
     "evalue": "Node 1 not found in graph",
     "output_type": "error",
     "traceback": [
      "\u001b[0;31m---------------------------------------------------------------------------\u001b[0m",
      "\u001b[0;31mNodeNotFound\u001b[0m                              Traceback (most recent call last)",
      "\u001b[0;32m<timed exec>\u001b[0m in \u001b[0;36m<module>\u001b[0;34m\u001b[0m\n",
      "\u001b[0;32m~/Documents/Barca GSE/Studies/Term 2/Networks/Term Paper/Networks_Term_Paper/Code/Python/working_multiple_eq_flow/Berlin/pytrans_working_multiple_eq_flow/custom_class.py\u001b[0m in \u001b[0;36mcompute_link_flow\u001b[0;34m(self, city, remove_link_number)\u001b[0m\n\u001b[1;32m     88\u001b[0m         \u001b[0mnetwork\u001b[0m \u001b[0;34m=\u001b[0m \u001b[0mself\u001b[0m\u001b[0;34m.\u001b[0m\u001b[0mcities_dict\u001b[0m\u001b[0;34m[\u001b[0m\u001b[0mcity\u001b[0m\u001b[0;34m]\u001b[0m\u001b[0;34m[\u001b[0m\u001b[0mstr\u001b[0m\u001b[0;34m(\u001b[0m\u001b[0mremove_link_number\u001b[0m\u001b[0;34m)\u001b[0m\u001b[0;34m]\u001b[0m\u001b[0;34m[\u001b[0m\u001b[0;34m'network'\u001b[0m\u001b[0;34m]\u001b[0m\u001b[0;34m\u001b[0m\u001b[0;34m\u001b[0m\u001b[0m\n\u001b[1;32m     89\u001b[0m         \u001b[0mSO\u001b[0m \u001b[0;34m=\u001b[0m \u001b[0;32mFalse\u001b[0m\u001b[0;34m\u001b[0m\u001b[0;34m\u001b[0m\u001b[0m\n\u001b[0;32m---> 90\u001b[0;31m         \u001b[0mfw\u001b[0m \u001b[0;34m=\u001b[0m \u001b[0mFrank_Wolfe\u001b[0m\u001b[0;34m.\u001b[0m\u001b[0mRun\u001b[0m\u001b[0;34m(\u001b[0m\u001b[0mnetwork\u001b[0m\u001b[0;34m,\u001b[0m \u001b[0mSO\u001b[0m\u001b[0;34m)\u001b[0m\u001b[0;34m\u001b[0m\u001b[0;34m\u001b[0m\u001b[0m\n\u001b[0m\u001b[1;32m     91\u001b[0m         \u001b[0;31m#saves file to dict\u001b[0m\u001b[0;34m\u001b[0m\u001b[0;34m\u001b[0m\u001b[0;34m\u001b[0m\u001b[0m\n\u001b[1;32m     92\u001b[0m         \u001b[0mself\u001b[0m\u001b[0;34m.\u001b[0m\u001b[0mcities_dict\u001b[0m\u001b[0;34m[\u001b[0m\u001b[0mcity\u001b[0m\u001b[0;34m]\u001b[0m\u001b[0;34m[\u001b[0m\u001b[0mstr\u001b[0m\u001b[0;34m(\u001b[0m\u001b[0mremove_link_number\u001b[0m\u001b[0;34m)\u001b[0m\u001b[0;34m]\u001b[0m\u001b[0;34m[\u001b[0m\u001b[0;34m'fw_run'\u001b[0m\u001b[0;34m]\u001b[0m \u001b[0;34m=\u001b[0m \u001b[0mfw\u001b[0m\u001b[0;34m\u001b[0m\u001b[0;34m\u001b[0m\u001b[0m\n",
      "\u001b[0;32m~/Documents/Barca GSE/Studies/Term 2/Networks/Term Paper/Networks_Term_Paper/Code/Python/working_multiple_eq_flow/Berlin/pytrans_working_multiple_eq_flow/Frank_Wolfe.py\u001b[0m in \u001b[0;36m__init__\u001b[0;34m(self, network_object, SO)\u001b[0m\n\u001b[1;32m     74\u001b[0m         \u001b[0mself\u001b[0m\u001b[0;34m.\u001b[0m\u001b[0mfwResult\u001b[0m \u001b[0;34m=\u001b[0m \u001b[0;34m{\u001b[0m\u001b[0;34m'theta'\u001b[0m\u001b[0;34m:\u001b[0m\u001b[0;34m[\u001b[0m\u001b[0;34m]\u001b[0m\u001b[0;34m,\u001b[0m \u001b[0;34m'z'\u001b[0m\u001b[0;34m:\u001b[0m\u001b[0;34m[\u001b[0m\u001b[0;34m]\u001b[0m\u001b[0;34m}\u001b[0m\u001b[0;34m\u001b[0m\u001b[0;34m\u001b[0m\u001b[0m\n\u001b[1;32m     75\u001b[0m \u001b[0;34m\u001b[0m\u001b[0m\n\u001b[0;32m---> 76\u001b[0;31m         \u001b[0mself\u001b[0m\u001b[0;34m.\u001b[0m\u001b[0mnw\u001b[0m\u001b[0;34m.\u001b[0m\u001b[0mall_or_nothing_assignment\u001b[0m\u001b[0;34m(\u001b[0m\u001b[0;34m)\u001b[0m\u001b[0;34m\u001b[0m\u001b[0;34m\u001b[0m\u001b[0m\n\u001b[0m\u001b[1;32m     77\u001b[0m         \u001b[0mself\u001b[0m\u001b[0;34m.\u001b[0m\u001b[0mnw\u001b[0m\u001b[0;34m.\u001b[0m\u001b[0mupdate_linkcost\u001b[0m\u001b[0;34m(\u001b[0m\u001b[0;34m)\u001b[0m\u001b[0;34m\u001b[0m\u001b[0;34m\u001b[0m\u001b[0m\n\u001b[1;32m     78\u001b[0m \u001b[0;34m\u001b[0m\u001b[0m\n",
      "\u001b[0;32m~/Documents/Barca GSE/Studies/Term 2/Networks/Term Paper/Networks_Term_Paper/Code/Python/working_multiple_eq_flow/Berlin/pytrans_working_multiple_eq_flow/TransportationNetworks.py\u001b[0m in \u001b[0;36mall_or_nothing_assignment\u001b[0;34m(self)\u001b[0m\n\u001b[1;32m    378\u001b[0m         \u001b[0mshortestpath_graph\u001b[0m \u001b[0;34m=\u001b[0m \u001b[0;34m{\u001b[0m\u001b[0;34m}\u001b[0m\u001b[0;34m\u001b[0m\u001b[0;34m\u001b[0m\u001b[0m\n\u001b[1;32m    379\u001b[0m         \u001b[0;32mfor\u001b[0m \u001b[0mi\u001b[0m \u001b[0;32min\u001b[0m \u001b[0mself\u001b[0m\u001b[0;34m.\u001b[0m\u001b[0morigins\u001b[0m\u001b[0;34m:\u001b[0m\u001b[0;34m\u001b[0m\u001b[0;34m\u001b[0m\u001b[0m\n\u001b[0;32m--> 380\u001b[0;31m             \u001b[0mshortestpath_graph\u001b[0m\u001b[0;34m[\u001b[0m\u001b[0mi\u001b[0m\u001b[0;34m]\u001b[0m \u001b[0;34m=\u001b[0m \u001b[0mnx\u001b[0m\u001b[0;34m.\u001b[0m\u001b[0msingle_source_dijkstra\u001b[0m\u001b[0;34m(\u001b[0m\u001b[0mself\u001b[0m\u001b[0;34m.\u001b[0m\u001b[0mgraph\u001b[0m\u001b[0;34m,\u001b[0m \u001b[0mi\u001b[0m\u001b[0;34m,\u001b[0m \u001b[0mweight\u001b[0m\u001b[0;34m=\u001b[0m\u001b[0;34m\"weight\"\u001b[0m\u001b[0;34m)\u001b[0m\u001b[0;34m\u001b[0m\u001b[0;34m\u001b[0m\u001b[0m\n\u001b[0m\u001b[1;32m    381\u001b[0m         \u001b[0;32mfor\u001b[0m \u001b[0;34m(\u001b[0m\u001b[0mi\u001b[0m\u001b[0;34m,\u001b[0m \u001b[0mj\u001b[0m\u001b[0;34m)\u001b[0m \u001b[0;32min\u001b[0m \u001b[0mself\u001b[0m\u001b[0;34m.\u001b[0m\u001b[0mod_vols\u001b[0m\u001b[0;34m:\u001b[0m\u001b[0;34m\u001b[0m\u001b[0;34m\u001b[0m\u001b[0m\n\u001b[1;32m    382\u001b[0m             \u001b[0modvol\u001b[0m \u001b[0;34m=\u001b[0m \u001b[0mself\u001b[0m\u001b[0;34m.\u001b[0m\u001b[0mod_vols\u001b[0m\u001b[0;34m[\u001b[0m\u001b[0;34m(\u001b[0m\u001b[0mi\u001b[0m\u001b[0;34m,\u001b[0m \u001b[0mj\u001b[0m\u001b[0;34m)\u001b[0m\u001b[0;34m]\u001b[0m\u001b[0;34m\u001b[0m\u001b[0;34m\u001b[0m\u001b[0m\n",
      "\u001b[0;32m~/opt/miniconda3/lib/python3.9/site-packages/networkx/algorithms/shortest_paths/weighted.py\u001b[0m in \u001b[0;36msingle_source_dijkstra\u001b[0;34m(G, source, target, cutoff, weight)\u001b[0m\n\u001b[1;32m    470\u001b[0m     \u001b[0msingle_source_bellman_ford\u001b[0m\u001b[0;34m\u001b[0m\u001b[0;34m\u001b[0m\u001b[0m\n\u001b[1;32m    471\u001b[0m     \"\"\"\n\u001b[0;32m--> 472\u001b[0;31m     return multi_source_dijkstra(\n\u001b[0m\u001b[1;32m    473\u001b[0m         \u001b[0mG\u001b[0m\u001b[0;34m,\u001b[0m \u001b[0;34m{\u001b[0m\u001b[0msource\u001b[0m\u001b[0;34m}\u001b[0m\u001b[0;34m,\u001b[0m \u001b[0mcutoff\u001b[0m\u001b[0;34m=\u001b[0m\u001b[0mcutoff\u001b[0m\u001b[0;34m,\u001b[0m \u001b[0mtarget\u001b[0m\u001b[0;34m=\u001b[0m\u001b[0mtarget\u001b[0m\u001b[0;34m,\u001b[0m \u001b[0mweight\u001b[0m\u001b[0;34m=\u001b[0m\u001b[0mweight\u001b[0m\u001b[0;34m\u001b[0m\u001b[0;34m\u001b[0m\u001b[0m\n\u001b[1;32m    474\u001b[0m     )\n",
      "\u001b[0;32m~/opt/miniconda3/lib/python3.9/site-packages/networkx/algorithms/shortest_paths/weighted.py\u001b[0m in \u001b[0;36mmulti_source_dijkstra\u001b[0;34m(G, sources, target, cutoff, weight)\u001b[0m\n\u001b[1;32m    732\u001b[0m     \u001b[0;32mfor\u001b[0m \u001b[0ms\u001b[0m \u001b[0;32min\u001b[0m \u001b[0msources\u001b[0m\u001b[0;34m:\u001b[0m\u001b[0;34m\u001b[0m\u001b[0;34m\u001b[0m\u001b[0m\n\u001b[1;32m    733\u001b[0m         \u001b[0;32mif\u001b[0m \u001b[0ms\u001b[0m \u001b[0;32mnot\u001b[0m \u001b[0;32min\u001b[0m \u001b[0mG\u001b[0m\u001b[0;34m:\u001b[0m\u001b[0;34m\u001b[0m\u001b[0;34m\u001b[0m\u001b[0m\n\u001b[0;32m--> 734\u001b[0;31m             \u001b[0;32mraise\u001b[0m \u001b[0mnx\u001b[0m\u001b[0;34m.\u001b[0m\u001b[0mNodeNotFound\u001b[0m\u001b[0;34m(\u001b[0m\u001b[0;34mf\"Node {s} not found in graph\"\u001b[0m\u001b[0;34m)\u001b[0m\u001b[0;34m\u001b[0m\u001b[0;34m\u001b[0m\u001b[0m\n\u001b[0m\u001b[1;32m    735\u001b[0m     \u001b[0;32mif\u001b[0m \u001b[0mtarget\u001b[0m \u001b[0;32min\u001b[0m \u001b[0msources\u001b[0m\u001b[0;34m:\u001b[0m\u001b[0;34m\u001b[0m\u001b[0;34m\u001b[0m\u001b[0m\n\u001b[1;32m    736\u001b[0m         \u001b[0;32mreturn\u001b[0m \u001b[0;34m(\u001b[0m\u001b[0;36m0\u001b[0m\u001b[0;34m,\u001b[0m \u001b[0;34m[\u001b[0m\u001b[0mtarget\u001b[0m\u001b[0;34m]\u001b[0m\u001b[0;34m)\u001b[0m\u001b[0;34m\u001b[0m\u001b[0;34m\u001b[0m\u001b[0m\n",
      "\u001b[0;31mNodeNotFound\u001b[0m: Node 1 not found in graph"
     ]
    }
   ],
   "source": [
    "%%time\n",
    "\n",
    "#compute the eq flow for one example city and no closed links\n",
    "remove_link = None\n",
    "trial_run.compute_link_flow(city, remove_link)"
   ]
  },
  {
   "cell_type": "code",
   "execution_count": null,
   "id": "6685a76d",
   "metadata": {},
   "outputs": [],
   "source": [
    "#report eq flow for one example city and no closed links\n",
    "print('Results for:', city)\n",
    "trial_run.cities_dict[city][str(remove_link)]['fw_run'].showODFlow() #equilibrium flows\n",
    "trial_run.cities_dict[city][str(remove_link)]['fw_run'].showODFlowMap() #flow map"
   ]
  },
  {
   "cell_type": "markdown",
   "id": "af7b2eed",
   "metadata": {},
   "source": [
    "# Systematically close each link and compute equilibrium flow for example city"
   ]
  },
  {
   "cell_type": "code",
   "execution_count": 13,
   "id": "968d389e",
   "metadata": {},
   "outputs": [],
   "source": [
    "#need to make the network where each link is shut first\n",
    "trial_run.make_network_shut_each_link(city)"
   ]
  },
  {
   "cell_type": "code",
   "execution_count": 15,
   "id": "b85b2960",
   "metadata": {},
   "outputs": [
    {
     "data": {
      "text/plain": [
       "dict_keys(['file_paths', 'csv', 'None', '1', '0', '2', '3', '4', '5', '6', '7', '8', '9', '10', '11', '12', '13', '14', '15', '16', '17', '18', '19', '20', '21', '22', '23', '24', '25', '26', '27', '28', '29', '30', '31', '32', '33', '34', '35', '36', '37', '38', '39', '40', '41', '42', '43', '44', '45', '46', '47', '48', '49', '50', '51', '52', '53', '54', '55', '56', '57', '58', '59', '60', '61', '62', '63', '64', '65', '66', '67', '68', '69', '70', '71', '72', '73', '74', '75', '76', '77', '78', '79', '80', '81', '82', '83', '84', '85', '86', '87', '88', '89', '90', '91', '92', '93', '94', '95', '96', '97', '98', '99', '100', '101', '102', '103', '104', '105', '106', '107', '108', '109', '110', '111', '112', '113', '114', '115', '116', '117', '118', '119', '120', '121', '122', '123', '124', '125', '126', '127', '128', '129', '130', '131', '132', '133', '134', '135', '136', '137', '138', '139', '140', '141', '142', '143', '144', '145', '146', '147', '148', '149', '150', '151', '152', '153', '154', '155', '156', '157', '158', '159', '160', '161', '162', '163', '164', '165', '166', '167', '168', '169', '170', '171', '172', '173', '174', '175', '176', '177', '178', '179', '180', '181', '182', '183', '184', '185', '186', '187', '188', '189', '190', '191', '192', '193', '194', '195', '196', '197', '198', '199', '200', '201', '202', '203', '204', '205', '206', '207', '208', '209', '210', '211', '212', '213', '214', '215', '216', '217', '218', '219', '220', '221', '222', '223', '224', '225', '226', '227', '228', '229', '230', '231', '232', '233', '234', '235', '236', '237', '238', '239', '240', '241', '242', '243', '244', '245', '246', '247', '248', '249', '250', '251', '252', '253', '254', '255', '256', '257', '258', '259', '260', '261', '262', '263', '264', '265', '266', '267', '268', '269', '270', '271', '272', '273', '274', '275', '276', '277', '278', '279', '280', '281', '282', '283', '284', '285', '286', '287', '288', '289', '290', '291', '292', '293', '294', '295', '296', '297', '298', '299', '300', '301', '302', '303', '304', '305', '306', '307', '308', '309', '310', '311', '312', '313', '314', '315', '316', '317', '318', '319', '320', '321', '322', '323', '324', '325', '326', '327', '328', '329', '330', '331', '332', '333', '334', '335', '336', '337', '338', '339', '340', '341', '342', '343', '344', '345', '346', '347', '348', '349', '350', '351', '352', '353', '354', '355', '356', '357', '358', '359', '360', '361', '362', '363', '364', '365', '366', '367', '368', '369', '370', '371', '372', '373', '374', '375', '376', '377', '378', '379', '380', '381', '382', '383', '384', '385', '386', '387', '388', '389', '390', '391', '392', '393', '394', '395', '396', '397', '398', '399', '400', '401', '402', '403', '404', '405', '406', '407', '408', '409', '410', '411', '412', '413', '414', '415', '416', '417', '418', '419', '420', '421', '422', '423', '424', '425', '426', '427', '428', '429', '430', '431', '432', '433', '434', '435', '436', '437', '438', '439', '440', '441', '442', '443', '444', '445', '446', '447', '448', '449', '450', '451', '452', '453', '454', '455', '456', '457', '458', '459', '460', '461', '462', '463', '464', '465', '466', '467', '468', '469', '470', '471', '472', '473', '474', '475', '476', '477', '478', '479', '480', '481', '482', '483', '484', '485', '486', '487', '488', '489', '490', '491', '492', '493', '494', '495', '496', '497', '498', '499', '500', '501', '502', '503', '504', '505', '506', '507', '508', '509', '510', '511', '512', '513', '514', '515', '516', '517', '518', '519', '520', '521', '522', '523', '524', '525', '526', '527', '528', '529', '530', '531', '532', '533', '534', '535', '536', '537', '538', '539', '540', '541', '542', '543', '544', '545', '546', '547', '548', '549', '550', '551', '552', '553', '554', '555', '556', '557', '558', '559'])"
      ]
     },
     "execution_count": 15,
     "metadata": {},
     "output_type": "execute_result"
    }
   ],
   "source": [
    "cities_dict[city].keys()"
   ]
  },
  {
   "cell_type": "code",
   "execution_count": null,
   "id": "0a270168",
   "metadata": {},
   "outputs": [],
   "source": [
    "check = list(cities_dict[city].keys())\n",
    "check.remove('file_paths')\n",
    "check.remove('csv')\n",
    "print(check)\n",
    "for i in check:\n",
    "    if cities_dict[city]['csv'].shape[0] <= len(cities_dict[city][i]['network'].graph.edges):\n",
    "        print(True)\n",
    "#should only print one True i.e. only one full network - 'None'"
   ]
  },
  {
   "cell_type": "code",
   "execution_count": null,
   "id": "d23b86fb",
   "metadata": {},
   "outputs": [],
   "source": [
    "%%time\n",
    "\n",
    "trial_run.eq_flow_shut_each_link(city)"
   ]
  },
  {
   "cell_type": "code",
   "execution_count": null,
   "id": "a48f3eae",
   "metadata": {},
   "outputs": [],
   "source": [
    "#report eq flow for one example city and one randomly closed link (flex removed_link, but can't choose more than max edges)\n",
    "max_edges = len(cities_dict[city]['1']['network'].graph.edges)\n",
    "print('max_edges:', max_edges)\n",
    "removed_link = 1\n",
    "print('Equilibrium flow for removed link number',removed_link, 'in', city)\n",
    "print('Results for:', city)\n",
    "trial_run.cities_dict[city][str(removed_link)]['fw_run'].showODFlow() #equilibrium flows\n",
    "trial_run.cities_dict[city][str(removed_link)]['fw_run'].showODFlowMap() #flow map"
   ]
  },
  {
   "cell_type": "markdown",
   "id": "7713a4e9",
   "metadata": {},
   "source": [
    "# Save file"
   ]
  },
  {
   "cell_type": "code",
   "execution_count": null,
   "id": "dc129165",
   "metadata": {},
   "outputs": [],
   "source": [
    "save_path = '/Users/benseimon/Documents/Barca GSE/Studies/Term 2/Networks/Term Paper/Networks_Term_Paper/Code/Python/working_multiple_eq_flow/results/'\n",
    "Berlin_Tiergarten_Center = cities_dict\n",
    "with open('Berlin_Tiergarten_Center.pickle', 'wb') as handle:\n",
    "    pickle.dump(Berlin_Tiergarten_Center, handle, protocol=pickle.HIGHEST_PROTOCOL)"
   ]
  }
 ],
 "metadata": {
  "kernelspec": {
   "display_name": "Python 3 (ipykernel)",
   "language": "python",
   "name": "python3"
  },
  "language_info": {
   "codemirror_mode": {
    "name": "ipython",
    "version": 3
   },
   "file_extension": ".py",
   "mimetype": "text/x-python",
   "name": "python",
   "nbconvert_exporter": "python",
   "pygments_lexer": "ipython3",
   "version": "3.9.5"
  }
 },
 "nbformat": 4,
 "nbformat_minor": 5
}
