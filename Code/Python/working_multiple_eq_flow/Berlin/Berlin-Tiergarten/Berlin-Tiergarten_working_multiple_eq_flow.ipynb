{
 "cells": [
  {
   "cell_type": "markdown",
   "id": "43849984",
   "metadata": {},
   "source": [
    "To note:\n",
    "\n",
    "- No idea what b is \n",
    "- Below is a couple of definitions from the GitHub page which might come in handy\n",
    "\n",
    "Link travel time = free flow time * ( 1 + B * (flow/capacity)^Power ).\n",
    "Link generalized cost = Link travel time + toll_factor * toll + distance_factor * distance"
   ]
  },
  {
   "cell_type": "markdown",
   "id": "83a47462",
   "metadata": {},
   "source": [
    "# Setup: import packages"
   ]
  },
  {
   "cell_type": "code",
   "execution_count": null,
   "id": "96c96558",
   "metadata": {},
   "outputs": [],
   "source": [
    "#install packages if required\n",
    "#%pip install networkx"
   ]
  },
  {
   "cell_type": "code",
   "execution_count": null,
   "id": "5a481df0",
   "metadata": {},
   "outputs": [],
   "source": [
    "#import packages \n",
    "import os\n",
    "import pandas as pd\n",
    "import networkx as nx\n",
    "import matplotlib.pyplot as plt\n",
    "import graphviz\n",
    "import scipy.integrate as integrate \n",
    "from scipy.optimize import minimize_scalar\n",
    "from scipy.misc import derivative\n",
    "import numpy as np\n",
    "import os\n",
    "from random import *"
   ]
  },
  {
   "cell_type": "code",
   "execution_count": null,
   "id": "bdd4d771",
   "metadata": {},
   "outputs": [],
   "source": [
    "#create cities dictionary\n",
    "def make_dict(cities):\n",
    "    cities_dict = {}\n",
    "    for city in cities:\n",
    "        link_file_path = data_path + city + '/' + city + '_net.tntp.txt'\n",
    "        node_file_path = data_path + city + '/' + city +'_nodes.tntp.txt'\n",
    "        trip_file_path = data_path + city + '/' + city + '_trips.tntp.txt'\n",
    "        cities_dict[city] = {}\n",
    "        to_add = {'link_file_path': link_file_path, 'node_file_path': node_file_path, 'trip_file_path': trip_file_path}\n",
    "        cities_dict[city]['file_paths'] = to_add \n",
    "    return cities_dict"
   ]
  },
  {
   "cell_type": "markdown",
   "id": "b18680b9",
   "metadata": {},
   "source": [
    "# Set file paths and city"
   ]
  },
  {
   "cell_type": "code",
   "execution_count": null,
   "id": "64ed0df1",
   "metadata": {},
   "outputs": [],
   "source": [
    "data_path = '/Users/benseimon/Documents/Barca GSE/Studies/Term 2/Networks/Term Paper/Networks_Term_Paper/Data/'\n",
    "cities = ['Berlin-Tiergarten']\n",
    "data_path = data_path \n",
    "os.chdir(data_path)"
   ]
  },
  {
   "cell_type": "markdown",
   "id": "0adb39be",
   "metadata": {},
   "source": [
    "# Import required classes"
   ]
  },
  {
   "cell_type": "code",
   "execution_count": null,
   "id": "e8255940",
   "metadata": {},
   "outputs": [],
   "source": [
    "classes_path = '/Users/benseimon/Documents/Barca GSE/Studies/Term 2/Networks/Term Paper/Networks_Term_Paper/Code/Python/working_multiple_eq_flow/Berlin/pytrans_working_multiple_eq_flow'\n",
    "#network_analysis_path_niamh = r'C:\\Users\\35387\\OneDrive\\Documents\\Networks\\New folder\\Networks_Term_Paper\\pytrans_UrbanNetworkAnalysis\\pytrans\\UrbanNetworkAnalysis\\original_edited'\n",
    "os.chdir(classes_path)\n",
    "import Frank_Wolfe\n",
    "import TransportationNetworks as tn\n",
    "import visualize_graph\n",
    "import custom_class"
   ]
  },
  {
   "cell_type": "markdown",
   "id": "d97dede8",
   "metadata": {},
   "source": [
    "# Make dict"
   ]
  },
  {
   "cell_type": "code",
   "execution_count": null,
   "id": "cbc1a167",
   "metadata": {},
   "outputs": [],
   "source": [
    "cities_dict = make_dict(cities)\n",
    "cities_dict"
   ]
  },
  {
   "cell_type": "markdown",
   "id": "3ba84367",
   "metadata": {},
   "source": [
    "# instantiate class"
   ]
  },
  {
   "cell_type": "code",
   "execution_count": null,
   "id": "2b44de20",
   "metadata": {},
   "outputs": [],
   "source": [
    "#instantiate class \n",
    "trial_run = custom_class.fw_custom_algorithm(cities_dict)"
   ]
  },
  {
   "cell_type": "markdown",
   "id": "e924e3d2",
   "metadata": {},
   "source": [
    "# Observe one city"
   ]
  },
  {
   "cell_type": "code",
   "execution_count": null,
   "id": "c369bee4",
   "metadata": {},
   "outputs": [],
   "source": [
    "#set city for investigation\n",
    "city = cities[0]"
   ]
  },
  {
   "cell_type": "code",
   "execution_count": null,
   "id": "f689fbe9",
   "metadata": {},
   "outputs": [],
   "source": [
    "trial_run.create_links_csv()\n",
    "cities_dict[city]['csv']"
   ]
  },
  {
   "cell_type": "markdown",
   "id": "a313e0cd",
   "metadata": {},
   "source": [
    "# Plot graph"
   ]
  },
  {
   "cell_type": "code",
   "execution_count": null,
   "id": "1695ef69",
   "metadata": {},
   "outputs": [],
   "source": [
    "#Create csvs, plot graph and show summary stats\n",
    "trial_run.summary_stats_all()\n",
    "trial_run.plot(city)"
   ]
  },
  {
   "cell_type": "markdown",
   "id": "afadb511",
   "metadata": {},
   "source": [
    "# Observe example network data"
   ]
  },
  {
   "cell_type": "code",
   "execution_count": null,
   "id": "e99ee18b",
   "metadata": {
    "scrolled": true
   },
   "outputs": [],
   "source": [
    "#observe network with all links\n",
    "remove_link = None #0 is equivalent to no links closed\n",
    "trial_run.make_network(city, remove_link)\n",
    "trial_run.network_attributes(city, remove_link)"
   ]
  },
  {
   "cell_type": "code",
   "execution_count": null,
   "id": "80ee4ad7",
   "metadata": {},
   "outputs": [],
   "source": [
    "#observe network after removing one link\n",
    "remove_link = 1\n",
    "trial_run.make_network(city, remove_link)\n",
    "trial_run.network_attributes(city, remove_link)"
   ]
  },
  {
   "cell_type": "markdown",
   "id": "d726132b",
   "metadata": {},
   "source": [
    "# Compute equilibrium flow for complete graph using Frank-Wolfe algorithm"
   ]
  },
  {
   "cell_type": "code",
   "execution_count": null,
   "id": "c3a04825",
   "metadata": {},
   "outputs": [],
   "source": [
    "%%time\n",
    "\n",
    "#compute the eq flow for one example city and no closed links\n",
    "remove_link = None\n",
    "trial_run.compute_link_flow(city, remove_link)"
   ]
  },
  {
   "cell_type": "code",
   "execution_count": null,
   "id": "6685a76d",
   "metadata": {},
   "outputs": [],
   "source": [
    "#report eq flow for one example city and no closed links\n",
    "print('Results for:', city)\n",
    "trial_run.cities_dict[city][str(remove_link)]['fw_run'].showODFlow() #equilibrium flows\n",
    "trial_run.cities_dict[city][str(remove_link)]['fw_run'].showODFlowMap() #flow map"
   ]
  },
  {
   "cell_type": "markdown",
   "id": "af7b2eed",
   "metadata": {},
   "source": [
    "# Systematically close each link and compute equilibrium flow for example city"
   ]
  },
  {
   "cell_type": "code",
   "execution_count": null,
   "id": "968d389e",
   "metadata": {},
   "outputs": [],
   "source": [
    "#need to make the network where each link is shut first\n",
    "trial_run.make_network_shut_each_link(city)"
   ]
  },
  {
   "cell_type": "code",
   "execution_count": null,
   "id": "46af4bfa",
   "metadata": {},
   "outputs": [],
   "source": [
    "check = list(cities_dict[city].keys())\n",
    "check.remove('file_paths')\n",
    "check.remove('csv')\n",
    "print(check)\n",
    "for i in check:\n",
    "    if cities_dict[city]['csv'].shape[0] <= len(cities_dict[city][i]['network'].graph.edges):\n",
    "        print(True)\n",
    "#should only print one True i.e. only one full network - 'None'"
   ]
  },
  {
   "cell_type": "code",
   "execution_count": null,
   "id": "d23b86fb",
   "metadata": {},
   "outputs": [],
   "source": [
    "%%time\n",
    "\n",
    "trial_run.eq_flow_shut_each_link(city)"
   ]
  },
  {
   "cell_type": "code",
   "execution_count": null,
   "id": "a48f3eae",
   "metadata": {},
   "outputs": [],
   "source": [
    "#report eq flow for one example city and one randomly closed link (flex removed_link, but can't choose more than max edges)\n",
    "max_edges = len(cities_dict[city]['1']['network'].graph.edges)\n",
    "print('max_edges:', max_edges)\n",
    "removed_link = 1\n",
    "print('Equilibrium flow for removed link number',removed_link, 'in', city)\n",
    "print('Results for:', city)\n",
    "trial_run.cities_dict[city][str(removed_link)]['fw_run'].showODFlow() #equilibrium flows\n",
    "trial_run.cities_dict[city][str(removed_link)]['fw_run'].showODFlowMap() #flow map"
   ]
  },
  {
   "cell_type": "code",
   "execution_count": null,
   "id": "60f15a4e",
   "metadata": {},
   "outputs": [],
   "source": [
    "cities_dict"
   ]
  },
  {
   "cell_type": "markdown",
   "id": "a86d509e",
   "metadata": {},
   "source": [
    "# Save file"
   ]
  },
  {
   "cell_type": "code",
   "execution_count": null,
   "id": "f5d2b5fc",
   "metadata": {},
   "outputs": [],
   "source": [
    "save_path = '/Users/benseimon/Documents/Barca GSE/Studies/Term 2/Networks/Term Paper/Networks_Term_Paper/Code/Python/working_multiple_eq_flow/results/'\n",
    "Berlin_Tiergarten_Center = cities_dict\n",
    "with open('Berlin_Tiergarten_Center.pickle', 'wb') as handle:\n",
    "    pickle.dump(Berlin_Tiergarten_Center, handle, protocol=pickle.HIGHEST_PROTOCOL)"
   ]
  }
 ],
 "metadata": {
  "kernelspec": {
   "display_name": "Python 3 (ipykernel)",
   "language": "python",
   "name": "python3"
  },
  "language_info": {
   "codemirror_mode": {
    "name": "ipython",
    "version": 3
   },
   "file_extension": ".py",
   "mimetype": "text/x-python",
   "name": "python",
   "nbconvert_exporter": "python",
   "pygments_lexer": "ipython3",
   "version": "3.9.5"
  }
 },
 "nbformat": 4,
 "nbformat_minor": 5
}
