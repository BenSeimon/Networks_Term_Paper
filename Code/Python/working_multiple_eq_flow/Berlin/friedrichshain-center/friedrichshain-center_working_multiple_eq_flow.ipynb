{
 "cells": [
  {
   "cell_type": "markdown",
   "id": "43849984",
   "metadata": {},
   "source": [
    "To note:\n",
    "\n",
    "- No idea what b is \n",
    "- Below is a couple of definitions from the GitHub page which might come in handy\n",
    "\n",
    "Link travel time = free flow time * ( 1 + B * (flow/capacity)^Power ).\n",
    "Link generalized cost = Link travel time + toll_factor * toll + distance_factor * distance"
   ]
  },
  {
   "cell_type": "markdown",
   "id": "83a47462",
   "metadata": {},
   "source": [
    "# Setup: import packages"
   ]
  },
  {
   "cell_type": "code",
   "execution_count": 1,
   "id": "96c96558",
   "metadata": {},
   "outputs": [],
   "source": [
    "#install packages if required\n",
    "#%pip install networkx"
   ]
  },
  {
   "cell_type": "code",
   "execution_count": 2,
   "id": "5a481df0",
   "metadata": {},
   "outputs": [],
   "source": [
    "#import packages \n",
    "import os\n",
    "import pandas as pd\n",
    "import networkx as nx\n",
    "import matplotlib.pyplot as plt\n",
    "import graphviz\n",
    "import scipy.integrate as integrate \n",
    "from scipy.optimize import minimize_scalar\n",
    "from scipy.misc import derivative\n",
    "import numpy as np\n",
    "import os\n",
    "from random import *"
   ]
  },
  {
   "cell_type": "code",
   "execution_count": 3,
   "id": "bdd4d771",
   "metadata": {},
   "outputs": [],
   "source": [
    "#create cities dictionary\n",
    "def make_dict(cities):\n",
    "    cities_dict = {}\n",
    "    for city in cities:\n",
    "        link_file_path = data_path + city + '/' + city + '_net.tntp.txt'\n",
    "        node_file_path = data_path + city + '/' + city +'_nodes.tntp.txt'\n",
    "        trip_file_path = data_path + city + '/' + city + '_trips.tntp.txt'\n",
    "        cities_dict[city] = {}\n",
    "        to_add = {'link_file_path': link_file_path, 'node_file_path': node_file_path, 'trip_file_path': trip_file_path}\n",
    "        cities_dict[city]['file_paths'] = to_add \n",
    "    return cities_dict"
   ]
  },
  {
   "cell_type": "markdown",
   "id": "b18680b9",
   "metadata": {},
   "source": [
    "# Set file paths and city"
   ]
  },
  {
   "cell_type": "code",
   "execution_count": 4,
   "id": "64ed0df1",
   "metadata": {},
   "outputs": [],
   "source": [
    "data_path = '/Users/benseimon/Documents/Barca GSE/Studies/Term 2/Networks/Term Paper/Networks_Term_Paper/Data/'\n",
    "cities = ['friedrichshain-center']\n",
    "data_path = data_path \n",
    "os.chdir(data_path)"
   ]
  },
  {
   "cell_type": "markdown",
   "id": "0adb39be",
   "metadata": {},
   "source": [
    "# Import required classes"
   ]
  },
  {
   "cell_type": "code",
   "execution_count": 5,
   "id": "e8255940",
   "metadata": {},
   "outputs": [],
   "source": [
    "classes_path = '/Users/benseimon/Documents/Barca GSE/Studies/Term 2/Networks/Term Paper/Networks_Term_Paper/Code/Python/working_multiple_eq_flow/Berlin/pytrans_working_multiple_eq_flow'\n",
    "#network_analysis_path_niamh = r'C:\\Users\\35387\\OneDrive\\Documents\\Networks\\New folder\\Networks_Term_Paper\\pytrans_UrbanNetworkAnalysis\\pytrans\\UrbanNetworkAnalysis\\original_edited'\n",
    "os.chdir(classes_path)\n",
    "import Frank_Wolfe\n",
    "import TransportationNetworks as tn\n",
    "import visualize_graph\n",
    "import custom_class"
   ]
  },
  {
   "cell_type": "markdown",
   "id": "d97dede8",
   "metadata": {},
   "source": [
    "# Make dict"
   ]
  },
  {
   "cell_type": "code",
   "execution_count": 6,
   "id": "cbc1a167",
   "metadata": {},
   "outputs": [
    {
     "data": {
      "text/plain": [
       "{'friedrichshain-center': {'file_paths': {'link_file_path': '/Users/benseimon/Documents/Barca GSE/Studies/Term 2/Networks/Term Paper/Networks_Term_Paper/Data/friedrichshain-center/friedrichshain-center_net.tntp.txt',\n",
       "   'node_file_path': '/Users/benseimon/Documents/Barca GSE/Studies/Term 2/Networks/Term Paper/Networks_Term_Paper/Data/friedrichshain-center/friedrichshain-center_nodes.tntp.txt',\n",
       "   'trip_file_path': '/Users/benseimon/Documents/Barca GSE/Studies/Term 2/Networks/Term Paper/Networks_Term_Paper/Data/friedrichshain-center/friedrichshain-center_trips.tntp.txt'}}}"
      ]
     },
     "execution_count": 6,
     "metadata": {},
     "output_type": "execute_result"
    }
   ],
   "source": [
    "cities_dict = make_dict(cities)\n",
    "cities_dict"
   ]
  },
  {
   "cell_type": "markdown",
   "id": "3ba84367",
   "metadata": {},
   "source": [
    "# instantiate class"
   ]
  },
  {
   "cell_type": "code",
   "execution_count": 7,
   "id": "2b44de20",
   "metadata": {},
   "outputs": [],
   "source": [
    "#instantiate class \n",
    "trial_run = custom_class.fw_custom_algorithm(cities_dict)"
   ]
  },
  {
   "cell_type": "markdown",
   "id": "e924e3d2",
   "metadata": {},
   "source": [
    "# Observe one city"
   ]
  },
  {
   "cell_type": "code",
   "execution_count": 8,
   "id": "c369bee4",
   "metadata": {},
   "outputs": [],
   "source": [
    "#set city for investigation\n",
    "city = cities[0]"
   ]
  },
  {
   "cell_type": "code",
   "execution_count": 9,
   "id": "f689fbe9",
   "metadata": {},
   "outputs": [
    {
     "data": {
      "text/html": [
       "<div>\n",
       "<style scoped>\n",
       "    .dataframe tbody tr th:only-of-type {\n",
       "        vertical-align: middle;\n",
       "    }\n",
       "\n",
       "    .dataframe tbody tr th {\n",
       "        vertical-align: top;\n",
       "    }\n",
       "\n",
       "    .dataframe thead th {\n",
       "        text-align: right;\n",
       "    }\n",
       "</style>\n",
       "<table border=\"1\" class=\"dataframe\">\n",
       "  <thead>\n",
       "    <tr style=\"text-align: right;\">\n",
       "      <th></th>\n",
       "      <th>init_node</th>\n",
       "      <th>term_node</th>\n",
       "      <th>capacity</th>\n",
       "      <th>length</th>\n",
       "      <th>free_flow_time</th>\n",
       "      <th>b</th>\n",
       "      <th>power</th>\n",
       "      <th>speed</th>\n",
       "      <th>toll</th>\n",
       "      <th>link_type</th>\n",
       "    </tr>\n",
       "  </thead>\n",
       "  <tbody>\n",
       "    <tr>\n",
       "      <th>92</th>\n",
       "      <td>24</td>\n",
       "      <td>27</td>\n",
       "      <td>900.0</td>\n",
       "      <td>25.0</td>\n",
       "      <td>1.000000</td>\n",
       "      <td>1.0</td>\n",
       "      <td>4.0</td>\n",
       "      <td>0.0</td>\n",
       "      <td>0.0</td>\n",
       "      <td>1</td>\n",
       "    </tr>\n",
       "    <tr>\n",
       "      <th>93</th>\n",
       "      <td>24</td>\n",
       "      <td>28</td>\n",
       "      <td>2800.0</td>\n",
       "      <td>414.0</td>\n",
       "      <td>12.666667</td>\n",
       "      <td>1.0</td>\n",
       "      <td>4.0</td>\n",
       "      <td>0.0</td>\n",
       "      <td>0.0</td>\n",
       "      <td>1</td>\n",
       "    </tr>\n",
       "    <tr>\n",
       "      <th>95</th>\n",
       "      <td>25</td>\n",
       "      <td>26</td>\n",
       "      <td>2800.0</td>\n",
       "      <td>317.0</td>\n",
       "      <td>14.000000</td>\n",
       "      <td>1.0</td>\n",
       "      <td>4.0</td>\n",
       "      <td>0.0</td>\n",
       "      <td>0.0</td>\n",
       "      <td>1</td>\n",
       "    </tr>\n",
       "    <tr>\n",
       "      <th>97</th>\n",
       "      <td>26</td>\n",
       "      <td>27</td>\n",
       "      <td>2800.0</td>\n",
       "      <td>181.0</td>\n",
       "      <td>8.666667</td>\n",
       "      <td>1.0</td>\n",
       "      <td>4.0</td>\n",
       "      <td>0.0</td>\n",
       "      <td>0.0</td>\n",
       "      <td>1</td>\n",
       "    </tr>\n",
       "    <tr>\n",
       "      <th>98</th>\n",
       "      <td>27</td>\n",
       "      <td>24</td>\n",
       "      <td>900.0</td>\n",
       "      <td>25.0</td>\n",
       "      <td>0.666667</td>\n",
       "      <td>1.0</td>\n",
       "      <td>4.0</td>\n",
       "      <td>0.0</td>\n",
       "      <td>0.0</td>\n",
       "      <td>1</td>\n",
       "    </tr>\n",
       "    <tr>\n",
       "      <th>...</th>\n",
       "      <td>...</td>\n",
       "      <td>...</td>\n",
       "      <td>...</td>\n",
       "      <td>...</td>\n",
       "      <td>...</td>\n",
       "      <td>...</td>\n",
       "      <td>...</td>\n",
       "      <td>...</td>\n",
       "      <td>...</td>\n",
       "      <td>...</td>\n",
       "    </tr>\n",
       "    <tr>\n",
       "      <th>516</th>\n",
       "      <td>218</td>\n",
       "      <td>215</td>\n",
       "      <td>900.0</td>\n",
       "      <td>123.0</td>\n",
       "      <td>5.000000</td>\n",
       "      <td>1.0</td>\n",
       "      <td>4.0</td>\n",
       "      <td>0.0</td>\n",
       "      <td>0.0</td>\n",
       "      <td>1</td>\n",
       "    </tr>\n",
       "    <tr>\n",
       "      <th>517</th>\n",
       "      <td>219</td>\n",
       "      <td>215</td>\n",
       "      <td>900.0</td>\n",
       "      <td>225.0</td>\n",
       "      <td>9.666667</td>\n",
       "      <td>1.0</td>\n",
       "      <td>4.0</td>\n",
       "      <td>0.0</td>\n",
       "      <td>0.0</td>\n",
       "      <td>1</td>\n",
       "    </tr>\n",
       "    <tr>\n",
       "      <th>519</th>\n",
       "      <td>220</td>\n",
       "      <td>68</td>\n",
       "      <td>900.0</td>\n",
       "      <td>112.0</td>\n",
       "      <td>2.666667</td>\n",
       "      <td>1.0</td>\n",
       "      <td>4.0</td>\n",
       "      <td>0.0</td>\n",
       "      <td>0.0</td>\n",
       "      <td>1</td>\n",
       "    </tr>\n",
       "    <tr>\n",
       "      <th>520</th>\n",
       "      <td>220</td>\n",
       "      <td>128</td>\n",
       "      <td>900.0</td>\n",
       "      <td>291.0</td>\n",
       "      <td>7.333333</td>\n",
       "      <td>1.0</td>\n",
       "      <td>4.0</td>\n",
       "      <td>0.0</td>\n",
       "      <td>0.0</td>\n",
       "      <td>1</td>\n",
       "    </tr>\n",
       "    <tr>\n",
       "      <th>521</th>\n",
       "      <td>221</td>\n",
       "      <td>121</td>\n",
       "      <td>600.0</td>\n",
       "      <td>241.0</td>\n",
       "      <td>6.000000</td>\n",
       "      <td>1.0</td>\n",
       "      <td>4.0</td>\n",
       "      <td>0.0</td>\n",
       "      <td>0.0</td>\n",
       "      <td>1</td>\n",
       "    </tr>\n",
       "  </tbody>\n",
       "</table>\n",
       "<p>339 rows × 10 columns</p>\n",
       "</div>"
      ],
      "text/plain": [
       "     init_node  term_node  capacity  length  free_flow_time    b  power  \\\n",
       "92          24         27     900.0    25.0        1.000000  1.0    4.0   \n",
       "93          24         28    2800.0   414.0       12.666667  1.0    4.0   \n",
       "95          25         26    2800.0   317.0       14.000000  1.0    4.0   \n",
       "97          26         27    2800.0   181.0        8.666667  1.0    4.0   \n",
       "98          27         24     900.0    25.0        0.666667  1.0    4.0   \n",
       "..         ...        ...       ...     ...             ...  ...    ...   \n",
       "516        218        215     900.0   123.0        5.000000  1.0    4.0   \n",
       "517        219        215     900.0   225.0        9.666667  1.0    4.0   \n",
       "519        220         68     900.0   112.0        2.666667  1.0    4.0   \n",
       "520        220        128     900.0   291.0        7.333333  1.0    4.0   \n",
       "521        221        121     600.0   241.0        6.000000  1.0    4.0   \n",
       "\n",
       "     speed  toll  link_type  \n",
       "92     0.0   0.0          1  \n",
       "93     0.0   0.0          1  \n",
       "95     0.0   0.0          1  \n",
       "97     0.0   0.0          1  \n",
       "98     0.0   0.0          1  \n",
       "..     ...   ...        ...  \n",
       "516    0.0   0.0          1  \n",
       "517    0.0   0.0          1  \n",
       "519    0.0   0.0          1  \n",
       "520    0.0   0.0          1  \n",
       "521    0.0   0.0          1  \n",
       "\n",
       "[339 rows x 10 columns]"
      ]
     },
     "execution_count": 9,
     "metadata": {},
     "output_type": "execute_result"
    }
   ],
   "source": [
    "trial_run.create_links_csv()\n",
    "cities_dict[city]['csv']"
   ]
  },
  {
   "cell_type": "markdown",
   "id": "a313e0cd",
   "metadata": {},
   "source": [
    "# Plot graph"
   ]
  },
  {
   "cell_type": "code",
   "execution_count": 10,
   "id": "1695ef69",
   "metadata": {},
   "outputs": [
    {
     "name": "stdout",
     "output_type": "stream",
     "text": [
      "Total number of nodes in friedrichshain-center: 200\n",
      "Total number of edges in friedrichshain-center: 339\n",
      "Graph for: friedrichshain-center\n"
     ]
    },
    {
     "data": {
      "image/png": "[encoded data removed]",
      "text/plain": [
       "<Figure size 432x288 with 1 Axes>"
      ]
     },
     "metadata": {},
     "output_type": "display_data"
    }
   ],
   "source": [
    "#Create csvs, plot graph and show summary stats\n",
    "trial_run.summary_stats_all()\n",
    "trial_run.plot(city)"
   ]
  },
  {
   "cell_type": "markdown",
   "id": "afadb511",
   "metadata": {},
   "source": [
    "# Observe example network data"
   ]
  },
  {
   "cell_type": "code",
   "execution_count": 11,
   "id": "e99ee18b",
   "metadata": {
    "scrolled": true
   },
   "outputs": [
    {
     "name": "stdout",
     "output_type": "stream",
     "text": [
      "No links removed\n",
      "<TransportationNetworks.Network object at 0x7f9c01d658e0>\n",
      "friedrichshain-center graph is: DiGraph with 200 nodes and 339 edges\n",
      "friedrichshain-center origin nodes are: ['1', '2', '3', '4', '5', '6', '7', '8', '9', '10', '11', '12', '13', '14', '15', '16', '17', '18', '19', '20', '21', '22', '23']\n",
      "friedrichshain-center flows are: {('1', '2'): 12.6, ('1', '3'): 4.54, ('1', '4'): 2.21, ('1', '5'): 3.87, ('1', '6'): 3.11, ('1', '7'): 3.08, ('1', '8'): 5.01, ('1', '9'): 34.87, ('1', '10'): 4.98, ('1', '11'): 3.93, ('1', '12'): 6.68, ('1', '13'): 3.45, ('1', '14'): 4.38, ('1', '15'): 3.28, ('1', '16'): 3.37, ('1', '17'): 9.23, ('1', '18'): 13.15, ('1', '19'): 30.07, ('1', '20'): 3.88, ('1', '21'): 5.29, ('1', '22'): 1.4, ('1', '23'): 23.8, ('2', '1'): 12.5, ('2', '3'): 6.25, ('2', '4'): 4.6, ('2', '5'): 7.8, ('2', '6'): 5.27, ('2', '7'): 5.88, ('2', '8'): 7.33, ('2', '9'): 62.53, ('2', '10'): 6.61, ('2', '11'): 8.51, ('2', '12'): 13.34, ('2', '13'): 4.52, ('2', '14'): 5.64, ('2', '15'): 6.42, ('2', '16'): 6.76, ('2', '17'): 19.84, ('2', '18'): 20.36, ('2', '19'): 42.45, ('2', '20'): 5.01, ('2', '21'): 7.69, ('2', '22'): 2.06, ('2', '23'): 47.32, ('3', '1'): 4.09, ('3', '2'): 8.08, ('3', '4'): 16.95, ('3', '5'): 44.53, ('3', '6'): 21.89, ('3', '7'): 27.23, ('3', '8'): 40.59, ('3', '9'): 13.42, ('3', '10'): 36.74, ('3', '11'): 52.12, ('3', '12'): 51.11, ('3', '13'): 26.34, ('3', '14'): 33.82, ('3', '15'): 33.26, ('3', '16'): 43.59, ('3', '17'): 5.09, ('3', '18'): 4.14, ('3', '19'): 7.29, ('3', '20'): 22.94, ('3', '21'): 37.93, ('3', '22'): 6.94, ('3', '23'): 10.05, ('4', '1'): 2.78, ('4', '2'): 3.68, ('4', '3'): 16.33, ('4', '5'): 22.0, ('4', '6'): 15.24, ('4', '7'): 16.98, ('4', '8'): 31.75, ('4', '9'): 6.67, ('4', '10'): 18.77, ('4', '11'): 23.76, ('4', '12'): 28.44, ('4', '13'): 14.43, ('4', '14'): 20.97, ('4', '15'): 17.09, ('4', '16'): 27.25, ('4', '17'): 2.6, ('4', '18'): 3.44, ('4', '19'): 4.7, ('4', '20'): 17.24, ('4', '21'): 29.42, ('4', '22'): 6.31, ('4', '23'): 4.13, ('5', '1'): 5.08, ('5', '2'): 7.36, ('5', '3'): 45.3, ('5', '4'): 23.26, ('5', '6'): 20.0, ('5', '7'): 28.16, ('5', '8'): 44.29, ('5', '9'): 18.65, ('5', '10'): 40.97, ('5', '11'): 40.71, ('5', '12'): 61.28, ('5', '13'): 27.39, ('5', '14'): 33.43, ('5', '15'): 28.25, ('5', '16'): 40.55, ('5', '17'): 4.78, ('5', '18'): 7.49, ('5', '19'): 13.45, ('5', '20'): 39.8, ('5', '21'): 57.58, ('5', '22'): 8.92, ('5', '23'): 10.24, ('6', '1'): 4.38, ('6', '2'): 6.55, ('6', '3'): 26.19, ('6', '4'): 18.07, ('6', '5'): 23.54, ('6', '7'): 14.17, ('6', '8'): 16.18, ('6', '9'): 14.73, ('6', '10'): 36.18, ('6', '11'): 32.88, ('6', '12'): 45.76, ('6', '13'): 27.13, ('6', '14'): 24.2, ('6', '15'): 27.59, ('6', '16'): 28.9, ('6', '17'): 4.23, ('6', '18'): 5.69, ('6', '19'): 8.96, ('6', '20'): 20.74, ('6', '21'): 38.24, ('6', '22'): 1.15, ('6', '23'): 6.79, ('7', '1'): 4.01, ('7', '2'): 5.37, ('7', '3'): 27.4, ('7', '4'): 17.69, ('7', '5'): 27.76, ('7', '6'): 12.02, ('7', '8'): 31.67, ('7', '9'): 12.08, ('7', '10'): 34.59, ('7', '11'): 31.21, ('7', '12'): 50.95, ('7', '13'): 25.63, ('7', '14'): 23.09, ('7', '15'): 19.21, ('7', '16'): 29.41, ('7', '17'): 3.31, ('7', '18'): 4.95, ('7', '19'): 7.97, ('7', '20'): 19.98, ('7', '21'): 29.3, ('7', '22'): 4.73, ('7', '23'): 5.69, ('8', '1'): 5.58, ('8', '2'): 10.03, ('8', '3'): 44.72, ('8', '4'): 36.08, ('8', '5'): 48.46, ('8', '6'): 13.94, ('8', '7'): 34.97, ('8', '9'): 25.49, ('8', '10'): 68.25, ('8', '11'): 74.07, ('8', '12'): 70.94, ('8', '13'): 39.88, ('8', '14'): 41.24, ('8', '15'): 39.11, ('8', '16'): 39.36, ('8', '17'): 6.52, ('8', '18'): 8.05, ('8', '19'): 14.74, ('8', '20'): 43.63, ('8', '21'): 65.99, ('8', '22'): 6.16, ('8', '23'): 14.1, ('9', '1'): 35.89, ('9', '2'): 64.72, ('9', '3'): 10.89, ('9', '4'): 8.64, ('9', '5'): 20.4, ('9', '6'): 11.88, ('9', '7'): 13.68, ('9', '8'): 19.01, ('9', '10'): 15.81, ('9', '11'): 22.6, ('9', '12'): 32.09, ('9', '13'): 12.5, ('9', '14'): 13.09, ('9', '15'): 14.43, ('9', '16'): 18.3, ('9', '17'): 50.83, ('9', '18'): 44.14, ('9', '19'): 75.83, ('9', '20'): 12.15, ('9', '21'): 16.57, ('9', '22'): 4.65, ('9', '23'): 104.93, ('10', '1'): 3.82, ('10', '2'): 8.19, ('10', '3'): 35.06, ('10', '4'): 18.53, ('10', '5'): 38.44, ('10', '6'): 30.07, ('10', '7'): 32.74, ('10', '8'): 60.14, ('10', '9'): 18.39, ('10', '11'): 41.41, ('10', '12'): 63.55, ('10', '13'): 23.36, ('10', '14'): 33.12, ('10', '15'): 31.98, ('10', '16'): 54.47, ('10', '17'): 5.69, ('10', '18'): 5.85, ('10', '19'): 7.01, ('10', '20'): 35.3, ('10', '21'): 53.67, ('10', '22'): 12.27, ('10', '23'): 9.13, ('11', '1'): 4.91, ('11', '2'): 6.69, ('11', '3'): 50.01, ('11', '4'): 23.65, ('11', '5'): 38.36, ('11', '6'): 27.72, ('11', '7'): 29.82, ('11', '8'): 65.0, ('11', '9'): 17.23, ('11', '10'): 41.75, ('11', '12'): 75.23, ('11', '13'): 31.96, ('11', '14'): 34.34, ('11', '15'): 28.02, ('11', '16'): 56.86, ('11', '17'): 4.61, ('11', '18'): 7.49, ('11', '19'): 10.94, ('11', '20'): 40.54, ('11', '21'): 58.05, ('11', '22'): 12.33, ('11', '23'): 7.56, ('12', '1'): 8.66, ('12', '2'): 12.18, ('12', '3'): 51.39, ('12', '4'): 29.62, ('12', '5'): 60.36, ('12', '6'): 38.79, ('12', '7'): 50.93, ('12', '8'): 64.22, ('12', '9'): 28.33, ('12', '10'): 67.09, ('12', '11'): 78.68, ('12', '13'): 42.06, ('12', '14'): 65.39, ('12', '15'): 53.47, ('12', '16'): 66.51, ('12', '17'): 8.31, ('12', '18'): 12.75, ('12', '19'): 19.35, ('12', '20'): 46.84, ('12', '21'): 96.12, ('12', '22'): 14.05, ('12', '23'): 16.94, ('13', '1'): 2.67, ('13', '2'): 5.61, ('13', '3'): 25.17, ('13', '4'): 14.27, ('13', '5'): 25.73, ('13', '6'): 22.54, ('13', '7'): 24.24, ('13', '8'): 35.22, ('13', '9'): 14.58, ('13', '10'): 23.39, ('13', '11'): 31.75, ('13', '12'): 39.9, ('13', '14'): 24.74, ('13', '15'): 23.44, ('13', '16'): 33.42, ('13', '17'): 4.02, ('13', '18'): 4.14, ('13', '19'): 6.01, ('13', '20'): 24.17, ('13', '21'): 38.6, ('13', '22'): 9.19, ('13', '23'): 7.73, ('14', '1'): 3.76, ('14', '2'): 7.19, ('14', '3'): 33.38, ('14', '4'): 21.33, ('14', '5'): 32.27, ('14', '6'): 20.19, ('14', '7'): 22.52, ('14', '8'): 37.08, ('14', '9'): 15.82, ('14', '10'): 34.33, ('14', '11'): 35.1, ('14', '12'): 63.81, ('14', '13'): 25.6, ('14', '15'): 24.41, ('14', '16'): 35.45, ('14', '17'): 5.62, ('14', '18'): 5.25, ('14', '19'): 7.09, ('14', '20'): 30.67, ('14', '21'): 42.85, ('14', '22'): 8.16, ('14', '23'): 6.86, ('15', '1'): 4.11, ('15', '2'): 5.11, ('15', '3'): 31.86, ('15', '4'): 17.1, ('15', '5'): 26.72, ('15', '6'): 23.28, ('15', '7'): 18.43, ('15', '8'): 34.31, ('15', '9'): 11.11, ('15', '10'): 32.15, ('15', '11'): 28.16, ('15', '12'): 51.33, ('15', '13'): 23.52, ('15', '14'): 23.83, ('15', '16'): 27.05, ('15', '17'): 3.16, ('15', '18'): 5.63, ('15', '19'): 7.5, ('15', '20'): 29.77, ('15', '21'): 37.36, ('15', '22'): 9.04, ('15', '23'): 4.97, ('16', '1'): 4.33, ('16', '2'): 6.05, ('16', '3'): 43.49, ('16', '4'): 28.18, ('16', '5'): 39.66, ('16', '6'): 24.47, ('16', '7'): 29.19, ('16', '8'): 35.44, ('16', '9'): 15.83, ('16', '10'): 57.1, ('16', '11'): 59.05, ('16', '12'): 66.02, ('16', '13'): 35.08, ('16', '14'): 36.06, ('16', '15'): 27.98, ('16', '17'): 4.3, ('16', '18'): 6.72, ('16', '19'): 12.21, ('16', '20'): 40.03, ('16', '21'): 56.45, ('16', '22'): 10.38, ('16', '23'): 9.56, ('17', '1'): 9.92, ('17', '2'): 21.41, ('17', '3'): 4.39, ('17', '4'): 3.51, ('17', '5'): 5.47, ('17', '6'): 3.42, ('17', '7'): 3.93, ('17', '8'): 5.01, ('17', '9'): 53.05, ('17', '10'): 5.28, ('17', '11'): 6.29, ('17', '12'): 9.85, ('17', '13'): 3.73, ('17', '14'): 4.97, ('17', '15'): 4.28, ('17', '16'): 5.19, ('17', '18'): 14.43, ('17', '19'): 33.07, ('17', '20'): 4.05, ('17', '21'): 4.72, ('17', '22'): 1.36, ('17', '23'): 32.22, ('18', '1'): 13.88, ('18', '2'): 21.7, ('18', '3'): 4.85, ('18', '4'): 3.03, ('18', '5'): 6.17, ('18', '6'): 4.07, ('18', '7'): 4.13, ('18', '8'): 7.47, ('18', '9'): 45.4, ('18', '10'): 8.0, ('18', '11'): 6.64, ('18', '12'): 10.65, ('18', '13'): 5.65, ('18', '14'): 6.48, ('18', '15'): 4.98, ('18', '16'): 5.67, ('18', '17'): 14.18, ('18', '19'): 39.08, ('18', '20'): 5.08, ('18', '21'): 6.58, ('18', '22'): 1.74, ('18', '23'): 36.91, ('19', '1'): 30.69, ('19', '2'): 43.73, ('19', '3'): 8.26, ('19', '4'): 3.9, ('19', '5'): 10.55, ('19', '6'): 6.39, ('19', '7'): 6.34, ('19', '8'): 13.38, ('19', '9'): 75.3, ('19', '10'): 9.31, ('19', '11'): 9.12, ('19', '12'): 15.37, ('19', '13'): 7.94, ('19', '14'): 8.45, ('19', '15'): 6.23, ('19', '16'): 9.79, ('19', '17'): 31.4, ('19', '18'): 37.78, ('19', '20'): 8.98, ('19', '21'): 13.66, ('19', '22'): 2.96, ('19', '23'): 41.39, ('20', '1'): 3.19, ('20', '2'): 6.32, ('20', '3'): 22.31, ('20', '4'): 17.38, ('20', '5'): 38.03, ('20', '6'): 17.27, ('20', '7'): 19.29, ('20', '8'): 38.87, ('20', '9'): 14.48, ('20', '10'): 36.01, ('20', '11'): 41.05, ('20', '12'): 45.25, ('20', '13'): 24.61, ('20', '14'): 30.19, ('20', '15'): 30.22, ('20', '16'): 38.96, ('20', '17'): 4.49, ('20', '18'): 3.97, ('20', '19'): 7.23, ('20', '21'): 28.22, ('20', '22'): 5.4, ('20', '23'): 7.96, ('21', '1'): 4.14, ('21', '2'): 9.57, ('21', '3'): 36.35, ('21', '4'): 29.17, ('21', '5'): 54.22, ('21', '6'): 31.8, ('21', '7'): 27.85, ('21', '8'): 58.29, ('21', '9'): 19.39, ('21', '10'): 53.92, ('21', '11'): 57.84, ('21', '12'): 91.46, ('21', '13'): 38.72, ('21', '14'): 41.55, ('21', '15'): 37.33, ('21', '16'): 54.1, ('21', '17'): 5.12, ('21', '18'): 4.88, ('21', '19'): 10.45, ('21', '20'): 27.79, ('21', '22'): 10.09, ('21', '23'): 11.48, ('22', '1'): 1.69, ('22', '2'): 2.87, ('22', '3'): 8.03, ('22', '4'): 7.47, ('22', '5'): 10.37, ('22', '6'): 1.05, ('22', '7'): 5.52, ('22', '8'): 6.72, ('22', '9'): 6.44, ('22', '10'): 14.41, ('22', '11'): 14.62, ('22', '12'): 16.41, ('22', '13'): 10.76, ('22', '14'): 9.48, ('22', '15'): 10.7, ('22', '16'): 12.14, ('22', '17'): 1.86, ('22', '18'): 2.07, ('22', '19'): 3.54, ('22', '20'): 6.31, ('22', '21'): 11.83, ('22', '23'): 3.08, ('23', '1'): 25.12, ('23', '2'): 50.16, ('23', '3'): 8.46, ('23', '4'): 5.47, ('23', '5'): 11.49, ('23', '6'): 5.5, ('23', '7'): 6.61, ('23', '8'): 10.7, ('23', '9'): 107.53, ('23', '10'): 8.19, ('23', '11'): 10.15, ('23', '12'): 19.69, ('23', '13'): 6.91, ('23', '14'): 5.9, ('23', '15'): 6.62, ('23', '16'): 11.34, ('23', '17'): 31.63, ('23', '18'): 36.83, ('23', '19'): 42.77, ('23', '20'): 6.97, ('23', '21'): 10.24, ('23', '22'): 2.24}\n"
     ]
    }
   ],
   "source": [
    "#observe network with all links\n",
    "remove_link = None\n",
    "trial_run.make_network(city, remove_link)\n",
    "trial_run.network_attributes(city, remove_link)"
   ]
  },
  {
   "cell_type": "code",
   "execution_count": 12,
   "id": "80ee4ad7",
   "metadata": {},
   "outputs": [
    {
     "name": "stdout",
     "output_type": "stream",
     "text": [
      "<TransportationNetworks.Network object at 0x7f9bd0661f40>\n",
      "friedrichshain-center graph is: DiGraph with 200 nodes and 339 edges\n",
      "friedrichshain-center origin nodes are: ['1', '2', '3', '4', '5', '6', '7', '8', '9', '10', '11', '12', '13', '14', '15', '16', '17', '18', '19', '20', '21', '22', '23']\n",
      "friedrichshain-center flows are: {('1', '2'): 12.6, ('1', '3'): 4.54, ('1', '4'): 2.21, ('1', '5'): 3.87, ('1', '6'): 3.11, ('1', '7'): 3.08, ('1', '8'): 5.01, ('1', '9'): 34.87, ('1', '10'): 4.98, ('1', '11'): 3.93, ('1', '12'): 6.68, ('1', '13'): 3.45, ('1', '14'): 4.38, ('1', '15'): 3.28, ('1', '16'): 3.37, ('1', '17'): 9.23, ('1', '18'): 13.15, ('1', '19'): 30.07, ('1', '20'): 3.88, ('1', '21'): 5.29, ('1', '22'): 1.4, ('1', '23'): 23.8, ('2', '1'): 12.5, ('2', '3'): 6.25, ('2', '4'): 4.6, ('2', '5'): 7.8, ('2', '6'): 5.27, ('2', '7'): 5.88, ('2', '8'): 7.33, ('2', '9'): 62.53, ('2', '10'): 6.61, ('2', '11'): 8.51, ('2', '12'): 13.34, ('2', '13'): 4.52, ('2', '14'): 5.64, ('2', '15'): 6.42, ('2', '16'): 6.76, ('2', '17'): 19.84, ('2', '18'): 20.36, ('2', '19'): 42.45, ('2', '20'): 5.01, ('2', '21'): 7.69, ('2', '22'): 2.06, ('2', '23'): 47.32, ('3', '1'): 4.09, ('3', '2'): 8.08, ('3', '4'): 16.95, ('3', '5'): 44.53, ('3', '6'): 21.89, ('3', '7'): 27.23, ('3', '8'): 40.59, ('3', '9'): 13.42, ('3', '10'): 36.74, ('3', '11'): 52.12, ('3', '12'): 51.11, ('3', '13'): 26.34, ('3', '14'): 33.82, ('3', '15'): 33.26, ('3', '16'): 43.59, ('3', '17'): 5.09, ('3', '18'): 4.14, ('3', '19'): 7.29, ('3', '20'): 22.94, ('3', '21'): 37.93, ('3', '22'): 6.94, ('3', '23'): 10.05, ('4', '1'): 2.78, ('4', '2'): 3.68, ('4', '3'): 16.33, ('4', '5'): 22.0, ('4', '6'): 15.24, ('4', '7'): 16.98, ('4', '8'): 31.75, ('4', '9'): 6.67, ('4', '10'): 18.77, ('4', '11'): 23.76, ('4', '12'): 28.44, ('4', '13'): 14.43, ('4', '14'): 20.97, ('4', '15'): 17.09, ('4', '16'): 27.25, ('4', '17'): 2.6, ('4', '18'): 3.44, ('4', '19'): 4.7, ('4', '20'): 17.24, ('4', '21'): 29.42, ('4', '22'): 6.31, ('4', '23'): 4.13, ('5', '1'): 5.08, ('5', '2'): 7.36, ('5', '3'): 45.3, ('5', '4'): 23.26, ('5', '6'): 20.0, ('5', '7'): 28.16, ('5', '8'): 44.29, ('5', '9'): 18.65, ('5', '10'): 40.97, ('5', '11'): 40.71, ('5', '12'): 61.28, ('5', '13'): 27.39, ('5', '14'): 33.43, ('5', '15'): 28.25, ('5', '16'): 40.55, ('5', '17'): 4.78, ('5', '18'): 7.49, ('5', '19'): 13.45, ('5', '20'): 39.8, ('5', '21'): 57.58, ('5', '22'): 8.92, ('5', '23'): 10.24, ('6', '1'): 4.38, ('6', '2'): 6.55, ('6', '3'): 26.19, ('6', '4'): 18.07, ('6', '5'): 23.54, ('6', '7'): 14.17, ('6', '8'): 16.18, ('6', '9'): 14.73, ('6', '10'): 36.18, ('6', '11'): 32.88, ('6', '12'): 45.76, ('6', '13'): 27.13, ('6', '14'): 24.2, ('6', '15'): 27.59, ('6', '16'): 28.9, ('6', '17'): 4.23, ('6', '18'): 5.69, ('6', '19'): 8.96, ('6', '20'): 20.74, ('6', '21'): 38.24, ('6', '22'): 1.15, ('6', '23'): 6.79, ('7', '1'): 4.01, ('7', '2'): 5.37, ('7', '3'): 27.4, ('7', '4'): 17.69, ('7', '5'): 27.76, ('7', '6'): 12.02, ('7', '8'): 31.67, ('7', '9'): 12.08, ('7', '10'): 34.59, ('7', '11'): 31.21, ('7', '12'): 50.95, ('7', '13'): 25.63, ('7', '14'): 23.09, ('7', '15'): 19.21, ('7', '16'): 29.41, ('7', '17'): 3.31, ('7', '18'): 4.95, ('7', '19'): 7.97, ('7', '20'): 19.98, ('7', '21'): 29.3, ('7', '22'): 4.73, ('7', '23'): 5.69, ('8', '1'): 5.58, ('8', '2'): 10.03, ('8', '3'): 44.72, ('8', '4'): 36.08, ('8', '5'): 48.46, ('8', '6'): 13.94, ('8', '7'): 34.97, ('8', '9'): 25.49, ('8', '10'): 68.25, ('8', '11'): 74.07, ('8', '12'): 70.94, ('8', '13'): 39.88, ('8', '14'): 41.24, ('8', '15'): 39.11, ('8', '16'): 39.36, ('8', '17'): 6.52, ('8', '18'): 8.05, ('8', '19'): 14.74, ('8', '20'): 43.63, ('8', '21'): 65.99, ('8', '22'): 6.16, ('8', '23'): 14.1, ('9', '1'): 35.89, ('9', '2'): 64.72, ('9', '3'): 10.89, ('9', '4'): 8.64, ('9', '5'): 20.4, ('9', '6'): 11.88, ('9', '7'): 13.68, ('9', '8'): 19.01, ('9', '10'): 15.81, ('9', '11'): 22.6, ('9', '12'): 32.09, ('9', '13'): 12.5, ('9', '14'): 13.09, ('9', '15'): 14.43, ('9', '16'): 18.3, ('9', '17'): 50.83, ('9', '18'): 44.14, ('9', '19'): 75.83, ('9', '20'): 12.15, ('9', '21'): 16.57, ('9', '22'): 4.65, ('9', '23'): 104.93, ('10', '1'): 3.82, ('10', '2'): 8.19, ('10', '3'): 35.06, ('10', '4'): 18.53, ('10', '5'): 38.44, ('10', '6'): 30.07, ('10', '7'): 32.74, ('10', '8'): 60.14, ('10', '9'): 18.39, ('10', '11'): 41.41, ('10', '12'): 63.55, ('10', '13'): 23.36, ('10', '14'): 33.12, ('10', '15'): 31.98, ('10', '16'): 54.47, ('10', '17'): 5.69, ('10', '18'): 5.85, ('10', '19'): 7.01, ('10', '20'): 35.3, ('10', '21'): 53.67, ('10', '22'): 12.27, ('10', '23'): 9.13, ('11', '1'): 4.91, ('11', '2'): 6.69, ('11', '3'): 50.01, ('11', '4'): 23.65, ('11', '5'): 38.36, ('11', '6'): 27.72, ('11', '7'): 29.82, ('11', '8'): 65.0, ('11', '9'): 17.23, ('11', '10'): 41.75, ('11', '12'): 75.23, ('11', '13'): 31.96, ('11', '14'): 34.34, ('11', '15'): 28.02, ('11', '16'): 56.86, ('11', '17'): 4.61, ('11', '18'): 7.49, ('11', '19'): 10.94, ('11', '20'): 40.54, ('11', '21'): 58.05, ('11', '22'): 12.33, ('11', '23'): 7.56, ('12', '1'): 8.66, ('12', '2'): 12.18, ('12', '3'): 51.39, ('12', '4'): 29.62, ('12', '5'): 60.36, ('12', '6'): 38.79, ('12', '7'): 50.93, ('12', '8'): 64.22, ('12', '9'): 28.33, ('12', '10'): 67.09, ('12', '11'): 78.68, ('12', '13'): 42.06, ('12', '14'): 65.39, ('12', '15'): 53.47, ('12', '16'): 66.51, ('12', '17'): 8.31, ('12', '18'): 12.75, ('12', '19'): 19.35, ('12', '20'): 46.84, ('12', '21'): 96.12, ('12', '22'): 14.05, ('12', '23'): 16.94, ('13', '1'): 2.67, ('13', '2'): 5.61, ('13', '3'): 25.17, ('13', '4'): 14.27, ('13', '5'): 25.73, ('13', '6'): 22.54, ('13', '7'): 24.24, ('13', '8'): 35.22, ('13', '9'): 14.58, ('13', '10'): 23.39, ('13', '11'): 31.75, ('13', '12'): 39.9, ('13', '14'): 24.74, ('13', '15'): 23.44, ('13', '16'): 33.42, ('13', '17'): 4.02, ('13', '18'): 4.14, ('13', '19'): 6.01, ('13', '20'): 24.17, ('13', '21'): 38.6, ('13', '22'): 9.19, ('13', '23'): 7.73, ('14', '1'): 3.76, ('14', '2'): 7.19, ('14', '3'): 33.38, ('14', '4'): 21.33, ('14', '5'): 32.27, ('14', '6'): 20.19, ('14', '7'): 22.52, ('14', '8'): 37.08, ('14', '9'): 15.82, ('14', '10'): 34.33, ('14', '11'): 35.1, ('14', '12'): 63.81, ('14', '13'): 25.6, ('14', '15'): 24.41, ('14', '16'): 35.45, ('14', '17'): 5.62, ('14', '18'): 5.25, ('14', '19'): 7.09, ('14', '20'): 30.67, ('14', '21'): 42.85, ('14', '22'): 8.16, ('14', '23'): 6.86, ('15', '1'): 4.11, ('15', '2'): 5.11, ('15', '3'): 31.86, ('15', '4'): 17.1, ('15', '5'): 26.72, ('15', '6'): 23.28, ('15', '7'): 18.43, ('15', '8'): 34.31, ('15', '9'): 11.11, ('15', '10'): 32.15, ('15', '11'): 28.16, ('15', '12'): 51.33, ('15', '13'): 23.52, ('15', '14'): 23.83, ('15', '16'): 27.05, ('15', '17'): 3.16, ('15', '18'): 5.63, ('15', '19'): 7.5, ('15', '20'): 29.77, ('15', '21'): 37.36, ('15', '22'): 9.04, ('15', '23'): 4.97, ('16', '1'): 4.33, ('16', '2'): 6.05, ('16', '3'): 43.49, ('16', '4'): 28.18, ('16', '5'): 39.66, ('16', '6'): 24.47, ('16', '7'): 29.19, ('16', '8'): 35.44, ('16', '9'): 15.83, ('16', '10'): 57.1, ('16', '11'): 59.05, ('16', '12'): 66.02, ('16', '13'): 35.08, ('16', '14'): 36.06, ('16', '15'): 27.98, ('16', '17'): 4.3, ('16', '18'): 6.72, ('16', '19'): 12.21, ('16', '20'): 40.03, ('16', '21'): 56.45, ('16', '22'): 10.38, ('16', '23'): 9.56, ('17', '1'): 9.92, ('17', '2'): 21.41, ('17', '3'): 4.39, ('17', '4'): 3.51, ('17', '5'): 5.47, ('17', '6'): 3.42, ('17', '7'): 3.93, ('17', '8'): 5.01, ('17', '9'): 53.05, ('17', '10'): 5.28, ('17', '11'): 6.29, ('17', '12'): 9.85, ('17', '13'): 3.73, ('17', '14'): 4.97, ('17', '15'): 4.28, ('17', '16'): 5.19, ('17', '18'): 14.43, ('17', '19'): 33.07, ('17', '20'): 4.05, ('17', '21'): 4.72, ('17', '22'): 1.36, ('17', '23'): 32.22, ('18', '1'): 13.88, ('18', '2'): 21.7, ('18', '3'): 4.85, ('18', '4'): 3.03, ('18', '5'): 6.17, ('18', '6'): 4.07, ('18', '7'): 4.13, ('18', '8'): 7.47, ('18', '9'): 45.4, ('18', '10'): 8.0, ('18', '11'): 6.64, ('18', '12'): 10.65, ('18', '13'): 5.65, ('18', '14'): 6.48, ('18', '15'): 4.98, ('18', '16'): 5.67, ('18', '17'): 14.18, ('18', '19'): 39.08, ('18', '20'): 5.08, ('18', '21'): 6.58, ('18', '22'): 1.74, ('18', '23'): 36.91, ('19', '1'): 30.69, ('19', '2'): 43.73, ('19', '3'): 8.26, ('19', '4'): 3.9, ('19', '5'): 10.55, ('19', '6'): 6.39, ('19', '7'): 6.34, ('19', '8'): 13.38, ('19', '9'): 75.3, ('19', '10'): 9.31, ('19', '11'): 9.12, ('19', '12'): 15.37, ('19', '13'): 7.94, ('19', '14'): 8.45, ('19', '15'): 6.23, ('19', '16'): 9.79, ('19', '17'): 31.4, ('19', '18'): 37.78, ('19', '20'): 8.98, ('19', '21'): 13.66, ('19', '22'): 2.96, ('19', '23'): 41.39, ('20', '1'): 3.19, ('20', '2'): 6.32, ('20', '3'): 22.31, ('20', '4'): 17.38, ('20', '5'): 38.03, ('20', '6'): 17.27, ('20', '7'): 19.29, ('20', '8'): 38.87, ('20', '9'): 14.48, ('20', '10'): 36.01, ('20', '11'): 41.05, ('20', '12'): 45.25, ('20', '13'): 24.61, ('20', '14'): 30.19, ('20', '15'): 30.22, ('20', '16'): 38.96, ('20', '17'): 4.49, ('20', '18'): 3.97, ('20', '19'): 7.23, ('20', '21'): 28.22, ('20', '22'): 5.4, ('20', '23'): 7.96, ('21', '1'): 4.14, ('21', '2'): 9.57, ('21', '3'): 36.35, ('21', '4'): 29.17, ('21', '5'): 54.22, ('21', '6'): 31.8, ('21', '7'): 27.85, ('21', '8'): 58.29, ('21', '9'): 19.39, ('21', '10'): 53.92, ('21', '11'): 57.84, ('21', '12'): 91.46, ('21', '13'): 38.72, ('21', '14'): 41.55, ('21', '15'): 37.33, ('21', '16'): 54.1, ('21', '17'): 5.12, ('21', '18'): 4.88, ('21', '19'): 10.45, ('21', '20'): 27.79, ('21', '22'): 10.09, ('21', '23'): 11.48, ('22', '1'): 1.69, ('22', '2'): 2.87, ('22', '3'): 8.03, ('22', '4'): 7.47, ('22', '5'): 10.37, ('22', '6'): 1.05, ('22', '7'): 5.52, ('22', '8'): 6.72, ('22', '9'): 6.44, ('22', '10'): 14.41, ('22', '11'): 14.62, ('22', '12'): 16.41, ('22', '13'): 10.76, ('22', '14'): 9.48, ('22', '15'): 10.7, ('22', '16'): 12.14, ('22', '17'): 1.86, ('22', '18'): 2.07, ('22', '19'): 3.54, ('22', '20'): 6.31, ('22', '21'): 11.83, ('22', '23'): 3.08, ('23', '1'): 25.12, ('23', '2'): 50.16, ('23', '3'): 8.46, ('23', '4'): 5.47, ('23', '5'): 11.49, ('23', '6'): 5.5, ('23', '7'): 6.61, ('23', '8'): 10.7, ('23', '9'): 107.53, ('23', '10'): 8.19, ('23', '11'): 10.15, ('23', '12'): 19.69, ('23', '13'): 6.91, ('23', '14'): 5.9, ('23', '15'): 6.62, ('23', '16'): 11.34, ('23', '17'): 31.63, ('23', '18'): 36.83, ('23', '19'): 42.77, ('23', '20'): 6.97, ('23', '21'): 10.24, ('23', '22'): 2.24}\n"
     ]
    }
   ],
   "source": [
    "#observe network after removing one link\n",
    "remove_link = 1\n",
    "trial_run.make_network(city, remove_link)\n",
    "trial_run.network_attributes(city, remove_link)"
   ]
  },
  {
   "cell_type": "markdown",
   "id": "d726132b",
   "metadata": {},
   "source": [
    "# Compute equilibrium flow for complete graph using Frank-Wolfe algorithm"
   ]
  },
  {
   "cell_type": "code",
   "execution_count": 13,
   "id": "c3a04825",
   "metadata": {},
   "outputs": [
    {
     "ename": "NodeNotFound",
     "evalue": "Node 1 not found in graph",
     "output_type": "error",
     "traceback": [
      "\u001b[0;31m---------------------------------------------------------------------------\u001b[0m",
      "\u001b[0;31mNodeNotFound\u001b[0m                              Traceback (most recent call last)",
      "\u001b[0;32m<timed exec>\u001b[0m in \u001b[0;36m<module>\u001b[0;34m\u001b[0m\n",
      "\u001b[0;32m~/Documents/Barca GSE/Studies/Term 2/Networks/Term Paper/Networks_Term_Paper/Code/Python/working_multiple_eq_flow/Berlin/pytrans_working_multiple_eq_flow/custom_class.py\u001b[0m in \u001b[0;36mcompute_link_flow\u001b[0;34m(self, city, remove_link_number)\u001b[0m\n\u001b[1;32m     88\u001b[0m         \u001b[0mnetwork\u001b[0m \u001b[0;34m=\u001b[0m \u001b[0mself\u001b[0m\u001b[0;34m.\u001b[0m\u001b[0mcities_dict\u001b[0m\u001b[0;34m[\u001b[0m\u001b[0mcity\u001b[0m\u001b[0;34m]\u001b[0m\u001b[0;34m[\u001b[0m\u001b[0mstr\u001b[0m\u001b[0;34m(\u001b[0m\u001b[0mremove_link_number\u001b[0m\u001b[0;34m)\u001b[0m\u001b[0;34m]\u001b[0m\u001b[0;34m[\u001b[0m\u001b[0;34m'network'\u001b[0m\u001b[0;34m]\u001b[0m\u001b[0;34m\u001b[0m\u001b[0;34m\u001b[0m\u001b[0m\n\u001b[1;32m     89\u001b[0m         \u001b[0mSO\u001b[0m \u001b[0;34m=\u001b[0m \u001b[0;32mFalse\u001b[0m\u001b[0;34m\u001b[0m\u001b[0;34m\u001b[0m\u001b[0m\n\u001b[0;32m---> 90\u001b[0;31m         \u001b[0mfw\u001b[0m \u001b[0;34m=\u001b[0m \u001b[0mFrank_Wolfe\u001b[0m\u001b[0;34m.\u001b[0m\u001b[0mRun\u001b[0m\u001b[0;34m(\u001b[0m\u001b[0mnetwork\u001b[0m\u001b[0;34m,\u001b[0m \u001b[0mSO\u001b[0m\u001b[0;34m)\u001b[0m\u001b[0;34m\u001b[0m\u001b[0;34m\u001b[0m\u001b[0m\n\u001b[0m\u001b[1;32m     91\u001b[0m         \u001b[0;31m#saves file to dict\u001b[0m\u001b[0;34m\u001b[0m\u001b[0;34m\u001b[0m\u001b[0;34m\u001b[0m\u001b[0m\n\u001b[1;32m     92\u001b[0m         \u001b[0mself\u001b[0m\u001b[0;34m.\u001b[0m\u001b[0mcities_dict\u001b[0m\u001b[0;34m[\u001b[0m\u001b[0mcity\u001b[0m\u001b[0;34m]\u001b[0m\u001b[0;34m[\u001b[0m\u001b[0mstr\u001b[0m\u001b[0;34m(\u001b[0m\u001b[0mremove_link_number\u001b[0m\u001b[0;34m)\u001b[0m\u001b[0;34m]\u001b[0m\u001b[0;34m[\u001b[0m\u001b[0;34m'fw_run'\u001b[0m\u001b[0;34m]\u001b[0m \u001b[0;34m=\u001b[0m \u001b[0mfw\u001b[0m\u001b[0;34m\u001b[0m\u001b[0;34m\u001b[0m\u001b[0m\n",
      "\u001b[0;32m~/Documents/Barca GSE/Studies/Term 2/Networks/Term Paper/Networks_Term_Paper/Code/Python/working_multiple_eq_flow/Berlin/pytrans_working_multiple_eq_flow/Frank_Wolfe.py\u001b[0m in \u001b[0;36m__init__\u001b[0;34m(self, network_object, SO)\u001b[0m\n\u001b[1;32m     74\u001b[0m         \u001b[0mself\u001b[0m\u001b[0;34m.\u001b[0m\u001b[0mfwResult\u001b[0m \u001b[0;34m=\u001b[0m \u001b[0;34m{\u001b[0m\u001b[0;34m'theta'\u001b[0m\u001b[0;34m:\u001b[0m\u001b[0;34m[\u001b[0m\u001b[0;34m]\u001b[0m\u001b[0;34m,\u001b[0m \u001b[0;34m'z'\u001b[0m\u001b[0;34m:\u001b[0m\u001b[0;34m[\u001b[0m\u001b[0;34m]\u001b[0m\u001b[0;34m}\u001b[0m\u001b[0;34m\u001b[0m\u001b[0;34m\u001b[0m\u001b[0m\n\u001b[1;32m     75\u001b[0m \u001b[0;34m\u001b[0m\u001b[0m\n\u001b[0;32m---> 76\u001b[0;31m         \u001b[0mself\u001b[0m\u001b[0;34m.\u001b[0m\u001b[0mnw\u001b[0m\u001b[0;34m.\u001b[0m\u001b[0mall_or_nothing_assignment\u001b[0m\u001b[0;34m(\u001b[0m\u001b[0;34m)\u001b[0m\u001b[0;34m\u001b[0m\u001b[0;34m\u001b[0m\u001b[0m\n\u001b[0m\u001b[1;32m     77\u001b[0m         \u001b[0mself\u001b[0m\u001b[0;34m.\u001b[0m\u001b[0mnw\u001b[0m\u001b[0;34m.\u001b[0m\u001b[0mupdate_linkcost\u001b[0m\u001b[0;34m(\u001b[0m\u001b[0;34m)\u001b[0m\u001b[0;34m\u001b[0m\u001b[0;34m\u001b[0m\u001b[0m\n\u001b[1;32m     78\u001b[0m \u001b[0;34m\u001b[0m\u001b[0m\n",
      "\u001b[0;32m~/Documents/Barca GSE/Studies/Term 2/Networks/Term Paper/Networks_Term_Paper/Code/Python/working_multiple_eq_flow/Berlin/pytrans_working_multiple_eq_flow/TransportationNetworks.py\u001b[0m in \u001b[0;36mall_or_nothing_assignment\u001b[0;34m(self)\u001b[0m\n\u001b[1;32m    377\u001b[0m         \u001b[0mshortestpath_graph\u001b[0m \u001b[0;34m=\u001b[0m \u001b[0;34m{\u001b[0m\u001b[0;34m}\u001b[0m\u001b[0;34m\u001b[0m\u001b[0;34m\u001b[0m\u001b[0m\n\u001b[1;32m    378\u001b[0m         \u001b[0;32mfor\u001b[0m \u001b[0mi\u001b[0m \u001b[0;32min\u001b[0m \u001b[0mself\u001b[0m\u001b[0;34m.\u001b[0m\u001b[0morigins\u001b[0m\u001b[0;34m:\u001b[0m\u001b[0;34m\u001b[0m\u001b[0;34m\u001b[0m\u001b[0m\n\u001b[0;32m--> 379\u001b[0;31m             \u001b[0mshortestpath_graph\u001b[0m\u001b[0;34m[\u001b[0m\u001b[0mi\u001b[0m\u001b[0;34m]\u001b[0m \u001b[0;34m=\u001b[0m \u001b[0mnx\u001b[0m\u001b[0;34m.\u001b[0m\u001b[0msingle_source_dijkstra\u001b[0m\u001b[0;34m(\u001b[0m\u001b[0mself\u001b[0m\u001b[0;34m.\u001b[0m\u001b[0mgraph\u001b[0m\u001b[0;34m,\u001b[0m \u001b[0mi\u001b[0m\u001b[0;34m,\u001b[0m \u001b[0mweight\u001b[0m\u001b[0;34m=\u001b[0m\u001b[0;34m\"weight\"\u001b[0m\u001b[0;34m)\u001b[0m\u001b[0;34m\u001b[0m\u001b[0;34m\u001b[0m\u001b[0m\n\u001b[0m\u001b[1;32m    380\u001b[0m         \u001b[0;32mfor\u001b[0m \u001b[0;34m(\u001b[0m\u001b[0mi\u001b[0m\u001b[0;34m,\u001b[0m \u001b[0mj\u001b[0m\u001b[0;34m)\u001b[0m \u001b[0;32min\u001b[0m \u001b[0mself\u001b[0m\u001b[0;34m.\u001b[0m\u001b[0mod_vols\u001b[0m\u001b[0;34m:\u001b[0m\u001b[0;34m\u001b[0m\u001b[0;34m\u001b[0m\u001b[0m\n\u001b[1;32m    381\u001b[0m             \u001b[0modvol\u001b[0m \u001b[0;34m=\u001b[0m \u001b[0mself\u001b[0m\u001b[0;34m.\u001b[0m\u001b[0mod_vols\u001b[0m\u001b[0;34m[\u001b[0m\u001b[0;34m(\u001b[0m\u001b[0mi\u001b[0m\u001b[0;34m,\u001b[0m \u001b[0mj\u001b[0m\u001b[0;34m)\u001b[0m\u001b[0;34m]\u001b[0m\u001b[0;34m\u001b[0m\u001b[0;34m\u001b[0m\u001b[0m\n",
      "\u001b[0;32m~/opt/miniconda3/lib/python3.9/site-packages/networkx/algorithms/shortest_paths/weighted.py\u001b[0m in \u001b[0;36msingle_source_dijkstra\u001b[0;34m(G, source, target, cutoff, weight)\u001b[0m\n\u001b[1;32m    470\u001b[0m     \u001b[0msingle_source_bellman_ford\u001b[0m\u001b[0;34m\u001b[0m\u001b[0;34m\u001b[0m\u001b[0m\n\u001b[1;32m    471\u001b[0m     \"\"\"\n\u001b[0;32m--> 472\u001b[0;31m     return multi_source_dijkstra(\n\u001b[0m\u001b[1;32m    473\u001b[0m         \u001b[0mG\u001b[0m\u001b[0;34m,\u001b[0m \u001b[0;34m{\u001b[0m\u001b[0msource\u001b[0m\u001b[0;34m}\u001b[0m\u001b[0;34m,\u001b[0m \u001b[0mcutoff\u001b[0m\u001b[0;34m=\u001b[0m\u001b[0mcutoff\u001b[0m\u001b[0;34m,\u001b[0m \u001b[0mtarget\u001b[0m\u001b[0;34m=\u001b[0m\u001b[0mtarget\u001b[0m\u001b[0;34m,\u001b[0m \u001b[0mweight\u001b[0m\u001b[0;34m=\u001b[0m\u001b[0mweight\u001b[0m\u001b[0;34m\u001b[0m\u001b[0;34m\u001b[0m\u001b[0m\n\u001b[1;32m    474\u001b[0m     )\n",
      "\u001b[0;32m~/opt/miniconda3/lib/python3.9/site-packages/networkx/algorithms/shortest_paths/weighted.py\u001b[0m in \u001b[0;36mmulti_source_dijkstra\u001b[0;34m(G, sources, target, cutoff, weight)\u001b[0m\n\u001b[1;32m    732\u001b[0m     \u001b[0;32mfor\u001b[0m \u001b[0ms\u001b[0m \u001b[0;32min\u001b[0m \u001b[0msources\u001b[0m\u001b[0;34m:\u001b[0m\u001b[0;34m\u001b[0m\u001b[0;34m\u001b[0m\u001b[0m\n\u001b[1;32m    733\u001b[0m         \u001b[0;32mif\u001b[0m \u001b[0ms\u001b[0m \u001b[0;32mnot\u001b[0m \u001b[0;32min\u001b[0m \u001b[0mG\u001b[0m\u001b[0;34m:\u001b[0m\u001b[0;34m\u001b[0m\u001b[0;34m\u001b[0m\u001b[0m\n\u001b[0;32m--> 734\u001b[0;31m             \u001b[0;32mraise\u001b[0m \u001b[0mnx\u001b[0m\u001b[0;34m.\u001b[0m\u001b[0mNodeNotFound\u001b[0m\u001b[0;34m(\u001b[0m\u001b[0;34mf\"Node {s} not found in graph\"\u001b[0m\u001b[0;34m)\u001b[0m\u001b[0;34m\u001b[0m\u001b[0;34m\u001b[0m\u001b[0m\n\u001b[0m\u001b[1;32m    735\u001b[0m     \u001b[0;32mif\u001b[0m \u001b[0mtarget\u001b[0m \u001b[0;32min\u001b[0m \u001b[0msources\u001b[0m\u001b[0;34m:\u001b[0m\u001b[0;34m\u001b[0m\u001b[0;34m\u001b[0m\u001b[0m\n\u001b[1;32m    736\u001b[0m         \u001b[0;32mreturn\u001b[0m \u001b[0;34m(\u001b[0m\u001b[0;36m0\u001b[0m\u001b[0;34m,\u001b[0m \u001b[0;34m[\u001b[0m\u001b[0mtarget\u001b[0m\u001b[0;34m]\u001b[0m\u001b[0;34m)\u001b[0m\u001b[0;34m\u001b[0m\u001b[0;34m\u001b[0m\u001b[0m\n",
      "\u001b[0;31mNodeNotFound\u001b[0m: Node 1 not found in graph"
     ]
    }
   ],
   "source": [
    "%%time\n",
    "\n",
    "#compute the eq flow for one example city and no closed links\n",
    "remove_link = None\n",
    "trial_run.compute_link_flow(city, remove_link)"
   ]
  },
  {
   "cell_type": "code",
   "execution_count": null,
   "id": "6685a76d",
   "metadata": {},
   "outputs": [],
   "source": [
    "#report eq flow for one example city and no closed links\n",
    "print('Results for:', city)\n",
    "trial_run.cities_dict[city][str(remove_link)]['fw_run'].showODFlow() #equilibrium flows\n",
    "trial_run.cities_dict[city][str(remove_link)]['fw_run'].showODFlowMap() #flow map"
   ]
  },
  {
   "cell_type": "markdown",
   "id": "af7b2eed",
   "metadata": {},
   "source": [
    "# Systematically close each link and compute equilibrium flow for example city"
   ]
  },
  {
   "cell_type": "code",
   "execution_count": null,
   "id": "968d389e",
   "metadata": {},
   "outputs": [],
   "source": [
    "#need to make the network where each link is shut first\n",
    "trial_run.make_network_shut_each_link(city)"
   ]
  },
  {
   "cell_type": "code",
   "execution_count": null,
   "id": "d3e85c09",
   "metadata": {},
   "outputs": [],
   "source": [
    "check = list(cities_dict[city].keys())\n",
    "check.remove('file_paths')\n",
    "check.remove('csv')\n",
    "print(check)\n",
    "for i in check:\n",
    "    if cities_dict[city]['csv'].shape[0] <= len(cities_dict[city][i]['network'].graph.edges):\n",
    "        print(True)\n",
    "#should only print one True i.e. only one full network - 'None'"
   ]
  },
  {
   "cell_type": "code",
   "execution_count": null,
   "id": "d23b86fb",
   "metadata": {},
   "outputs": [],
   "source": [
    "%%time\n",
    "\n",
    "trial_run.eq_flow_shut_each_link(city)"
   ]
  },
  {
   "cell_type": "code",
   "execution_count": null,
   "id": "a48f3eae",
   "metadata": {},
   "outputs": [],
   "source": [
    "#report eq flow for one example city and one randomly closed link (flex removed_link, but can't choose more than max edges)\n",
    "max_edges = len(cities_dict[city]['0']['network'].graph.edges)\n",
    "print('max_edges:', max_edges)\n",
    "removed_link = 1\n",
    "print('Equilibrium flow for removed link number',removed_link, 'in', city)\n",
    "print('Results for:', city)\n",
    "trial_run.cities_dict[city][str(removed_link)]['fw_run'].showODFlow() #equilibrium flows\n",
    "trial_run.cities_dict[city][str(removed_link)]['fw_run'].showODFlowMap() #flow map"
   ]
  },
  {
   "cell_type": "markdown",
   "id": "722d842c",
   "metadata": {},
   "source": [
    "# Save file"
   ]
  },
  {
   "cell_type": "code",
   "execution_count": null,
   "id": "95c2953f",
   "metadata": {},
   "outputs": [],
   "source": [
    "save_path = '/Users/benseimon/Documents/Barca GSE/Studies/Term 2/Networks/Term Paper/Networks_Term_Paper/Code/Python/working_multiple_eq_flow/results/'\n",
    "friedrichshain_center_dict = cities_dict\n",
    "with open('friedrichshain_center_dict.pickle', 'wb') as handle:\n",
    "    pickle.dump(friedrichshain_center_dict, handle, protocol=pickle.HIGHEST_PROTOCOL)\n",
    "    "
   ]
  }
 ],
 "metadata": {
  "kernelspec": {
   "display_name": "Python 3 (ipykernel)",
   "language": "python",
   "name": "python3"
  },
  "language_info": {
   "codemirror_mode": {
    "name": "ipython",
    "version": 3
   },
   "file_extension": ".py",
   "mimetype": "text/x-python",
   "name": "python",
   "nbconvert_exporter": "python",
   "pygments_lexer": "ipython3",
   "version": "3.9.5"
  }
 },
 "nbformat": 4,
 "nbformat_minor": 5
}
