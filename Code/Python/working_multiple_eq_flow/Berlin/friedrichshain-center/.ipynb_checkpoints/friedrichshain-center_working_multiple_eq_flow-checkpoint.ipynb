{
 "cells": [
  {
   "cell_type": "markdown",
   "id": "43849984",
   "metadata": {},
   "source": [
    "To note:\n",
    "\n",
    "- No idea what b is \n",
    "- Below is a couple of definitions from the GitHub page which might come in handy\n",
    "\n",
    "Link travel time = free flow time * ( 1 + B * (flow/capacity)^Power ).\n",
    "Link generalized cost = Link travel time + toll_factor * toll + distance_factor * distance"
   ]
  },
  {
   "cell_type": "markdown",
   "id": "83a47462",
   "metadata": {},
   "source": [
    "# Setup: import packages"
   ]
  },
  {
   "cell_type": "code",
   "execution_count": 1,
   "id": "96c96558",
   "metadata": {},
   "outputs": [],
   "source": [
    "#install packages if required\n",
    "#%pip install networkx"
   ]
  },
  {
   "cell_type": "code",
   "execution_count": 2,
   "id": "5a481df0",
   "metadata": {},
   "outputs": [],
   "source": [
    "#import packages \n",
    "import os\n",
    "import pandas as pd\n",
    "import networkx as nx\n",
    "import matplotlib.pyplot as plt\n",
    "import graphviz\n",
    "import scipy.integrate as integrate \n",
    "from scipy.optimize import minimize_scalar\n",
    "from scipy.misc import derivative\n",
    "import numpy as np\n",
    "import os\n",
    "from random import *"
   ]
  },
  {
   "cell_type": "code",
   "execution_count": 3,
   "id": "bdd4d771",
   "metadata": {},
   "outputs": [],
   "source": [
    "#create cities dictionary\n",
    "def make_dict(cities):\n",
    "    cities_dict = {}\n",
    "    for city in cities:\n",
    "        link_file_path = data_path + city + '/' + city + '_net.tntp.txt'\n",
    "        node_file_path = data_path + city + '/' + city +'_nodes.tntp.txt'\n",
    "        trip_file_path = data_path + city + '/' + city + '_trips.tntp.txt'\n",
    "        cities_dict[city] = {}\n",
    "        to_add = {'link_file_path': link_file_path, 'node_file_path': node_file_path, 'trip_file_path': trip_file_path}\n",
    "        cities_dict[city]['file_paths'] = to_add \n",
    "    return cities_dict"
   ]
  },
  {
   "cell_type": "markdown",
   "id": "b18680b9",
   "metadata": {},
   "source": [
    "# Set file paths and city"
   ]
  },
  {
   "cell_type": "code",
   "execution_count": 4,
   "id": "64ed0df1",
   "metadata": {},
   "outputs": [],
   "source": [
    "data_path = '/Users/benseimon/Documents/Barca GSE/Studies/Term 2/Networks/Term Paper/Networks_Term_Paper/Data/'\n",
    "cities = ['friedrichshain-center']\n",
    "data_path = data_path \n",
    "os.chdir(data_path)"
   ]
  },
  {
   "cell_type": "markdown",
   "id": "0adb39be",
   "metadata": {},
   "source": [
    "# Import required classes"
   ]
  },
  {
   "cell_type": "code",
   "execution_count": 5,
   "id": "e8255940",
   "metadata": {},
   "outputs": [],
   "source": [
    "classes_path = '/Users/benseimon/Documents/Barca GSE/Studies/Term 2/Networks/Term Paper/Networks_Term_Paper/Code/Python/working_multiple_eq_flow/Berlin/pytrans_working_multiple_eq_flow'\n",
    "#network_analysis_path_niamh = r'C:\\Users\\35387\\OneDrive\\Documents\\Networks\\New folder\\Networks_Term_Paper\\pytrans_UrbanNetworkAnalysis\\pytrans\\UrbanNetworkAnalysis\\original_edited'\n",
    "os.chdir(classes_path)\n",
    "import Frank_Wolfe\n",
    "import TransportationNetworks as tn\n",
    "import visualize_graph\n",
    "import custom_class"
   ]
  },
  {
   "cell_type": "markdown",
   "id": "d97dede8",
   "metadata": {},
   "source": [
    "# Make dict"
   ]
  },
  {
   "cell_type": "code",
   "execution_count": 6,
   "id": "cbc1a167",
   "metadata": {},
   "outputs": [
    {
     "data": {
      "text/plain": [
       "{'friedrichshain-center': {'file_paths': {'link_file_path': '/Users/benseimon/Documents/Barca GSE/Studies/Term 2/Networks/Term Paper/Networks_Term_Paper/Data/friedrichshain-center/friedrichshain-center_net.tntp.txt',\n",
       "   'node_file_path': '/Users/benseimon/Documents/Barca GSE/Studies/Term 2/Networks/Term Paper/Networks_Term_Paper/Data/friedrichshain-center/friedrichshain-center_nodes.tntp.txt',\n",
       "   'trip_file_path': '/Users/benseimon/Documents/Barca GSE/Studies/Term 2/Networks/Term Paper/Networks_Term_Paper/Data/friedrichshain-center/friedrichshain-center_trips.tntp.txt'}}}"
      ]
     },
     "execution_count": 6,
     "metadata": {},
     "output_type": "execute_result"
    }
   ],
   "source": [
    "cities_dict = make_dict(cities)\n",
    "cities_dict"
   ]
  },
  {
   "cell_type": "markdown",
   "id": "3ba84367",
   "metadata": {},
   "source": [
    "# instantiate class"
   ]
  },
  {
   "cell_type": "code",
   "execution_count": 7,
   "id": "2b44de20",
   "metadata": {},
   "outputs": [],
   "source": [
    "#instantiate class \n",
    "trial_run = custom_class.fw_custom_algorithm(cities_dict)"
   ]
  },
  {
   "cell_type": "markdown",
   "id": "e924e3d2",
   "metadata": {},
   "source": [
    "# Observe one city"
   ]
  },
  {
   "cell_type": "code",
   "execution_count": 8,
   "id": "c369bee4",
   "metadata": {},
   "outputs": [],
   "source": [
    "#set city for investigation\n",
    "city = cities[0]"
   ]
  },
  {
   "cell_type": "code",
   "execution_count": 9,
   "id": "f689fbe9",
   "metadata": {},
   "outputs": [
    {
     "data": {
      "text/html": [
       "<div>\n",
       "<style scoped>\n",
       "    .dataframe tbody tr th:only-of-type {\n",
       "        vertical-align: middle;\n",
       "    }\n",
       "\n",
       "    .dataframe tbody tr th {\n",
       "        vertical-align: top;\n",
       "    }\n",
       "\n",
       "    .dataframe thead th {\n",
       "        text-align: right;\n",
       "    }\n",
       "</style>\n",
       "<table border=\"1\" class=\"dataframe\">\n",
       "  <thead>\n",
       "    <tr style=\"text-align: right;\">\n",
       "      <th></th>\n",
       "      <th>init_node</th>\n",
       "      <th>term_node</th>\n",
       "      <th>capacity</th>\n",
       "      <th>length</th>\n",
       "      <th>free_flow_time</th>\n",
       "      <th>b</th>\n",
       "      <th>power</th>\n",
       "      <th>speed</th>\n",
       "      <th>toll</th>\n",
       "      <th>link_type</th>\n",
       "    </tr>\n",
       "  </thead>\n",
       "  <tbody>\n",
       "    <tr>\n",
       "      <th>0</th>\n",
       "      <td>1</td>\n",
       "      <td>31</td>\n",
       "      <td>999999.0</td>\n",
       "      <td>0.0</td>\n",
       "      <td>0.000000</td>\n",
       "      <td>0.0</td>\n",
       "      <td>4.0</td>\n",
       "      <td>0.0</td>\n",
       "      <td>0.0</td>\n",
       "      <td>0</td>\n",
       "    </tr>\n",
       "    <tr>\n",
       "      <th>1</th>\n",
       "      <td>1</td>\n",
       "      <td>32</td>\n",
       "      <td>999999.0</td>\n",
       "      <td>0.0</td>\n",
       "      <td>0.000000</td>\n",
       "      <td>0.0</td>\n",
       "      <td>4.0</td>\n",
       "      <td>0.0</td>\n",
       "      <td>0.0</td>\n",
       "      <td>0</td>\n",
       "    </tr>\n",
       "    <tr>\n",
       "      <th>2</th>\n",
       "      <td>1</td>\n",
       "      <td>159</td>\n",
       "      <td>999999.0</td>\n",
       "      <td>0.0</td>\n",
       "      <td>0.000000</td>\n",
       "      <td>0.0</td>\n",
       "      <td>4.0</td>\n",
       "      <td>0.0</td>\n",
       "      <td>0.0</td>\n",
       "      <td>0</td>\n",
       "    </tr>\n",
       "    <tr>\n",
       "      <th>3</th>\n",
       "      <td>1</td>\n",
       "      <td>161</td>\n",
       "      <td>999999.0</td>\n",
       "      <td>0.0</td>\n",
       "      <td>0.000000</td>\n",
       "      <td>0.0</td>\n",
       "      <td>4.0</td>\n",
       "      <td>0.0</td>\n",
       "      <td>0.0</td>\n",
       "      <td>0</td>\n",
       "    </tr>\n",
       "    <tr>\n",
       "      <th>4</th>\n",
       "      <td>2</td>\n",
       "      <td>31</td>\n",
       "      <td>999999.0</td>\n",
       "      <td>0.0</td>\n",
       "      <td>0.000000</td>\n",
       "      <td>0.0</td>\n",
       "      <td>4.0</td>\n",
       "      <td>0.0</td>\n",
       "      <td>0.0</td>\n",
       "      <td>0</td>\n",
       "    </tr>\n",
       "    <tr>\n",
       "      <th>...</th>\n",
       "      <td>...</td>\n",
       "      <td>...</td>\n",
       "      <td>...</td>\n",
       "      <td>...</td>\n",
       "      <td>...</td>\n",
       "      <td>...</td>\n",
       "      <td>...</td>\n",
       "      <td>...</td>\n",
       "      <td>...</td>\n",
       "      <td>...</td>\n",
       "    </tr>\n",
       "    <tr>\n",
       "      <th>518</th>\n",
       "      <td>220</td>\n",
       "      <td>13</td>\n",
       "      <td>999999.0</td>\n",
       "      <td>0.0</td>\n",
       "      <td>0.000000</td>\n",
       "      <td>0.0</td>\n",
       "      <td>4.0</td>\n",
       "      <td>0.0</td>\n",
       "      <td>0.0</td>\n",
       "      <td>0</td>\n",
       "    </tr>\n",
       "    <tr>\n",
       "      <th>519</th>\n",
       "      <td>220</td>\n",
       "      <td>68</td>\n",
       "      <td>900.0</td>\n",
       "      <td>112.0</td>\n",
       "      <td>2.666667</td>\n",
       "      <td>1.0</td>\n",
       "      <td>4.0</td>\n",
       "      <td>0.0</td>\n",
       "      <td>0.0</td>\n",
       "      <td>1</td>\n",
       "    </tr>\n",
       "    <tr>\n",
       "      <th>520</th>\n",
       "      <td>220</td>\n",
       "      <td>128</td>\n",
       "      <td>900.0</td>\n",
       "      <td>291.0</td>\n",
       "      <td>7.333333</td>\n",
       "      <td>1.0</td>\n",
       "      <td>4.0</td>\n",
       "      <td>0.0</td>\n",
       "      <td>0.0</td>\n",
       "      <td>1</td>\n",
       "    </tr>\n",
       "    <tr>\n",
       "      <th>521</th>\n",
       "      <td>221</td>\n",
       "      <td>121</td>\n",
       "      <td>600.0</td>\n",
       "      <td>241.0</td>\n",
       "      <td>6.000000</td>\n",
       "      <td>1.0</td>\n",
       "      <td>4.0</td>\n",
       "      <td>0.0</td>\n",
       "      <td>0.0</td>\n",
       "      <td>1</td>\n",
       "    </tr>\n",
       "    <tr>\n",
       "      <th>522</th>\n",
       "      <td>223</td>\n",
       "      <td>23</td>\n",
       "      <td>999999.0</td>\n",
       "      <td>0.0</td>\n",
       "      <td>0.000000</td>\n",
       "      <td>0.0</td>\n",
       "      <td>4.0</td>\n",
       "      <td>0.0</td>\n",
       "      <td>0.0</td>\n",
       "      <td>0</td>\n",
       "    </tr>\n",
       "  </tbody>\n",
       "</table>\n",
       "<p>523 rows × 10 columns</p>\n",
       "</div>"
      ],
      "text/plain": [
       "     init_node  term_node  capacity  length  free_flow_time    b  power  \\\n",
       "0            1         31  999999.0     0.0        0.000000  0.0    4.0   \n",
       "1            1         32  999999.0     0.0        0.000000  0.0    4.0   \n",
       "2            1        159  999999.0     0.0        0.000000  0.0    4.0   \n",
       "3            1        161  999999.0     0.0        0.000000  0.0    4.0   \n",
       "4            2         31  999999.0     0.0        0.000000  0.0    4.0   \n",
       "..         ...        ...       ...     ...             ...  ...    ...   \n",
       "518        220         13  999999.0     0.0        0.000000  0.0    4.0   \n",
       "519        220         68     900.0   112.0        2.666667  1.0    4.0   \n",
       "520        220        128     900.0   291.0        7.333333  1.0    4.0   \n",
       "521        221        121     600.0   241.0        6.000000  1.0    4.0   \n",
       "522        223         23  999999.0     0.0        0.000000  0.0    4.0   \n",
       "\n",
       "     speed  toll  link_type  \n",
       "0      0.0   0.0          0  \n",
       "1      0.0   0.0          0  \n",
       "2      0.0   0.0          0  \n",
       "3      0.0   0.0          0  \n",
       "4      0.0   0.0          0  \n",
       "..     ...   ...        ...  \n",
       "518    0.0   0.0          0  \n",
       "519    0.0   0.0          1  \n",
       "520    0.0   0.0          1  \n",
       "521    0.0   0.0          1  \n",
       "522    0.0   0.0          0  \n",
       "\n",
       "[523 rows x 10 columns]"
      ]
     },
     "execution_count": 9,
     "metadata": {},
     "output_type": "execute_result"
    }
   ],
   "source": [
    "trial_run.create_links_csv()\n",
    "cities_dict[city]['csv']"
   ]
  },
  {
   "cell_type": "markdown",
   "id": "a313e0cd",
   "metadata": {},
   "source": [
    "# Plot graph"
   ]
  },
  {
   "cell_type": "code",
   "execution_count": 10,
   "id": "1695ef69",
   "metadata": {},
   "outputs": [
    {
     "name": "stdout",
     "output_type": "stream",
     "text": [
      "Total number of nodes in friedrichshain-center: 224\n",
      "Total number of edges in friedrichshain-center: 523\n",
      "Graph for: friedrichshain-center\n"
     ]
    },
    {
     "data": {
      "image/png": "[encoded data removed]",
      "text/plain": [
       "<Figure size 432x288 with 1 Axes>"
      ]
     },
     "metadata": {},
     "output_type": "display_data"
    }
   ],
   "source": [
    "#Create csvs, plot graph and show summary stats\n",
    "trial_run.summary_stats_all()\n",
    "trial_run.plot(city)"
   ]
  },
  {
   "cell_type": "markdown",
   "id": "afadb511",
   "metadata": {},
   "source": [
    "# Observe example network data"
   ]
  },
  {
   "cell_type": "code",
   "execution_count": null,
   "id": "e99ee18b",
   "metadata": {
    "scrolled": true
   },
   "outputs": [],
   "source": [
    "#observe network with all links\n",
    "remove_link = None\n",
    "trial_run.make_network(city, remove_link)\n",
    "trial_run.network_attributes(city, remove_link)"
   ]
  },
  {
   "cell_type": "code",
   "execution_count": null,
   "id": "80ee4ad7",
   "metadata": {},
   "outputs": [],
   "source": [
    "#observe network after removing one link\n",
    "remove_link = 1\n",
    "trial_run.make_network(city, remove_link)\n",
    "trial_run.network_attributes(city, remove_link)"
   ]
  },
  {
   "cell_type": "markdown",
   "id": "d726132b",
   "metadata": {},
   "source": [
    "# Compute equilibrium flow for complete graph using Frank-Wolfe algorithm"
   ]
  },
  {
   "cell_type": "code",
   "execution_count": null,
   "id": "c3a04825",
   "metadata": {},
   "outputs": [],
   "source": [
    "%%time\n",
    "\n",
    "#compute the eq flow for one example city and no closed links\n",
    "remove_link = None\n",
    "trial_run.compute_link_flow(city, remove_link)"
   ]
  },
  {
   "cell_type": "code",
   "execution_count": null,
   "id": "6685a76d",
   "metadata": {},
   "outputs": [],
   "source": [
    "#report eq flow for one example city and no closed links\n",
    "print('Results for:', city)\n",
    "trial_run.cities_dict[city][str(remove_link)]['fw_run'].showODFlow() #equilibrium flows\n",
    "trial_run.cities_dict[city][str(remove_link)]['fw_run'].showODFlowMap() #flow map"
   ]
  },
  {
   "cell_type": "markdown",
   "id": "af7b2eed",
   "metadata": {},
   "source": [
    "# Systematically close each link and compute equilibrium flow for example city"
   ]
  },
  {
   "cell_type": "code",
   "execution_count": 11,
   "id": "968d389e",
   "metadata": {},
   "outputs": [
    {
     "name": "stdout",
     "output_type": "stream",
     "text": [
      "Link that connects 1.0 and 31.0 has length 0\n",
      "Link that connects 223.0 and 23.0 has length 0\n"
     ]
    }
   ],
   "source": [
    "#need to make the network where each link is shut first\n",
    "trial_run.make_network_shut_each_link(city)"
   ]
  },
  {
   "cell_type": "code",
   "execution_count": 12,
   "id": "fd8e74d0",
   "metadata": {},
   "outputs": [
    {
     "data": {
      "text/plain": [
       "{'file_paths': {'link_file_path': '/Users/benseimon/Documents/Barca GSE/Studies/Term 2/Networks/Term Paper/Networks_Term_Paper/Data/friedrichshain-center/friedrichshain-center_net.tntp.txt',\n",
       "  'node_file_path': '/Users/benseimon/Documents/Barca GSE/Studies/Term 2/Networks/Term Paper/Networks_Term_Paper/Data/friedrichshain-center/friedrichshain-center_nodes.tntp.txt',\n",
       "  'trip_file_path': '/Users/benseimon/Documents/Barca GSE/Studies/Term 2/Networks/Term Paper/Networks_Term_Paper/Data/friedrichshain-center/friedrichshain-center_trips.tntp.txt'},\n",
       " 'csv':      init_node  term_node  capacity  length  free_flow_time    b  power  \\\n",
       " 0            1         31  999999.0     0.0        0.000000  0.0    4.0   \n",
       " 1            1         32  999999.0     0.0        0.000000  0.0    4.0   \n",
       " 2            1        159  999999.0     0.0        0.000000  0.0    4.0   \n",
       " 3            1        161  999999.0     0.0        0.000000  0.0    4.0   \n",
       " 4            2         31  999999.0     0.0        0.000000  0.0    4.0   \n",
       " ..         ...        ...       ...     ...             ...  ...    ...   \n",
       " 518        220         13  999999.0     0.0        0.000000  0.0    4.0   \n",
       " 519        220         68     900.0   112.0        2.666667  1.0    4.0   \n",
       " 520        220        128     900.0   291.0        7.333333  1.0    4.0   \n",
       " 521        221        121     600.0   241.0        6.000000  1.0    4.0   \n",
       " 522        223         23  999999.0     0.0        0.000000  0.0    4.0   \n",
       " \n",
       "      speed  toll  link_type  \n",
       " 0      0.0   0.0          0  \n",
       " 1      0.0   0.0          0  \n",
       " 2      0.0   0.0          0  \n",
       " 3      0.0   0.0          0  \n",
       " 4      0.0   0.0          0  \n",
       " ..     ...   ...        ...  \n",
       " 518    0.0   0.0          0  \n",
       " 519    0.0   0.0          1  \n",
       " 520    0.0   0.0          1  \n",
       " 521    0.0   0.0          1  \n",
       " 522    0.0   0.0          0  \n",
       " \n",
       " [523 rows x 10 columns],\n",
       " '2': {'network': <TransportationNetworks.Network at 0x7f9dbd120a90>},\n",
       " '3': {'network': <TransportationNetworks.Network at 0x7f9dbd2f2eb0>},\n",
       " '4': {'network': <TransportationNetworks.Network at 0x7f9dbd2b6d90>}}"
      ]
     },
     "execution_count": 12,
     "metadata": {},
     "output_type": "execute_result"
    }
   ],
   "source": [
    "check = list(cities_dict[city].keys())\n",
    "check.remove('file_paths')\n",
    "check.remove('csv')\n",
    "print(check)\n",
    "for i in check:\n",
    "    if cities_dict[city]['csv'].shape[0] <= len(cities_dict[city][i]['network'].graph.edges):\n",
    "        print(True)\n",
    "#should only print one True i.e. only one full network - 'None'"
   ]
  },
  {
   "cell_type": "code",
   "execution_count": null,
   "id": "d23b86fb",
   "metadata": {},
   "outputs": [],
   "source": [
    "%%time\n",
    "\n",
    "trial_run.eq_flow_shut_each_link(city)"
   ]
  },
  {
   "cell_type": "code",
   "execution_count": null,
   "id": "a48f3eae",
   "metadata": {},
   "outputs": [],
   "source": [
    "#report eq flow for one example city and one randomly closed link (flex removed_link, but can't choose more than max edges)\n",
    "max_edges = len(cities_dict[city]['0']['network'].graph.edges)\n",
    "print('max_edges:', max_edges)\n",
    "removed_link = 1\n",
    "print('Equilibrium flow for removed link number',removed_link, 'in', city)\n",
    "print('Results for:', city)\n",
    "trial_run.cities_dict[city][str(removed_link)]['fw_run'].showODFlow() #equilibrium flows\n",
    "trial_run.cities_dict[city][str(removed_link)]['fw_run'].showODFlowMap() #flow map"
   ]
  },
  {
   "cell_type": "markdown",
   "id": "64c956ae",
   "metadata": {},
   "source": [
    "# Save file"
   ]
  },
  {
   "cell_type": "code",
   "execution_count": null,
   "id": "f8315e65",
   "metadata": {},
   "outputs": [],
   "source": [
    "save_path = '/Users/benseimon/Documents/Barca GSE/Studies/Term 2/Networks/Term Paper/Networks_Term_Paper/Code/Python/working_multiple_eq_flow/results/'\n",
    "friedrichshain_center_dict = cities_dict\n",
    "with open('friedrichshain_center_dict.pickle', 'wb') as handle:\n",
    "    pickle.dump(friedrichshain_center_dict, handle, protocol=pickle.HIGHEST_PROTOCOL)\n",
    "    "
   ]
  }
 ],
 "metadata": {
  "kernelspec": {
   "display_name": "Python 3 (ipykernel)",
   "language": "python",
   "name": "python3"
  },
  "language_info": {
   "codemirror_mode": {
    "name": "ipython",
    "version": 3
   },
   "file_extension": ".py",
   "mimetype": "text/x-python",
   "name": "python",
   "nbconvert_exporter": "python",
   "pygments_lexer": "ipython3",
   "version": "3.9.5"
  }
 },
 "nbformat": 4,
 "nbformat_minor": 5
}
