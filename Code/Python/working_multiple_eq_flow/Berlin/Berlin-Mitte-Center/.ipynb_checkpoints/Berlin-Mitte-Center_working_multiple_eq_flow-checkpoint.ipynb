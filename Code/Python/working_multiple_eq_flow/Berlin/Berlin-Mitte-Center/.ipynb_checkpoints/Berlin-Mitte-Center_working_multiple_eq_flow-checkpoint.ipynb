{
 "cells": [
  {
   "cell_type": "markdown",
   "id": "43849984",
   "metadata": {},
   "source": [
    "To note:\n",
    "\n",
    "- No idea what b is \n",
    "- Below is a couple of definitions from the GitHub page which might come in handy\n",
    "\n",
    "Link travel time = free flow time * ( 1 + B * (flow/capacity)^Power ).\n",
    "Link generalized cost = Link travel time + toll_factor * toll + distance_factor * distance"
   ]
  },
  {
   "cell_type": "markdown",
   "id": "83a47462",
   "metadata": {},
   "source": [
    "# Setup: import packages"
   ]
  },
  {
   "cell_type": "code",
   "execution_count": 1,
   "id": "96c96558",
   "metadata": {},
   "outputs": [],
   "source": [
    "#install packages if required\n",
    "#%pip install networkx"
   ]
  },
  {
   "cell_type": "code",
   "execution_count": 2,
   "id": "5a481df0",
   "metadata": {},
   "outputs": [],
   "source": [
    "#import packages \n",
    "import os\n",
    "import pandas as pd\n",
    "import networkx as nx\n",
    "import matplotlib.pyplot as plt\n",
    "import graphviz\n",
    "import scipy.integrate as integrate \n",
    "from scipy.optimize import minimize_scalar\n",
    "from scipy.misc import derivative\n",
    "import numpy as np\n",
    "import os\n",
    "from random import *"
   ]
  },
  {
   "cell_type": "code",
   "execution_count": 3,
   "id": "bdd4d771",
   "metadata": {},
   "outputs": [],
   "source": [
    "#create cities dictionary\n",
    "def make_dict(cities):\n",
    "    cities_dict = {}\n",
    "    for city in cities:\n",
    "        link_file_path = data_path + city + '/' + city + '_net.tntp.txt'\n",
    "        node_file_path = data_path + city + '/' + city +'_nodes.tntp.txt'\n",
    "        trip_file_path = data_path + city + '/' + city + '_trips.tntp.txt'\n",
    "        cities_dict[city] = {}\n",
    "        to_add = {'link_file_path': link_file_path, 'node_file_path': node_file_path, 'trip_file_path': trip_file_path}\n",
    "        cities_dict[city]['file_paths'] = to_add \n",
    "    return cities_dict"
   ]
  },
  {
   "cell_type": "markdown",
   "id": "b18680b9",
   "metadata": {},
   "source": [
    "# Set file paths and city"
   ]
  },
  {
   "cell_type": "code",
   "execution_count": 4,
   "id": "64ed0df1",
   "metadata": {},
   "outputs": [],
   "source": [
    "data_path = '/Users/benseimon/Documents/Barca GSE/Studies/Term 2/Networks/Term Paper/Networks_Term_Paper/Data/'\n",
    "cities = ['Berlin-Mitte-Center']\n",
    "data_path = data_path \n",
    "os.chdir(data_path)"
   ]
  },
  {
   "cell_type": "markdown",
   "id": "0adb39be",
   "metadata": {},
   "source": [
    "# Import required classes"
   ]
  },
  {
   "cell_type": "code",
   "execution_count": 5,
   "id": "e8255940",
   "metadata": {},
   "outputs": [],
   "source": [
    "classes_path = '/Users/benseimon/Documents/Barca GSE/Studies/Term 2/Networks/Term Paper/Networks_Term_Paper/Code/Python/working_multiple_eq_flow/Berlin/pytrans_working_multiple_eq_flow'\n",
    "#network_analysis_path_niamh = r'C:\\Users\\35387\\OneDrive\\Documents\\Networks\\New folder\\Networks_Term_Paper\\pytrans_UrbanNetworkAnalysis\\pytrans\\UrbanNetworkAnalysis\\original_edited'\n",
    "os.chdir(classes_path)\n",
    "import Frank_Wolfe\n",
    "import TransportationNetworks as tn\n",
    "import visualize_graph\n",
    "import custom_class"
   ]
  },
  {
   "cell_type": "markdown",
   "id": "d97dede8",
   "metadata": {},
   "source": [
    "# Make dict"
   ]
  },
  {
   "cell_type": "code",
   "execution_count": 6,
   "id": "cbc1a167",
   "metadata": {},
   "outputs": [
    {
     "data": {
      "text/plain": [
       "{'Berlin-Mitte-Center': {'file_paths': {'link_file_path': '/Users/benseimon/Documents/Barca GSE/Studies/Term 2/Networks/Term Paper/Networks_Term_Paper/Data/Berlin-Mitte-Center/Berlin-Mitte-Center_net.tntp.txt',\n",
       "   'node_file_path': '/Users/benseimon/Documents/Barca GSE/Studies/Term 2/Networks/Term Paper/Networks_Term_Paper/Data/Berlin-Mitte-Center/Berlin-Mitte-Center_nodes.tntp.txt',\n",
       "   'trip_file_path': '/Users/benseimon/Documents/Barca GSE/Studies/Term 2/Networks/Term Paper/Networks_Term_Paper/Data/Berlin-Mitte-Center/Berlin-Mitte-Center_trips.tntp.txt'}}}"
      ]
     },
     "execution_count": 6,
     "metadata": {},
     "output_type": "execute_result"
    }
   ],
   "source": [
    "cities_dict = make_dict(cities)\n",
    "cities_dict"
   ]
  },
  {
   "cell_type": "markdown",
   "id": "3ba84367",
   "metadata": {},
   "source": [
    "# instantiate class"
   ]
  },
  {
   "cell_type": "code",
   "execution_count": 7,
   "id": "2b44de20",
   "metadata": {},
   "outputs": [],
   "source": [
    "#instantiate class \n",
    "trial_run = custom_class.fw_custom_algorithm(cities_dict)"
   ]
  },
  {
   "cell_type": "markdown",
   "id": "e924e3d2",
   "metadata": {},
   "source": [
    "# Observe one city"
   ]
  },
  {
   "cell_type": "code",
   "execution_count": 8,
   "id": "c369bee4",
   "metadata": {},
   "outputs": [],
   "source": [
    "#set city for investigation\n",
    "city = cities[0]"
   ]
  },
  {
   "cell_type": "code",
   "execution_count": 9,
   "id": "f689fbe9",
   "metadata": {},
   "outputs": [
    {
     "data": {
      "text/html": [
       "<div>\n",
       "<style scoped>\n",
       "    .dataframe tbody tr th:only-of-type {\n",
       "        vertical-align: middle;\n",
       "    }\n",
       "\n",
       "    .dataframe tbody tr th {\n",
       "        vertical-align: top;\n",
       "    }\n",
       "\n",
       "    .dataframe thead th {\n",
       "        text-align: right;\n",
       "    }\n",
       "</style>\n",
       "<table border=\"1\" class=\"dataframe\">\n",
       "  <thead>\n",
       "    <tr style=\"text-align: right;\">\n",
       "      <th></th>\n",
       "      <th>init_node</th>\n",
       "      <th>term_node</th>\n",
       "      <th>capacity</th>\n",
       "      <th>length</th>\n",
       "      <th>free_flow_time</th>\n",
       "      <th>b</th>\n",
       "      <th>power</th>\n",
       "      <th>speed</th>\n",
       "      <th>toll</th>\n",
       "      <th>link_type</th>\n",
       "    </tr>\n",
       "  </thead>\n",
       "  <tbody>\n",
       "    <tr>\n",
       "      <th>0</th>\n",
       "      <td>1</td>\n",
       "      <td>303</td>\n",
       "      <td>999999.0</td>\n",
       "      <td>0.0</td>\n",
       "      <td>0.000000</td>\n",
       "      <td>0.0</td>\n",
       "      <td>4.0</td>\n",
       "      <td>0.0</td>\n",
       "      <td>0.0</td>\n",
       "      <td>0</td>\n",
       "    </tr>\n",
       "    <tr>\n",
       "      <th>1</th>\n",
       "      <td>1</td>\n",
       "      <td>304</td>\n",
       "      <td>999999.0</td>\n",
       "      <td>0.0</td>\n",
       "      <td>0.000000</td>\n",
       "      <td>0.0</td>\n",
       "      <td>4.0</td>\n",
       "      <td>0.0</td>\n",
       "      <td>0.0</td>\n",
       "      <td>0</td>\n",
       "    </tr>\n",
       "    <tr>\n",
       "      <th>2</th>\n",
       "      <td>1</td>\n",
       "      <td>306</td>\n",
       "      <td>999999.0</td>\n",
       "      <td>0.0</td>\n",
       "      <td>0.000000</td>\n",
       "      <td>0.0</td>\n",
       "      <td>4.0</td>\n",
       "      <td>0.0</td>\n",
       "      <td>0.0</td>\n",
       "      <td>0</td>\n",
       "    </tr>\n",
       "    <tr>\n",
       "      <th>3</th>\n",
       "      <td>1</td>\n",
       "      <td>307</td>\n",
       "      <td>999999.0</td>\n",
       "      <td>0.0</td>\n",
       "      <td>0.000000</td>\n",
       "      <td>0.0</td>\n",
       "      <td>4.0</td>\n",
       "      <td>0.0</td>\n",
       "      <td>0.0</td>\n",
       "      <td>0</td>\n",
       "    </tr>\n",
       "    <tr>\n",
       "      <th>4</th>\n",
       "      <td>2</td>\n",
       "      <td>253</td>\n",
       "      <td>999999.0</td>\n",
       "      <td>0.0</td>\n",
       "      <td>0.000000</td>\n",
       "      <td>0.0</td>\n",
       "      <td>4.0</td>\n",
       "      <td>0.0</td>\n",
       "      <td>0.0</td>\n",
       "      <td>0</td>\n",
       "    </tr>\n",
       "    <tr>\n",
       "      <th>...</th>\n",
       "      <td>...</td>\n",
       "      <td>...</td>\n",
       "      <td>...</td>\n",
       "      <td>...</td>\n",
       "      <td>...</td>\n",
       "      <td>...</td>\n",
       "      <td>...</td>\n",
       "      <td>...</td>\n",
       "      <td>...</td>\n",
       "      <td>...</td>\n",
       "    </tr>\n",
       "    <tr>\n",
       "      <th>866</th>\n",
       "      <td>395</td>\n",
       "      <td>111</td>\n",
       "      <td>900.0</td>\n",
       "      <td>277.0</td>\n",
       "      <td>15.666667</td>\n",
       "      <td>1.0</td>\n",
       "      <td>4.0</td>\n",
       "      <td>0.0</td>\n",
       "      <td>0.0</td>\n",
       "      <td>1</td>\n",
       "    </tr>\n",
       "    <tr>\n",
       "      <th>867</th>\n",
       "      <td>397</td>\n",
       "      <td>249</td>\n",
       "      <td>900.0</td>\n",
       "      <td>70.0</td>\n",
       "      <td>3.000000</td>\n",
       "      <td>1.0</td>\n",
       "      <td>4.0</td>\n",
       "      <td>0.0</td>\n",
       "      <td>0.0</td>\n",
       "      <td>1</td>\n",
       "    </tr>\n",
       "    <tr>\n",
       "      <th>868</th>\n",
       "      <td>397</td>\n",
       "      <td>256</td>\n",
       "      <td>900.0</td>\n",
       "      <td>102.0</td>\n",
       "      <td>7.000000</td>\n",
       "      <td>1.0</td>\n",
       "      <td>4.0</td>\n",
       "      <td>0.0</td>\n",
       "      <td>0.0</td>\n",
       "      <td>1</td>\n",
       "    </tr>\n",
       "    <tr>\n",
       "      <th>869</th>\n",
       "      <td>398</td>\n",
       "      <td>13</td>\n",
       "      <td>999999.0</td>\n",
       "      <td>0.0</td>\n",
       "      <td>0.000000</td>\n",
       "      <td>0.0</td>\n",
       "      <td>4.0</td>\n",
       "      <td>0.0</td>\n",
       "      <td>0.0</td>\n",
       "      <td>0</td>\n",
       "    </tr>\n",
       "    <tr>\n",
       "      <th>870</th>\n",
       "      <td>398</td>\n",
       "      <td>63</td>\n",
       "      <td>900.0</td>\n",
       "      <td>222.0</td>\n",
       "      <td>7.000000</td>\n",
       "      <td>1.0</td>\n",
       "      <td>4.0</td>\n",
       "      <td>0.0</td>\n",
       "      <td>0.0</td>\n",
       "      <td>1</td>\n",
       "    </tr>\n",
       "  </tbody>\n",
       "</table>\n",
       "<p>871 rows × 10 columns</p>\n",
       "</div>"
      ],
      "text/plain": [
       "     init_node  term_node  capacity  length  free_flow_time    b  power  \\\n",
       "0            1        303  999999.0     0.0        0.000000  0.0    4.0   \n",
       "1            1        304  999999.0     0.0        0.000000  0.0    4.0   \n",
       "2            1        306  999999.0     0.0        0.000000  0.0    4.0   \n",
       "3            1        307  999999.0     0.0        0.000000  0.0    4.0   \n",
       "4            2        253  999999.0     0.0        0.000000  0.0    4.0   \n",
       "..         ...        ...       ...     ...             ...  ...    ...   \n",
       "866        395        111     900.0   277.0       15.666667  1.0    4.0   \n",
       "867        397        249     900.0    70.0        3.000000  1.0    4.0   \n",
       "868        397        256     900.0   102.0        7.000000  1.0    4.0   \n",
       "869        398         13  999999.0     0.0        0.000000  0.0    4.0   \n",
       "870        398         63     900.0   222.0        7.000000  1.0    4.0   \n",
       "\n",
       "     speed  toll  link_type  \n",
       "0      0.0   0.0          0  \n",
       "1      0.0   0.0          0  \n",
       "2      0.0   0.0          0  \n",
       "3      0.0   0.0          0  \n",
       "4      0.0   0.0          0  \n",
       "..     ...   ...        ...  \n",
       "866    0.0   0.0          1  \n",
       "867    0.0   0.0          1  \n",
       "868    0.0   0.0          1  \n",
       "869    0.0   0.0          0  \n",
       "870    0.0   0.0          1  \n",
       "\n",
       "[871 rows x 10 columns]"
      ]
     },
     "execution_count": 9,
     "metadata": {},
     "output_type": "execute_result"
    }
   ],
   "source": [
    "trial_run.create_links_csv()\n",
    "cities_dict[city]['csv']"
   ]
  },
  {
   "cell_type": "markdown",
   "id": "a313e0cd",
   "metadata": {},
   "source": [
    "# Plot graph"
   ]
  },
  {
   "cell_type": "code",
   "execution_count": 10,
   "id": "1695ef69",
   "metadata": {},
   "outputs": [
    {
     "name": "stdout",
     "output_type": "stream",
     "text": [
      "Total number of nodes in Berlin-Mitte-Center: 397\n",
      "Total number of edges in Berlin-Mitte-Center: 871\n",
      "Graph for: Berlin-Mitte-Center\n"
     ]
    },
    {
     "data": {
      "image/png": "[encoded data removed]",
      "text/plain": [
       "<Figure size 432x288 with 1 Axes>"
      ]
     },
     "metadata": {},
     "output_type": "display_data"
    }
   ],
   "source": [
    "#Create csvs, plot graph and show summary stats\n",
    "trial_run.summary_stats_all()\n",
    "trial_run.plot(city)"
   ]
  },
  {
   "cell_type": "markdown",
   "id": "afadb511",
   "metadata": {},
   "source": [
    "# Observe example network data"
   ]
  },
  {
   "cell_type": "code",
   "execution_count": 11,
   "id": "e99ee18b",
   "metadata": {
    "scrolled": true
   },
   "outputs": [
    {
     "name": "stdout",
     "output_type": "stream",
     "text": [
      "<TransportationNetworks.Network object at 0x7f8fe301ef40>\n",
      "Berlin-Mitte-Center graph is: DiGraph with 397 nodes and 871 edges\n",
      "Berlin-Mitte-Center origin nodes are: ['1', '2', '3', '4', '5', '6', '7', '8', '9', '10', '11', '12', '13', '14', '15', '16', '17', '18', '19', '20', '21', '22', '23', '24', '25', '26', '27', '28', '29', '30', '31', '32', '33', '34', '35', '36']\n",
      "Berlin-Mitte-Center flows are: {('1', '2'): 14.31, ('1', '3'): 12.306, ('1', '4'): 24.582, ('1', '5'): 18.504, ('1', '6'): 29.298, ('1', '7'): 64.134, ('1', '8'): 46.788, ('1', '9'): 59.736, ('1', '10'): 8.274, ('1', '11'): 3.612, ('1', '12'): 6.888, ('1', '13'): 3.132, ('1', '14'): 3.468, ('1', '15'): 16.512, ('1', '16'): 18.618, ('1', '17'): 20.232, ('1', '18'): 40.56, ('1', '19'): 21.144, ('1', '20'): 9.642, ('1', '21'): 15.996, ('1', '22'): 8.952, ('1', '23'): 12.276, ('1', '24'): 4.998, ('1', '25'): 10.542, ('1', '26'): 11.166, ('1', '27'): 9.732, ('1', '28'): 4.308, ('1', '29'): 33.204, ('1', '30'): 19.47, ('1', '31'): 28.032, ('1', '32'): 28.674, ('1', '33'): 10.908, ('1', '34'): 9.846, ('1', '35'): 18.03, ('1', '36'): 11.556, ('2', '1'): 14.52, ('2', '3'): 1.59, ('2', '4'): 4.71, ('2', '5'): 3.78, ('2', '6'): 4.974, ('2', '7'): 9.42, ('2', '8'): 10.008, ('2', '9'): 7.176, ('2', '10'): 2.874, ('2', '11'): 0.75, ('2', '12'): 2.85, ('2', '13'): 1.542, ('2', '14'): 0.846, ('2', '15'): 4.806, ('2', '16'): 3.012, ('2', '17'): 2.172, ('2', '18'): 4.422, ('2', '19'): 5.232, ('2', '20'): 3.408, ('2', '21'): 7.614, ('2', '22'): 2.226, ('2', '23'): 3.432, ('2', '24'): 0.576, ('2', '25'): 2.052, ('2', '26'): 2.994, ('2', '27'): 1.962, ('2', '28'): 1.83, ('2', '29'): 5.178, ('2', '30'): 3.372, ('2', '31'): 5.628, ('2', '32'): 6.216, ('2', '33'): 3.33, ('2', '34'): 0.858, ('2', '35'): 6.0, ('2', '36'): 1.914, ('3', '1'): 12.834, ('3', '2'): 1.578, ('3', '4'): 3.48, ('3', '5'): 3.408, ('3', '6'): 4.26, ('3', '7'): 11.142, ('3', '8'): 7.596, ('3', '9'): 9.024, ('3', '10'): 2.34, ('3', '11'): 0.672, ('3', '12'): 2.538, ('3', '13'): 1.074, ('3', '14'): 0.81, ('3', '15'): 4.05, ('3', '16'): 3.624, ('3', '17'): 2.766, ('3', '18'): 6.558, ('3', '19'): 4.044, ('3', '20'): 2.676, ('3', '21'): 5.718, ('3', '22'): 1.56, ('3', '23'): 2.478, ('3', '24'): 0.834, ('3', '25'): 2.346, ('3', '26'): 2.88, ('3', '27'): 2.094, ('3', '28'): 1.542, ('3', '29'): 5.73, ('3', '30'): 3.786, ('3', '31'): 5.01, ('3', '32'): 5.598, ('3', '33'): 2.4, ('3', '34'): 1.074, ('3', '35'): 5.328, ('3', '36'): 2.004, ('4', '1'): 24.684, ('4', '2'): 4.548, ('4', '3'): 3.456, ('4', '5'): 7.62, ('4', '6'): 8.646, ('4', '7'): 23.988, ('4', '8'): 12.984, ('4', '9'): 18.66, ('4', '10'): 4.776, ('4', '11'): 1.626, ('4', '12'): 5.166, ('4', '13'): 2.076, ('4', '14'): 1.89, ('4', '15'): 8.85, ('4', '16'): 8.166, ('4', '17'): 7.824, ('4', '18'): 15.6, ('4', '19'): 8.946, ('4', '20'): 5.04, ('4', '21'): 11.508, ('4', '22'): 3.078, ('4', '23'): 4.272, ('4', '24'): 2.238, ('4', '25'): 5.448, ('4', '26'): 5.808, ('4', '27'): 4.974, ('4', '28'): 3.132, ('4', '29'): 14.358, ('4', '30'): 9.096, ('4', '31'): 10.764, ('4', '32'): 13.152, ('4', '33'): 4.578, ('4', '34'): 2.91, ('4', '35'): 11.208, ('4', '36'): 4.11, ('5', '1'): 18.654, ('5', '2'): 3.714, ('5', '3'): 3.282, ('5', '4'): 7.56, ('5', '6'): 11.37, ('5', '7'): 27.672, ('5', '8'): 17.922, ('5', '9'): 23.7, ('5', '10'): 4.074, ('5', '11'): 1.68, ('5', '12'): 3.18, ('5', '13'): 1.326, ('5', '14'): 1.554, ('5', '15'): 6.546, ('5', '16'): 7.416, ('5', '17'): 6.186, ('5', '18'): 16.104, ('5', '19'): 6.588, ('5', '20'): 4.224, ('5', '21'): 8.058, ('5', '22'): 2.814, ('5', '23'): 4.482, ('5', '24'): 2.412, ('5', '25'): 6.036, ('5', '26'): 6.078, ('5', '27'): 4.818, ('5', '28'): 2.058, ('5', '29'): 12.732, ('5', '30'): 7.506, ('5', '31'): 11.988, ('5', '32'): 7.362, ('5', '33'): 4.254, ('5', '34'): 3.576, ('5', '35'): 7.338, ('5', '36'): 4.116, ('6', '1'): 29.586, ('6', '2'): 4.914, ('6', '3'): 4.278, ('6', '4'): 8.802, ('6', '5'): 11.508, ('6', '7'): 16.026, ('6', '8'): 16.65, ('6', '9'): 14.274, ('6', '10'): 6.132, ('6', '11'): 1.146, ('6', '12'): 7.962, ('6', '13'): 2.718, ('6', '14'): 2.112, ('6', '15'): 9.852, ('6', '16'): 8.778, ('6', '17'): 6.084, ('6', '18'): 11.778, ('6', '19'): 14.268, ('6', '20'): 7.68, ('6', '21'): 14.016, ('6', '22'): 5.232, ('6', '23'): 6.564, ('6', '24'): 1.674, ('6', '25'): 4.722, ('6', '26'): 6.348, ('6', '27'): 3.924, ('6', '28'): 4.8, ('6', '29'): 13.164, ('6', '30'): 9.39, ('6', '31'): 9.918, ('6', '32'): 17.436, ('6', '33'): 5.526, ('6', '34'): 2.124, ('6', '35'): 15.858, ('6', '36'): 3.618, ('7', '1'): 65.868, ('7', '2'): 9.504, ('7', '3'): 11.274, ('7', '4'): 24.384, ('7', '5'): 28.392, ('7', '6'): 16.212, ('7', '8'): 36.75, ('7', '9'): 18.822, ('7', '10'): 13.878, ('7', '11'): 2.082, ('7', '12'): 21.27, ('7', '13'): 5.946, ('7', '14'): 3.384, ('7', '15'): 17.964, ('7', '16'): 16.902, ('7', '17'): 7.446, ('7', '18'): 14.28, ('7', '19'): 29.04, ('7', '20'): 17.574, ('7', '21'): 30.108, ('7', '22'): 13.212, ('7', '23'): 18.618, ('7', '24'): 1.584, ('7', '25'): 6.042, ('7', '26'): 11.946, ('7', '27'): 7.992, ('7', '28'): 10.41, ('7', '29'): 19.842, ('7', '30'): 16.164, ('7', '31'): 15.372, ('7', '32'): 37.806, ('7', '33'): 10.668, ('7', '34'): 3.48, ('7', '35'): 30.084, ('7', '36'): 5.976, ('8', '1'): 47.124, ('8', '2'): 9.72, ('8', '3'): 7.584, ('8', '4'): 13.032, ('8', '5'): 18.114, ('8', '6'): 16.404, ('8', '7'): 36.204, ('8', '9'): 22.836, ('8', '10'): 8.124, ('8', '11'): 2.802, ('8', '12'): 10.134, ('8', '13'): 4.08, ('8', '14'): 3.342, ('8', '15'): 13.908, ('8', '16'): 12.702, ('8', '17'): 11.202, ('8', '18'): 21.642, ('8', '19'): 19.794, ('8', '20'): 9.648, ('8', '21'): 20.412, ('8', '22'): 6.732, ('8', '23'): 8.358, ('8', '24'): 3.096, ('8', '25'): 7.602, ('8', '26'): 8.826, ('8', '27'): 7.62, ('8', '28'): 5.898, ('8', '29'): 18.288, ('8', '30'): 14.772, ('8', '31'): 15.744, ('8', '32'): 24.792, ('8', '33'): 7.566, ('8', '34'): 5.586, ('8', '35'): 22.428, ('8', '36'): 6.282, ('9', '1'): 61.62, ('9', '2'): 7.266, ('9', '3'): 9.204, ('9', '4'): 19.026, ('9', '5'): 24.432, ('9', '6'): 14.484, ('9', '7'): 18.972, ('9', '8'): 23.244, ('9', '10'): 10.44, ('9', '11'): 2.082, ('9', '12'): 17.502, ('9', '13'): 7.032, ('9', '14'): 3.462, ('9', '15'): 16.002, ('9', '16'): 12.972, ('9', '17'): 5.31, ('9', '18'): 9.474, ('9', '19'): 25.242, ('9', '20'): 15.258, ('9', '21'): 27.762, ('9', '22'): 10.308, ('9', '23'): 13.356, ('9', '24'): 0.918, ('9', '25'): 3.564, ('9', '26'): 8.418, ('9', '27'): 6.408, ('9', '28'): 9.612, ('9', '29'): 12.774, ('9', '30'): 11.514, ('9', '31'): 12.462, ('9', '32'): 32.508, ('9', '33'): 9.894, ('9', '34'): 2.502, ('9', '35'): 28.584, ('9', '36'): 5.082, ('10', '1'): 9.66, ('10', '2'): 2.43, ('10', '3'): 2.406, ('10', '4'): 5.382, ('10', '5'): 4.896, ('10', '6'): 5.676, ('10', '7'): 10.878, ('10', '8'): 8.598, ('10', '9'): 7.98, ('10', '11'): 15.372, ('10', '12'): 76.464, ('10', '13'): 17.334, ('10', '14'): 22.86, ('10', '15'): 4.794, ('10', '16'): 4.14, ('10', '17'): 2.526, ('10', '18'): 5.46, ('10', '19'): 5.25, ('10', '20'): 2.826, ('10', '21'): 4.698, ('10', '22'): 2.316, ('10', '23'): 3.324, ('10', '24'): 26.04, ('10', '25'): 68.274, ('10', '26'): 81.036, ('10', '27'): 42.546, ('10', '28'): 33.9, ('10', '29'): 5.268, ('10', '30'): 3.894, ('10', '31'): 3.798, ('10', '32'): 6.558, ('10', '33'): 1.854, ('10', '34'): 43.722, ('10', '35'): 6.402, ('10', '36'): 1.386, ('11', '1'): 5.286, ('11', '2'): 0.798, ('11', '3'): 0.9, ('11', '4'): 2.082, ('11', '5'): 2.49, ('11', '6'): 1.296, ('11', '7'): 2.064, ('11', '8'): 3.468, ('11', '9'): 1.938, ('11', '10'): 13.902, ('11', '12'): 29.43, ('11', '13'): 6.432, ('11', '14'): 5.142, ('11', '15'): 1.956, ('11', '16'): 1.536, ('11', '17'): 0.624, ('11', '18'): 1.218, ('11', '19'): 2.364, ('11', '20'): 1.464, ('11', '21'): 2.466, ('11', '22'): 1.056, ('11', '23'): 1.734, ('11', '24'): 4.098, ('11', '25'): 13.392, ('11', '26'): 21.114, ('11', '27'): 10.02, ('11', '28'): 13.482, ('11', '29'): 1.806, ('11', '30'): 1.458, ('11', '31'): 1.35, ('11', '32'): 3.318, ('11', '33'): 0.942, ('11', '34'): 5.988, ('11', '35'): 3.312, ('11', '36'): 0.51, ('12', '1'): 7.32, ('12', '2'): 2.376, ('12', '3'): 2.13, ('12', '4'): 4.746, ('12', '5'): 3.402, ('12', '6'): 6.462, ('12', '7'): 15.24, ('12', '8'): 8.826, ('12', '9'): 12.03, ('12', '10'): 83.07, ('12', '11'): 32.1, ('12', '13'): 24.372, ('12', '14'): 25.206, ('12', '15'): 4.248, ('12', '16'): 2.97, ('12', '17'): 2.43, ('12', '18'): 5.124, ('12', '19'): 3.936, ('12', '20'): 2.274, ('12', '21'): 2.994, ('12', '22'): 1.842, ('12', '23'): 2.742, ('12', '24'): 31.626, ('12', '25'): 97.668, ('12', '26'): 75.006, ('12', '27'): 75.438, ('12', '28'): 27.708, ('12', '29'): 7.182, ('12', '30'): 5.46, ('12', '31'): 2.31, ('12', '32'): 4.32, ('12', '33'): 0.834, ('12', '34'): 61.29, ('12', '35'): 5.094, ('12', '36'): 0.942, ('13', '1'): 2.592, ('13', '2'): 1.044, ('13', '3'): 0.852, ('13', '4'): 1.722, ('13', '5'): 1.146, ('13', '6'): 1.98, ('13', '7'): 4.134, ('13', '8'): 3.24, ('13', '9'): 4.932, ('13', '10'): 19.866, ('13', '11'): 7.62, ('13', '12'): 25.212, ('13', '14'): 7.788, ('13', '15'): 1.026, ('13', '16'): 1.374, ('13', '17'): 1.314, ('13', '18'): 2.916, ('13', '19'): 1.548, ('13', '20'): 0.81, ('13', '21'): 1.116, ('13', '22'): 0.648, ('13', '23'): 0.882, ('13', '24'): 15.618, ('13', '25'): 43.836, ('13', '26'): 39.168, ('13', '27'): 30.51, ('13', '28'): 11.622, ('13', '29'): 2.76, ('13', '30'): 1.986, ('13', '31'): 1.338, ('13', '32'): 1.554, ('13', '33'): 0.378, ('13', '34'): 29.718, ('13', '35'): 1.26, ('13', '36'): 0.6, ('14', '1'): 4.662, ('14', '2'): 0.798, ('14', '3'): 0.966, ('14', '4'): 2.292, ('14', '5'): 2.13, ('14', '6'): 2.166, ('14', '7'): 2.958, ('14', '8'): 3.846, ('14', '9'): 2.892, ('14', '10'): 21.594, ('14', '11'): 5.424, ('14', '12'): 23.424, ('14', '13'): 6.636, ('14', '15'): 1.674, ('14', '16'): 1.374, ('14', '17'): 0.66, ('14', '18'): 1.32, ('14', '19'): 2.142, ('14', '20'): 1.332, ('14', '21'): 2.052, ('14', '22'): 1.002, ('14', '23'): 1.62, ('14', '24'): 5.676, ('14', '25'): 18.252, ('14', '26'): 22.74, ('14', '27'): 19.92, ('14', '28'): 13.614, ('14', '29'): 2.22, ('14', '30'): 1.692, ('14', '31'): 1.008, ('14', '32'): 2.748, ('14', '33'): 0.618, ('14', '34'): 12.648, ('14', '35'): 2.31, ('14', '36'): 0.444, ('15', '1'): 16.512, ('15', '2'): 4.62, ('15', '3'): 4.02, ('15', '4'): 8.79, ('15', '5'): 6.57, ('15', '6'): 9.624, ('15', '7'): 17.628, ('15', '8'): 13.788, ('15', '9'): 15.672, ('15', '10'): 4.194, ('15', '11'): 1.518, ('15', '12'): 3.762, ('15', '13'): 1.308, ('15', '14'): 1.374, ('15', '16'): 5.496, ('15', '17'): 5.4, ('15', '18'): 11.004, ('15', '19'): 7.896, ('15', '20'): 4.602, ('15', '21'): 6.618, ('15', '22'): 3.564, ('15', '23'): 5.214, ('15', '24'): 1.788, ('15', '25'): 4.668, ('15', '26'): 4.164, ('15', '27'): 4.038, ('15', '28'): 2.232, ('15', '29'): 8.766, ('15', '30'): 5.778, ('15', '31'): 6.012, ('15', '32'): 8.874, ('15', '33'): 2.16, ('15', '34'): 3.354, ('15', '35'): 5.88, ('15', '36'): 2.502, ('16', '1'): 19.986, ('16', '2'): 2.988, ('16', '3'): 3.714, ('16', '4'): 8.19, ('16', '5'): 7.944, ('16', '6'): 8.736, ('16', '7'): 16.872, ('16', '8'): 12.714, ('16', '9'): 12.816, ('16', '10'): 3.774, ('16', '11'): 1.11, ('16', '12'): 4.014, ('16', '13'): 1.536, ('16', '14'): 1.092, ('16', '15'): 5.526, ('16', '17'): 4.026, ('16', '18'): 7.716, ('16', '19'): 9.39, ('16', '20'): 5.418, ('16', '21'): 8.706, ('16', '22'): 3.75, ('16', '23'): 5.772, ('16', '24'): 0.9, ('16', '25'): 4.146, ('16', '26'): 4.44, ('16', '27'): 3.816, ('16', '28'): 2.694, ('16', '29'): 7.29, ('16', '30'): 4.968, ('16', '31'): 9.144, ('16', '32'): 11.478, ('16', '33'): 4.158, ('16', '34'): 2.124, ('16', '35'): 7.77, ('16', '36'): 3.462, ('17', '1'): 20.61, ('17', '2'): 2.226, ('17', '3'): 2.802, ('17', '4'): 8.196, ('17', '5'): 6.306, ('17', '6'): 6.288, ('17', '7'): 7.464, ('17', '8'): 11.7, ('17', '9'): 5.292, ('17', '10'): 3.414, ('17', '11'): 0.702, ('17', '12'): 3.264, ('17', '13'): 1.98, ('17', '14'): 0.828, ('17', '15'): 5.676, ('17', '16'): 4.092, ('17', '18'): 3.042, ('17', '19'): 7.842, ('17', '20'): 5.172, ('17', '21'): 10.914, ('17', '22'): 3.942, ('17', '23'): 5.412, ('17', '24'): 0.432, ('17', '25'): 1.596, ('17', '26'): 3.552, ('17', '27'): 2.13, ('17', '28'): 2.298, ('17', '29'): 4.932, ('17', '30'): 3.24, ('17', '31'): 5.49, ('17', '32'): 7.86, ('17', '33'): 4.65, ('17', '34'): 0.93, ('17', '35'): 7.014, ('17', '36'): 1.716, ('18', '1'): 42.018, ('18', '2'): 4.482, ('18', '3'): 6.732, ('18', '4'): 15.9, ('18', '5'): 16.674, ('18', '6'): 11.964, ('18', '7'): 14.478, ('18', '8'): 22.038, ('18', '9'): 9.528, ('18', '10'): 7.242, ('18', '11'): 1.356, ('18', '12'): 7.566, ('18', '13'): 4.152, ('18', '14'): 1.626, ('18', '15'): 11.226, ('18', '16'): 7.872, ('18', '17'): 3.06, ('18', '19'): 18.414, ('18', '20'): 10.752, ('18', '21'): 21.462, ('18', '22'): 8.034, ('18', '23'): 11.652, ('18', '24'): 0.552, ('18', '25'): 3.0, ('18', '26'): 8.184, ('18', '27'): 4.572, ('18', '28'): 5.37, ('18', '29'): 8.832, ('18', '30'): 6.354, ('18', '31'): 11.184, ('18', '32'): 21.198, ('18', '33'): 10.902, ('18', '34'): 1.62, ('18', '35'): 14.916, ('18', '36'): 4.506, ('19', '1'): 21.198, ('19', '2'): 5.04, ('19', '3'): 4.026, ('19', '4'): 8.91, ('19', '5'): 6.636, ('19', '6'): 13.968, ('19', '7'): 28.542, ('19', '8'): 19.656, ('19', '9'): 24.75, ('19', '10'): 4.824, ('19', '11'): 1.878, ('19', '12'): 3.744, ('19', '13'): 2.028, ('19', '14'): 1.83, ('19', '15'): 7.908, ('19', '16'): 9.348, ('19', '17'): 7.482, ('19', '18'): 18.06, ('19', '20'): 4.74, ('19', '21'): 8.706, ('19', '22'): 3.258, ('19', '23'): 5.496, ('19', '24'): 2.574, ('19', '25'): 5.832, ('19', '26'): 6.048, ('19', '27'): 4.788, ('19', '28'): 2.4, ('19', '29'): 13.764, ('19', '30'): 8.586, ('19', '31'): 13.572, ('19', '32'): 10.452, ('19', '33'): 5.556, ('19', '34'): 4.068, ('19', '35'): 9.87, ('19', '36'): 4.032, ('20', '1'): 9.894, ('20', '2'): 3.354, ('20', '3'): 2.61, ('20', '4'): 5.022, ('20', '5'): 4.314, ('20', '6'): 7.608, ('20', '7'): 17.214, ('20', '8'): 9.594, ('20', '9'): 14.85, ('20', '10'): 2.238, ('20', '11'): 0.966, ('20', '12'): 2.58, ('20', '13'): 0.816, ('20', '14'): 0.942, ('20', '15'): 4.608, ('20', '16'): 5.136, ('20', '17'): 5.076, ('20', '18'): 10.41, ('20', '19'): 4.728, ('20', '21'): 4.716, ('20', '22'): 1.77, ('20', '23'): 2.634, ('20', '24'): 1.32, ('20', '25'): 2.976, ('20', '26'): 3.342, ('20', '27'): 2.868, ('20', '28'): 1.56, ('20', '29'): 8.73, ('20', '30'): 5.418, ('20', '31'): 6.942, ('20', '32'): 7.074, ('20', '33'): 2.766, ('20', '34'): 2.61, ('20', '35'): 5.592, ('20', '36'): 3.054, ('21', '1'): 15.87, ('21', '2'): 7.302, ('21', '3'): 5.634, ('21', '4'): 11.43, ('21', '5'): 8.034, ('21', '6'): 13.674, ('21', '7'): 29.496, ('21', '8'): 20.22, ('21', '9'): 27.162, ('21', '10'): 3.606, ('21', '11'): 1.8, ('21', '12'): 2.736, ('21', '13'): 1.164, ('21', '14'): 1.542, ('21', '15'): 6.618, ('21', '16'): 8.604, ('21', '17'): 10.38, ('21', '18'): 21.012, ('21', '19'): 8.694, ('21', '20'): 4.674, ('21', '22'): 4.02, ('21', '23'): 5.844, ('21', '24'): 2.814, ('21', '25'): 5.496, ('21', '26'): 5.454, ('21', '27'): 4.716, ('21', '28'): 1.83, ('21', '29'): 14.358, ('21', '30'): 8.55, ('21', '31'): 14.838, ('21', '32'): 11.364, ('21', '33'): 4.932, ('21', '34'): 4.662, ('21', '35'): 7.626, ('21', '36'): 4.146, ('22', '1'): 8.976, ('22', '2'): 2.172, ('22', '3'): 1.554, ('22', '4'): 3.126, ('22', '5'): 2.832, ('22', '6'): 5.178, ('22', '7'): 12.978, ('22', '8'): 6.798, ('22', '9'): 10.104, ('22', '10'): 1.974, ('22', '11'): 0.81, ('22', '12'): 1.83, ('22', '13'): 0.78, ('22', '14'): 0.798, ('22', '15'): 3.66, ('22', '16'): 3.732, ('22', '17'): 3.774, ('22', '18'): 7.878, ('22', '19'): 3.342, ('22', '20'): 1.776, ('22', '21'): 4.158, ('22', '23'): 1.806, ('22', '24'): 1.116, ('22', '25'): 2.52, ('22', '26'): 2.55, ('22', '27'): 2.142, ('22', '28'): 1.152, ('22', '29'): 6.438, ('22', '30'): 3.918, ('22', '31'): 5.46, ('22', '32'): 4.74, ('22', '33'): 2.208, ('22', '34'): 1.596, ('22', '35'): 4.302, ('22', '36'): 2.058, ('23', '1'): 12.534, ('23', '2'): 3.384, ('23', '3'): 2.406, ('23', '4'): 4.242, ('23', '5'): 4.548, ('23', '6'): 6.492, ('23', '7'): 18.198, ('23', '8'): 8.28, ('23', '9'): 12.99, ('23', '10'): 2.778, ('23', '11'): 1.182, ('23', '12'): 2.676, ('23', '13'): 1.02, ('23', '14'): 1.188, ('23', '15'): 5.202, ('23', '16'): 5.436, ('23', '17'): 5.31, ('23', '18'): 11.274, ('23', '19'): 5.472, ('23', '20'): 2.622, ('23', '21'): 5.874, ('23', '22'): 1.8, ('23', '24'): 1.488, ('23', '25'): 3.648, ('23', '26'): 3.648, ('23', '27'): 3.198, ('23', '28'): 1.584, ('23', '29'): 9.426, ('23', '30'): 6.18, ('23', '31'): 6.804, ('23', '32'): 7.818, ('23', '33'): 2.526, ('23', '34'): 2.64, ('23', '35'): 6.144, ('23', '36'): 2.982, ('24', '1'): 8.184, ('24', '2'): 0.792, ('24', '3'): 1.35, ('24', '4'): 3.168, ('24', '5'): 3.942, ('24', '6'): 2.346, ('24', '7'): 2.412, ('24', '8'): 4.38, ('24', '9'): 1.362, ('24', '10'): 21.708, ('24', '11'): 3.48, ('24', '12'): 28.164, ('24', '13'): 12.93, ('24', '14'): 4.764, ('24', '15'): 2.538, ('24', '16'): 1.458, ('24', '17'): 0.57, ('24', '18'): 0.804, ('24', '19'): 3.648, ('24', '20'): 2.154, ('24', '21'): 4.008, ('24', '22'): 1.584, ('24', '23'): 2.436, ('24', '25'): 5.814, ('24', '26'): 16.26, ('24', '27'): 11.772, ('24', '28'): 18.672, ('24', '29'): 1.644, ('24', '30'): 1.344, ('24', '31'): 2.37, ('24', '32'): 5.58, ('24', '33'): 1.926, ('24', '34'): 2.52, ('24', '35'): 3.69, ('24', '36'): 0.78, ('25', '1'): 15.9, ('25', '2'): 2.67, ('25', '3'): 3.414, ('25', '4'): 7.86, ('25', '5'): 9.15, ('25', '6'): 6.396, ('25', '7'): 7.338, ('25', '8'): 10.788, ('25', '9'): 4.068, ('25', '10'): 58.404, ('25', '11'): 12.156, ('25', '12'): 84.246, ('25', '13'): 36.462, ('25', '14'): 16.002, ('25', '15'): 6.738, ('25', '16'): 6.126, ('25', '17'): 1.788, ('25', '18'): 3.288, ('25', '19'): 8.334, ('25', '20'): 4.56, ('25', '21'): 8.16, ('25', '22'): 3.672, ('25', '23'): 5.508, ('25', '24'): 6.546, ('25', '26'): 46.224, ('25', '27'): 35.994, ('25', '28'): 54.9, ('25', '29'): 4.452, ('25', '30'): 3.45, ('25', '31'): 5.316, ('25', '32'): 12.504, ('25', '33'): 3.828, ('25', '34'): 15.48, ('25', '35'): 9.786, ('25', '36'): 1.632, ('26', '1'): 14.82, ('26', '2'): 3.222, ('26', '3'): 3.282, ('26', '4'): 7.494, ('26', '5'): 8.124, ('26', '6'): 7.02, ('26', '7'): 10.35, ('26', '8'): 10.818, ('26', '9'): 6.78, ('26', '10'): 75.864, ('26', '11'): 21.162, ('26', '12'): 65.778, ('26', '13'): 33.534, ('26', '14'): 21.9, ('26', '15'): 5.802, ('26', '16'): 4.782, ('26', '17'): 3.138, ('26', '18'): 6.354, ('26', '19'): 8.118, ('26', '20'): 4.218, ('26', '21'): 7.848, ('26', '22'): 3.48, ('26', '23'): 4.788, ('26', '24'): 18.054, ('26', '25'): 51.12, ('26', '27'): 52.17, ('26', '28'): 45.024, ('26', '29'): 5.094, ('26', '30'): 3.654, ('26', '31'): 6.492, ('26', '32'): 11.436, ('26', '33'): 3.792, ('26', '34'): 38.958, ('26', '35'): 7.704, ('26', '36'): 1.998, ('27', '1'): 13.626, ('27', '2'): 2.25, ('27', '3'): 2.58, ('27', '4'): 6.594, ('27', '5'): 6.768, ('27', '6'): 4.566, ('27', '7'): 7.47, ('27', '8'): 9.696, ('27', '9'): 5.496, ('27', '10'): 39.252, ('27', '11'): 9.858, ('27', '12'): 65.112, ('27', '13'): 26.274, ('27', '14'): 18.858, ('27', '15'): 5.79, ('27', '16'): 4.428, ('27', '17'): 1.986, ('27', '18'): 3.762, ('27', '19'): 6.66, ('27', '20'): 3.78, ('27', '21'): 6.792, ('27', '22'): 2.964, ('27', '23'): 4.434, ('27', '24'): 13.02, ('27', '25'): 39.168, ('27', '26'): 50.472, ('27', '28'): 35.76, ('27', '29'): 4.8, ('27', '30'): 3.672, ('27', '31'): 4.26, ('27', '32'): 9.204, ('27', '33'): 2.832, ('27', '34'): 17.532, ('27', '35'): 8.058, ('27', '36'): 1.428, ('28', '1'): 4.776, ('28', '2'): 1.518, ('28', '3'): 1.338, ('28', '4'): 2.868, ('28', '5'): 2.31, ('28', '6'): 3.888, ('28', '7'): 7.548, ('28', '8'): 5.124, ('28', '9'): 6.666, ('28', '10'): 36.066, ('28', '11'): 14.586, ('28', '12'): 27.42, ('28', '13'): 10.824, ('28', '14'): 14.454, ('28', '15'): 2.478, ('28', '16'): 2.058, ('28', '17'): 1.704, ('28', '18'): 3.666, ('28', '19'): 2.49, ('28', '20'): 1.446, ('28', '21'): 1.98, ('28', '22'): 1.152, ('28', '23'): 1.698, ('28', '24'): 20.952, ('28', '25'): 63.426, ('28', '26'): 51.024, ('28', '27'): 41.238, ('28', '29'): 3.858, ('28', '30'): 2.886, ('28', '31'): 1.872, ('28', '32'): 3.066, ('28', '33'): 0.66, ('28', '34'): 37.398, ('28', '35'): 3.426, ('28', '36'): 0.714, ('29', '1'): 31.008, ('29', '2'): 4.854, ('29', '3'): 5.4, ('29', '4'): 13.482, ('29', '5'): 11.892, ('29', '6'): 12.42, ('29', '7'): 19.05, ('29', '8'): 17.238, ('29', '9'): 12.312, ('29', '10'): 6.258, ('29', '11'): 1.722, ('29', '12'): 9.246, ('29', '13'): 4.11, ('29', '14'): 2.37, ('29', '15'): 8.214, ('29', '16'): 6.882, ('29', '17'): 4.638, ('29', '18'): 8.532, ('29', '19'): 12.93, ('29', '20'): 8.166, ('29', '21'): 13.398, ('29', '22'): 5.982, ('29', '23'): 8.802, ('29', '24'): 1.2, ('29', '25'): 3.438, ('29', '26'): 4.944, ('29', '27'): 4.344, ('29', '28'): 4.98, ('29', '30'): 6.372, ('29', '31'): 7.05, ('29', '32'): 15.612, ('29', '33'): 4.314, ('29', '34'): 2.538, ('29', '35'): 13.374, ('29', '36'): 2.982, ('30', '1'): 22.428, ('30', '2'): 3.6, ('30', '3'): 4.122, ('30', '4'): 10.176, ('30', '5'): 8.634, ('30', '6'): 10.146, ('30', '7'): 16.626, ('30', '8'): 16.332, ('30', '9'): 11.64, ('30', '10'): 4.098, ('30', '11'): 1.176, ('30', '12'): 6.558, ('30', '13'): 2.562, ('30', '14'): 1.542, ('30', '15'): 6.552, ('30', '16'): 5.286, ('30', '17'): 3.324, ('30', '18'): 6.354, ('30', '19'): 9.66, ('30', '20'): 6.138, ('30', '21'): 9.828, ('30', '22'): 4.422, ('30', '23'): 7.05, ('30', '24'): 0.84, ('30', '25'): 2.454, ('30', '26'): 3.39, ('30', '27'): 3.15, ('30', '28'): 3.39, ('30', '29'): 7.182, ('30', '31'): 4.62, ('30', '32'): 11.214, ('30', '33'): 2.826, ('30', '34'): 2.028, ('30', '35'): 9.96, ('30', '36'): 2.196, ('31', '1'): 28.368, ('31', '2'): 5.622, ('31', '3'): 5.028, ('31', '4'): 11.196, ('31', '5'): 12.156, ('31', '6'): 10.068, ('31', '7'): 15.204, ('31', '8'): 16.29, ('31', '9'): 12.27, ('31', '10'): 4.332, ('31', '11'): 1.236, ('31', '12'): 2.604, ('31', '13'): 1.998, ('31', '14'): 1.026, ('31', '15'): 6.3, ('31', '16'): 9.192, ('31', '17'): 5.346, ('31', '18'): 11.016, ('31', '19'): 14.178, ('31', '20'): 7.014, ('31', '21'): 15.6, ('31', '22'): 5.64, ('31', '23'): 6.9, ('31', '24'): 1.71, ('31', '25'): 4.002, ('31', '26'): 5.652, ('31', '27'): 3.498, ('31', '28'): 2.112, ('31', '29'): 7.578, ('31', '30'): 4.272, ('31', '32'): 15.648, ('31', '33'): 5.28, ('31', '34'): 2.514, ('31', '35'): 6.66, ('31', '36'): 3.384, ('32', '1'): 28.698, ('32', '2'): 6.114, ('32', '3'): 5.37, ('32', '4'): 13.05, ('32', '5'): 7.314, ('32', '6'): 17.232, ('32', '7'): 36.816, ('32', '8'): 24.558, ('32', '9'): 31.512, ('32', '10'): 5.118, ('32', '11'): 2.172, ('32', '12'): 4.65, ('32', '13'): 1.542, ('32', '14'): 1.908, ('32', '15'): 8.838, ('32', '16'): 10.692, ('32', '17'): 7.71, ('32', '18'): 20.466, ('32', '19'): 10.392, ('32', '20'): 6.894, ('32', '21'): 11.406, ('32', '22'): 4.704, ('32', '23'): 7.662, ('32', '24'): 3.402, ('32', '25'): 8.124, ('32', '26'): 8.79, ('32', '27'): 6.816, ('32', '28'): 3.132, ('32', '29'): 16.704, ('32', '30'): 9.744, ('32', '31'): 15.432, ('32', '33'): 5.952, ('32', '34'): 5.982, ('32', '35'): 9.768, ('32', '36'): 5.274, ('33', '1'): 10.926, ('33', '2'): 3.24, ('33', '3'): 2.388, ('33', '4'): 4.686, ('33', '5'): 4.278, ('33', '6'): 5.466, ('33', '7'): 10.476, ('33', '8'): 7.68, ('33', '9'): 9.69, ('33', '10'): 1.596, ('33', '11'): 0.72, ('33', '12'): 0.612, ('33', '13'): 0.504, ('33', '14'): 0.498, ('33', '15'): 2.244, ('33', '16'): 4.134, ('33', '17'): 4.452, ('33', '18'): 10.686, ('33', '19'): 5.736, ('33', '20'): 2.766, ('33', '21'): 5.154, ('33', '22'): 2.22, ('33', '23'): 2.538, ('33', '24'): 1.356, ('33', '25'): 2.64, ('33', '26'): 2.55, ('33', '27'): 1.878, ('33', '28'): 0.504, ('33', '29'): 4.674, ('33', '30'): 2.466, ('33', '31'): 5.106, ('33', '32'): 5.988, ('33', '34'): 1.944, ('33', '35'): 2.166, ('33', '36'): 1.728, ('34', '1'): 14.328, ('34', '2'): 1.26, ('34', '3'): 1.518, ('34', '4'): 4.482, ('34', '5'): 5.22, ('34', '6'): 3.144, ('34', '7'): 4.332, ('34', '8'): 8.52, ('34', '9'): 2.916, ('34', '10'): 38.544, ('34', '11'): 5.43, ('34', '12'): 51.072, ('34', '13'): 25.77, ('34', '14'): 11.262, ('34', '15'): 5.286, ('34', '16'): 2.94, ('34', '17'): 1.212, ('34', '18'): 1.812, ('34', '19'): 6.36, ('34', '20'): 3.75, ('34', '21'): 7.332, ('34', '22'): 2.496, ('34', '23'): 3.834, ('34', '24'): 2.652, ('34', '25'): 15.078, ('34', '26'): 33.666, ('34', '27'): 15.396, ('34', '28'): 31.2, ('34', '29'): 3.684, ('34', '30'): 2.802, ('34', '31'): 3.774, ('34', '32'): 8.628, ('34', '33'): 3.102, ('34', '35'): 7.302, ('34', '36'): 1.23, ('35', '1'): 17.946, ('35', '2'): 5.898, ('35', '3'): 5.076, ('35', '4'): 11.106, ('35', '5'): 7.242, ('35', '6'): 15.648, ('35', '7'): 29.256, ('35', '8'): 22.176, ('35', '9'): 27.684, ('35', '10'): 4.77, ('35', '11'): 2.124, ('35', '12'): 5.25, ('35', '13'): 1.158, ('35', '14'): 1.554, ('35', '15'): 5.85, ('35', '16'): 7.2, ('35', '17'): 6.882, ('35', '18'): 14.388, ('35', '19'): 9.786, ('35', '20'): 5.412, ('35', '21'): 7.638, ('35', '22'): 4.254, ('35', '23'): 5.976, ('35', '24'): 2.244, ('35', '25'): 6.306, ('35', '26'): 5.766, ('35', '27'): 5.838, ('35', '28'): 3.342, ('35', '29'): 14.328, ('35', '30'): 8.58, ('35', '31'): 6.558, ('35', '32'): 9.708, ('35', '33'): 2.148, ('35', '34'): 5.034, ('35', '36'): 3.24, ('36', '1'): 12.408, ('36', '2'): 1.902, ('36', '3'): 2.082, ('36', '4'): 4.134, ('36', '5'): 4.416, ('36', '6'): 3.618, ('36', '7'): 6.018, ('36', '8'): 6.306, ('36', '9'): 5.058, ('36', '10'): 1.452, ('36', '11'): 0.42, ('36', '12'): 1.296, ('36', '13'): 0.756, ('36', '14'): 0.402, ('36', '15'): 2.526, ('36', '16'): 3.522, ('36', '17'): 1.692, ('36', '18'): 4.446, ('36', '19'): 4.062, ('36', '20'): 3.234, ('36', '21'): 4.212, ('36', '22'): 2.076, ('36', '23'): 3.18, ('36', '24'): 0.486, ('36', '25'): 1.17, ('36', '26'): 2.04, ('36', '27'): 1.332, ('36', '28'): 0.96, ('36', '29'): 3.138, ('36', '30'): 2.124, ('36', '31'): 3.378, ('36', '32'): 5.67, ('36', '33'): 1.746, ('36', '34'): 0.906, ('36', '35'): 3.492}\n"
     ]
    }
   ],
   "source": [
    "#observe network with all links\n",
    "remove_link = 0 #0 is equivalent to no links closed\n",
    "trial_run.make_network(city, remove_link)\n",
    "trial_run.network_attributes(city, remove_link)"
   ]
  },
  {
   "cell_type": "code",
   "execution_count": 12,
   "id": "80ee4ad7",
   "metadata": {},
   "outputs": [
    {
     "name": "stdout",
     "output_type": "stream",
     "text": [
      "<TransportationNetworks.Network object at 0x7f8fe301ee50>\n",
      "Berlin-Mitte-Center graph is: DiGraph with 397 nodes and 870 edges\n",
      "Berlin-Mitte-Center origin nodes are: ['1', '2', '3', '4', '5', '6', '7', '8', '9', '10', '11', '12', '13', '14', '15', '16', '17', '18', '19', '20', '21', '22', '23', '24', '25', '26', '27', '28', '29', '30', '31', '32', '33', '34', '35', '36']\n",
      "Berlin-Mitte-Center flows are: {('1', '2'): 14.31, ('1', '3'): 12.306, ('1', '4'): 24.582, ('1', '5'): 18.504, ('1', '6'): 29.298, ('1', '7'): 64.134, ('1', '8'): 46.788, ('1', '9'): 59.736, ('1', '10'): 8.274, ('1', '11'): 3.612, ('1', '12'): 6.888, ('1', '13'): 3.132, ('1', '14'): 3.468, ('1', '15'): 16.512, ('1', '16'): 18.618, ('1', '17'): 20.232, ('1', '18'): 40.56, ('1', '19'): 21.144, ('1', '20'): 9.642, ('1', '21'): 15.996, ('1', '22'): 8.952, ('1', '23'): 12.276, ('1', '24'): 4.998, ('1', '25'): 10.542, ('1', '26'): 11.166, ('1', '27'): 9.732, ('1', '28'): 4.308, ('1', '29'): 33.204, ('1', '30'): 19.47, ('1', '31'): 28.032, ('1', '32'): 28.674, ('1', '33'): 10.908, ('1', '34'): 9.846, ('1', '35'): 18.03, ('1', '36'): 11.556, ('2', '1'): 14.52, ('2', '3'): 1.59, ('2', '4'): 4.71, ('2', '5'): 3.78, ('2', '6'): 4.974, ('2', '7'): 9.42, ('2', '8'): 10.008, ('2', '9'): 7.176, ('2', '10'): 2.874, ('2', '11'): 0.75, ('2', '12'): 2.85, ('2', '13'): 1.542, ('2', '14'): 0.846, ('2', '15'): 4.806, ('2', '16'): 3.012, ('2', '17'): 2.172, ('2', '18'): 4.422, ('2', '19'): 5.232, ('2', '20'): 3.408, ('2', '21'): 7.614, ('2', '22'): 2.226, ('2', '23'): 3.432, ('2', '24'): 0.576, ('2', '25'): 2.052, ('2', '26'): 2.994, ('2', '27'): 1.962, ('2', '28'): 1.83, ('2', '29'): 5.178, ('2', '30'): 3.372, ('2', '31'): 5.628, ('2', '32'): 6.216, ('2', '33'): 3.33, ('2', '34'): 0.858, ('2', '35'): 6.0, ('2', '36'): 1.914, ('3', '1'): 12.834, ('3', '2'): 1.578, ('3', '4'): 3.48, ('3', '5'): 3.408, ('3', '6'): 4.26, ('3', '7'): 11.142, ('3', '8'): 7.596, ('3', '9'): 9.024, ('3', '10'): 2.34, ('3', '11'): 0.672, ('3', '12'): 2.538, ('3', '13'): 1.074, ('3', '14'): 0.81, ('3', '15'): 4.05, ('3', '16'): 3.624, ('3', '17'): 2.766, ('3', '18'): 6.558, ('3', '19'): 4.044, ('3', '20'): 2.676, ('3', '21'): 5.718, ('3', '22'): 1.56, ('3', '23'): 2.478, ('3', '24'): 0.834, ('3', '25'): 2.346, ('3', '26'): 2.88, ('3', '27'): 2.094, ('3', '28'): 1.542, ('3', '29'): 5.73, ('3', '30'): 3.786, ('3', '31'): 5.01, ('3', '32'): 5.598, ('3', '33'): 2.4, ('3', '34'): 1.074, ('3', '35'): 5.328, ('3', '36'): 2.004, ('4', '1'): 24.684, ('4', '2'): 4.548, ('4', '3'): 3.456, ('4', '5'): 7.62, ('4', '6'): 8.646, ('4', '7'): 23.988, ('4', '8'): 12.984, ('4', '9'): 18.66, ('4', '10'): 4.776, ('4', '11'): 1.626, ('4', '12'): 5.166, ('4', '13'): 2.076, ('4', '14'): 1.89, ('4', '15'): 8.85, ('4', '16'): 8.166, ('4', '17'): 7.824, ('4', '18'): 15.6, ('4', '19'): 8.946, ('4', '20'): 5.04, ('4', '21'): 11.508, ('4', '22'): 3.078, ('4', '23'): 4.272, ('4', '24'): 2.238, ('4', '25'): 5.448, ('4', '26'): 5.808, ('4', '27'): 4.974, ('4', '28'): 3.132, ('4', '29'): 14.358, ('4', '30'): 9.096, ('4', '31'): 10.764, ('4', '32'): 13.152, ('4', '33'): 4.578, ('4', '34'): 2.91, ('4', '35'): 11.208, ('4', '36'): 4.11, ('5', '1'): 18.654, ('5', '2'): 3.714, ('5', '3'): 3.282, ('5', '4'): 7.56, ('5', '6'): 11.37, ('5', '7'): 27.672, ('5', '8'): 17.922, ('5', '9'): 23.7, ('5', '10'): 4.074, ('5', '11'): 1.68, ('5', '12'): 3.18, ('5', '13'): 1.326, ('5', '14'): 1.554, ('5', '15'): 6.546, ('5', '16'): 7.416, ('5', '17'): 6.186, ('5', '18'): 16.104, ('5', '19'): 6.588, ('5', '20'): 4.224, ('5', '21'): 8.058, ('5', '22'): 2.814, ('5', '23'): 4.482, ('5', '24'): 2.412, ('5', '25'): 6.036, ('5', '26'): 6.078, ('5', '27'): 4.818, ('5', '28'): 2.058, ('5', '29'): 12.732, ('5', '30'): 7.506, ('5', '31'): 11.988, ('5', '32'): 7.362, ('5', '33'): 4.254, ('5', '34'): 3.576, ('5', '35'): 7.338, ('5', '36'): 4.116, ('6', '1'): 29.586, ('6', '2'): 4.914, ('6', '3'): 4.278, ('6', '4'): 8.802, ('6', '5'): 11.508, ('6', '7'): 16.026, ('6', '8'): 16.65, ('6', '9'): 14.274, ('6', '10'): 6.132, ('6', '11'): 1.146, ('6', '12'): 7.962, ('6', '13'): 2.718, ('6', '14'): 2.112, ('6', '15'): 9.852, ('6', '16'): 8.778, ('6', '17'): 6.084, ('6', '18'): 11.778, ('6', '19'): 14.268, ('6', '20'): 7.68, ('6', '21'): 14.016, ('6', '22'): 5.232, ('6', '23'): 6.564, ('6', '24'): 1.674, ('6', '25'): 4.722, ('6', '26'): 6.348, ('6', '27'): 3.924, ('6', '28'): 4.8, ('6', '29'): 13.164, ('6', '30'): 9.39, ('6', '31'): 9.918, ('6', '32'): 17.436, ('6', '33'): 5.526, ('6', '34'): 2.124, ('6', '35'): 15.858, ('6', '36'): 3.618, ('7', '1'): 65.868, ('7', '2'): 9.504, ('7', '3'): 11.274, ('7', '4'): 24.384, ('7', '5'): 28.392, ('7', '6'): 16.212, ('7', '8'): 36.75, ('7', '9'): 18.822, ('7', '10'): 13.878, ('7', '11'): 2.082, ('7', '12'): 21.27, ('7', '13'): 5.946, ('7', '14'): 3.384, ('7', '15'): 17.964, ('7', '16'): 16.902, ('7', '17'): 7.446, ('7', '18'): 14.28, ('7', '19'): 29.04, ('7', '20'): 17.574, ('7', '21'): 30.108, ('7', '22'): 13.212, ('7', '23'): 18.618, ('7', '24'): 1.584, ('7', '25'): 6.042, ('7', '26'): 11.946, ('7', '27'): 7.992, ('7', '28'): 10.41, ('7', '29'): 19.842, ('7', '30'): 16.164, ('7', '31'): 15.372, ('7', '32'): 37.806, ('7', '33'): 10.668, ('7', '34'): 3.48, ('7', '35'): 30.084, ('7', '36'): 5.976, ('8', '1'): 47.124, ('8', '2'): 9.72, ('8', '3'): 7.584, ('8', '4'): 13.032, ('8', '5'): 18.114, ('8', '6'): 16.404, ('8', '7'): 36.204, ('8', '9'): 22.836, ('8', '10'): 8.124, ('8', '11'): 2.802, ('8', '12'): 10.134, ('8', '13'): 4.08, ('8', '14'): 3.342, ('8', '15'): 13.908, ('8', '16'): 12.702, ('8', '17'): 11.202, ('8', '18'): 21.642, ('8', '19'): 19.794, ('8', '20'): 9.648, ('8', '21'): 20.412, ('8', '22'): 6.732, ('8', '23'): 8.358, ('8', '24'): 3.096, ('8', '25'): 7.602, ('8', '26'): 8.826, ('8', '27'): 7.62, ('8', '28'): 5.898, ('8', '29'): 18.288, ('8', '30'): 14.772, ('8', '31'): 15.744, ('8', '32'): 24.792, ('8', '33'): 7.566, ('8', '34'): 5.586, ('8', '35'): 22.428, ('8', '36'): 6.282, ('9', '1'): 61.62, ('9', '2'): 7.266, ('9', '3'): 9.204, ('9', '4'): 19.026, ('9', '5'): 24.432, ('9', '6'): 14.484, ('9', '7'): 18.972, ('9', '8'): 23.244, ('9', '10'): 10.44, ('9', '11'): 2.082, ('9', '12'): 17.502, ('9', '13'): 7.032, ('9', '14'): 3.462, ('9', '15'): 16.002, ('9', '16'): 12.972, ('9', '17'): 5.31, ('9', '18'): 9.474, ('9', '19'): 25.242, ('9', '20'): 15.258, ('9', '21'): 27.762, ('9', '22'): 10.308, ('9', '23'): 13.356, ('9', '24'): 0.918, ('9', '25'): 3.564, ('9', '26'): 8.418, ('9', '27'): 6.408, ('9', '28'): 9.612, ('9', '29'): 12.774, ('9', '30'): 11.514, ('9', '31'): 12.462, ('9', '32'): 32.508, ('9', '33'): 9.894, ('9', '34'): 2.502, ('9', '35'): 28.584, ('9', '36'): 5.082, ('10', '1'): 9.66, ('10', '2'): 2.43, ('10', '3'): 2.406, ('10', '4'): 5.382, ('10', '5'): 4.896, ('10', '6'): 5.676, ('10', '7'): 10.878, ('10', '8'): 8.598, ('10', '9'): 7.98, ('10', '11'): 15.372, ('10', '12'): 76.464, ('10', '13'): 17.334, ('10', '14'): 22.86, ('10', '15'): 4.794, ('10', '16'): 4.14, ('10', '17'): 2.526, ('10', '18'): 5.46, ('10', '19'): 5.25, ('10', '20'): 2.826, ('10', '21'): 4.698, ('10', '22'): 2.316, ('10', '23'): 3.324, ('10', '24'): 26.04, ('10', '25'): 68.274, ('10', '26'): 81.036, ('10', '27'): 42.546, ('10', '28'): 33.9, ('10', '29'): 5.268, ('10', '30'): 3.894, ('10', '31'): 3.798, ('10', '32'): 6.558, ('10', '33'): 1.854, ('10', '34'): 43.722, ('10', '35'): 6.402, ('10', '36'): 1.386, ('11', '1'): 5.286, ('11', '2'): 0.798, ('11', '3'): 0.9, ('11', '4'): 2.082, ('11', '5'): 2.49, ('11', '6'): 1.296, ('11', '7'): 2.064, ('11', '8'): 3.468, ('11', '9'): 1.938, ('11', '10'): 13.902, ('11', '12'): 29.43, ('11', '13'): 6.432, ('11', '14'): 5.142, ('11', '15'): 1.956, ('11', '16'): 1.536, ('11', '17'): 0.624, ('11', '18'): 1.218, ('11', '19'): 2.364, ('11', '20'): 1.464, ('11', '21'): 2.466, ('11', '22'): 1.056, ('11', '23'): 1.734, ('11', '24'): 4.098, ('11', '25'): 13.392, ('11', '26'): 21.114, ('11', '27'): 10.02, ('11', '28'): 13.482, ('11', '29'): 1.806, ('11', '30'): 1.458, ('11', '31'): 1.35, ('11', '32'): 3.318, ('11', '33'): 0.942, ('11', '34'): 5.988, ('11', '35'): 3.312, ('11', '36'): 0.51, ('12', '1'): 7.32, ('12', '2'): 2.376, ('12', '3'): 2.13, ('12', '4'): 4.746, ('12', '5'): 3.402, ('12', '6'): 6.462, ('12', '7'): 15.24, ('12', '8'): 8.826, ('12', '9'): 12.03, ('12', '10'): 83.07, ('12', '11'): 32.1, ('12', '13'): 24.372, ('12', '14'): 25.206, ('12', '15'): 4.248, ('12', '16'): 2.97, ('12', '17'): 2.43, ('12', '18'): 5.124, ('12', '19'): 3.936, ('12', '20'): 2.274, ('12', '21'): 2.994, ('12', '22'): 1.842, ('12', '23'): 2.742, ('12', '24'): 31.626, ('12', '25'): 97.668, ('12', '26'): 75.006, ('12', '27'): 75.438, ('12', '28'): 27.708, ('12', '29'): 7.182, ('12', '30'): 5.46, ('12', '31'): 2.31, ('12', '32'): 4.32, ('12', '33'): 0.834, ('12', '34'): 61.29, ('12', '35'): 5.094, ('12', '36'): 0.942, ('13', '1'): 2.592, ('13', '2'): 1.044, ('13', '3'): 0.852, ('13', '4'): 1.722, ('13', '5'): 1.146, ('13', '6'): 1.98, ('13', '7'): 4.134, ('13', '8'): 3.24, ('13', '9'): 4.932, ('13', '10'): 19.866, ('13', '11'): 7.62, ('13', '12'): 25.212, ('13', '14'): 7.788, ('13', '15'): 1.026, ('13', '16'): 1.374, ('13', '17'): 1.314, ('13', '18'): 2.916, ('13', '19'): 1.548, ('13', '20'): 0.81, ('13', '21'): 1.116, ('13', '22'): 0.648, ('13', '23'): 0.882, ('13', '24'): 15.618, ('13', '25'): 43.836, ('13', '26'): 39.168, ('13', '27'): 30.51, ('13', '28'): 11.622, ('13', '29'): 2.76, ('13', '30'): 1.986, ('13', '31'): 1.338, ('13', '32'): 1.554, ('13', '33'): 0.378, ('13', '34'): 29.718, ('13', '35'): 1.26, ('13', '36'): 0.6, ('14', '1'): 4.662, ('14', '2'): 0.798, ('14', '3'): 0.966, ('14', '4'): 2.292, ('14', '5'): 2.13, ('14', '6'): 2.166, ('14', '7'): 2.958, ('14', '8'): 3.846, ('14', '9'): 2.892, ('14', '10'): 21.594, ('14', '11'): 5.424, ('14', '12'): 23.424, ('14', '13'): 6.636, ('14', '15'): 1.674, ('14', '16'): 1.374, ('14', '17'): 0.66, ('14', '18'): 1.32, ('14', '19'): 2.142, ('14', '20'): 1.332, ('14', '21'): 2.052, ('14', '22'): 1.002, ('14', '23'): 1.62, ('14', '24'): 5.676, ('14', '25'): 18.252, ('14', '26'): 22.74, ('14', '27'): 19.92, ('14', '28'): 13.614, ('14', '29'): 2.22, ('14', '30'): 1.692, ('14', '31'): 1.008, ('14', '32'): 2.748, ('14', '33'): 0.618, ('14', '34'): 12.648, ('14', '35'): 2.31, ('14', '36'): 0.444, ('15', '1'): 16.512, ('15', '2'): 4.62, ('15', '3'): 4.02, ('15', '4'): 8.79, ('15', '5'): 6.57, ('15', '6'): 9.624, ('15', '7'): 17.628, ('15', '8'): 13.788, ('15', '9'): 15.672, ('15', '10'): 4.194, ('15', '11'): 1.518, ('15', '12'): 3.762, ('15', '13'): 1.308, ('15', '14'): 1.374, ('15', '16'): 5.496, ('15', '17'): 5.4, ('15', '18'): 11.004, ('15', '19'): 7.896, ('15', '20'): 4.602, ('15', '21'): 6.618, ('15', '22'): 3.564, ('15', '23'): 5.214, ('15', '24'): 1.788, ('15', '25'): 4.668, ('15', '26'): 4.164, ('15', '27'): 4.038, ('15', '28'): 2.232, ('15', '29'): 8.766, ('15', '30'): 5.778, ('15', '31'): 6.012, ('15', '32'): 8.874, ('15', '33'): 2.16, ('15', '34'): 3.354, ('15', '35'): 5.88, ('15', '36'): 2.502, ('16', '1'): 19.986, ('16', '2'): 2.988, ('16', '3'): 3.714, ('16', '4'): 8.19, ('16', '5'): 7.944, ('16', '6'): 8.736, ('16', '7'): 16.872, ('16', '8'): 12.714, ('16', '9'): 12.816, ('16', '10'): 3.774, ('16', '11'): 1.11, ('16', '12'): 4.014, ('16', '13'): 1.536, ('16', '14'): 1.092, ('16', '15'): 5.526, ('16', '17'): 4.026, ('16', '18'): 7.716, ('16', '19'): 9.39, ('16', '20'): 5.418, ('16', '21'): 8.706, ('16', '22'): 3.75, ('16', '23'): 5.772, ('16', '24'): 0.9, ('16', '25'): 4.146, ('16', '26'): 4.44, ('16', '27'): 3.816, ('16', '28'): 2.694, ('16', '29'): 7.29, ('16', '30'): 4.968, ('16', '31'): 9.144, ('16', '32'): 11.478, ('16', '33'): 4.158, ('16', '34'): 2.124, ('16', '35'): 7.77, ('16', '36'): 3.462, ('17', '1'): 20.61, ('17', '2'): 2.226, ('17', '3'): 2.802, ('17', '4'): 8.196, ('17', '5'): 6.306, ('17', '6'): 6.288, ('17', '7'): 7.464, ('17', '8'): 11.7, ('17', '9'): 5.292, ('17', '10'): 3.414, ('17', '11'): 0.702, ('17', '12'): 3.264, ('17', '13'): 1.98, ('17', '14'): 0.828, ('17', '15'): 5.676, ('17', '16'): 4.092, ('17', '18'): 3.042, ('17', '19'): 7.842, ('17', '20'): 5.172, ('17', '21'): 10.914, ('17', '22'): 3.942, ('17', '23'): 5.412, ('17', '24'): 0.432, ('17', '25'): 1.596, ('17', '26'): 3.552, ('17', '27'): 2.13, ('17', '28'): 2.298, ('17', '29'): 4.932, ('17', '30'): 3.24, ('17', '31'): 5.49, ('17', '32'): 7.86, ('17', '33'): 4.65, ('17', '34'): 0.93, ('17', '35'): 7.014, ('17', '36'): 1.716, ('18', '1'): 42.018, ('18', '2'): 4.482, ('18', '3'): 6.732, ('18', '4'): 15.9, ('18', '5'): 16.674, ('18', '6'): 11.964, ('18', '7'): 14.478, ('18', '8'): 22.038, ('18', '9'): 9.528, ('18', '10'): 7.242, ('18', '11'): 1.356, ('18', '12'): 7.566, ('18', '13'): 4.152, ('18', '14'): 1.626, ('18', '15'): 11.226, ('18', '16'): 7.872, ('18', '17'): 3.06, ('18', '19'): 18.414, ('18', '20'): 10.752, ('18', '21'): 21.462, ('18', '22'): 8.034, ('18', '23'): 11.652, ('18', '24'): 0.552, ('18', '25'): 3.0, ('18', '26'): 8.184, ('18', '27'): 4.572, ('18', '28'): 5.37, ('18', '29'): 8.832, ('18', '30'): 6.354, ('18', '31'): 11.184, ('18', '32'): 21.198, ('18', '33'): 10.902, ('18', '34'): 1.62, ('18', '35'): 14.916, ('18', '36'): 4.506, ('19', '1'): 21.198, ('19', '2'): 5.04, ('19', '3'): 4.026, ('19', '4'): 8.91, ('19', '5'): 6.636, ('19', '6'): 13.968, ('19', '7'): 28.542, ('19', '8'): 19.656, ('19', '9'): 24.75, ('19', '10'): 4.824, ('19', '11'): 1.878, ('19', '12'): 3.744, ('19', '13'): 2.028, ('19', '14'): 1.83, ('19', '15'): 7.908, ('19', '16'): 9.348, ('19', '17'): 7.482, ('19', '18'): 18.06, ('19', '20'): 4.74, ('19', '21'): 8.706, ('19', '22'): 3.258, ('19', '23'): 5.496, ('19', '24'): 2.574, ('19', '25'): 5.832, ('19', '26'): 6.048, ('19', '27'): 4.788, ('19', '28'): 2.4, ('19', '29'): 13.764, ('19', '30'): 8.586, ('19', '31'): 13.572, ('19', '32'): 10.452, ('19', '33'): 5.556, ('19', '34'): 4.068, ('19', '35'): 9.87, ('19', '36'): 4.032, ('20', '1'): 9.894, ('20', '2'): 3.354, ('20', '3'): 2.61, ('20', '4'): 5.022, ('20', '5'): 4.314, ('20', '6'): 7.608, ('20', '7'): 17.214, ('20', '8'): 9.594, ('20', '9'): 14.85, ('20', '10'): 2.238, ('20', '11'): 0.966, ('20', '12'): 2.58, ('20', '13'): 0.816, ('20', '14'): 0.942, ('20', '15'): 4.608, ('20', '16'): 5.136, ('20', '17'): 5.076, ('20', '18'): 10.41, ('20', '19'): 4.728, ('20', '21'): 4.716, ('20', '22'): 1.77, ('20', '23'): 2.634, ('20', '24'): 1.32, ('20', '25'): 2.976, ('20', '26'): 3.342, ('20', '27'): 2.868, ('20', '28'): 1.56, ('20', '29'): 8.73, ('20', '30'): 5.418, ('20', '31'): 6.942, ('20', '32'): 7.074, ('20', '33'): 2.766, ('20', '34'): 2.61, ('20', '35'): 5.592, ('20', '36'): 3.054, ('21', '1'): 15.87, ('21', '2'): 7.302, ('21', '3'): 5.634, ('21', '4'): 11.43, ('21', '5'): 8.034, ('21', '6'): 13.674, ('21', '7'): 29.496, ('21', '8'): 20.22, ('21', '9'): 27.162, ('21', '10'): 3.606, ('21', '11'): 1.8, ('21', '12'): 2.736, ('21', '13'): 1.164, ('21', '14'): 1.542, ('21', '15'): 6.618, ('21', '16'): 8.604, ('21', '17'): 10.38, ('21', '18'): 21.012, ('21', '19'): 8.694, ('21', '20'): 4.674, ('21', '22'): 4.02, ('21', '23'): 5.844, ('21', '24'): 2.814, ('21', '25'): 5.496, ('21', '26'): 5.454, ('21', '27'): 4.716, ('21', '28'): 1.83, ('21', '29'): 14.358, ('21', '30'): 8.55, ('21', '31'): 14.838, ('21', '32'): 11.364, ('21', '33'): 4.932, ('21', '34'): 4.662, ('21', '35'): 7.626, ('21', '36'): 4.146, ('22', '1'): 8.976, ('22', '2'): 2.172, ('22', '3'): 1.554, ('22', '4'): 3.126, ('22', '5'): 2.832, ('22', '6'): 5.178, ('22', '7'): 12.978, ('22', '8'): 6.798, ('22', '9'): 10.104, ('22', '10'): 1.974, ('22', '11'): 0.81, ('22', '12'): 1.83, ('22', '13'): 0.78, ('22', '14'): 0.798, ('22', '15'): 3.66, ('22', '16'): 3.732, ('22', '17'): 3.774, ('22', '18'): 7.878, ('22', '19'): 3.342, ('22', '20'): 1.776, ('22', '21'): 4.158, ('22', '23'): 1.806, ('22', '24'): 1.116, ('22', '25'): 2.52, ('22', '26'): 2.55, ('22', '27'): 2.142, ('22', '28'): 1.152, ('22', '29'): 6.438, ('22', '30'): 3.918, ('22', '31'): 5.46, ('22', '32'): 4.74, ('22', '33'): 2.208, ('22', '34'): 1.596, ('22', '35'): 4.302, ('22', '36'): 2.058, ('23', '1'): 12.534, ('23', '2'): 3.384, ('23', '3'): 2.406, ('23', '4'): 4.242, ('23', '5'): 4.548, ('23', '6'): 6.492, ('23', '7'): 18.198, ('23', '8'): 8.28, ('23', '9'): 12.99, ('23', '10'): 2.778, ('23', '11'): 1.182, ('23', '12'): 2.676, ('23', '13'): 1.02, ('23', '14'): 1.188, ('23', '15'): 5.202, ('23', '16'): 5.436, ('23', '17'): 5.31, ('23', '18'): 11.274, ('23', '19'): 5.472, ('23', '20'): 2.622, ('23', '21'): 5.874, ('23', '22'): 1.8, ('23', '24'): 1.488, ('23', '25'): 3.648, ('23', '26'): 3.648, ('23', '27'): 3.198, ('23', '28'): 1.584, ('23', '29'): 9.426, ('23', '30'): 6.18, ('23', '31'): 6.804, ('23', '32'): 7.818, ('23', '33'): 2.526, ('23', '34'): 2.64, ('23', '35'): 6.144, ('23', '36'): 2.982, ('24', '1'): 8.184, ('24', '2'): 0.792, ('24', '3'): 1.35, ('24', '4'): 3.168, ('24', '5'): 3.942, ('24', '6'): 2.346, ('24', '7'): 2.412, ('24', '8'): 4.38, ('24', '9'): 1.362, ('24', '10'): 21.708, ('24', '11'): 3.48, ('24', '12'): 28.164, ('24', '13'): 12.93, ('24', '14'): 4.764, ('24', '15'): 2.538, ('24', '16'): 1.458, ('24', '17'): 0.57, ('24', '18'): 0.804, ('24', '19'): 3.648, ('24', '20'): 2.154, ('24', '21'): 4.008, ('24', '22'): 1.584, ('24', '23'): 2.436, ('24', '25'): 5.814, ('24', '26'): 16.26, ('24', '27'): 11.772, ('24', '28'): 18.672, ('24', '29'): 1.644, ('24', '30'): 1.344, ('24', '31'): 2.37, ('24', '32'): 5.58, ('24', '33'): 1.926, ('24', '34'): 2.52, ('24', '35'): 3.69, ('24', '36'): 0.78, ('25', '1'): 15.9, ('25', '2'): 2.67, ('25', '3'): 3.414, ('25', '4'): 7.86, ('25', '5'): 9.15, ('25', '6'): 6.396, ('25', '7'): 7.338, ('25', '8'): 10.788, ('25', '9'): 4.068, ('25', '10'): 58.404, ('25', '11'): 12.156, ('25', '12'): 84.246, ('25', '13'): 36.462, ('25', '14'): 16.002, ('25', '15'): 6.738, ('25', '16'): 6.126, ('25', '17'): 1.788, ('25', '18'): 3.288, ('25', '19'): 8.334, ('25', '20'): 4.56, ('25', '21'): 8.16, ('25', '22'): 3.672, ('25', '23'): 5.508, ('25', '24'): 6.546, ('25', '26'): 46.224, ('25', '27'): 35.994, ('25', '28'): 54.9, ('25', '29'): 4.452, ('25', '30'): 3.45, ('25', '31'): 5.316, ('25', '32'): 12.504, ('25', '33'): 3.828, ('25', '34'): 15.48, ('25', '35'): 9.786, ('25', '36'): 1.632, ('26', '1'): 14.82, ('26', '2'): 3.222, ('26', '3'): 3.282, ('26', '4'): 7.494, ('26', '5'): 8.124, ('26', '6'): 7.02, ('26', '7'): 10.35, ('26', '8'): 10.818, ('26', '9'): 6.78, ('26', '10'): 75.864, ('26', '11'): 21.162, ('26', '12'): 65.778, ('26', '13'): 33.534, ('26', '14'): 21.9, ('26', '15'): 5.802, ('26', '16'): 4.782, ('26', '17'): 3.138, ('26', '18'): 6.354, ('26', '19'): 8.118, ('26', '20'): 4.218, ('26', '21'): 7.848, ('26', '22'): 3.48, ('26', '23'): 4.788, ('26', '24'): 18.054, ('26', '25'): 51.12, ('26', '27'): 52.17, ('26', '28'): 45.024, ('26', '29'): 5.094, ('26', '30'): 3.654, ('26', '31'): 6.492, ('26', '32'): 11.436, ('26', '33'): 3.792, ('26', '34'): 38.958, ('26', '35'): 7.704, ('26', '36'): 1.998, ('27', '1'): 13.626, ('27', '2'): 2.25, ('27', '3'): 2.58, ('27', '4'): 6.594, ('27', '5'): 6.768, ('27', '6'): 4.566, ('27', '7'): 7.47, ('27', '8'): 9.696, ('27', '9'): 5.496, ('27', '10'): 39.252, ('27', '11'): 9.858, ('27', '12'): 65.112, ('27', '13'): 26.274, ('27', '14'): 18.858, ('27', '15'): 5.79, ('27', '16'): 4.428, ('27', '17'): 1.986, ('27', '18'): 3.762, ('27', '19'): 6.66, ('27', '20'): 3.78, ('27', '21'): 6.792, ('27', '22'): 2.964, ('27', '23'): 4.434, ('27', '24'): 13.02, ('27', '25'): 39.168, ('27', '26'): 50.472, ('27', '28'): 35.76, ('27', '29'): 4.8, ('27', '30'): 3.672, ('27', '31'): 4.26, ('27', '32'): 9.204, ('27', '33'): 2.832, ('27', '34'): 17.532, ('27', '35'): 8.058, ('27', '36'): 1.428, ('28', '1'): 4.776, ('28', '2'): 1.518, ('28', '3'): 1.338, ('28', '4'): 2.868, ('28', '5'): 2.31, ('28', '6'): 3.888, ('28', '7'): 7.548, ('28', '8'): 5.124, ('28', '9'): 6.666, ('28', '10'): 36.066, ('28', '11'): 14.586, ('28', '12'): 27.42, ('28', '13'): 10.824, ('28', '14'): 14.454, ('28', '15'): 2.478, ('28', '16'): 2.058, ('28', '17'): 1.704, ('28', '18'): 3.666, ('28', '19'): 2.49, ('28', '20'): 1.446, ('28', '21'): 1.98, ('28', '22'): 1.152, ('28', '23'): 1.698, ('28', '24'): 20.952, ('28', '25'): 63.426, ('28', '26'): 51.024, ('28', '27'): 41.238, ('28', '29'): 3.858, ('28', '30'): 2.886, ('28', '31'): 1.872, ('28', '32'): 3.066, ('28', '33'): 0.66, ('28', '34'): 37.398, ('28', '35'): 3.426, ('28', '36'): 0.714, ('29', '1'): 31.008, ('29', '2'): 4.854, ('29', '3'): 5.4, ('29', '4'): 13.482, ('29', '5'): 11.892, ('29', '6'): 12.42, ('29', '7'): 19.05, ('29', '8'): 17.238, ('29', '9'): 12.312, ('29', '10'): 6.258, ('29', '11'): 1.722, ('29', '12'): 9.246, ('29', '13'): 4.11, ('29', '14'): 2.37, ('29', '15'): 8.214, ('29', '16'): 6.882, ('29', '17'): 4.638, ('29', '18'): 8.532, ('29', '19'): 12.93, ('29', '20'): 8.166, ('29', '21'): 13.398, ('29', '22'): 5.982, ('29', '23'): 8.802, ('29', '24'): 1.2, ('29', '25'): 3.438, ('29', '26'): 4.944, ('29', '27'): 4.344, ('29', '28'): 4.98, ('29', '30'): 6.372, ('29', '31'): 7.05, ('29', '32'): 15.612, ('29', '33'): 4.314, ('29', '34'): 2.538, ('29', '35'): 13.374, ('29', '36'): 2.982, ('30', '1'): 22.428, ('30', '2'): 3.6, ('30', '3'): 4.122, ('30', '4'): 10.176, ('30', '5'): 8.634, ('30', '6'): 10.146, ('30', '7'): 16.626, ('30', '8'): 16.332, ('30', '9'): 11.64, ('30', '10'): 4.098, ('30', '11'): 1.176, ('30', '12'): 6.558, ('30', '13'): 2.562, ('30', '14'): 1.542, ('30', '15'): 6.552, ('30', '16'): 5.286, ('30', '17'): 3.324, ('30', '18'): 6.354, ('30', '19'): 9.66, ('30', '20'): 6.138, ('30', '21'): 9.828, ('30', '22'): 4.422, ('30', '23'): 7.05, ('30', '24'): 0.84, ('30', '25'): 2.454, ('30', '26'): 3.39, ('30', '27'): 3.15, ('30', '28'): 3.39, ('30', '29'): 7.182, ('30', '31'): 4.62, ('30', '32'): 11.214, ('30', '33'): 2.826, ('30', '34'): 2.028, ('30', '35'): 9.96, ('30', '36'): 2.196, ('31', '1'): 28.368, ('31', '2'): 5.622, ('31', '3'): 5.028, ('31', '4'): 11.196, ('31', '5'): 12.156, ('31', '6'): 10.068, ('31', '7'): 15.204, ('31', '8'): 16.29, ('31', '9'): 12.27, ('31', '10'): 4.332, ('31', '11'): 1.236, ('31', '12'): 2.604, ('31', '13'): 1.998, ('31', '14'): 1.026, ('31', '15'): 6.3, ('31', '16'): 9.192, ('31', '17'): 5.346, ('31', '18'): 11.016, ('31', '19'): 14.178, ('31', '20'): 7.014, ('31', '21'): 15.6, ('31', '22'): 5.64, ('31', '23'): 6.9, ('31', '24'): 1.71, ('31', '25'): 4.002, ('31', '26'): 5.652, ('31', '27'): 3.498, ('31', '28'): 2.112, ('31', '29'): 7.578, ('31', '30'): 4.272, ('31', '32'): 15.648, ('31', '33'): 5.28, ('31', '34'): 2.514, ('31', '35'): 6.66, ('31', '36'): 3.384, ('32', '1'): 28.698, ('32', '2'): 6.114, ('32', '3'): 5.37, ('32', '4'): 13.05, ('32', '5'): 7.314, ('32', '6'): 17.232, ('32', '7'): 36.816, ('32', '8'): 24.558, ('32', '9'): 31.512, ('32', '10'): 5.118, ('32', '11'): 2.172, ('32', '12'): 4.65, ('32', '13'): 1.542, ('32', '14'): 1.908, ('32', '15'): 8.838, ('32', '16'): 10.692, ('32', '17'): 7.71, ('32', '18'): 20.466, ('32', '19'): 10.392, ('32', '20'): 6.894, ('32', '21'): 11.406, ('32', '22'): 4.704, ('32', '23'): 7.662, ('32', '24'): 3.402, ('32', '25'): 8.124, ('32', '26'): 8.79, ('32', '27'): 6.816, ('32', '28'): 3.132, ('32', '29'): 16.704, ('32', '30'): 9.744, ('32', '31'): 15.432, ('32', '33'): 5.952, ('32', '34'): 5.982, ('32', '35'): 9.768, ('32', '36'): 5.274, ('33', '1'): 10.926, ('33', '2'): 3.24, ('33', '3'): 2.388, ('33', '4'): 4.686, ('33', '5'): 4.278, ('33', '6'): 5.466, ('33', '7'): 10.476, ('33', '8'): 7.68, ('33', '9'): 9.69, ('33', '10'): 1.596, ('33', '11'): 0.72, ('33', '12'): 0.612, ('33', '13'): 0.504, ('33', '14'): 0.498, ('33', '15'): 2.244, ('33', '16'): 4.134, ('33', '17'): 4.452, ('33', '18'): 10.686, ('33', '19'): 5.736, ('33', '20'): 2.766, ('33', '21'): 5.154, ('33', '22'): 2.22, ('33', '23'): 2.538, ('33', '24'): 1.356, ('33', '25'): 2.64, ('33', '26'): 2.55, ('33', '27'): 1.878, ('33', '28'): 0.504, ('33', '29'): 4.674, ('33', '30'): 2.466, ('33', '31'): 5.106, ('33', '32'): 5.988, ('33', '34'): 1.944, ('33', '35'): 2.166, ('33', '36'): 1.728, ('34', '1'): 14.328, ('34', '2'): 1.26, ('34', '3'): 1.518, ('34', '4'): 4.482, ('34', '5'): 5.22, ('34', '6'): 3.144, ('34', '7'): 4.332, ('34', '8'): 8.52, ('34', '9'): 2.916, ('34', '10'): 38.544, ('34', '11'): 5.43, ('34', '12'): 51.072, ('34', '13'): 25.77, ('34', '14'): 11.262, ('34', '15'): 5.286, ('34', '16'): 2.94, ('34', '17'): 1.212, ('34', '18'): 1.812, ('34', '19'): 6.36, ('34', '20'): 3.75, ('34', '21'): 7.332, ('34', '22'): 2.496, ('34', '23'): 3.834, ('34', '24'): 2.652, ('34', '25'): 15.078, ('34', '26'): 33.666, ('34', '27'): 15.396, ('34', '28'): 31.2, ('34', '29'): 3.684, ('34', '30'): 2.802, ('34', '31'): 3.774, ('34', '32'): 8.628, ('34', '33'): 3.102, ('34', '35'): 7.302, ('34', '36'): 1.23, ('35', '1'): 17.946, ('35', '2'): 5.898, ('35', '3'): 5.076, ('35', '4'): 11.106, ('35', '5'): 7.242, ('35', '6'): 15.648, ('35', '7'): 29.256, ('35', '8'): 22.176, ('35', '9'): 27.684, ('35', '10'): 4.77, ('35', '11'): 2.124, ('35', '12'): 5.25, ('35', '13'): 1.158, ('35', '14'): 1.554, ('35', '15'): 5.85, ('35', '16'): 7.2, ('35', '17'): 6.882, ('35', '18'): 14.388, ('35', '19'): 9.786, ('35', '20'): 5.412, ('35', '21'): 7.638, ('35', '22'): 4.254, ('35', '23'): 5.976, ('35', '24'): 2.244, ('35', '25'): 6.306, ('35', '26'): 5.766, ('35', '27'): 5.838, ('35', '28'): 3.342, ('35', '29'): 14.328, ('35', '30'): 8.58, ('35', '31'): 6.558, ('35', '32'): 9.708, ('35', '33'): 2.148, ('35', '34'): 5.034, ('35', '36'): 3.24, ('36', '1'): 12.408, ('36', '2'): 1.902, ('36', '3'): 2.082, ('36', '4'): 4.134, ('36', '5'): 4.416, ('36', '6'): 3.618, ('36', '7'): 6.018, ('36', '8'): 6.306, ('36', '9'): 5.058, ('36', '10'): 1.452, ('36', '11'): 0.42, ('36', '12'): 1.296, ('36', '13'): 0.756, ('36', '14'): 0.402, ('36', '15'): 2.526, ('36', '16'): 3.522, ('36', '17'): 1.692, ('36', '18'): 4.446, ('36', '19'): 4.062, ('36', '20'): 3.234, ('36', '21'): 4.212, ('36', '22'): 2.076, ('36', '23'): 3.18, ('36', '24'): 0.486, ('36', '25'): 1.17, ('36', '26'): 2.04, ('36', '27'): 1.332, ('36', '28'): 0.96, ('36', '29'): 3.138, ('36', '30'): 2.124, ('36', '31'): 3.378, ('36', '32'): 5.67, ('36', '33'): 1.746, ('36', '34'): 0.906, ('36', '35'): 3.492}\n"
     ]
    }
   ],
   "source": [
    "#observe network after removing one link\n",
    "remove_link = 356\n",
    "trial_run.make_network(city, remove_link)\n",
    "trial_run.network_attributes(city, remove_link)"
   ]
  },
  {
   "cell_type": "markdown",
   "id": "d726132b",
   "metadata": {},
   "source": [
    "# Compute equilibrium flow for example city using Frank-Wolfe algorithm"
   ]
  },
  {
   "cell_type": "code",
   "execution_count": null,
   "id": "c3a04825",
   "metadata": {},
   "outputs": [],
   "source": [
    "%%time\n",
    "\n",
    "#compute the eq flow for one example city and no closed links\n",
    "remove_link = 0\n",
    "trial_run.compute_link_flow(city, remove_link)"
   ]
  },
  {
   "cell_type": "code",
   "execution_count": null,
   "id": "6685a76d",
   "metadata": {},
   "outputs": [],
   "source": [
    "#report eq flow for one example city and no closed links\n",
    "print('Results for:', city)\n",
    "trial_run.cities_dict[city][str(remove_link)]['fw_run'].showODFlow() #equilibrium flows\n",
    "trial_run.cities_dict[city][str(remove_link)]['fw_run'].showODFlowMap() #flow map"
   ]
  },
  {
   "cell_type": "markdown",
   "id": "6885c6a8",
   "metadata": {},
   "source": [
    "# Compute equilibrium flow for one closed link in example city using Frank-Wolfe algorithm"
   ]
  },
  {
   "cell_type": "code",
   "execution_count": null,
   "id": "fcdbd8b7",
   "metadata": {},
   "outputs": [],
   "source": [
    "%%time\n",
    "\n",
    "#compute the eq flow for one example city and one closed link\n",
    "remove_link = 1\n",
    "trial_run.compute_link_flow(city, remove_link)"
   ]
  },
  {
   "cell_type": "code",
   "execution_count": null,
   "id": "e8e836d7",
   "metadata": {},
   "outputs": [],
   "source": [
    "#report eq flow for one example city and one closed links\n",
    "print('Results for:', city)\n",
    "trial_run.cities_dict[city][str(remove_link)]['fw_run'].showODFlow() #equilibrium flows\n",
    "trial_run.cities_dict[city][str(remove_link)]['fw_run'].showODFlowMap() #flow map"
   ]
  },
  {
   "cell_type": "code",
   "execution_count": null,
   "id": "5e5b8397",
   "metadata": {},
   "outputs": [],
   "source": [
    "cities_dict[city]['csv'].iloc[-523]['length']"
   ]
  },
  {
   "cell_type": "markdown",
   "id": "af7b2eed",
   "metadata": {},
   "source": [
    "# Systematically close each link and compute equilibrium flow for example city"
   ]
  },
  {
   "cell_type": "code",
   "execution_count": null,
   "id": "968d389e",
   "metadata": {},
   "outputs": [],
   "source": [
    "#need to make the network where each link is shut first\n",
    "trial_run.make_network_shut_each_link(city)"
   ]
  },
  {
   "cell_type": "code",
   "execution_count": null,
   "id": "6f21d19a",
   "metadata": {},
   "outputs": [],
   "source": [
    "#view a network with edge removed\n",
    "removed_link = 8\n",
    "trial_run.make_network(city, removed_link)\n",
    "trial_run.network_attributes(city, removed_link)"
   ]
  },
  {
   "cell_type": "code",
   "execution_count": null,
   "id": "d23b86fb",
   "metadata": {},
   "outputs": [],
   "source": [
    "%%time\n",
    "\n",
    "trial_run.eq_flow_shut_each_link(city)"
   ]
  },
  {
   "cell_type": "code",
   "execution_count": null,
   "id": "a48f3eae",
   "metadata": {},
   "outputs": [],
   "source": [
    "#report eq flow for one example city and one randomly closed link (flex removed_link, but can't choose more than max edges)\n",
    "max_edges = len(cities_dict[city]['0']['network'].graph.edges)\n",
    "print('max_edges:', max_edges)\n",
    "removed_link = 1\n",
    "print('Equilibrium flow for removed link number',removed_link, 'in', city)\n",
    "print('Results for:', city)\n",
    "trial_run.cities_dict[city][str(removed_link)]['fw_run'].showODFlow() #equilibrium flows\n",
    "trial_run.cities_dict[city][str(removed_link)]['fw_run'].showODFlowMap() #flow map"
   ]
  },
  {
   "cell_type": "code",
   "execution_count": null,
   "id": "7acd06b7",
   "metadata": {},
   "outputs": [],
   "source": [
    "## for below analysis, remember that the removed_link = 1 means the last row in the trip file is removed. \n",
    "# Removed_link = 2 means the second last row is removed, and so on.\n",
    "# You can use this for the mapping from fw eq flow results to the csv/dataframe.\n",
    "\n",
    "\n",
    "removed_link = 0\n",
    "#density\n",
    "nx.density(cities_dict[city][str(remove_link)]['network'].graph)\n",
    "\n",
    "#diameter\n",
    "\n",
    "#nx.diameter(cities_dict[city][str(remove_link)]['network'].graph)\n",
    "\n",
    "#check this out for centrality https://networkx.org/documentation/stable/reference/algorithms/centrality.html\n",
    "\n",
    "#betweeness origin\n",
    "\n",
    "#eigenvector origin\n",
    "\n",
    "#betweeness destination\n",
    "\n",
    "#eigenvector destination\n",
    "\n",
    "#flow - from initial trips file i think \n",
    "\n",
    "#cost - will need to compute"
   ]
  }
 ],
 "metadata": {
  "kernelspec": {
   "display_name": "Python 3 (ipykernel)",
   "language": "python",
   "name": "python3"
  },
  "language_info": {
   "codemirror_mode": {
    "name": "ipython",
    "version": 3
   },
   "file_extension": ".py",
   "mimetype": "text/x-python",
   "name": "python",
   "nbconvert_exporter": "python",
   "pygments_lexer": "ipython3",
   "version": "3.9.5"
  }
 },
 "nbformat": 4,
 "nbformat_minor": 5
}
