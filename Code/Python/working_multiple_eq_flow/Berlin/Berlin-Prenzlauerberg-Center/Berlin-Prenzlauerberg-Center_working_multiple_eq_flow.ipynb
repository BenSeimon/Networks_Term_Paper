{
 "cells": [
  {
   "cell_type": "markdown",
   "id": "43849984",
   "metadata": {},
   "source": [
    "To note:\n",
    "\n",
    "- No idea what b is \n",
    "- Below is a couple of definitions from the GitHub page which might come in handy\n",
    "\n",
    "Link travel time = free flow time * ( 1 + B * (flow/capacity)^Power ).\n",
    "Link generalized cost = Link travel time + toll_factor * toll + distance_factor * distance"
   ]
  },
  {
   "cell_type": "markdown",
   "id": "83a47462",
   "metadata": {},
   "source": [
    "# Setup: import packages"
   ]
  },
  {
   "cell_type": "code",
   "execution_count": 1,
   "id": "96c96558",
   "metadata": {},
   "outputs": [],
   "source": [
    "#install packages if required\n",
    "#%pip install networkx"
   ]
  },
  {
   "cell_type": "code",
   "execution_count": 2,
   "id": "5a481df0",
   "metadata": {},
   "outputs": [],
   "source": [
    "#import packages \n",
    "import os\n",
    "import pandas as pd\n",
    "import networkx as nx\n",
    "import matplotlib.pyplot as plt\n",
    "import graphviz\n",
    "import scipy.integrate as integrate \n",
    "from scipy.optimize import minimize_scalar\n",
    "from scipy.misc import derivative\n",
    "import numpy as np\n",
    "import os\n",
    "from random import *"
   ]
  },
  {
   "cell_type": "code",
   "execution_count": 3,
   "id": "bdd4d771",
   "metadata": {},
   "outputs": [],
   "source": [
    "#create cities dictionary\n",
    "def make_dict(cities):\n",
    "    cities_dict = {}\n",
    "    for city in cities:\n",
    "        link_file_path = data_path + city + '/' + city + '_net.tntp.txt'\n",
    "        node_file_path = data_path + city + '/' + city +'_nodes.tntp.txt'\n",
    "        trip_file_path = data_path + city + '/' + city + '_trips.tntp.txt'\n",
    "        cities_dict[city] = {}\n",
    "        to_add = {'link_file_path': link_file_path, 'node_file_path': node_file_path, 'trip_file_path': trip_file_path}\n",
    "        cities_dict[city]['file_paths'] = to_add \n",
    "    return cities_dict"
   ]
  },
  {
   "cell_type": "markdown",
   "id": "b18680b9",
   "metadata": {},
   "source": [
    "# Set file paths and city"
   ]
  },
  {
   "cell_type": "code",
   "execution_count": 4,
   "id": "64ed0df1",
   "metadata": {},
   "outputs": [],
   "source": [
    "data_path = '/Users/benseimon/Documents/Barca GSE/Studies/Term 2/Networks/Term Paper/Networks_Term_Paper/Data/'\n",
    "cities = ['Berlin-Prenzlauerberg-Center']\n",
    "data_path = data_path \n",
    "os.chdir(data_path)"
   ]
  },
  {
   "cell_type": "markdown",
   "id": "0adb39be",
   "metadata": {},
   "source": [
    "# Import required classes"
   ]
  },
  {
   "cell_type": "code",
   "execution_count": 5,
   "id": "e8255940",
   "metadata": {},
   "outputs": [],
   "source": [
    "classes_path = '/Users/benseimon/Documents/Barca GSE/Studies/Term 2/Networks/Term Paper/Networks_Term_Paper/Code/Python/working_multiple_eq_flow/Berlin/pytrans_working_multiple_eq_flow'\n",
    "#network_analysis_path_niamh = r'C:\\Users\\35387\\OneDrive\\Documents\\Networks\\New folder\\Networks_Term_Paper\\pytrans_UrbanNetworkAnalysis\\pytrans\\UrbanNetworkAnalysis\\original_edited'\n",
    "os.chdir(classes_path)\n",
    "import Frank_Wolfe\n",
    "import TransportationNetworks as tn\n",
    "import visualize_graph\n",
    "import custom_class"
   ]
  },
  {
   "cell_type": "markdown",
   "id": "d97dede8",
   "metadata": {},
   "source": [
    "# Make dict"
   ]
  },
  {
   "cell_type": "code",
   "execution_count": 6,
   "id": "cbc1a167",
   "metadata": {},
   "outputs": [
    {
     "data": {
      "text/plain": [
       "{'Berlin-Prenzlauerberg-Center': {'file_paths': {'link_file_path': '/Users/benseimon/Documents/Barca GSE/Studies/Term 2/Networks/Term Paper/Networks_Term_Paper/Data/Berlin-Prenzlauerberg-Center/Berlin-Prenzlauerberg-Center_net.tntp.txt',\n",
       "   'node_file_path': '/Users/benseimon/Documents/Barca GSE/Studies/Term 2/Networks/Term Paper/Networks_Term_Paper/Data/Berlin-Prenzlauerberg-Center/Berlin-Prenzlauerberg-Center_nodes.tntp.txt',\n",
       "   'trip_file_path': '/Users/benseimon/Documents/Barca GSE/Studies/Term 2/Networks/Term Paper/Networks_Term_Paper/Data/Berlin-Prenzlauerberg-Center/Berlin-Prenzlauerberg-Center_trips.tntp.txt'}}}"
      ]
     },
     "execution_count": 6,
     "metadata": {},
     "output_type": "execute_result"
    }
   ],
   "source": [
    "cities_dict = make_dict(cities)\n",
    "cities_dict"
   ]
  },
  {
   "cell_type": "markdown",
   "id": "3ba84367",
   "metadata": {},
   "source": [
    "# instantiate class"
   ]
  },
  {
   "cell_type": "code",
   "execution_count": 7,
   "id": "2b44de20",
   "metadata": {},
   "outputs": [],
   "source": [
    "#instantiate class \n",
    "trial_run = custom_class.fw_custom_algorithm(cities_dict)"
   ]
  },
  {
   "cell_type": "markdown",
   "id": "e924e3d2",
   "metadata": {},
   "source": [
    "# Observe one city"
   ]
  },
  {
   "cell_type": "code",
   "execution_count": 8,
   "id": "c369bee4",
   "metadata": {},
   "outputs": [],
   "source": [
    "#set city for investigation\n",
    "city = cities[0]"
   ]
  },
  {
   "cell_type": "code",
   "execution_count": 9,
   "id": "f689fbe9",
   "metadata": {},
   "outputs": [
    {
     "data": {
      "text/html": [
       "<div>\n",
       "<style scoped>\n",
       "    .dataframe tbody tr th:only-of-type {\n",
       "        vertical-align: middle;\n",
       "    }\n",
       "\n",
       "    .dataframe tbody tr th {\n",
       "        vertical-align: top;\n",
       "    }\n",
       "\n",
       "    .dataframe thead th {\n",
       "        text-align: right;\n",
       "    }\n",
       "</style>\n",
       "<table border=\"1\" class=\"dataframe\">\n",
       "  <thead>\n",
       "    <tr style=\"text-align: right;\">\n",
       "      <th></th>\n",
       "      <th>init_node</th>\n",
       "      <th>term_node</th>\n",
       "      <th>capacity</th>\n",
       "      <th>length</th>\n",
       "      <th>free_flow_time</th>\n",
       "      <th>b</th>\n",
       "      <th>power</th>\n",
       "      <th>speed</th>\n",
       "      <th>toll</th>\n",
       "      <th>link_type</th>\n",
       "    </tr>\n",
       "  </thead>\n",
       "  <tbody>\n",
       "    <tr>\n",
       "      <th>0</th>\n",
       "      <td>1</td>\n",
       "      <td>183</td>\n",
       "      <td>999999.0</td>\n",
       "      <td>0.0</td>\n",
       "      <td>0.000000</td>\n",
       "      <td>0.0</td>\n",
       "      <td>4.0</td>\n",
       "      <td>0.0</td>\n",
       "      <td>0.0</td>\n",
       "      <td>0</td>\n",
       "    </tr>\n",
       "    <tr>\n",
       "      <th>1</th>\n",
       "      <td>1</td>\n",
       "      <td>294</td>\n",
       "      <td>999999.0</td>\n",
       "      <td>0.0</td>\n",
       "      <td>0.000000</td>\n",
       "      <td>0.0</td>\n",
       "      <td>4.0</td>\n",
       "      <td>0.0</td>\n",
       "      <td>0.0</td>\n",
       "      <td>0</td>\n",
       "    </tr>\n",
       "    <tr>\n",
       "      <th>2</th>\n",
       "      <td>1</td>\n",
       "      <td>296</td>\n",
       "      <td>999999.0</td>\n",
       "      <td>0.0</td>\n",
       "      <td>0.000000</td>\n",
       "      <td>0.0</td>\n",
       "      <td>4.0</td>\n",
       "      <td>0.0</td>\n",
       "      <td>0.0</td>\n",
       "      <td>0</td>\n",
       "    </tr>\n",
       "    <tr>\n",
       "      <th>3</th>\n",
       "      <td>1</td>\n",
       "      <td>297</td>\n",
       "      <td>999999.0</td>\n",
       "      <td>0.0</td>\n",
       "      <td>0.000000</td>\n",
       "      <td>0.0</td>\n",
       "      <td>4.0</td>\n",
       "      <td>0.0</td>\n",
       "      <td>0.0</td>\n",
       "      <td>0</td>\n",
       "    </tr>\n",
       "    <tr>\n",
       "      <th>4</th>\n",
       "      <td>2</td>\n",
       "      <td>187</td>\n",
       "      <td>999999.0</td>\n",
       "      <td>0.0</td>\n",
       "      <td>0.000000</td>\n",
       "      <td>0.0</td>\n",
       "      <td>4.0</td>\n",
       "      <td>0.0</td>\n",
       "      <td>0.0</td>\n",
       "      <td>0</td>\n",
       "    </tr>\n",
       "    <tr>\n",
       "      <th>...</th>\n",
       "      <td>...</td>\n",
       "      <td>...</td>\n",
       "      <td>...</td>\n",
       "      <td>...</td>\n",
       "      <td>...</td>\n",
       "      <td>...</td>\n",
       "      <td>...</td>\n",
       "      <td>...</td>\n",
       "      <td>...</td>\n",
       "      <td>...</td>\n",
       "    </tr>\n",
       "    <tr>\n",
       "      <th>744</th>\n",
       "      <td>349</td>\n",
       "      <td>179</td>\n",
       "      <td>2400.0</td>\n",
       "      <td>156.0</td>\n",
       "      <td>24.666667</td>\n",
       "      <td>1.0</td>\n",
       "      <td>4.0</td>\n",
       "      <td>0.0</td>\n",
       "      <td>0.0</td>\n",
       "      <td>1</td>\n",
       "    </tr>\n",
       "    <tr>\n",
       "      <th>745</th>\n",
       "      <td>350</td>\n",
       "      <td>19</td>\n",
       "      <td>999999.0</td>\n",
       "      <td>0.0</td>\n",
       "      <td>0.000000</td>\n",
       "      <td>0.0</td>\n",
       "      <td>4.0</td>\n",
       "      <td>0.0</td>\n",
       "      <td>0.0</td>\n",
       "      <td>0</td>\n",
       "    </tr>\n",
       "    <tr>\n",
       "      <th>746</th>\n",
       "      <td>350</td>\n",
       "      <td>247</td>\n",
       "      <td>2400.0</td>\n",
       "      <td>379.0</td>\n",
       "      <td>14.000000</td>\n",
       "      <td>1.0</td>\n",
       "      <td>4.0</td>\n",
       "      <td>0.0</td>\n",
       "      <td>0.0</td>\n",
       "      <td>1</td>\n",
       "    </tr>\n",
       "    <tr>\n",
       "      <th>747</th>\n",
       "      <td>351</td>\n",
       "      <td>310</td>\n",
       "      <td>900.0</td>\n",
       "      <td>327.0</td>\n",
       "      <td>8.333333</td>\n",
       "      <td>1.0</td>\n",
       "      <td>4.0</td>\n",
       "      <td>0.0</td>\n",
       "      <td>0.0</td>\n",
       "      <td>1</td>\n",
       "    </tr>\n",
       "    <tr>\n",
       "      <th>748</th>\n",
       "      <td>352</td>\n",
       "      <td>348</td>\n",
       "      <td>2400.0</td>\n",
       "      <td>60.0</td>\n",
       "      <td>1.666667</td>\n",
       "      <td>1.0</td>\n",
       "      <td>4.0</td>\n",
       "      <td>0.0</td>\n",
       "      <td>0.0</td>\n",
       "      <td>1</td>\n",
       "    </tr>\n",
       "  </tbody>\n",
       "</table>\n",
       "<p>749 rows × 10 columns</p>\n",
       "</div>"
      ],
      "text/plain": [
       "     init_node  term_node  capacity  length  free_flow_time    b  power  \\\n",
       "0            1        183  999999.0     0.0        0.000000  0.0    4.0   \n",
       "1            1        294  999999.0     0.0        0.000000  0.0    4.0   \n",
       "2            1        296  999999.0     0.0        0.000000  0.0    4.0   \n",
       "3            1        297  999999.0     0.0        0.000000  0.0    4.0   \n",
       "4            2        187  999999.0     0.0        0.000000  0.0    4.0   \n",
       "..         ...        ...       ...     ...             ...  ...    ...   \n",
       "744        349        179    2400.0   156.0       24.666667  1.0    4.0   \n",
       "745        350         19  999999.0     0.0        0.000000  0.0    4.0   \n",
       "746        350        247    2400.0   379.0       14.000000  1.0    4.0   \n",
       "747        351        310     900.0   327.0        8.333333  1.0    4.0   \n",
       "748        352        348    2400.0    60.0        1.666667  1.0    4.0   \n",
       "\n",
       "     speed  toll  link_type  \n",
       "0      0.0   0.0          0  \n",
       "1      0.0   0.0          0  \n",
       "2      0.0   0.0          0  \n",
       "3      0.0   0.0          0  \n",
       "4      0.0   0.0          0  \n",
       "..     ...   ...        ...  \n",
       "744    0.0   0.0          1  \n",
       "745    0.0   0.0          0  \n",
       "746    0.0   0.0          1  \n",
       "747    0.0   0.0          1  \n",
       "748    0.0   0.0          1  \n",
       "\n",
       "[749 rows x 10 columns]"
      ]
     },
     "execution_count": 9,
     "metadata": {},
     "output_type": "execute_result"
    }
   ],
   "source": [
    "trial_run.create_links_csv()\n",
    "cities_dict[city]['csv']"
   ]
  },
  {
   "cell_type": "markdown",
   "id": "a313e0cd",
   "metadata": {},
   "source": [
    "# Plot graph"
   ]
  },
  {
   "cell_type": "code",
   "execution_count": 10,
   "id": "1695ef69",
   "metadata": {},
   "outputs": [
    {
     "name": "stdout",
     "output_type": "stream",
     "text": [
      "Total number of nodes in Berlin-Prenzlauerberg-Center: 352\n",
      "Total number of edges in Berlin-Prenzlauerberg-Center: 749\n",
      "Graph for: Berlin-Prenzlauerberg-Center\n"
     ]
    },
    {
     "data": {
      "image/png": "[encoded data removed]",
      "text/plain": [
       "<Figure size 432x288 with 1 Axes>"
      ]
     },
     "metadata": {},
     "output_type": "display_data"
    }
   ],
   "source": [
    "#Create csvs, plot graph and show summary stats\n",
    "trial_run.summary_stats_all()\n",
    "trial_run.plot(city)"
   ]
  },
  {
   "cell_type": "markdown",
   "id": "afadb511",
   "metadata": {},
   "source": [
    "# Observe example network data"
   ]
  },
  {
   "cell_type": "code",
   "execution_count": 11,
   "id": "e99ee18b",
   "metadata": {
    "scrolled": true
   },
   "outputs": [
    {
     "name": "stdout",
     "output_type": "stream",
     "text": [
      "No links removed\n",
      "<TransportationNetworks.Network object at 0x7fb881581eb0>\n",
      "Berlin-Prenzlauerberg-Center graph is: DiGraph with 352 nodes and 749 edges\n",
      "Berlin-Prenzlauerberg-Center origin nodes are: ['1', '2', '3', '4', '5', '6', '7', '8', '9', '10', '11', '12', '13', '14', '15', '16', '17', '18', '19', '20', '21', '22', '23', '24', '25', '26', '27', '28', '29', '30', '31', '32', '33', '34', '35', '36', '37', '38']\n",
      "Berlin-Prenzlauerberg-Center flows are: {('1', '2'): 55.61, ('1', '3'): 75.59, ('1', '4'): 67.54, ('1', '5'): 74.33, ('1', '6'): 3.48, ('1', '7'): 7.58, ('1', '8'): 6.57, ('1', '9'): 40.16, ('1', '10'): 29.24, ('1', '11'): 69.6, ('1', '12'): 3.09, ('1', '13'): 10.79, ('1', '14'): 94.31, ('1', '15'): 24.88, ('1', '16'): 11.42, ('1', '17'): 30.33, ('1', '18'): 10.26, ('1', '19'): 1.26, ('1', '20'): 3.13, ('1', '21'): 12.74, ('1', '22'): 19.18, ('1', '23'): 40.82, ('1', '24'): 47.69, ('1', '25'): 3.13, ('1', '26'): 6.65, ('1', '27'): 5.53, ('1', '28'): 6.39, ('1', '29'): 9.25, ('1', '30'): 7.29, ('1', '31'): 28.69, ('1', '32'): 5.08, ('1', '33'): 7.98, ('1', '34'): 18.73, ('1', '35'): 3.15, ('1', '36'): 2.82, ('1', '37'): 14.52, ('1', '38'): 2.57, ('2', '1'): 56.31, ('2', '3'): 97.8, ('2', '4'): 67.66, ('2', '5'): 59.73, ('2', '6'): 4.49, ('2', '7'): 9.76, ('2', '8'): 8.57, ('2', '9'): 41.93, ('2', '10'): 27.11, ('2', '11'): 62.1, ('2', '12'): 3.52, ('2', '13'): 12.45, ('2', '14'): 66.1, ('2', '15'): 22.89, ('2', '16'): 13.44, ('2', '17'): 34.68, ('2', '18'): 12.08, ('2', '19'): 1.86, ('2', '20'): 4.2, ('2', '21'): 10.83, ('2', '22'): 20.48, ('2', '23'): 36.96, ('2', '24'): 50.93, ('2', '25'): 3.56, ('2', '26'): 8.04, ('2', '27'): 6.66, ('2', '28'): 7.4, ('2', '29'): 11.19, ('2', '30'): 9.56, ('2', '31'): 28.67, ('2', '32'): 6.17, ('2', '33'): 9.98, ('2', '34'): 20.6, ('2', '35'): 3.72, ('2', '36'): 4.02, ('2', '37'): 15.37, ('2', '38'): 4.01, ('3', '1'): 75.14, ('3', '2'): 96.08, ('3', '4'): 90.27, ('3', '5'): 104.68, ('3', '6'): 3.11, ('3', '7'): 7.03, ('3', '8'): 5.24, ('3', '9'): 34.55, ('3', '10'): 33.09, ('3', '11'): 71.29, ('3', '12'): 2.73, ('3', '13'): 10.01, ('3', '14'): 95.78, ('3', '15'): 22.9, ('3', '16'): 12.62, ('3', '17'): 37.9, ('3', '18'): 10.54, ('3', '19'): 0.95, ('3', '20'): 2.47, ('3', '21'): 14.71, ('3', '22'): 16.87, ('3', '23'): 35.59, ('3', '24'): 53.9, ('3', '25'): 2.91, ('3', '26'): 5.72, ('3', '27'): 5.15, ('3', '28'): 6.07, ('3', '29'): 9.57, ('3', '30'): 4.3, ('3', '31'): 26.34, ('3', '32'): 4.68, ('3', '33'): 7.65, ('3', '34'): 20.8, ('3', '35'): 2.43, ('3', '36'): 2.4, ('3', '37'): 21.1, ('3', '38'): 2.05, ('4', '1'): 67.95, ('4', '2'): 67.21, ('4', '3'): 91.31, ('4', '5'): 72.25, ('4', '6'): 4.13, ('4', '7'): 10.0, ('4', '8'): 8.01, ('4', '9'): 39.49, ('4', '10'): 29.57, ('4', '11'): 79.1, ('4', '12'): 3.0, ('4', '13'): 11.43, ('4', '14'): 107.65, ('4', '15'): 28.19, ('4', '16'): 13.25, ('4', '17'): 38.28, ('4', '18'): 12.87, ('4', '19'): 1.5, ('4', '20'): 3.7, ('4', '21'): 13.44, ('4', '22'): 18.91, ('4', '23'): 43.64, ('4', '24'): 51.67, ('4', '25'): 3.24, ('4', '26'): 7.3, ('4', '27'): 6.28, ('4', '28'): 7.05, ('4', '29'): 9.27, ('4', '30'): 6.9, ('4', '31'): 34.91, ('4', '32'): 5.95, ('4', '33'): 10.01, ('4', '34'): 19.24, ('4', '35'): 3.19, ('4', '36'): 2.67, ('4', '37'): 23.11, ('4', '38'): 3.5, ('5', '1'): 73.2, ('5', '2'): 58.11, ('5', '3'): 103.84, ('5', '4'): 70.75, ('5', '6'): 4.7, ('5', '7'): 11.43, ('5', '8'): 11.18, ('5', '9'): 41.94, ('5', '10'): 31.38, ('5', '11'): 82.09, ('5', '12'): 3.33, ('5', '13'): 12.89, ('5', '14'): 83.72, ('5', '15'): 24.94, ('5', '16'): 14.95, ('5', '17'): 29.44, ('5', '18'): 14.34, ('5', '19'): 2.02, ('5', '20'): 4.65, ('5', '21'): 14.02, ('5', '22'): 21.49, ('5', '23'): 47.5, ('5', '24'): 57.48, ('5', '25'): 3.44, ('5', '26'): 8.44, ('5', '27'): 6.92, ('5', '28'): 7.68, ('5', '29'): 10.85, ('5', '30'): 9.33, ('5', '31'): 27.14, ('5', '32'): 6.82, ('5', '33'): 11.11, ('5', '34'): 20.83, ('5', '35'): 4.31, ('5', '36'): 3.81, ('5', '37'): 22.8, ('5', '38'): 4.71, ('6', '1'): 3.24, ('6', '2'): 4.08, ('6', '3'): 3.67, ('6', '4'): 3.79, ('6', '5'): 4.46, ('6', '7'): 17.3, ('6', '8'): 20.51, ('6', '9'): 2.84, ('6', '10'): 2.01, ('6', '11'): 4.96, ('6', '12'): 5.71, ('6', '13'): 20.59, ('6', '14'): 6.66, ('6', '15'): 2.05, ('6', '16'): 0.7, ('6', '17'): 2.04, ('6', '18'): 20.37, ('6', '19'): 3.68, ('6', '20'): 6.13, ('6', '21'): 0.74, ('6', '22'): 1.82, ('6', '23'): 2.9, ('6', '24'): 3.27, ('6', '25'): 5.41, ('6', '26'): 10.05, ('6', '27'): 7.46, ('6', '28'): 9.22, ('6', '29'): 4.53, ('6', '30'): 5.1, ('6', '31'): 2.25, ('6', '32'): 7.01, ('6', '33'): 13.06, ('6', '34'): 1.29, ('6', '35'): 1.53, ('6', '36'): 2.12, ('6', '37'): 1.2, ('6', '38'): 9.84, ('7', '1'): 7.21, ('7', '2'): 9.19, ('7', '3'): 5.43, ('7', '4'): 9.45, ('7', '5'): 11.1, ('7', '6'): 13.36, ('7', '8'): 43.27, ('7', '9'): 3.5, ('7', '10'): 3.77, ('7', '11'): 6.75, ('7', '12'): 8.74, ('7', '13'): 37.07, ('7', '14'): 9.67, ('7', '15'): 3.58, ('7', '16'): 2.06, ('7', '17'): 5.41, ('7', '18'): 32.3, ('7', '19'): 8.35, ('7', '20'): 16.89, ('7', '21'): 1.6, ('7', '22'): 2.37, ('7', '23'): 3.9, ('7', '24'): 7.61, ('7', '25'): 8.54, ('7', '26'): 27.32, ('7', '27'): 20.42, ('7', '28'): 21.74, ('7', '29'): 9.36, ('7', '30'): 5.56, ('7', '31'): 3.52, ('7', '32'): 17.72, ('7', '33'): 22.54, ('7', '34'): 2.53, ('7', '35'): 2.73, ('7', '36'): 4.29, ('7', '37'): 1.68, ('7', '38'): 17.57, ('8', '1'): 9.11, ('8', '2'): 11.86, ('8', '3'): 7.8, ('8', '4'): 11.09, ('8', '5'): 15.52, ('8', '6'): 24.64, ('8', '7'): 56.47, ('8', '9'): 6.26, ('8', '10'): 3.89, ('8', '11'): 10.09, ('8', '12'): 17.45, ('8', '13'): 47.98, ('8', '14'): 20.18, ('8', '15'): 3.94, ('8', '16'): 3.09, ('8', '17'): 7.7, ('8', '18'): 54.72, ('8', '19'): 10.72, ('8', '20'): 17.08, ('8', '21'): 2.77, ('8', '22'): 2.27, ('8', '23'): 8.53, ('8', '24'): 11.18, ('8', '25'): 16.74, ('8', '26'): 43.5, ('8', '27'): 39.88, ('8', '28'): 35.87, ('8', '29'): 11.0, ('8', '30'): 10.3, ('8', '31'): 6.59, ('8', '32'): 26.63, ('8', '33'): 56.12, ('8', '34'): 3.77, ('8', '35'): 0.29, ('8', '36'): 5.3, ('8', '37'): 2.37, ('8', '38'): 22.54, ('9', '1'): 41.79, ('9', '2'): 43.13, ('9', '3'): 36.29, ('9', '4'): 40.87, ('9', '5'): 44.24, ('9', '6'): 2.69, ('9', '7'): 4.68, ('9', '8'): 4.22, ('9', '10'): 12.44, ('9', '11'): 29.08, ('9', '12'): 1.88, ('9', '13'): 6.99, ('9', '14'): 48.86, ('9', '15'): 12.06, ('9', '16'): 7.69, ('9', '17'): 17.01, ('9', '18'): 5.61, ('9', '19'): 1.2, ('9', '20'): 2.5, ('9', '21'): 6.65, ('9', '22'): 7.01, ('9', '23'): 17.52, ('9', '24'): 30.85, ('9', '25'): 1.65, ('9', '26'): 5.06, ('9', '27'): 4.13, ('9', '28'): 4.49, ('9', '29'): 9.51, ('9', '30'): 6.4, ('9', '31'): 13.37, ('9', '32'): 3.36, ('9', '33'): 5.26, ('9', '34'): 8.92, ('9', '35'): 2.03, ('9', '36'): 3.94, ('9', '37'): 10.17, ('9', '38'): 2.12, ('10', '1'): 31.96, ('10', '2'): 29.3, ('10', '3'): 36.19, ('10', '4'): 32.14, ('10', '5'): 34.76, ('10', '6'): 2.44, ('10', '7'): 4.38, ('10', '8'): 2.86, ('10', '9'): 13.02, ('10', '11'): 20.38, ('10', '12'): 1.76, ('10', '13'): 5.57, ('10', '14'): 42.33, ('10', '15'): 10.69, ('10', '16'): 5.71, ('10', '17'): 13.5, ('10', '18'): 5.06, ('10', '19'): 1.03, ('10', '20'): 2.09, ('10', '21'): 3.91, ('10', '22'): 6.33, ('10', '23'): 13.9, ('10', '24'): 19.46, ('10', '25'): 1.49, ('10', '26'): 4.27, ('10', '27'): 3.64, ('10', '28'): 3.38, ('10', '29'): 7.03, ('10', '30'): 5.88, ('10', '31'): 12.92, ('10', '32'): 2.89, ('10', '33'): 4.88, ('10', '34'): 5.84, ('10', '35'): 1.36, ('10', '36'): 2.7, ('10', '37'): 7.77, ('10', '38'): 1.9, ('11', '1'): 73.61, ('11', '2'): 64.93, ('11', '3'): 76.13, ('11', '4'): 83.21, ('11', '5'): 87.99, ('11', '6'): 4.84, ('11', '7'): 9.1, ('11', '8'): 6.85, ('11', '9'): 29.59, ('11', '10'): 19.78, ('11', '12'): 4.32, ('11', '13'): 13.41, ('11', '14'): 78.44, ('11', '15'): 22.19, ('11', '16'): 13.73, ('11', '17'): 33.69, ('11', '18'): 11.0, ('11', '19'): 2.05, ('11', '20'): 4.31, ('11', '21'): 10.22, ('11', '22'): 16.01, ('11', '23'): 27.17, ('11', '24'): 50.61, ('11', '25'): 3.51, ('11', '26'): 8.65, ('11', '27'): 7.4, ('11', '28'): 7.92, ('11', '29'): 15.99, ('11', '30'): 10.08, ('11', '31'): 25.77, ('11', '32'): 6.12, ('11', '33'): 9.99, ('11', '34'): 16.43, ('11', '35'): 3.05, ('11', '36'): 6.05, ('11', '37'): 13.15, ('11', '38'): 3.73, ('12', '1'): 2.89, ('12', '2'): 3.24, ('12', '3'): 2.06, ('12', '4'): 2.79, ('12', '5'): 3.18, ('12', '6'): 4.33, ('12', '7'): 8.67, ('12', '8'): 13.37, ('12', '9'): 1.37, ('12', '10'): 1.49, ('12', '11'): 3.15, ('12', '13'): 10.48, ('12', '14'): 3.2, ('12', '15'): 1.14, ('12', '16'): 0.64, ('12', '17'): 1.3, ('12', '18'): 10.55, ('12', '19'): 2.4, ('12', '20'): 5.06, ('12', '21'): 0.59, ('12', '22'): 0.73, ('12', '23'): 1.34, ('12', '24'): 2.43, ('12', '25'): 2.44, ('12', '26'): 8.93, ('12', '27'): 6.63, ('12', '28'): 6.89, ('12', '29'): 2.78, ('12', '30'): 2.31, ('12', '31'): 0.94, ('12', '32'): 6.3, ('12', '33'): 8.51, ('12', '34'): 0.79, ('12', '35'): 0.97, ('12', '36'): 1.91, ('12', '37'): 0.72, ('12', '38'): 4.37, ('13', '1'): 11.97, ('13', '2'): 13.57, ('13', '3'): 13.04, ('13', '4'): 12.54, ('13', '5'): 14.56, ('13', '6'): 22.48, ('13', '7'): 48.44, ('13', '8'): 40.29, ('13', '9'): 8.39, ('13', '10'): 5.43, ('13', '11'): 15.59, ('13', '12'): 13.77, ('13', '14'): 21.16, ('13', '15'): 4.88, ('13', '16'): 2.36, ('13', '17'): 6.16, ('13', '18'): 51.33, ('13', '19'): 12.09, ('13', '20'): 24.54, ('13', '21'): 2.23, ('13', '22'): 3.46, ('13', '23'): 6.93, ('13', '24'): 7.43, ('13', '25'): 10.98, ('13', '26'): 31.31, ('13', '27'): 22.83, ('13', '28'): 23.6, ('13', '29'): 9.14, ('13', '30'): 12.79, ('13', '31'): 6.2, ('13', '32'): 29.46, ('13', '33'): 49.81, ('13', '34'): 3.06, ('13', '35'): 2.37, ('13', '36'): 5.89, ('13', '37'): 3.83, ('13', '38'): 24.05, ('14', '1'): 92.6, ('14', '2'): 64.14, ('14', '3'): 94.52, ('14', '4'): 105.14, ('14', '5'): 83.38, ('14', '6'): 5.46, ('14', '7'): 12.49, ('14', '8'): 13.54, ('14', '9'): 45.93, ('14', '10'): 38.28, ('14', '11'): 72.54, ('14', '12'): 4.22, ('14', '13'): 15.91, ('14', '15'): 20.64, ('14', '16'): 16.06, ('14', '17'): 41.81, ('14', '18'): 15.74, ('14', '19'): 2.52, ('14', '20'): 5.59, ('14', '21'): 14.23, ('14', '22'): 24.86, ('14', '23'): 34.99, ('14', '24'): 61.1, ('14', '25'): 4.23, ('14', '26'): 10.23, ('14', '27'): 8.45, ('14', '28'): 8.13, ('14', '29'): 17.03, ('14', '30'): 9.98, ('14', '31'): 24.41, ('14', '32'): 7.85, ('14', '33'): 12.3, ('14', '34'): 27.53, ('14', '35'): 5.16, ('14', '36'): 6.42, ('14', '37'): 20.08, ('14', '38'): 5.5, ('15', '1'): 27.61, ('15', '2'): 25.13, ('15', '3'): 25.68, ('15', '4'): 31.12, ('15', '5'): 28.02, ('15', '6'): 2.17, ('15', '7'): 4.94, ('15', '8'): 2.71, ('15', '9'): 12.93, ('15', '10'): 10.93, ('15', '11'): 23.41, ('15', '12'): 1.59, ('15', '13'): 4.56, ('15', '14'): 23.41, ('15', '16'): 3.41, ('15', '17'): 11.87, ('15', '18'): 4.11, ('15', '19'): 1.03, ('15', '20'): 2.07, ('15', '21'): 4.59, ('15', '22'): 5.9, ('15', '23'): 10.89, ('15', '24'): 15.6, ('15', '25'): 1.55, ('15', '26'): 3.69, ('15', '27'): 2.58, ('15', '28'): 2.25, ('15', '29'): 6.42, ('15', '30'): 4.19, ('15', '31'): 7.02, ('15', '32'): 2.24, ('15', '33'): 4.59, ('15', '34'): 7.88, ('15', '35'): 0.99, ('15', '36'): 2.57, ('15', '37'): 6.28, ('15', '38'): 2.24, ('16', '1'): 11.64, ('16', '2'): 13.53, ('16', '3'): 12.87, ('16', '4'): 13.42, ('16', '5'): 15.46, ('16', '6'): 0.82, ('16', '7'): 2.31, ('16', '8'): 2.23, ('16', '9'): 7.49, ('16', '10'): 5.32, ('16', '11'): 13.15, ('16', '12'): 0.73, ('16', '13'): 2.27, ('16', '14'): 16.59, ('16', '15'): 3.11, ('16', '17'): 5.64, ('16', '18'): 1.94, ('16', '19'): 0.54, ('16', '20'): 1.03, ('16', '21'): 2.27, ('16', '22'): 3.83, ('16', '23'): 6.48, ('16', '24'): 7.74, ('16', '25'): 0.75, ('16', '26'): 1.49, ('16', '27'): 1.05, ('16', '28'): 1.01, ('16', '29'): 2.72, ('16', '30'): 2.48, ('16', '31'): 4.24, ('16', '32'): 0.91, ('16', '33'): 1.77, ('16', '34'): 3.87, ('16', '35'): 0.88, ('16', '36'): 1.16, ('16', '37'): 3.42, ('16', '38'): 1.14, ('17', '1'): 29.77, ('17', '2'): 33.63, ('17', '3'): 37.49, ('17', '4'): 37.36, ('17', '5'): 29.35, ('17', '6'): 2.14, ('17', '7'): 5.51, ('17', '8'): 5.55, ('17', '9'): 16.08, ('17', '10'): 12.16, ('17', '11'): 31.35, ('17', '12'): 1.34, ('17', '13'): 5.42, ('17', '14'): 41.86, ('17', '15'): 10.55, ('17', '16'): 5.43, ('17', '18'): 4.08, ('17', '19'): 1.0, ('17', '20'): 2.22, ('17', '21'): 5.62, ('17', '22'): 8.59, ('17', '23'): 18.8, ('17', '24'): 23.82, ('17', '25'): 1.4, ('17', '26'): 3.79, ('17', '27'): 3.03, ('17', '28'): 3.27, ('17', '29'): 4.52, ('17', '30'): 4.09, ('17', '31'): 9.41, ('17', '32'): 3.13, ('17', '33'): 4.35, ('17', '34'): 8.17, ('17', '35'): 1.95, ('17', '36'): 1.77, ('17', '37'): 8.85, ('17', '38'): 2.43, ('18', '1'): 10.54, ('18', '2'): 12.26, ('18', '3'): 9.18, ('18', '4'): 13.13, ('18', '5'): 15.03, ('18', '6'): 17.39, ('18', '7'): 33.92, ('18', '8'): 42.1, ('18', '9'): 4.64, ('18', '10'): 4.67, ('18', '11'): 9.0, ('18', '12'): 11.17, ('18', '13'): 41.86, ('18', '14'): 13.84, ('18', '15'): 3.23, ('18', '16'): 1.88, ('18', '17'): 4.34, ('18', '19'): 8.89, ('18', '20'): 19.02, ('18', '21'): 2.16, ('18', '22'): 2.69, ('18', '23'): 5.38, ('18', '24'): 9.38, ('18', '25'): 11.12, ('18', '26'): 31.9, ('18', '27'): 25.4, ('18', '28'): 26.94, ('18', '29'): 10.38, ('18', '30'): 6.07, ('18', '31'): 3.09, ('18', '32'): 19.92, ('18', '33'): 27.15, ('18', '34'): 3.22, ('18', '35'): 2.38, ('18', '36'): 4.34, ('18', '37'): 2.4, ('18', '38'): 21.54, ('19', '1'): 1.27, ('19', '2'): 1.86, ('19', '3'): 1.17, ('19', '4'): 1.5, ('19', '5'): 2.09, ('19', '6'): 3.87, ('19', '7'): 10.89, ('19', '8'): 8.96, ('19', '9'): 1.35, ('19', '10'): 0.92, ('19', '11'): 2.22, ('19', '12'): 3.2, ('19', '13'): 11.51, ('19', '14'): 3.22, ('19', '15'): 1.02, ('19', '16'): 0.5, ('19', '17'): 1.04, ('19', '18'): 10.65, ('19', '20'): 3.56, ('19', '21'): 0.39, ('19', '22'): 0.83, ('19', '23'): 1.46, ('19', '24'): 1.9, ('19', '25'): 2.89, ('19', '26'): 7.56, ('19', '27'): 6.6, ('19', '28'): 6.53, ('19', '29'): 2.45, ('19', '30'): 2.82, ('19', '31'): 1.09, ('19', '32'): 6.09, ('19', '33'): 10.08, ('19', '34'): 0.67, ('19', '35'): 0.75, ('19', '36'): 1.25, ('19', '37'): 0.47, ('19', '38'): 5.29, ('20', '1'): 3.13, ('20', '2'): 4.12, ('20', '3'): 2.04, ('20', '4'): 3.65, ('20', '5'): 4.72, ('20', '6'): 5.08, ('20', '7'): 17.31, ('20', '8'): 13.11, ('20', '9'): 2.0, ('20', '10'): 1.86, ('20', '11'): 3.38, ('20', '12'): 5.26, ('20', '13'): 19.5, ('20', '14'): 4.69, ('20', '15'): 1.58, ('20', '16'): 0.98, ('20', '17'): 2.27, ('20', '18'): 18.58, ('20', '19'): 2.89, ('20', '21'): 0.83, ('20', '22'): 1.26, ('20', '23'): 2.05, ('20', '24'): 3.88, ('20', '25'): 4.84, ('20', '26'): 10.79, ('20', '27'): 9.05, ('20', '28'): 11.27, ('20', '29'): 5.31, ('20', '30'): 3.43, ('20', '31'): 1.56, ('20', '32'): 7.89, ('20', '33'): 14.2, ('20', '34'): 1.35, ('20', '35'): 1.12, ('20', '36'): 2.57, ('20', '37'): 0.78, ('20', '38'): 7.99, ('21', '1'): 12.33, ('21', '2'): 10.35, ('21', '3'): 14.35, ('21', '4'): 12.93, ('21', '5'): 13.78, ('21', '6'): 0.76, ('21', '7'): 1.62, ('21', '8'): 2.0, ('21', '9'): 6.22, ('21', '10'): 3.48, ('21', '11'): 9.39, ('21', '12'): 0.61, ('21', '13'): 1.92, ('21', '14'): 14.05, ('21', '15'): 4.04, ('21', '16'): 2.15, ('21', '17'): 5.54, ('21', '18'): 2.02, ('21', '19'): 0.37, ('21', '20'): 0.79, ('21', '22'): 3.5, ('21', '23'): 4.44, ('21', '24'): 6.4, ('21', '25'): 0.44, ('21', '26'): 1.53, ('21', '27'): 1.07, ('21', '28'): 1.03, ('21', '29'): 2.15, ('21', '30'): 2.08, ('21', '31'): 5.55, ('21', '32'): 1.1, ('21', '33'): 1.63, ('21', '34'): 2.47, ('21', '35'): 0.9, ('21', '36'): 0.88, ('21', '37'): 3.3, ('21', '38'): 0.74, ('22', '1'): 22.18, ('22', '2'): 23.46, ('22', '3'): 19.71, ('22', '4'): 21.77, ('22', '5'): 25.11, ('22', '6'): 2.07, ('22', '7'): 3.31, ('22', '8'): 1.59, ('22', '9'): 7.87, ('22', '10'): 6.8, ('22', '11'): 17.72, ('22', '12'): 1.04, ('22', '13'): 3.5, ('22', '14'): 29.31, ('22', '15'): 6.21, ('22', '16'): 4.38, ('22', '17'): 10.06, ('22', '18'): 3.55, ('22', '19'): 0.9, ('22', '20'): 1.7, ('22', '21'): 4.15, ('22', '23'): 10.43, ('22', '24'): 16.43, ('22', '25'): 0.98, ('22', '26'): 3.5, ('22', '27'): 3.0, ('22', '28'): 2.63, ('22', '29'): 5.32, ('22', '30'): 4.65, ('22', '31'): 7.89, ('22', '32'): 2.21, ('22', '33'): 3.81, ('22', '34'): 4.65, ('22', '35'): 0.71, ('22', '36'): 2.78, ('22', '37'): 5.36, ('22', '38'): 1.56, ('23', '1'): 40.44, ('23', '2'): 36.18, ('23', '3'): 35.13, ('23', '4'): 42.98, ('23', '5'): 47.73, ('23', '6'): 2.41, ('23', '7'): 5.03, ('23', '8'): 5.73, ('23', '9'): 16.49, ('23', '10'): 12.66, ('23', '11'): 25.15, ('23', '12'): 1.8, ('23', '13'): 5.23, ('23', '14'): 34.99, ('23', '15'): 9.61, ('23', '16'): 6.32, ('23', '17'): 18.94, ('23', '18'): 6.14, ('23', '19'): 1.16, ('23', '20'): 2.45, ('23', '21'): 4.53, ('23', '22'): 8.88, ('23', '24'): 19.74, ('23', '25'): 1.32, ('23', '26'): 4.43, ('23', '27'): 3.04, ('23', '28'): 2.73, ('23', '29'): 8.22, ('23', '30'): 5.04, ('23', '31'): 13.23, ('23', '32'): 3.41, ('23', '33'): 5.07, ('23', '34'): 8.16, ('23', '35'): 2.36, ('23', '36'): 3.28, ('23', '37'): 9.15, ('23', '38'): 2.35, ('24', '1'): 48.31, ('24', '2'): 50.95, ('24', '3'): 55.27, ('24', '4'): 52.03, ('24', '5'): 59.11, ('24', '6'): 3.63, ('24', '7'): 8.15, ('24', '8'): 8.09, ('24', '9'): 30.19, ('24', '10'): 18.04, ('24', '11'): 48.73, ('24', '12'): 2.65, ('24', '13'): 6.85, ('24', '14'): 63.42, ('24', '15'): 14.29, ('24', '16'): 7.7, ('24', '17'): 24.57, ('24', '18'): 9.32, ('24', '19'): 1.93, ('24', '20'): 3.97, ('24', '21'): 6.7, ('24', '22'): 14.38, ('24', '23'): 20.31, ('24', '25'): 2.06, ('24', '26'): 5.81, ('24', '27'): 4.0, ('24', '28'): 3.64, ('24', '29'): 9.59, ('24', '30'): 9.9, ('24', '31'): 21.39, ('24', '32'): 4.7, ('24', '33'): 8.43, ('24', '34'): 11.11, ('24', '35'): 3.3, ('24', '36'): 4.45, ('24', '37'): 15.01, ('24', '38'): 3.9, ('25', '1'): 3.09, ('25', '2'): 3.42, ('25', '3'): 3.55, ('25', '4'): 3.14, ('25', '5'): 3.46, ('25', '6'): 5.55, ('25', '7'): 11.19, ('25', '8'): 13.97, ('25', '9'): 1.81, ('25', '10'): 1.29, ('25', '11'): 3.71, ('25', '12'): 3.21, ('25', '13'): 10.33, ('25', '14'): 5.29, ('25', '15'): 1.5, ('25', '16'): 0.68, ('25', '17'): 1.41, ('25', '18'): 13.28, ('25', '19'): 2.84, ('25', '20'): 5.99, ('25', '21'): 0.46, ('25', '22'): 0.89, ('25', '23'): 1.65, ('25', '24'): 1.98, ('25', '26'): 10.03, ('25', '27'): 6.83, ('25', '28'): 6.89, ('25', '29'): 2.64, ('25', '30'): 3.74, ('25', '31'): 1.52, ('25', '32'): 7.82, ('25', '33'): 11.33, ('25', '34'): 0.67, ('25', '35'): 1.09, ('25', '36'): 1.53, ('25', '37'): 1.09, ('25', '38'): 5.49, ('26', '1'): 6.43, ('26', '2'): 7.66, ('26', '3'): 4.56, ('26', '4'): 7.03, ('26', '5'): 8.36, ('26', '6'): 8.03, ('26', '7'): 27.51, ('26', '8'): 33.36, ('26', '9'): 3.88, ('26', '10'): 3.73, ('26', '11'): 6.57, ('26', '12'): 9.13, ('26', '13'): 24.43, ('26', '14'): 8.23, ('26', '15'): 2.74, ('26', '16'): 1.35, ('26', '17'): 3.78, ('26', '18'): 30.61, ('26', '19'): 5.94, ('26', '20'): 10.54, ('26', '21'): 1.54, ('26', '22'): 2.54, ('26', '23'): 3.54, ('26', '24'): 5.49, ('26', '25'): 7.96, ('26', '27'): 10.77, ('26', '28'): 13.24, ('26', '29'): 7.71, ('26', '30'): 5.74, ('26', '31'): 2.6, ('26', '32'): 12.9, ('26', '33'): 25.09, ('26', '34'): 2.6, ('26', '35'): 1.57, ('26', '36'): 4.58, ('26', '37'): 1.59, ('26', '38'): 14.55, ('27', '1'): 5.44, ('27', '2'): 6.43, ('27', '3'): 6.24, ('27', '4'): 6.09, ('27', '5'): 6.95, ('27', '6'): 7.65, ('27', '7'): 26.74, ('27', '8'): 33.26, ('27', '9'): 4.52, ('27', '10'): 3.14, ('27', '11'): 7.84, ('27', '12'): 8.75, ('27', '13'): 21.35, ('27', '14'): 10.51, ('27', '15'): 2.5, ('27', '16'): 0.96, ('27', '17'): 3.06, ('27', '18'): 30.32, ('27', '19'): 6.48, ('27', '20'): 11.2, ('27', '21'): 1.11, ('27', '22'): 2.72, ('27', '23'): 3.77, ('27', '24'): 3.82, ('27', '25'): 6.77, ('27', '26'): 13.67, ('27', '28'): 11.06, ('27', '29'): 5.69, ('27', '30'): 7.27, ('27', '31'): 3.1, ('27', '32'): 11.52, ('27', '33'): 22.66, ('27', '34'): 1.85, ('27', '35'): 1.8, ('27', '36'): 3.02, ('27', '37'): 1.91, ('27', '38'): 13.65, ('28', '1'): 6.23, ('28', '2'): 7.09, ('28', '3'): 4.87, ('28', '4'): 6.83, ('28', '5'): 7.65, ('28', '6'): 7.41, ('28', '7'): 21.96, ('28', '8'): 27.52, ('28', '9'): 3.47, ('28', '10'): 2.96, ('28', '11'): 6.07, ('28', '12'): 7.06, ('28', '13'): 18.49, ('28', '14'): 6.6, ('28', '15'): 1.67, ('28', '16'): 0.92, ('28', '17'): 3.26, ('28', '18'): 25.91, ('28', '19'): 5.15, ('28', '20'): 11.04, ('28', '21'): 1.06, ('28', '22'): 1.91, ('28', '23'): 2.19, ('28', '24'): 3.47, ('28', '25'): 5.48, ('28', '26'): 13.28, ('28', '27'): 8.76, ('28', '29'): 6.92, ('28', '30'): 4.56, ('28', '31'): 2.05, ('28', '32'): 10.43, ('28', '33'): 20.4, ('28', '34'): 1.72, ('28', '35'): 1.59, ('28', '36'): 3.3, ('28', '37'): 1.51, ('28', '38'): 10.82, ('29', '1'): 9.21, ('29', '2'): 10.84, ('29', '3'): 9.72, ('29', '4'): 9.11, ('29', '5'): 11.15, ('29', '6'): 4.76, ('29', '7'): 9.64, ('29', '8'): 8.38, ('29', '9'): 8.76, ('29', '10'): 5.81, ('29', '11'): 14.33, ('29', '12'): 2.88, ('29', '13'): 8.53, ('29', '14'): 17.68, ('29', '15'): 5.27, ('29', '16'): 2.47, ('29', '17'): 4.69, ('29', '18'): 10.21, ('29', '19'): 2.45, ('29', '20'): 5.34, ('29', '21'): 2.32, ('29', '22'): 4.08, ('29', '23'): 8.47, ('29', '24'): 9.14, ('29', '25'): 2.67, ('29', '26'): 7.89, ('29', '27'): 5.79, ('29', '28'): 7.06, ('29', '30'): 40.07, ('29', '31'): 5.23, ('29', '32'): 6.51, ('29', '33'): 9.01, ('29', '34'): 3.37, ('29', '35'): 12.52, ('29', '36'): 31.05, ('29', '37'): 3.37, ('29', '38'): 5.09, ('30', '1'): 7.51, ('30', '2'): 9.62, ('30', '3'): 4.49, ('30', '4'): 7.02, ('30', '5'): 9.94, ('30', '6'): 4.05, ('30', '7'): 7.83, ('30', '8'): 6.94, ('30', '9'): 6.0, ('30', '10'): 5.15, ('30', '11'): 9.12, ('30', '12'): 3.32, ('30', '13'): 9.58, ('30', '14'): 10.82, ('30', '15'): 3.45, ('30', '16'): 2.35, ('30', '17'): 4.41, ('30', '18'): 7.88, ('30', '19'): 2.2, ('30', '20'): 4.59, ('30', '21'): 2.28, ('30', '22'): 3.54, ('30', '23'): 5.41, ('30', '24'): 9.9, ('30', '25'): 2.92, ('30', '26'): 7.94, ('30', '27'): 5.67, ('30', '28'): 6.27, ('30', '29'): 40.56, ('30', '31'): 3.31, ('30', '32'): 5.32, ('30', '33'): 7.31, ('30', '34'): 3.82, ('30', '35'): 11.31, ('30', '36'): 17.2, ('30', '37'): 1.98, ('30', '38'): 4.47, ('31', '1'): 28.6, ('31', '2'): 28.24, ('31', '3'): 26.4, ('31', '4'): 34.61, ('31', '5'): 27.42, ('31', '6'): 1.92, ('31', '7'): 4.56, ('31', '8'): 4.43, ('31', '9'): 12.76, ('31', '10'): 11.84, ('31', '11'): 24.19, ('31', '12'): 1.25, ('31', '13'): 4.76, ('31', '14'): 24.8, ('31', '15'): 6.27, ('31', '16'): 4.17, ('31', '17'): 9.54, ('31', '18'): 3.55, ('31', '19'): 0.88, ('31', '20'): 1.89, ('31', '21'): 5.72, ('31', '22'): 6.76, ('31', '23'): 13.44, ('31', '24'): 20.91, ('31', '25'): 1.26, ('31', '26'): 3.29, ('31', '27'): 2.55, ('31', '28'): 2.57, ('31', '29'): 5.18, ('31', '30'): 3.16, ('31', '32'): 2.21, ('31', '33'): 3.62, ('31', '34'): 8.2, ('31', '35'): 1.54, ('31', '36'): 2.07, ('31', '37'): 6.59, ('31', '38'): 2.03, ('32', '1'): 5.09, ('32', '2'): 6.08, ('32', '3'): 3.91, ('32', '4'): 5.9, ('32', '5'): 6.94, ('32', '6'): 5.78, ('32', '7'): 18.29, ('32', '8'): 20.46, ('32', '9'): 2.69, ('32', '10'): 2.59, ('32', '11'): 4.84, ('32', '12'): 6.55, ('32', '13'): 23.46, ('32', '14'): 6.61, ('32', '15'): 1.7, ('32', '16'): 0.85, ('32', '17'): 3.22, ('32', '18'): 19.56, ('32', '19'): 4.93, ('32', '20'): 7.94, ('32', '21'): 1.14, ('32', '22'): 1.65, ('32', '23'): 2.87, ('32', '24'): 4.59, ('32', '25'): 6.33, ('32', '26'): 13.22, ('32', '27'): 9.35, ('32', '28'): 10.67, ('32', '29'): 6.5, ('32', '30'): 3.97, ('32', '31'): 1.86, ('32', '33'): 13.67, ('32', '34'): 1.81, ('32', '35'): 1.5, ('32', '36'): 2.9, ('32', '37'): 1.21, ('32', '38'): 11.94, ('33', '1'): 7.71, ('33', '2'): 9.43, ('33', '3'): 9.16, ('33', '4'): 9.58, ('33', '5'): 11.01, ('33', '6'): 13.34, ('33', '7'): 29.28, ('33', '8'): 46.77, ('33', '9'): 5.68, ('33', '10'): 4.18, ('33', '11'): 10.46, ('33', '12'): 11.26, ('33', '13'): 46.41, ('33', '14'): 15.22, ('33', '15'): 4.4, ('33', '16'): 1.59, ('33', '17'): 4.32, ('33', '18'): 32.11, ('33', '19'): 9.78, ('33', '20'): 17.29, ('33', '21'): 1.67, ('33', '22'): 3.41, ('33', '23'): 6.2, ('33', '24'): 7.89, ('33', '25'): 11.29, ('33', '26'): 31.56, ('33', '27'): 22.58, ('33', '28'): 25.51, ('33', '29'): 8.75, ('33', '30'): 9.28, ('33', '31'): 4.33, ('33', '32'): 16.71, ('33', '34'): 2.72, ('33', '35'): 3.51, ('33', '36'): 3.9, ('33', '37'): 2.66, ('33', '38'): 22.06, ('34', '1'): 19.02, ('34', '2'): 20.66, ('34', '3'): 21.37, ('34', '4'): 19.42, ('34', '5'): 21.46, ('34', '6'): 1.45, ('34', '7'): 2.73, ('34', '8'): 2.73, ('34', '9'): 8.75, ('34', '10'): 5.42, ('34', '11'): 15.85, ('34', '12'): 0.87, ('34', '13'): 2.84, ('34', '14'): 28.63, ('34', '15'): 7.23, ('34', '16'): 3.85, ('34', '17'): 8.46, ('34', '18'): 3.21, ('34', '19'): 0.68, ('34', '20'): 1.39, ('34', '21'): 2.6, ('34', '22'): 4.09, ('34', '23'): 8.41, ('34', '24'): 11.13, ('34', '25'): 0.7, ('34', '26'): 2.75, ('34', '27'): 1.96, ('34', '28'): 1.82, ('34', '29'): 3.54, ('34', '30'): 3.87, ('34', '31'): 8.41, ('34', '32'): 1.86, ('34', '33'): 2.92, ('34', '35'): 1.29, ('34', '36'): 1.73, ('34', '37'): 5.89, ('34', '38'): 1.28, ('35', '1'): 5.08, ('35', '2'): 6.01, ('35', '3'): 4.01, ('35', '4'): 5.13, ('35', '5'): 6.96, ('35', '6'): 2.03, ('35', '7'): 3.72, ('35', '8'): 0.32, ('35', '9'): 3.32, ('35', '10'): 2.18, ('35', '11'): 4.99, ('35', '12'): 1.32, ('35', '13'): 3.13, ('35', '14'): 8.5, ('35', '15'): 1.6, ('35', '16'): 1.39, ('35', '17'): 3.14, ('35', '18'): 3.24, ('35', '19'): 0.99, ('35', '20'): 1.52, ('35', '21'): 1.45, ('35', '22'): 1.14, ('35', '23'): 3.89, ('35', '24'): 5.33, ('35', '25'): 1.44, ('35', '26'): 2.15, ('35', '27'): 2.39, ('35', '28'): 2.16, ('35', '29'): 16.95, ('35', '30'): 15.46, ('35', '31'): 2.53, ('35', '32'): 2.04, ('35', '33'): 4.65, ('35', '34'): 2.07, ('35', '36'): 9.02, ('35', '37'): 1.21, ('35', '38'): 1.95, ('36', '1'): 2.87, ('36', '2'): 4.0, ('36', '3'): 2.48, ('36', '4'): 2.69, ('36', '5'): 4.02, ('36', '6'): 2.26, ('36', '7'): 4.45, ('36', '8'): 4.04, ('36', '9'): 3.7, ('36', '10'): 2.28, ('36', '11'): 5.53, ('36', '12'): 2.01, ('36', '13'): 5.55, ('36', '14'): 6.76, ('36', '15'): 2.15, ('36', '16'): 1.06, ('36', '17'): 1.87, ('36', '18'): 4.31, ('36', '19'): 1.25, ('36', '20'): 2.61, ('36', '21'): 0.96, ('36', '22'): 2.15, ('36', '23'): 3.44, ('36', '24'): 4.33, ('36', '25'): 1.58, ('36', '26'): 4.73, ('36', '27'): 3.11, ('36', '28'): 3.4, ('36', '29'): 31.34, ('36', '30'): 17.17, ('36', '31'): 2.12, ('36', '32'): 2.92, ('36', '33'): 4.05, ('36', '34'): 1.67, ('36', '35'): 6.66, ('36', '37'): 1.16, ('36', '38'): 2.59, ('37', '1'): 15.22, ('37', '2'): 15.92, ('37', '3'): 22.31, ('37', '4'): 24.09, ('37', '5'): 24.21, ('37', '6'): 1.16, ('37', '7'): 2.24, ('37', '8'): 1.61, ('37', '9'): 10.25, ('37', '10'): 7.47, ('37', '11'): 13.02, ('37', '12'): 1.0, ('37', '13'): 3.23, ('37', '14'): 21.5, ('37', '15'): 5.89, ('37', '16'): 3.55, ('37', '17'): 9.43, ('37', '18'): 2.89, ('37', '19'): 0.43, ('37', '20'): 0.98, ('37', '21'): 3.55, ('37', '22'): 4.8, ('37', '23'): 9.77, ('37', '24'): 15.44, ('37', '25'): 1.01, ('37', '26'): 2.07, ('37', '27'): 1.78, ('37', '28'): 1.96, ('37', '29'): 3.7, ('37', '30'): 2.14, ('37', '31'): 6.96, ('37', '32'): 1.52, ('37', '33'): 2.5, ('37', '34'): 6.04, ('37', '35'): 0.73, ('37', '36'): 1.26, ('37', '38'): 0.82, ('38', '1'): 2.51, ('38', '2'): 3.84, ('38', '3'): 1.66, ('38', '4'): 3.4, ('38', '5'): 4.7, ('38', '6'): 7.92, ('38', '7'): 17.72, ('38', '8'): 17.3, ('38', '9'): 1.64, ('38', '10'): 1.66, ('38', '11'): 2.86, ('38', '12'): 4.47, ('38', '13'): 18.84, ('38', '14'): 4.48, ('38', '15'): 1.66, ('38', '16'): 1.04, ('38', '17'): 2.43, ('38', '18'): 20.71, ('38', '19'): 4.17, ('38', '20'): 7.81, ('38', '21'): 0.75, ('38', '22'): 1.13, ('38', '23'): 1.9, ('38', '24'): 3.71, ('38', '25'): 4.37, ('38', '26'): 14.57, ('38', '27'): 10.81, ('38', '28'): 10.82, ('38', '29'): 4.99, ('38', '30'): 3.24, ('38', '31'): 1.64, ('38', '32'): 11.67, ('38', '33'): 17.63, ('38', '34'): 1.21, ('38', '35'): 1.42, ('38', '36'): 2.53, ('38', '37'): 0.63}\n"
     ]
    }
   ],
   "source": [
    "#observe network with all links\n",
    "remove_link = None #0 is equivalent to no links closed\n",
    "trial_run.make_network(city, remove_link)\n",
    "trial_run.network_attributes(city, remove_link)"
   ]
  },
  {
   "cell_type": "code",
   "execution_count": 12,
   "id": "80ee4ad7",
   "metadata": {},
   "outputs": [
    {
     "name": "stdout",
     "output_type": "stream",
     "text": [
      "<TransportationNetworks.Network object at 0x7fb893cfea60>\n",
      "Berlin-Prenzlauerberg-Center graph is: DiGraph with 352 nodes and 748 edges\n",
      "Berlin-Prenzlauerberg-Center origin nodes are: ['1', '2', '3', '4', '5', '6', '7', '8', '9', '10', '11', '12', '13', '14', '15', '16', '17', '18', '19', '20', '21', '22', '23', '24', '25', '26', '27', '28', '29', '30', '31', '32', '33', '34', '35', '36', '37', '38']\n",
      "Berlin-Prenzlauerberg-Center flows are: {('1', '2'): 55.61, ('1', '3'): 75.59, ('1', '4'): 67.54, ('1', '5'): 74.33, ('1', '6'): 3.48, ('1', '7'): 7.58, ('1', '8'): 6.57, ('1', '9'): 40.16, ('1', '10'): 29.24, ('1', '11'): 69.6, ('1', '12'): 3.09, ('1', '13'): 10.79, ('1', '14'): 94.31, ('1', '15'): 24.88, ('1', '16'): 11.42, ('1', '17'): 30.33, ('1', '18'): 10.26, ('1', '19'): 1.26, ('1', '20'): 3.13, ('1', '21'): 12.74, ('1', '22'): 19.18, ('1', '23'): 40.82, ('1', '24'): 47.69, ('1', '25'): 3.13, ('1', '26'): 6.65, ('1', '27'): 5.53, ('1', '28'): 6.39, ('1', '29'): 9.25, ('1', '30'): 7.29, ('1', '31'): 28.69, ('1', '32'): 5.08, ('1', '33'): 7.98, ('1', '34'): 18.73, ('1', '35'): 3.15, ('1', '36'): 2.82, ('1', '37'): 14.52, ('1', '38'): 2.57, ('2', '1'): 56.31, ('2', '3'): 97.8, ('2', '4'): 67.66, ('2', '5'): 59.73, ('2', '6'): 4.49, ('2', '7'): 9.76, ('2', '8'): 8.57, ('2', '9'): 41.93, ('2', '10'): 27.11, ('2', '11'): 62.1, ('2', '12'): 3.52, ('2', '13'): 12.45, ('2', '14'): 66.1, ('2', '15'): 22.89, ('2', '16'): 13.44, ('2', '17'): 34.68, ('2', '18'): 12.08, ('2', '19'): 1.86, ('2', '20'): 4.2, ('2', '21'): 10.83, ('2', '22'): 20.48, ('2', '23'): 36.96, ('2', '24'): 50.93, ('2', '25'): 3.56, ('2', '26'): 8.04, ('2', '27'): 6.66, ('2', '28'): 7.4, ('2', '29'): 11.19, ('2', '30'): 9.56, ('2', '31'): 28.67, ('2', '32'): 6.17, ('2', '33'): 9.98, ('2', '34'): 20.6, ('2', '35'): 3.72, ('2', '36'): 4.02, ('2', '37'): 15.37, ('2', '38'): 4.01, ('3', '1'): 75.14, ('3', '2'): 96.08, ('3', '4'): 90.27, ('3', '5'): 104.68, ('3', '6'): 3.11, ('3', '7'): 7.03, ('3', '8'): 5.24, ('3', '9'): 34.55, ('3', '10'): 33.09, ('3', '11'): 71.29, ('3', '12'): 2.73, ('3', '13'): 10.01, ('3', '14'): 95.78, ('3', '15'): 22.9, ('3', '16'): 12.62, ('3', '17'): 37.9, ('3', '18'): 10.54, ('3', '19'): 0.95, ('3', '20'): 2.47, ('3', '21'): 14.71, ('3', '22'): 16.87, ('3', '23'): 35.59, ('3', '24'): 53.9, ('3', '25'): 2.91, ('3', '26'): 5.72, ('3', '27'): 5.15, ('3', '28'): 6.07, ('3', '29'): 9.57, ('3', '30'): 4.3, ('3', '31'): 26.34, ('3', '32'): 4.68, ('3', '33'): 7.65, ('3', '34'): 20.8, ('3', '35'): 2.43, ('3', '36'): 2.4, ('3', '37'): 21.1, ('3', '38'): 2.05, ('4', '1'): 67.95, ('4', '2'): 67.21, ('4', '3'): 91.31, ('4', '5'): 72.25, ('4', '6'): 4.13, ('4', '7'): 10.0, ('4', '8'): 8.01, ('4', '9'): 39.49, ('4', '10'): 29.57, ('4', '11'): 79.1, ('4', '12'): 3.0, ('4', '13'): 11.43, ('4', '14'): 107.65, ('4', '15'): 28.19, ('4', '16'): 13.25, ('4', '17'): 38.28, ('4', '18'): 12.87, ('4', '19'): 1.5, ('4', '20'): 3.7, ('4', '21'): 13.44, ('4', '22'): 18.91, ('4', '23'): 43.64, ('4', '24'): 51.67, ('4', '25'): 3.24, ('4', '26'): 7.3, ('4', '27'): 6.28, ('4', '28'): 7.05, ('4', '29'): 9.27, ('4', '30'): 6.9, ('4', '31'): 34.91, ('4', '32'): 5.95, ('4', '33'): 10.01, ('4', '34'): 19.24, ('4', '35'): 3.19, ('4', '36'): 2.67, ('4', '37'): 23.11, ('4', '38'): 3.5, ('5', '1'): 73.2, ('5', '2'): 58.11, ('5', '3'): 103.84, ('5', '4'): 70.75, ('5', '6'): 4.7, ('5', '7'): 11.43, ('5', '8'): 11.18, ('5', '9'): 41.94, ('5', '10'): 31.38, ('5', '11'): 82.09, ('5', '12'): 3.33, ('5', '13'): 12.89, ('5', '14'): 83.72, ('5', '15'): 24.94, ('5', '16'): 14.95, ('5', '17'): 29.44, ('5', '18'): 14.34, ('5', '19'): 2.02, ('5', '20'): 4.65, ('5', '21'): 14.02, ('5', '22'): 21.49, ('5', '23'): 47.5, ('5', '24'): 57.48, ('5', '25'): 3.44, ('5', '26'): 8.44, ('5', '27'): 6.92, ('5', '28'): 7.68, ('5', '29'): 10.85, ('5', '30'): 9.33, ('5', '31'): 27.14, ('5', '32'): 6.82, ('5', '33'): 11.11, ('5', '34'): 20.83, ('5', '35'): 4.31, ('5', '36'): 3.81, ('5', '37'): 22.8, ('5', '38'): 4.71, ('6', '1'): 3.24, ('6', '2'): 4.08, ('6', '3'): 3.67, ('6', '4'): 3.79, ('6', '5'): 4.46, ('6', '7'): 17.3, ('6', '8'): 20.51, ('6', '9'): 2.84, ('6', '10'): 2.01, ('6', '11'): 4.96, ('6', '12'): 5.71, ('6', '13'): 20.59, ('6', '14'): 6.66, ('6', '15'): 2.05, ('6', '16'): 0.7, ('6', '17'): 2.04, ('6', '18'): 20.37, ('6', '19'): 3.68, ('6', '20'): 6.13, ('6', '21'): 0.74, ('6', '22'): 1.82, ('6', '23'): 2.9, ('6', '24'): 3.27, ('6', '25'): 5.41, ('6', '26'): 10.05, ('6', '27'): 7.46, ('6', '28'): 9.22, ('6', '29'): 4.53, ('6', '30'): 5.1, ('6', '31'): 2.25, ('6', '32'): 7.01, ('6', '33'): 13.06, ('6', '34'): 1.29, ('6', '35'): 1.53, ('6', '36'): 2.12, ('6', '37'): 1.2, ('6', '38'): 9.84, ('7', '1'): 7.21, ('7', '2'): 9.19, ('7', '3'): 5.43, ('7', '4'): 9.45, ('7', '5'): 11.1, ('7', '6'): 13.36, ('7', '8'): 43.27, ('7', '9'): 3.5, ('7', '10'): 3.77, ('7', '11'): 6.75, ('7', '12'): 8.74, ('7', '13'): 37.07, ('7', '14'): 9.67, ('7', '15'): 3.58, ('7', '16'): 2.06, ('7', '17'): 5.41, ('7', '18'): 32.3, ('7', '19'): 8.35, ('7', '20'): 16.89, ('7', '21'): 1.6, ('7', '22'): 2.37, ('7', '23'): 3.9, ('7', '24'): 7.61, ('7', '25'): 8.54, ('7', '26'): 27.32, ('7', '27'): 20.42, ('7', '28'): 21.74, ('7', '29'): 9.36, ('7', '30'): 5.56, ('7', '31'): 3.52, ('7', '32'): 17.72, ('7', '33'): 22.54, ('7', '34'): 2.53, ('7', '35'): 2.73, ('7', '36'): 4.29, ('7', '37'): 1.68, ('7', '38'): 17.57, ('8', '1'): 9.11, ('8', '2'): 11.86, ('8', '3'): 7.8, ('8', '4'): 11.09, ('8', '5'): 15.52, ('8', '6'): 24.64, ('8', '7'): 56.47, ('8', '9'): 6.26, ('8', '10'): 3.89, ('8', '11'): 10.09, ('8', '12'): 17.45, ('8', '13'): 47.98, ('8', '14'): 20.18, ('8', '15'): 3.94, ('8', '16'): 3.09, ('8', '17'): 7.7, ('8', '18'): 54.72, ('8', '19'): 10.72, ('8', '20'): 17.08, ('8', '21'): 2.77, ('8', '22'): 2.27, ('8', '23'): 8.53, ('8', '24'): 11.18, ('8', '25'): 16.74, ('8', '26'): 43.5, ('8', '27'): 39.88, ('8', '28'): 35.87, ('8', '29'): 11.0, ('8', '30'): 10.3, ('8', '31'): 6.59, ('8', '32'): 26.63, ('8', '33'): 56.12, ('8', '34'): 3.77, ('8', '35'): 0.29, ('8', '36'): 5.3, ('8', '37'): 2.37, ('8', '38'): 22.54, ('9', '1'): 41.79, ('9', '2'): 43.13, ('9', '3'): 36.29, ('9', '4'): 40.87, ('9', '5'): 44.24, ('9', '6'): 2.69, ('9', '7'): 4.68, ('9', '8'): 4.22, ('9', '10'): 12.44, ('9', '11'): 29.08, ('9', '12'): 1.88, ('9', '13'): 6.99, ('9', '14'): 48.86, ('9', '15'): 12.06, ('9', '16'): 7.69, ('9', '17'): 17.01, ('9', '18'): 5.61, ('9', '19'): 1.2, ('9', '20'): 2.5, ('9', '21'): 6.65, ('9', '22'): 7.01, ('9', '23'): 17.52, ('9', '24'): 30.85, ('9', '25'): 1.65, ('9', '26'): 5.06, ('9', '27'): 4.13, ('9', '28'): 4.49, ('9', '29'): 9.51, ('9', '30'): 6.4, ('9', '31'): 13.37, ('9', '32'): 3.36, ('9', '33'): 5.26, ('9', '34'): 8.92, ('9', '35'): 2.03, ('9', '36'): 3.94, ('9', '37'): 10.17, ('9', '38'): 2.12, ('10', '1'): 31.96, ('10', '2'): 29.3, ('10', '3'): 36.19, ('10', '4'): 32.14, ('10', '5'): 34.76, ('10', '6'): 2.44, ('10', '7'): 4.38, ('10', '8'): 2.86, ('10', '9'): 13.02, ('10', '11'): 20.38, ('10', '12'): 1.76, ('10', '13'): 5.57, ('10', '14'): 42.33, ('10', '15'): 10.69, ('10', '16'): 5.71, ('10', '17'): 13.5, ('10', '18'): 5.06, ('10', '19'): 1.03, ('10', '20'): 2.09, ('10', '21'): 3.91, ('10', '22'): 6.33, ('10', '23'): 13.9, ('10', '24'): 19.46, ('10', '25'): 1.49, ('10', '26'): 4.27, ('10', '27'): 3.64, ('10', '28'): 3.38, ('10', '29'): 7.03, ('10', '30'): 5.88, ('10', '31'): 12.92, ('10', '32'): 2.89, ('10', '33'): 4.88, ('10', '34'): 5.84, ('10', '35'): 1.36, ('10', '36'): 2.7, ('10', '37'): 7.77, ('10', '38'): 1.9, ('11', '1'): 73.61, ('11', '2'): 64.93, ('11', '3'): 76.13, ('11', '4'): 83.21, ('11', '5'): 87.99, ('11', '6'): 4.84, ('11', '7'): 9.1, ('11', '8'): 6.85, ('11', '9'): 29.59, ('11', '10'): 19.78, ('11', '12'): 4.32, ('11', '13'): 13.41, ('11', '14'): 78.44, ('11', '15'): 22.19, ('11', '16'): 13.73, ('11', '17'): 33.69, ('11', '18'): 11.0, ('11', '19'): 2.05, ('11', '20'): 4.31, ('11', '21'): 10.22, ('11', '22'): 16.01, ('11', '23'): 27.17, ('11', '24'): 50.61, ('11', '25'): 3.51, ('11', '26'): 8.65, ('11', '27'): 7.4, ('11', '28'): 7.92, ('11', '29'): 15.99, ('11', '30'): 10.08, ('11', '31'): 25.77, ('11', '32'): 6.12, ('11', '33'): 9.99, ('11', '34'): 16.43, ('11', '35'): 3.05, ('11', '36'): 6.05, ('11', '37'): 13.15, ('11', '38'): 3.73, ('12', '1'): 2.89, ('12', '2'): 3.24, ('12', '3'): 2.06, ('12', '4'): 2.79, ('12', '5'): 3.18, ('12', '6'): 4.33, ('12', '7'): 8.67, ('12', '8'): 13.37, ('12', '9'): 1.37, ('12', '10'): 1.49, ('12', '11'): 3.15, ('12', '13'): 10.48, ('12', '14'): 3.2, ('12', '15'): 1.14, ('12', '16'): 0.64, ('12', '17'): 1.3, ('12', '18'): 10.55, ('12', '19'): 2.4, ('12', '20'): 5.06, ('12', '21'): 0.59, ('12', '22'): 0.73, ('12', '23'): 1.34, ('12', '24'): 2.43, ('12', '25'): 2.44, ('12', '26'): 8.93, ('12', '27'): 6.63, ('12', '28'): 6.89, ('12', '29'): 2.78, ('12', '30'): 2.31, ('12', '31'): 0.94, ('12', '32'): 6.3, ('12', '33'): 8.51, ('12', '34'): 0.79, ('12', '35'): 0.97, ('12', '36'): 1.91, ('12', '37'): 0.72, ('12', '38'): 4.37, ('13', '1'): 11.97, ('13', '2'): 13.57, ('13', '3'): 13.04, ('13', '4'): 12.54, ('13', '5'): 14.56, ('13', '6'): 22.48, ('13', '7'): 48.44, ('13', '8'): 40.29, ('13', '9'): 8.39, ('13', '10'): 5.43, ('13', '11'): 15.59, ('13', '12'): 13.77, ('13', '14'): 21.16, ('13', '15'): 4.88, ('13', '16'): 2.36, ('13', '17'): 6.16, ('13', '18'): 51.33, ('13', '19'): 12.09, ('13', '20'): 24.54, ('13', '21'): 2.23, ('13', '22'): 3.46, ('13', '23'): 6.93, ('13', '24'): 7.43, ('13', '25'): 10.98, ('13', '26'): 31.31, ('13', '27'): 22.83, ('13', '28'): 23.6, ('13', '29'): 9.14, ('13', '30'): 12.79, ('13', '31'): 6.2, ('13', '32'): 29.46, ('13', '33'): 49.81, ('13', '34'): 3.06, ('13', '35'): 2.37, ('13', '36'): 5.89, ('13', '37'): 3.83, ('13', '38'): 24.05, ('14', '1'): 92.6, ('14', '2'): 64.14, ('14', '3'): 94.52, ('14', '4'): 105.14, ('14', '5'): 83.38, ('14', '6'): 5.46, ('14', '7'): 12.49, ('14', '8'): 13.54, ('14', '9'): 45.93, ('14', '10'): 38.28, ('14', '11'): 72.54, ('14', '12'): 4.22, ('14', '13'): 15.91, ('14', '15'): 20.64, ('14', '16'): 16.06, ('14', '17'): 41.81, ('14', '18'): 15.74, ('14', '19'): 2.52, ('14', '20'): 5.59, ('14', '21'): 14.23, ('14', '22'): 24.86, ('14', '23'): 34.99, ('14', '24'): 61.1, ('14', '25'): 4.23, ('14', '26'): 10.23, ('14', '27'): 8.45, ('14', '28'): 8.13, ('14', '29'): 17.03, ('14', '30'): 9.98, ('14', '31'): 24.41, ('14', '32'): 7.85, ('14', '33'): 12.3, ('14', '34'): 27.53, ('14', '35'): 5.16, ('14', '36'): 6.42, ('14', '37'): 20.08, ('14', '38'): 5.5, ('15', '1'): 27.61, ('15', '2'): 25.13, ('15', '3'): 25.68, ('15', '4'): 31.12, ('15', '5'): 28.02, ('15', '6'): 2.17, ('15', '7'): 4.94, ('15', '8'): 2.71, ('15', '9'): 12.93, ('15', '10'): 10.93, ('15', '11'): 23.41, ('15', '12'): 1.59, ('15', '13'): 4.56, ('15', '14'): 23.41, ('15', '16'): 3.41, ('15', '17'): 11.87, ('15', '18'): 4.11, ('15', '19'): 1.03, ('15', '20'): 2.07, ('15', '21'): 4.59, ('15', '22'): 5.9, ('15', '23'): 10.89, ('15', '24'): 15.6, ('15', '25'): 1.55, ('15', '26'): 3.69, ('15', '27'): 2.58, ('15', '28'): 2.25, ('15', '29'): 6.42, ('15', '30'): 4.19, ('15', '31'): 7.02, ('15', '32'): 2.24, ('15', '33'): 4.59, ('15', '34'): 7.88, ('15', '35'): 0.99, ('15', '36'): 2.57, ('15', '37'): 6.28, ('15', '38'): 2.24, ('16', '1'): 11.64, ('16', '2'): 13.53, ('16', '3'): 12.87, ('16', '4'): 13.42, ('16', '5'): 15.46, ('16', '6'): 0.82, ('16', '7'): 2.31, ('16', '8'): 2.23, ('16', '9'): 7.49, ('16', '10'): 5.32, ('16', '11'): 13.15, ('16', '12'): 0.73, ('16', '13'): 2.27, ('16', '14'): 16.59, ('16', '15'): 3.11, ('16', '17'): 5.64, ('16', '18'): 1.94, ('16', '19'): 0.54, ('16', '20'): 1.03, ('16', '21'): 2.27, ('16', '22'): 3.83, ('16', '23'): 6.48, ('16', '24'): 7.74, ('16', '25'): 0.75, ('16', '26'): 1.49, ('16', '27'): 1.05, ('16', '28'): 1.01, ('16', '29'): 2.72, ('16', '30'): 2.48, ('16', '31'): 4.24, ('16', '32'): 0.91, ('16', '33'): 1.77, ('16', '34'): 3.87, ('16', '35'): 0.88, ('16', '36'): 1.16, ('16', '37'): 3.42, ('16', '38'): 1.14, ('17', '1'): 29.77, ('17', '2'): 33.63, ('17', '3'): 37.49, ('17', '4'): 37.36, ('17', '5'): 29.35, ('17', '6'): 2.14, ('17', '7'): 5.51, ('17', '8'): 5.55, ('17', '9'): 16.08, ('17', '10'): 12.16, ('17', '11'): 31.35, ('17', '12'): 1.34, ('17', '13'): 5.42, ('17', '14'): 41.86, ('17', '15'): 10.55, ('17', '16'): 5.43, ('17', '18'): 4.08, ('17', '19'): 1.0, ('17', '20'): 2.22, ('17', '21'): 5.62, ('17', '22'): 8.59, ('17', '23'): 18.8, ('17', '24'): 23.82, ('17', '25'): 1.4, ('17', '26'): 3.79, ('17', '27'): 3.03, ('17', '28'): 3.27, ('17', '29'): 4.52, ('17', '30'): 4.09, ('17', '31'): 9.41, ('17', '32'): 3.13, ('17', '33'): 4.35, ('17', '34'): 8.17, ('17', '35'): 1.95, ('17', '36'): 1.77, ('17', '37'): 8.85, ('17', '38'): 2.43, ('18', '1'): 10.54, ('18', '2'): 12.26, ('18', '3'): 9.18, ('18', '4'): 13.13, ('18', '5'): 15.03, ('18', '6'): 17.39, ('18', '7'): 33.92, ('18', '8'): 42.1, ('18', '9'): 4.64, ('18', '10'): 4.67, ('18', '11'): 9.0, ('18', '12'): 11.17, ('18', '13'): 41.86, ('18', '14'): 13.84, ('18', '15'): 3.23, ('18', '16'): 1.88, ('18', '17'): 4.34, ('18', '19'): 8.89, ('18', '20'): 19.02, ('18', '21'): 2.16, ('18', '22'): 2.69, ('18', '23'): 5.38, ('18', '24'): 9.38, ('18', '25'): 11.12, ('18', '26'): 31.9, ('18', '27'): 25.4, ('18', '28'): 26.94, ('18', '29'): 10.38, ('18', '30'): 6.07, ('18', '31'): 3.09, ('18', '32'): 19.92, ('18', '33'): 27.15, ('18', '34'): 3.22, ('18', '35'): 2.38, ('18', '36'): 4.34, ('18', '37'): 2.4, ('18', '38'): 21.54, ('19', '1'): 1.27, ('19', '2'): 1.86, ('19', '3'): 1.17, ('19', '4'): 1.5, ('19', '5'): 2.09, ('19', '6'): 3.87, ('19', '7'): 10.89, ('19', '8'): 8.96, ('19', '9'): 1.35, ('19', '10'): 0.92, ('19', '11'): 2.22, ('19', '12'): 3.2, ('19', '13'): 11.51, ('19', '14'): 3.22, ('19', '15'): 1.02, ('19', '16'): 0.5, ('19', '17'): 1.04, ('19', '18'): 10.65, ('19', '20'): 3.56, ('19', '21'): 0.39, ('19', '22'): 0.83, ('19', '23'): 1.46, ('19', '24'): 1.9, ('19', '25'): 2.89, ('19', '26'): 7.56, ('19', '27'): 6.6, ('19', '28'): 6.53, ('19', '29'): 2.45, ('19', '30'): 2.82, ('19', '31'): 1.09, ('19', '32'): 6.09, ('19', '33'): 10.08, ('19', '34'): 0.67, ('19', '35'): 0.75, ('19', '36'): 1.25, ('19', '37'): 0.47, ('19', '38'): 5.29, ('20', '1'): 3.13, ('20', '2'): 4.12, ('20', '3'): 2.04, ('20', '4'): 3.65, ('20', '5'): 4.72, ('20', '6'): 5.08, ('20', '7'): 17.31, ('20', '8'): 13.11, ('20', '9'): 2.0, ('20', '10'): 1.86, ('20', '11'): 3.38, ('20', '12'): 5.26, ('20', '13'): 19.5, ('20', '14'): 4.69, ('20', '15'): 1.58, ('20', '16'): 0.98, ('20', '17'): 2.27, ('20', '18'): 18.58, ('20', '19'): 2.89, ('20', '21'): 0.83, ('20', '22'): 1.26, ('20', '23'): 2.05, ('20', '24'): 3.88, ('20', '25'): 4.84, ('20', '26'): 10.79, ('20', '27'): 9.05, ('20', '28'): 11.27, ('20', '29'): 5.31, ('20', '30'): 3.43, ('20', '31'): 1.56, ('20', '32'): 7.89, ('20', '33'): 14.2, ('20', '34'): 1.35, ('20', '35'): 1.12, ('20', '36'): 2.57, ('20', '37'): 0.78, ('20', '38'): 7.99, ('21', '1'): 12.33, ('21', '2'): 10.35, ('21', '3'): 14.35, ('21', '4'): 12.93, ('21', '5'): 13.78, ('21', '6'): 0.76, ('21', '7'): 1.62, ('21', '8'): 2.0, ('21', '9'): 6.22, ('21', '10'): 3.48, ('21', '11'): 9.39, ('21', '12'): 0.61, ('21', '13'): 1.92, ('21', '14'): 14.05, ('21', '15'): 4.04, ('21', '16'): 2.15, ('21', '17'): 5.54, ('21', '18'): 2.02, ('21', '19'): 0.37, ('21', '20'): 0.79, ('21', '22'): 3.5, ('21', '23'): 4.44, ('21', '24'): 6.4, ('21', '25'): 0.44, ('21', '26'): 1.53, ('21', '27'): 1.07, ('21', '28'): 1.03, ('21', '29'): 2.15, ('21', '30'): 2.08, ('21', '31'): 5.55, ('21', '32'): 1.1, ('21', '33'): 1.63, ('21', '34'): 2.47, ('21', '35'): 0.9, ('21', '36'): 0.88, ('21', '37'): 3.3, ('21', '38'): 0.74, ('22', '1'): 22.18, ('22', '2'): 23.46, ('22', '3'): 19.71, ('22', '4'): 21.77, ('22', '5'): 25.11, ('22', '6'): 2.07, ('22', '7'): 3.31, ('22', '8'): 1.59, ('22', '9'): 7.87, ('22', '10'): 6.8, ('22', '11'): 17.72, ('22', '12'): 1.04, ('22', '13'): 3.5, ('22', '14'): 29.31, ('22', '15'): 6.21, ('22', '16'): 4.38, ('22', '17'): 10.06, ('22', '18'): 3.55, ('22', '19'): 0.9, ('22', '20'): 1.7, ('22', '21'): 4.15, ('22', '23'): 10.43, ('22', '24'): 16.43, ('22', '25'): 0.98, ('22', '26'): 3.5, ('22', '27'): 3.0, ('22', '28'): 2.63, ('22', '29'): 5.32, ('22', '30'): 4.65, ('22', '31'): 7.89, ('22', '32'): 2.21, ('22', '33'): 3.81, ('22', '34'): 4.65, ('22', '35'): 0.71, ('22', '36'): 2.78, ('22', '37'): 5.36, ('22', '38'): 1.56, ('23', '1'): 40.44, ('23', '2'): 36.18, ('23', '3'): 35.13, ('23', '4'): 42.98, ('23', '5'): 47.73, ('23', '6'): 2.41, ('23', '7'): 5.03, ('23', '8'): 5.73, ('23', '9'): 16.49, ('23', '10'): 12.66, ('23', '11'): 25.15, ('23', '12'): 1.8, ('23', '13'): 5.23, ('23', '14'): 34.99, ('23', '15'): 9.61, ('23', '16'): 6.32, ('23', '17'): 18.94, ('23', '18'): 6.14, ('23', '19'): 1.16, ('23', '20'): 2.45, ('23', '21'): 4.53, ('23', '22'): 8.88, ('23', '24'): 19.74, ('23', '25'): 1.32, ('23', '26'): 4.43, ('23', '27'): 3.04, ('23', '28'): 2.73, ('23', '29'): 8.22, ('23', '30'): 5.04, ('23', '31'): 13.23, ('23', '32'): 3.41, ('23', '33'): 5.07, ('23', '34'): 8.16, ('23', '35'): 2.36, ('23', '36'): 3.28, ('23', '37'): 9.15, ('23', '38'): 2.35, ('24', '1'): 48.31, ('24', '2'): 50.95, ('24', '3'): 55.27, ('24', '4'): 52.03, ('24', '5'): 59.11, ('24', '6'): 3.63, ('24', '7'): 8.15, ('24', '8'): 8.09, ('24', '9'): 30.19, ('24', '10'): 18.04, ('24', '11'): 48.73, ('24', '12'): 2.65, ('24', '13'): 6.85, ('24', '14'): 63.42, ('24', '15'): 14.29, ('24', '16'): 7.7, ('24', '17'): 24.57, ('24', '18'): 9.32, ('24', '19'): 1.93, ('24', '20'): 3.97, ('24', '21'): 6.7, ('24', '22'): 14.38, ('24', '23'): 20.31, ('24', '25'): 2.06, ('24', '26'): 5.81, ('24', '27'): 4.0, ('24', '28'): 3.64, ('24', '29'): 9.59, ('24', '30'): 9.9, ('24', '31'): 21.39, ('24', '32'): 4.7, ('24', '33'): 8.43, ('24', '34'): 11.11, ('24', '35'): 3.3, ('24', '36'): 4.45, ('24', '37'): 15.01, ('24', '38'): 3.9, ('25', '1'): 3.09, ('25', '2'): 3.42, ('25', '3'): 3.55, ('25', '4'): 3.14, ('25', '5'): 3.46, ('25', '6'): 5.55, ('25', '7'): 11.19, ('25', '8'): 13.97, ('25', '9'): 1.81, ('25', '10'): 1.29, ('25', '11'): 3.71, ('25', '12'): 3.21, ('25', '13'): 10.33, ('25', '14'): 5.29, ('25', '15'): 1.5, ('25', '16'): 0.68, ('25', '17'): 1.41, ('25', '18'): 13.28, ('25', '19'): 2.84, ('25', '20'): 5.99, ('25', '21'): 0.46, ('25', '22'): 0.89, ('25', '23'): 1.65, ('25', '24'): 1.98, ('25', '26'): 10.03, ('25', '27'): 6.83, ('25', '28'): 6.89, ('25', '29'): 2.64, ('25', '30'): 3.74, ('25', '31'): 1.52, ('25', '32'): 7.82, ('25', '33'): 11.33, ('25', '34'): 0.67, ('25', '35'): 1.09, ('25', '36'): 1.53, ('25', '37'): 1.09, ('25', '38'): 5.49, ('26', '1'): 6.43, ('26', '2'): 7.66, ('26', '3'): 4.56, ('26', '4'): 7.03, ('26', '5'): 8.36, ('26', '6'): 8.03, ('26', '7'): 27.51, ('26', '8'): 33.36, ('26', '9'): 3.88, ('26', '10'): 3.73, ('26', '11'): 6.57, ('26', '12'): 9.13, ('26', '13'): 24.43, ('26', '14'): 8.23, ('26', '15'): 2.74, ('26', '16'): 1.35, ('26', '17'): 3.78, ('26', '18'): 30.61, ('26', '19'): 5.94, ('26', '20'): 10.54, ('26', '21'): 1.54, ('26', '22'): 2.54, ('26', '23'): 3.54, ('26', '24'): 5.49, ('26', '25'): 7.96, ('26', '27'): 10.77, ('26', '28'): 13.24, ('26', '29'): 7.71, ('26', '30'): 5.74, ('26', '31'): 2.6, ('26', '32'): 12.9, ('26', '33'): 25.09, ('26', '34'): 2.6, ('26', '35'): 1.57, ('26', '36'): 4.58, ('26', '37'): 1.59, ('26', '38'): 14.55, ('27', '1'): 5.44, ('27', '2'): 6.43, ('27', '3'): 6.24, ('27', '4'): 6.09, ('27', '5'): 6.95, ('27', '6'): 7.65, ('27', '7'): 26.74, ('27', '8'): 33.26, ('27', '9'): 4.52, ('27', '10'): 3.14, ('27', '11'): 7.84, ('27', '12'): 8.75, ('27', '13'): 21.35, ('27', '14'): 10.51, ('27', '15'): 2.5, ('27', '16'): 0.96, ('27', '17'): 3.06, ('27', '18'): 30.32, ('27', '19'): 6.48, ('27', '20'): 11.2, ('27', '21'): 1.11, ('27', '22'): 2.72, ('27', '23'): 3.77, ('27', '24'): 3.82, ('27', '25'): 6.77, ('27', '26'): 13.67, ('27', '28'): 11.06, ('27', '29'): 5.69, ('27', '30'): 7.27, ('27', '31'): 3.1, ('27', '32'): 11.52, ('27', '33'): 22.66, ('27', '34'): 1.85, ('27', '35'): 1.8, ('27', '36'): 3.02, ('27', '37'): 1.91, ('27', '38'): 13.65, ('28', '1'): 6.23, ('28', '2'): 7.09, ('28', '3'): 4.87, ('28', '4'): 6.83, ('28', '5'): 7.65, ('28', '6'): 7.41, ('28', '7'): 21.96, ('28', '8'): 27.52, ('28', '9'): 3.47, ('28', '10'): 2.96, ('28', '11'): 6.07, ('28', '12'): 7.06, ('28', '13'): 18.49, ('28', '14'): 6.6, ('28', '15'): 1.67, ('28', '16'): 0.92, ('28', '17'): 3.26, ('28', '18'): 25.91, ('28', '19'): 5.15, ('28', '20'): 11.04, ('28', '21'): 1.06, ('28', '22'): 1.91, ('28', '23'): 2.19, ('28', '24'): 3.47, ('28', '25'): 5.48, ('28', '26'): 13.28, ('28', '27'): 8.76, ('28', '29'): 6.92, ('28', '30'): 4.56, ('28', '31'): 2.05, ('28', '32'): 10.43, ('28', '33'): 20.4, ('28', '34'): 1.72, ('28', '35'): 1.59, ('28', '36'): 3.3, ('28', '37'): 1.51, ('28', '38'): 10.82, ('29', '1'): 9.21, ('29', '2'): 10.84, ('29', '3'): 9.72, ('29', '4'): 9.11, ('29', '5'): 11.15, ('29', '6'): 4.76, ('29', '7'): 9.64, ('29', '8'): 8.38, ('29', '9'): 8.76, ('29', '10'): 5.81, ('29', '11'): 14.33, ('29', '12'): 2.88, ('29', '13'): 8.53, ('29', '14'): 17.68, ('29', '15'): 5.27, ('29', '16'): 2.47, ('29', '17'): 4.69, ('29', '18'): 10.21, ('29', '19'): 2.45, ('29', '20'): 5.34, ('29', '21'): 2.32, ('29', '22'): 4.08, ('29', '23'): 8.47, ('29', '24'): 9.14, ('29', '25'): 2.67, ('29', '26'): 7.89, ('29', '27'): 5.79, ('29', '28'): 7.06, ('29', '30'): 40.07, ('29', '31'): 5.23, ('29', '32'): 6.51, ('29', '33'): 9.01, ('29', '34'): 3.37, ('29', '35'): 12.52, ('29', '36'): 31.05, ('29', '37'): 3.37, ('29', '38'): 5.09, ('30', '1'): 7.51, ('30', '2'): 9.62, ('30', '3'): 4.49, ('30', '4'): 7.02, ('30', '5'): 9.94, ('30', '6'): 4.05, ('30', '7'): 7.83, ('30', '8'): 6.94, ('30', '9'): 6.0, ('30', '10'): 5.15, ('30', '11'): 9.12, ('30', '12'): 3.32, ('30', '13'): 9.58, ('30', '14'): 10.82, ('30', '15'): 3.45, ('30', '16'): 2.35, ('30', '17'): 4.41, ('30', '18'): 7.88, ('30', '19'): 2.2, ('30', '20'): 4.59, ('30', '21'): 2.28, ('30', '22'): 3.54, ('30', '23'): 5.41, ('30', '24'): 9.9, ('30', '25'): 2.92, ('30', '26'): 7.94, ('30', '27'): 5.67, ('30', '28'): 6.27, ('30', '29'): 40.56, ('30', '31'): 3.31, ('30', '32'): 5.32, ('30', '33'): 7.31, ('30', '34'): 3.82, ('30', '35'): 11.31, ('30', '36'): 17.2, ('30', '37'): 1.98, ('30', '38'): 4.47, ('31', '1'): 28.6, ('31', '2'): 28.24, ('31', '3'): 26.4, ('31', '4'): 34.61, ('31', '5'): 27.42, ('31', '6'): 1.92, ('31', '7'): 4.56, ('31', '8'): 4.43, ('31', '9'): 12.76, ('31', '10'): 11.84, ('31', '11'): 24.19, ('31', '12'): 1.25, ('31', '13'): 4.76, ('31', '14'): 24.8, ('31', '15'): 6.27, ('31', '16'): 4.17, ('31', '17'): 9.54, ('31', '18'): 3.55, ('31', '19'): 0.88, ('31', '20'): 1.89, ('31', '21'): 5.72, ('31', '22'): 6.76, ('31', '23'): 13.44, ('31', '24'): 20.91, ('31', '25'): 1.26, ('31', '26'): 3.29, ('31', '27'): 2.55, ('31', '28'): 2.57, ('31', '29'): 5.18, ('31', '30'): 3.16, ('31', '32'): 2.21, ('31', '33'): 3.62, ('31', '34'): 8.2, ('31', '35'): 1.54, ('31', '36'): 2.07, ('31', '37'): 6.59, ('31', '38'): 2.03, ('32', '1'): 5.09, ('32', '2'): 6.08, ('32', '3'): 3.91, ('32', '4'): 5.9, ('32', '5'): 6.94, ('32', '6'): 5.78, ('32', '7'): 18.29, ('32', '8'): 20.46, ('32', '9'): 2.69, ('32', '10'): 2.59, ('32', '11'): 4.84, ('32', '12'): 6.55, ('32', '13'): 23.46, ('32', '14'): 6.61, ('32', '15'): 1.7, ('32', '16'): 0.85, ('32', '17'): 3.22, ('32', '18'): 19.56, ('32', '19'): 4.93, ('32', '20'): 7.94, ('32', '21'): 1.14, ('32', '22'): 1.65, ('32', '23'): 2.87, ('32', '24'): 4.59, ('32', '25'): 6.33, ('32', '26'): 13.22, ('32', '27'): 9.35, ('32', '28'): 10.67, ('32', '29'): 6.5, ('32', '30'): 3.97, ('32', '31'): 1.86, ('32', '33'): 13.67, ('32', '34'): 1.81, ('32', '35'): 1.5, ('32', '36'): 2.9, ('32', '37'): 1.21, ('32', '38'): 11.94, ('33', '1'): 7.71, ('33', '2'): 9.43, ('33', '3'): 9.16, ('33', '4'): 9.58, ('33', '5'): 11.01, ('33', '6'): 13.34, ('33', '7'): 29.28, ('33', '8'): 46.77, ('33', '9'): 5.68, ('33', '10'): 4.18, ('33', '11'): 10.46, ('33', '12'): 11.26, ('33', '13'): 46.41, ('33', '14'): 15.22, ('33', '15'): 4.4, ('33', '16'): 1.59, ('33', '17'): 4.32, ('33', '18'): 32.11, ('33', '19'): 9.78, ('33', '20'): 17.29, ('33', '21'): 1.67, ('33', '22'): 3.41, ('33', '23'): 6.2, ('33', '24'): 7.89, ('33', '25'): 11.29, ('33', '26'): 31.56, ('33', '27'): 22.58, ('33', '28'): 25.51, ('33', '29'): 8.75, ('33', '30'): 9.28, ('33', '31'): 4.33, ('33', '32'): 16.71, ('33', '34'): 2.72, ('33', '35'): 3.51, ('33', '36'): 3.9, ('33', '37'): 2.66, ('33', '38'): 22.06, ('34', '1'): 19.02, ('34', '2'): 20.66, ('34', '3'): 21.37, ('34', '4'): 19.42, ('34', '5'): 21.46, ('34', '6'): 1.45, ('34', '7'): 2.73, ('34', '8'): 2.73, ('34', '9'): 8.75, ('34', '10'): 5.42, ('34', '11'): 15.85, ('34', '12'): 0.87, ('34', '13'): 2.84, ('34', '14'): 28.63, ('34', '15'): 7.23, ('34', '16'): 3.85, ('34', '17'): 8.46, ('34', '18'): 3.21, ('34', '19'): 0.68, ('34', '20'): 1.39, ('34', '21'): 2.6, ('34', '22'): 4.09, ('34', '23'): 8.41, ('34', '24'): 11.13, ('34', '25'): 0.7, ('34', '26'): 2.75, ('34', '27'): 1.96, ('34', '28'): 1.82, ('34', '29'): 3.54, ('34', '30'): 3.87, ('34', '31'): 8.41, ('34', '32'): 1.86, ('34', '33'): 2.92, ('34', '35'): 1.29, ('34', '36'): 1.73, ('34', '37'): 5.89, ('34', '38'): 1.28, ('35', '1'): 5.08, ('35', '2'): 6.01, ('35', '3'): 4.01, ('35', '4'): 5.13, ('35', '5'): 6.96, ('35', '6'): 2.03, ('35', '7'): 3.72, ('35', '8'): 0.32, ('35', '9'): 3.32, ('35', '10'): 2.18, ('35', '11'): 4.99, ('35', '12'): 1.32, ('35', '13'): 3.13, ('35', '14'): 8.5, ('35', '15'): 1.6, ('35', '16'): 1.39, ('35', '17'): 3.14, ('35', '18'): 3.24, ('35', '19'): 0.99, ('35', '20'): 1.52, ('35', '21'): 1.45, ('35', '22'): 1.14, ('35', '23'): 3.89, ('35', '24'): 5.33, ('35', '25'): 1.44, ('35', '26'): 2.15, ('35', '27'): 2.39, ('35', '28'): 2.16, ('35', '29'): 16.95, ('35', '30'): 15.46, ('35', '31'): 2.53, ('35', '32'): 2.04, ('35', '33'): 4.65, ('35', '34'): 2.07, ('35', '36'): 9.02, ('35', '37'): 1.21, ('35', '38'): 1.95, ('36', '1'): 2.87, ('36', '2'): 4.0, ('36', '3'): 2.48, ('36', '4'): 2.69, ('36', '5'): 4.02, ('36', '6'): 2.26, ('36', '7'): 4.45, ('36', '8'): 4.04, ('36', '9'): 3.7, ('36', '10'): 2.28, ('36', '11'): 5.53, ('36', '12'): 2.01, ('36', '13'): 5.55, ('36', '14'): 6.76, ('36', '15'): 2.15, ('36', '16'): 1.06, ('36', '17'): 1.87, ('36', '18'): 4.31, ('36', '19'): 1.25, ('36', '20'): 2.61, ('36', '21'): 0.96, ('36', '22'): 2.15, ('36', '23'): 3.44, ('36', '24'): 4.33, ('36', '25'): 1.58, ('36', '26'): 4.73, ('36', '27'): 3.11, ('36', '28'): 3.4, ('36', '29'): 31.34, ('36', '30'): 17.17, ('36', '31'): 2.12, ('36', '32'): 2.92, ('36', '33'): 4.05, ('36', '34'): 1.67, ('36', '35'): 6.66, ('36', '37'): 1.16, ('36', '38'): 2.59, ('37', '1'): 15.22, ('37', '2'): 15.92, ('37', '3'): 22.31, ('37', '4'): 24.09, ('37', '5'): 24.21, ('37', '6'): 1.16, ('37', '7'): 2.24, ('37', '8'): 1.61, ('37', '9'): 10.25, ('37', '10'): 7.47, ('37', '11'): 13.02, ('37', '12'): 1.0, ('37', '13'): 3.23, ('37', '14'): 21.5, ('37', '15'): 5.89, ('37', '16'): 3.55, ('37', '17'): 9.43, ('37', '18'): 2.89, ('37', '19'): 0.43, ('37', '20'): 0.98, ('37', '21'): 3.55, ('37', '22'): 4.8, ('37', '23'): 9.77, ('37', '24'): 15.44, ('37', '25'): 1.01, ('37', '26'): 2.07, ('37', '27'): 1.78, ('37', '28'): 1.96, ('37', '29'): 3.7, ('37', '30'): 2.14, ('37', '31'): 6.96, ('37', '32'): 1.52, ('37', '33'): 2.5, ('37', '34'): 6.04, ('37', '35'): 0.73, ('37', '36'): 1.26, ('37', '38'): 0.82, ('38', '1'): 2.51, ('38', '2'): 3.84, ('38', '3'): 1.66, ('38', '4'): 3.4, ('38', '5'): 4.7, ('38', '6'): 7.92, ('38', '7'): 17.72, ('38', '8'): 17.3, ('38', '9'): 1.64, ('38', '10'): 1.66, ('38', '11'): 2.86, ('38', '12'): 4.47, ('38', '13'): 18.84, ('38', '14'): 4.48, ('38', '15'): 1.66, ('38', '16'): 1.04, ('38', '17'): 2.43, ('38', '18'): 20.71, ('38', '19'): 4.17, ('38', '20'): 7.81, ('38', '21'): 0.75, ('38', '22'): 1.13, ('38', '23'): 1.9, ('38', '24'): 3.71, ('38', '25'): 4.37, ('38', '26'): 14.57, ('38', '27'): 10.81, ('38', '28'): 10.82, ('38', '29'): 4.99, ('38', '30'): 3.24, ('38', '31'): 1.64, ('38', '32'): 11.67, ('38', '33'): 17.63, ('38', '34'): 1.21, ('38', '35'): 1.42, ('38', '36'): 2.53, ('38', '37'): 0.63}\n"
     ]
    }
   ],
   "source": [
    "#observe network after removing one link\n",
    "remove_link = 0\n",
    "trial_run.make_network(city, remove_link)\n",
    "trial_run.network_attributes(city, remove_link)"
   ]
  },
  {
   "cell_type": "markdown",
   "id": "d726132b",
   "metadata": {},
   "source": [
    "# Compute equilibrium flow for complete graph using Frank-Wolfe algorithm"
   ]
  },
  {
   "cell_type": "code",
   "execution_count": null,
   "id": "c3a04825",
   "metadata": {},
   "outputs": [],
   "source": [
    "%%time\n",
    "\n",
    "#compute the eq flow for one example city and no closed links\n",
    "remove_link = None\n",
    "trial_run.compute_link_flow(city, remove_link)"
   ]
  },
  {
   "cell_type": "code",
   "execution_count": null,
   "id": "6685a76d",
   "metadata": {},
   "outputs": [],
   "source": [
    "#report eq flow for one example city and no closed links\n",
    "print('Results for:', city)\n",
    "trial_run.cities_dict[city][str(remove_link)]['fw_run'].showODFlow() #equilibrium flows\n",
    "trial_run.cities_dict[city][str(remove_link)]['fw_run'].showODFlowMap() #flow map"
   ]
  },
  {
   "cell_type": "markdown",
   "id": "af7b2eed",
   "metadata": {},
   "source": [
    "# Systematically close each link and compute equilibrium flow for example city"
   ]
  },
  {
   "cell_type": "code",
   "execution_count": null,
   "id": "968d389e",
   "metadata": {},
   "outputs": [],
   "source": [
    "#need to make the network where each link is shut first\n",
    "trial_run.make_network_shut_each_link(city)"
   ]
  },
  {
   "cell_type": "code",
   "execution_count": null,
   "id": "0bfa8e38",
   "metadata": {},
   "outputs": [],
   "source": [
    "check = list(cities_dict[city].keys())\n",
    "check.remove('file_paths')\n",
    "check.remove('csv')\n",
    "print(check)\n",
    "for i in check:\n",
    "    if cities_dict[city]['csv'].shape[0] <= len(cities_dict[city][i]['network'].graph.edges):\n",
    "        print(True)\n",
    "#should only print one True i.e. only one full network - 'None'"
   ]
  },
  {
   "cell_type": "code",
   "execution_count": null,
   "id": "d23b86fb",
   "metadata": {},
   "outputs": [],
   "source": [
    "%%time\n",
    "\n",
    "trial_run.eq_flow_shut_each_link(city)"
   ]
  },
  {
   "cell_type": "code",
   "execution_count": null,
   "id": "a48f3eae",
   "metadata": {},
   "outputs": [],
   "source": [
    "#report eq flow for one example city and one randomly closed link (flex removed_link, but can't choose more than max edges)\n",
    "max_edges = len(cities_dict[city]['0']['network'].graph.edges)\n",
    "print('max_edges:', max_edges)\n",
    "removed_link = 1\n",
    "print('Equilibrium flow for removed link number',removed_link, 'in', city)\n",
    "print('Results for:', city)\n",
    "trial_run.cities_dict[city][str(removed_link)]['fw_run'].showODFlow() #equilibrium flows\n",
    "trial_run.cities_dict[city][str(removed_link)]['fw_run'].showODFlowMap() #flow map"
   ]
  },
  {
   "cell_type": "markdown",
   "id": "ac0dd075",
   "metadata": {},
   "source": [
    "# Save file"
   ]
  },
  {
   "cell_type": "code",
   "execution_count": null,
   "id": "40551947",
   "metadata": {},
   "outputs": [],
   "source": [
    "save_path = '/Users/benseimon/Documents/Barca GSE/Studies/Term 2/Networks/Term Paper/Networks_Term_Paper/Code/Python/working_multiple_eq_flow/results/'\n",
    "Berlin_Prenzlauerberg_Center = cities_dict\n",
    "with open('Berlin_Prenzlauerberg_Center.pickle', 'wb') as handle:\n",
    "    pickle.dump(Berlin_Prenzlauerberg_Center, handle, protocol=pickle.HIGHEST_PROTOCOL)\n",
    "    "
   ]
  }
 ],
 "metadata": {
  "kernelspec": {
   "display_name": "Python 3 (ipykernel)",
   "language": "python",
   "name": "python3"
  },
  "language_info": {
   "codemirror_mode": {
    "name": "ipython",
    "version": 3
   },
   "file_extension": ".py",
   "mimetype": "text/x-python",
   "name": "python",
   "nbconvert_exporter": "python",
   "pygments_lexer": "ipython3",
   "version": "3.9.5"
  }
 },
 "nbformat": 4,
 "nbformat_minor": 5
}
