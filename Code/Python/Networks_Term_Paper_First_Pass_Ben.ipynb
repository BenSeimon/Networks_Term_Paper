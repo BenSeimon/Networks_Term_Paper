{
 "cells": [
  {
   "cell_type": "markdown",
   "id": "712c392d",
   "metadata": {},
   "source": [
    "# Setup: Install and load packages"
   ]
  },
  {
   "cell_type": "code",
   "execution_count": 5,
   "id": "86bbd134",
   "metadata": {},
   "outputs": [],
   "source": [
    "#install packages if required\n",
    "#%pip install igraph"
   ]
  },
  {
   "cell_type": "code",
   "execution_count": 6,
   "id": "174d74e6",
   "metadata": {},
   "outputs": [],
   "source": [
    "#import packages\n",
    "import igraph\n",
    "import os\n",
    "import pandas as pd"
   ]
  },
  {
   "cell_type": "markdown",
   "id": "ff04808d",
   "metadata": {},
   "source": [
    "# Read in data"
   ]
  },
  {
   "cell_type": "code",
   "execution_count": 7,
   "id": "b1c45444",
   "metadata": {},
   "outputs": [],
   "source": [
    "#data sourced from https://github.com/bstabler/TransportationNetworks"
   ]
  },
  {
   "cell_type": "code",
   "execution_count": 8,
   "id": "23001a1d",
   "metadata": {},
   "outputs": [],
   "source": [
    "#set path parameters\n",
    "data_path = '/Users/benseimon/Documents/Barca GSE/Studies/Term 2/Networks/Term Paper/Networks_Term_Paper/Data/'\n",
    "data_path\n",
    "city = 'Birmingham'\n",
    "network_file = city+'_net.tntp'\n",
    "nodes_file = city+'_nodes.tntp'\n",
    "trip_file = city+'_trips.tntp'"
   ]
  },
  {
   "cell_type": "code",
   "execution_count": 9,
   "id": "49f02159",
   "metadata": {},
   "outputs": [],
   "source": [
    "os.chdir(data_path + city)"
   ]
  },
  {
   "cell_type": "code",
   "execution_count": 10,
   "id": "3ed40d29",
   "metadata": {},
   "outputs": [
    {
     "name": "stdout",
     "output_type": "stream",
     "text": [
      "Birmingham_net.tntp.txt    Birmingham_trips.tntp.txt\r\n",
      "Birmingham_nodes.tntp.txt\r\n"
     ]
    }
   ],
   "source": [
    "ls"
   ]
  },
  {
   "cell_type": "code",
   "execution_count": null,
   "id": "3968143b",
   "metadata": {},
   "outputs": [],
   "source": [
    "#below code taken from https://github.com/bstabler/TransportationNetworks/blob/master/_scripts/parsing%20networks%20in%20Python.ipynb\n",
    "\n",
    "netfile = data_path + city + '/' + network_file\n",
    "net = pd.read_csv(netfile, skiprows=8, sep='\\t')\n",
    "\n",
    "trimmed= [s.strip().lower() for s in net.columns]\n",
    "net.columns = trimmed\n",
    "\n",
    "# And drop the silly first andlast columns\n",
    "net.drop(['~', ';'], axis=1, inplace=True)"
   ]
  }
 ],
 "metadata": {
  "kernelspec": {
   "display_name": "Python 3 (ipykernel)",
   "language": "python",
   "name": "python3"
  },
  "language_info": {
   "codemirror_mode": {
    "name": "ipython",
    "version": 3
   },
   "file_extension": ".py",
   "mimetype": "text/x-python",
   "name": "python",
   "nbconvert_exporter": "python",
   "pygments_lexer": "ipython3",
   "version": "3.9.5"
  }
 },
 "nbformat": 4,
 "nbformat_minor": 5
}
